{
 "cells": [
  {
   "cell_type": "markdown",
   "metadata": {},
   "source": [
    "# Data Load"
   ]
  },
  {
   "cell_type": "code",
   "execution_count": 1,
   "metadata": {},
   "outputs": [
    {
     "data": {
      "text/html": [
       "<div>\n",
       "<style scoped>\n",
       "    .dataframe tbody tr th:only-of-type {\n",
       "        vertical-align: middle;\n",
       "    }\n",
       "\n",
       "    .dataframe tbody tr th {\n",
       "        vertical-align: top;\n",
       "    }\n",
       "\n",
       "    .dataframe thead th {\n",
       "        text-align: right;\n",
       "    }\n",
       "</style>\n",
       "<table border=\"1\" class=\"dataframe\">\n",
       "  <thead>\n",
       "    <tr style=\"text-align: right;\">\n",
       "      <th></th>\n",
       "      <th>ID</th>\n",
       "      <th>name</th>\n",
       "      <th>category</th>\n",
       "      <th>main_category</th>\n",
       "      <th>currency</th>\n",
       "      <th>deadline</th>\n",
       "      <th>goal</th>\n",
       "      <th>launched</th>\n",
       "      <th>pledged</th>\n",
       "      <th>state</th>\n",
       "      <th>backers</th>\n",
       "      <th>country</th>\n",
       "      <th>usd pledged</th>\n",
       "      <th>usd_pledged_real</th>\n",
       "      <th>usd_goal_real</th>\n",
       "    </tr>\n",
       "  </thead>\n",
       "  <tbody>\n",
       "    <tr>\n",
       "      <th>0</th>\n",
       "      <td>1015685046</td>\n",
       "      <td>Organic Tattoo remains 10 days (Self use &amp; cus...</td>\n",
       "      <td>Accessories</td>\n",
       "      <td>Fashion</td>\n",
       "      <td>CAD</td>\n",
       "      <td>1/1/2016</td>\n",
       "      <td>6000</td>\n",
       "      <td>12/7/2015 18:21</td>\n",
       "      <td>100.0</td>\n",
       "      <td>failed</td>\n",
       "      <td>2</td>\n",
       "      <td>CA</td>\n",
       "      <td>74.84</td>\n",
       "      <td>70.89</td>\n",
       "      <td>4253.51</td>\n",
       "    </tr>\n",
       "    <tr>\n",
       "      <th>1</th>\n",
       "      <td>1019043170</td>\n",
       "      <td>Handcrafted leather wallet | key holder | card...</td>\n",
       "      <td>Accessories</td>\n",
       "      <td>Fashion</td>\n",
       "      <td>EUR</td>\n",
       "      <td>1/1/2016</td>\n",
       "      <td>2000</td>\n",
       "      <td>12/11/2015 10:52</td>\n",
       "      <td>2102.0</td>\n",
       "      <td>successful</td>\n",
       "      <td>48</td>\n",
       "      <td>BE</td>\n",
       "      <td>2314.01</td>\n",
       "      <td>2282.97</td>\n",
       "      <td>2172.19</td>\n",
       "    </tr>\n",
       "    <tr>\n",
       "      <th>2</th>\n",
       "      <td>1036288991</td>\n",
       "      <td>The Liaisons:  a new twist on the old standards</td>\n",
       "      <td>Jazz</td>\n",
       "      <td>Music</td>\n",
       "      <td>USD</td>\n",
       "      <td>1/1/2016</td>\n",
       "      <td>5000</td>\n",
       "      <td>11/9/2015 20:12</td>\n",
       "      <td>5630.0</td>\n",
       "      <td>successful</td>\n",
       "      <td>116</td>\n",
       "      <td>US</td>\n",
       "      <td>5630.00</td>\n",
       "      <td>5630.00</td>\n",
       "      <td>5000.00</td>\n",
       "    </tr>\n",
       "    <tr>\n",
       "      <th>3</th>\n",
       "      <td>1045749249</td>\n",
       "      <td>The Many Encounters of Bosley Bear</td>\n",
       "      <td>Children's Books</td>\n",
       "      <td>Publishing</td>\n",
       "      <td>USD</td>\n",
       "      <td>1/1/2016</td>\n",
       "      <td>20000</td>\n",
       "      <td>11/24/2015 2:08</td>\n",
       "      <td>101.0</td>\n",
       "      <td>failed</td>\n",
       "      <td>2</td>\n",
       "      <td>US</td>\n",
       "      <td>101.00</td>\n",
       "      <td>101.00</td>\n",
       "      <td>20000.00</td>\n",
       "    </tr>\n",
       "    <tr>\n",
       "      <th>4</th>\n",
       "      <td>1048577059</td>\n",
       "      <td>Swift &amp; Co | Innovative Men's Footwear</td>\n",
       "      <td>Footwear</td>\n",
       "      <td>Fashion</td>\n",
       "      <td>GBP</td>\n",
       "      <td>1/1/2016</td>\n",
       "      <td>40000</td>\n",
       "      <td>11/17/2015 12:30</td>\n",
       "      <td>2246.0</td>\n",
       "      <td>failed</td>\n",
       "      <td>19</td>\n",
       "      <td>GB</td>\n",
       "      <td>3416.59</td>\n",
       "      <td>3273.48</td>\n",
       "      <td>58298.84</td>\n",
       "    </tr>\n",
       "  </tbody>\n",
       "</table>\n",
       "</div>"
      ],
      "text/plain": [
       "           ID                                               name  \\\n",
       "0  1015685046  Organic Tattoo remains 10 days (Self use & cus...   \n",
       "1  1019043170  Handcrafted leather wallet | key holder | card...   \n",
       "2  1036288991    The Liaisons:  a new twist on the old standards   \n",
       "3  1045749249                 The Many Encounters of Bosley Bear   \n",
       "4  1048577059             Swift & Co | Innovative Men's Footwear   \n",
       "\n",
       "           category main_category currency  deadline   goal          launched  \\\n",
       "0       Accessories       Fashion      CAD  1/1/2016   6000   12/7/2015 18:21   \n",
       "1       Accessories       Fashion      EUR  1/1/2016   2000  12/11/2015 10:52   \n",
       "2              Jazz         Music      USD  1/1/2016   5000   11/9/2015 20:12   \n",
       "3  Children's Books    Publishing      USD  1/1/2016  20000   11/24/2015 2:08   \n",
       "4          Footwear       Fashion      GBP  1/1/2016  40000  11/17/2015 12:30   \n",
       "\n",
       "   pledged       state  backers country  usd pledged  usd_pledged_real  \\\n",
       "0    100.0      failed        2      CA        74.84             70.89   \n",
       "1   2102.0  successful       48      BE      2314.01           2282.97   \n",
       "2   5630.0  successful      116      US      5630.00           5630.00   \n",
       "3    101.0      failed        2      US       101.00            101.00   \n",
       "4   2246.0      failed       19      GB      3416.59           3273.48   \n",
       "\n",
       "   usd_goal_real  \n",
       "0        4253.51  \n",
       "1        2172.19  \n",
       "2        5000.00  \n",
       "3       20000.00  \n",
       "4       58298.84  "
      ]
     },
     "execution_count": 1,
     "metadata": {},
     "output_type": "execute_result"
    }
   ],
   "source": [
    "import pandas as pd\n",
    "RawData = pd.read_csv(\"FundingProject.csv\")\n",
    "RawData.head()"
   ]
  },
  {
   "cell_type": "code",
   "execution_count": 2,
   "metadata": {},
   "outputs": [
    {
     "name": "stdout",
     "output_type": "stream",
     "text": [
      "<class 'pandas.core.frame.DataFrame'>\n",
      "RangeIndex: 110815 entries, 0 to 110814\n",
      "Data columns (total 15 columns):\n",
      "ID                  110815 non-null int64\n",
      "name                110814 non-null object\n",
      "category            110815 non-null object\n",
      "main_category       110815 non-null object\n",
      "currency            110815 non-null object\n",
      "deadline            110815 non-null object\n",
      "goal                110815 non-null int64\n",
      "launched            110815 non-null object\n",
      "pledged             110815 non-null float64\n",
      "state               110815 non-null object\n",
      "backers             110815 non-null int64\n",
      "country             110815 non-null object\n",
      "usd pledged         109999 non-null float64\n",
      "usd_pledged_real    110815 non-null float64\n",
      "usd_goal_real       110815 non-null float64\n",
      "dtypes: float64(4), int64(3), object(8)\n",
      "memory usage: 12.7+ MB\n"
     ]
    }
   ],
   "source": [
    "RawData.info()"
   ]
  },
  {
   "cell_type": "markdown",
   "metadata": {},
   "source": [
    "# Process Data"
   ]
  },
  {
   "cell_type": "code",
   "execution_count": 3,
   "metadata": {},
   "outputs": [],
   "source": [
    "import pandas as pd\n",
    "ProcessedData = pd.DataFrame()"
   ]
  },
  {
   "cell_type": "markdown",
   "metadata": {},
   "source": [
    "### Project status "
   ]
  },
  {
   "cell_type": "code",
   "execution_count": 4,
   "metadata": {},
   "outputs": [
    {
     "data": {
      "text/plain": [
       "count     110815\n",
       "unique         6\n",
       "top       failed\n",
       "freq       58155\n",
       "Name: state, dtype: object"
      ]
     },
     "execution_count": 4,
     "metadata": {},
     "output_type": "execute_result"
    }
   ],
   "source": [
    "RawData[\"state\"].describe()"
   ]
  },
  {
   "cell_type": "code",
   "execution_count": 5,
   "metadata": {},
   "outputs": [
    {
     "data": {
      "text/plain": [
       "failed        58155\n",
       "successful    38172\n",
       "canceled      13178\n",
       "suspended       707\n",
       "undefined       596\n",
       "live              7\n",
       "Name: state, dtype: int64"
      ]
     },
     "execution_count": 5,
     "metadata": {},
     "output_type": "execute_result"
    }
   ],
   "source": [
    "RawData[\"state\"].value_counts()"
   ]
  },
  {
   "cell_type": "code",
   "execution_count": 6,
   "metadata": {},
   "outputs": [],
   "source": [
    "# Remap status labels to numerical values, bias starting from 2 for failures, scale to range of 1\n",
    "# At the same time, drop rows with unrelated state values or values which cannot be processed\n",
    "ProcessedData[\"Status\"] = RawData.loc[RawData[\"state\"].isin([\"failed\", \"successful\", \"canceled\", \"suspended\"]), \"state\"].map({\n",
    "    \"canceled\" : 2,\n",
    "    \"failed\" : 2,\n",
    "    \"suspended\" : 2,\n",
    "    \"successful\": 3,\n",
    "})"
   ]
  },
  {
   "cell_type": "code",
   "execution_count": 7,
   "metadata": {},
   "outputs": [
    {
     "name": "stdout",
     "output_type": "stream",
     "text": [
      "<class 'pandas.core.frame.DataFrame'>\n",
      "Int64Index: 110212 entries, 0 to 110814\n",
      "Data columns (total 1 columns):\n",
      "Status    110212 non-null int64\n",
      "dtypes: int64(1)\n",
      "memory usage: 1.7 MB\n"
     ]
    }
   ],
   "source": [
    "ProcessedData.info()"
   ]
  },
  {
   "cell_type": "code",
   "execution_count": 8,
   "metadata": {},
   "outputs": [
    {
     "data": {
      "text/plain": [
       "2    72040\n",
       "3    38172\n",
       "Name: Status, dtype: int64"
      ]
     },
     "execution_count": 8,
     "metadata": {},
     "output_type": "execute_result"
    }
   ],
   "source": [
    "ProcessedData[\"Status\"].value_counts()"
   ]
  },
  {
   "cell_type": "code",
   "execution_count": null,
   "metadata": {},
   "outputs": [],
   "source": []
  },
  {
   "cell_type": "code",
   "execution_count": null,
   "metadata": {},
   "outputs": [],
   "source": []
  },
  {
   "cell_type": "code",
   "execution_count": 9,
   "metadata": {},
   "outputs": [
    {
     "data": {
      "text/plain": [
       "ID                    0\n",
       "name                  1\n",
       "category              0\n",
       "main_category         0\n",
       "currency              0\n",
       "deadline              0\n",
       "goal                  0\n",
       "launched              0\n",
       "pledged               0\n",
       "state                 0\n",
       "backers               0\n",
       "country               0\n",
       "usd pledged         816\n",
       "usd_pledged_real      0\n",
       "usd_goal_real         0\n",
       "dtype: int64"
      ]
     },
     "execution_count": 9,
     "metadata": {},
     "output_type": "execute_result"
    }
   ],
   "source": [
    "RawData.isnull().sum()"
   ]
  },
  {
   "cell_type": "markdown",
   "metadata": {},
   "source": [
    "# Modeling"
   ]
  },
  {
   "cell_type": "code",
   "execution_count": 10,
   "metadata": {},
   "outputs": [
    {
     "name": "stdout",
     "output_type": "stream",
     "text": [
      "<class 'pandas.core.frame.DataFrame'>\n",
      "RangeIndex: 110815 entries, 0 to 110814\n",
      "Data columns (total 15 columns):\n",
      "ID                  110815 non-null int64\n",
      "name                110814 non-null object\n",
      "category            110815 non-null object\n",
      "main_category       110815 non-null object\n",
      "currency            110815 non-null object\n",
      "deadline            110815 non-null object\n",
      "goal                110815 non-null int64\n",
      "launched            110815 non-null object\n",
      "pledged             110815 non-null float64\n",
      "state               110815 non-null object\n",
      "backers             110815 non-null int64\n",
      "country             110815 non-null object\n",
      "usd pledged         109999 non-null float64\n",
      "usd_pledged_real    110815 non-null float64\n",
      "usd_goal_real       110815 non-null float64\n",
      "dtypes: float64(4), int64(3), object(8)\n",
      "memory usage: 12.7+ MB\n"
     ]
    }
   ],
   "source": [
    "RawData.info()"
   ]
  },
  {
   "cell_type": "code",
   "execution_count": 11,
   "metadata": {},
   "outputs": [],
   "source": [
    "ProcessedData = pd.concat([ProcessedData[\"Status\"], RawData.drop([\"state\", \"name\"], axis = 1)], axis = 1)"
   ]
  },
  {
   "cell_type": "code",
   "execution_count": 12,
   "metadata": {},
   "outputs": [
    {
     "name": "stdout",
     "output_type": "stream",
     "text": [
      "<class 'pandas.core.frame.DataFrame'>\n",
      "Int64Index: 110815 entries, 0 to 110814\n",
      "Data columns (total 14 columns):\n",
      "Status              110212 non-null float64\n",
      "ID                  110815 non-null int64\n",
      "category            110815 non-null object\n",
      "main_category       110815 non-null object\n",
      "currency            110815 non-null object\n",
      "deadline            110815 non-null object\n",
      "goal                110815 non-null int64\n",
      "launched            110815 non-null object\n",
      "pledged             110815 non-null float64\n",
      "backers             110815 non-null int64\n",
      "country             110815 non-null object\n",
      "usd pledged         109999 non-null float64\n",
      "usd_pledged_real    110815 non-null float64\n",
      "usd_goal_real       110815 non-null float64\n",
      "dtypes: float64(5), int64(3), object(6)\n",
      "memory usage: 12.7+ MB\n"
     ]
    }
   ],
   "source": [
    "ProcessedData.info()"
   ]
  },
  {
   "cell_type": "code",
   "execution_count": 13,
   "metadata": {},
   "outputs": [
    {
     "name": "stdout",
     "output_type": "stream",
     "text": [
      "<class 'pandas.core.frame.DataFrame'>\n",
      "Int64Index: 109993 entries, 0 to 110814\n",
      "Data columns (total 14 columns):\n",
      "Status              109993 non-null float64\n",
      "ID                  109993 non-null int64\n",
      "category            109993 non-null object\n",
      "main_category       109993 non-null object\n",
      "currency            109993 non-null object\n",
      "deadline            109993 non-null object\n",
      "goal                109993 non-null int64\n",
      "launched            109993 non-null object\n",
      "pledged             109993 non-null float64\n",
      "backers             109993 non-null int64\n",
      "country             109993 non-null object\n",
      "usd pledged         109993 non-null float64\n",
      "usd_pledged_real    109993 non-null float64\n",
      "usd_goal_real       109993 non-null float64\n",
      "dtypes: float64(5), int64(3), object(6)\n",
      "memory usage: 12.6+ MB\n"
     ]
    }
   ],
   "source": [
    "ProcessedData.dropna(subset = [\"Status\", \"usd pledged\"], inplace = True)\n",
    "ProcessedData.drop_duplicates([\"ID\"])\n",
    "ProcessedData.info()"
   ]
  },
  {
   "cell_type": "code",
   "execution_count": 27,
   "metadata": {},
   "outputs": [
    {
     "data": {
      "text/plain": [
       "2.0    71912\n",
       "3.0    38081\n",
       "Name: Status, dtype: int64"
      ]
     },
     "execution_count": 27,
     "metadata": {},
     "output_type": "execute_result"
    }
   ],
   "source": [
    "ProcessedData[\"Status\"].value_counts()"
   ]
  },
  {
   "cell_type": "code",
   "execution_count": 29,
   "metadata": {
    "scrolled": true
   },
   "outputs": [
    {
     "name": "stdout",
     "output_type": "stream",
     "text": [
      "Status : 109991  -  0\n",
      "ID : 0  -  0\n",
      "category : 109834  -  0\n",
      "main_category : 109978  -  0\n",
      "currency : 109979  -  0\n",
      "deadline : 109262  -  0\n",
      "goal : 106352  -  0\n",
      "launched : 8267  -  0\n",
      "pledged : 83476  -  0\n",
      "backers : 107364  -  0\n",
      "country : 109971  -  0\n",
      "usd pledged : 74632  -  0\n",
      "usd_pledged_real : 62405  -  0\n",
      "usd_goal_real : 85920  -  0\n"
     ]
    }
   ],
   "source": [
    "for column in ProcessedData.columns.to_list():\n",
    "    print(column, \":\", ProcessedData[column].duplicated().sum(), \" - \" , ProcessedData[column].isnull().sum())"
   ]
  },
  {
   "cell_type": "code",
   "execution_count": 14,
   "metadata": {},
   "outputs": [
    {
     "name": "stdout",
     "output_type": "stream",
     "text": [
      "2020-02-05 12:33:17.294210\n"
     ]
    }
   ],
   "source": [
    "from datetime import datetime\n",
    "print(datetime.now())"
   ]
  },
  {
   "cell_type": "markdown",
   "metadata": {},
   "source": [
    "## Generate baseline model without using title field"
   ]
  },
  {
   "cell_type": "code",
   "execution_count": 65,
   "metadata": {},
   "outputs": [],
   "source": [
    "from sklearn.linear_model import LinearRegression, Ridge, Lasso, ElasticNet\n",
    "from sklearn.tree import ExtraTreeRegressor\n",
    "from sklearn.ensemble import GradientBoostingRegressor\n",
    "from xgboost import XGBRegressor\n",
    "\n",
    "def AssessRegressorModels(X_Train, Y_Train, X_Test, Y_Test, Models_List):\n",
    "    from datetime import datetime\n",
    "    import pandas as pd\n",
    "    from sklearn.metrics import r2_score, mean_squared_error, mean_absolute_error\n",
    "    \n",
    "    results_list = pd.DataFrame()\n",
    "    \n",
    "    for model in Models_List:\n",
    "        modelInstance = model()\n",
    "        startTime = datetime.now()\n",
    "        print(\"Starting \" + str(model.__name__) + \" at \" + str(startTime))\n",
    "        \n",
    "        modelInstance.fit(X_Train, Y_Train)\n",
    "        predictions = modelInstance.predict(X_Test)\n",
    "        \n",
    "        endTime = datetime.now()\n",
    "        print(\"Ending \" + str(model.__name__) + \" at \" + str(endTime))\n",
    "        results_list = results_list.append(pd.DataFrame(data = {\n",
    "            \"Name\" : model.__name__,\n",
    "            \"R2Score\" : r2_score(Y_Test, predictions),\n",
    "            \"RMSE\" : mean_squared_error(Y_Test, predictions)**0.5,\n",
    "            \"MAE\" : mean_absolute_error(Y_Test, predictions),\n",
    "            \"RunTime\" : str(endTime - startTime),\n",
    "            \"ModelObject\" : [modelInstance],\n",
    "        }), ignore_index = True)\n",
    "    \n",
    "    results_list.sort_values(\"R2Score\", inplace = True, ascending = False)\n",
    "    \n",
    "    return results_list"
   ]
  },
  {
   "cell_type": "code",
   "execution_count": 66,
   "metadata": {},
   "outputs": [],
   "source": [
    "TrainingData = pd.get_dummies(ProcessedData.loc[:10000, [\"Status\", \"category\", \"main_category\", \"currency\", \"deadline\", \"goal\", \"launched\", \"country\"]], drop_first = True)"
   ]
  },
  {
   "cell_type": "code",
   "execution_count": 67,
   "metadata": {},
   "outputs": [
    {
     "name": "stdout",
     "output_type": "stream",
     "text": [
      "2020-02-05 13:35:18.182751\n"
     ]
    }
   ],
   "source": [
    "print(datetime.now())"
   ]
  },
  {
   "cell_type": "code",
   "execution_count": 68,
   "metadata": {},
   "outputs": [
    {
     "name": "stdout",
     "output_type": "stream",
     "text": [
      "<class 'pandas.core.frame.DataFrame'>\n",
      "Int64Index: 9668 entries, 0 to 10000\n",
      "Columns: 9394 entries, Status to country_US\n",
      "dtypes: float64(1), int64(1), uint8(9392)\n",
      "memory usage: 86.8 MB\n"
     ]
    }
   ],
   "source": [
    "TrainingData.info()"
   ]
  },
  {
   "cell_type": "code",
   "execution_count": 69,
   "metadata": {},
   "outputs": [
    {
     "name": "stdout",
     "output_type": "stream",
     "text": [
      "2020-02-05 13:35:18.754567\n"
     ]
    }
   ],
   "source": [
    "print(datetime.now())"
   ]
  },
  {
   "cell_type": "code",
   "execution_count": 70,
   "metadata": {},
   "outputs": [],
   "source": [
    "from sklearn.model_selection import train_test_split\n",
    "Train_X, Test_X, Train_Y, Test_Y = train_test_split(TrainingData.drop(\"Status\", axis = 1), TrainingData[\"Status\"], test_size = 0.2, random_state = 13)"
   ]
  },
  {
   "cell_type": "code",
   "execution_count": 71,
   "metadata": {},
   "outputs": [
    {
     "name": "stdout",
     "output_type": "stream",
     "text": [
      "2020-02-05 13:35:19.075465\n"
     ]
    }
   ],
   "source": [
    "print(datetime.now())"
   ]
  },
  {
   "cell_type": "code",
   "execution_count": 72,
   "metadata": {},
   "outputs": [
    {
     "name": "stdout",
     "output_type": "stream",
     "text": [
      "Starting LinearRegression at 2020-02-05 13:35:19.081463\n",
      "Ending LinearRegression at 2020-02-05 13:37:07.816674\n",
      "Starting Ridge at 2020-02-05 13:37:07.820673\n"
     ]
    },
    {
     "name": "stderr",
     "output_type": "stream",
     "text": [
      "C:\\Users\\root\\.conda\\envs\\DataScience\\lib\\site-packages\\sklearn\\linear_model\\_ridge.py:188: LinAlgWarning: Ill-conditioned matrix (rcond=2.46738e-19): result may not be accurate.\n",
      "  overwrite_a=False)\n"
     ]
    },
    {
     "name": "stdout",
     "output_type": "stream",
     "text": [
      "Ending Ridge at 2020-02-05 13:37:19.251015\n",
      "Starting Lasso at 2020-02-05 13:37:19.255014\n",
      "Ending Lasso at 2020-02-05 13:37:20.991460\n",
      "Starting GradientBoostingRegressor at 2020-02-05 13:37:20.995458\n",
      "Ending GradientBoostingRegressor at 2020-02-05 13:38:21.562080\n",
      "Starting XGBRegressor at 2020-02-05 13:38:21.565079\n"
     ]
    },
    {
     "name": "stderr",
     "output_type": "stream",
     "text": [
      "C:\\Users\\root\\.conda\\envs\\DataScience\\lib\\site-packages\\xgboost\\core.py:587: FutureWarning: Series.base is deprecated and will be removed in a future version\n",
      "  if getattr(data, 'base', None) is not None and \\\n"
     ]
    },
    {
     "name": "stdout",
     "output_type": "stream",
     "text": [
      "[13:38:23] WARNING: src/objective/regression_obj.cu:152: reg:linear is now deprecated in favor of reg:squarederror.\n",
      "Ending XGBRegressor at 2020-02-05 13:39:44.016699\n"
     ]
    }
   ],
   "source": [
    "RegressorResults_List = AssessRegressorModels(Train_X, Train_Y, Test_X, Test_Y, [LinearRegression, Ridge, Lasso, GradientBoostingRegressor, XGBRegressor])"
   ]
  },
  {
   "cell_type": "code",
   "execution_count": 73,
   "metadata": {},
   "outputs": [
    {
     "data": {
      "text/html": [
       "<div>\n",
       "<style scoped>\n",
       "    .dataframe tbody tr th:only-of-type {\n",
       "        vertical-align: middle;\n",
       "    }\n",
       "\n",
       "    .dataframe tbody tr th {\n",
       "        vertical-align: top;\n",
       "    }\n",
       "\n",
       "    .dataframe thead th {\n",
       "        text-align: right;\n",
       "    }\n",
       "</style>\n",
       "<table border=\"1\" class=\"dataframe\">\n",
       "  <thead>\n",
       "    <tr style=\"text-align: right;\">\n",
       "      <th></th>\n",
       "      <th>Name</th>\n",
       "      <th>R2Score</th>\n",
       "      <th>RMSE</th>\n",
       "      <th>MAE</th>\n",
       "      <th>RunTime</th>\n",
       "      <th>ModelObject</th>\n",
       "    </tr>\n",
       "  </thead>\n",
       "  <tbody>\n",
       "    <tr>\n",
       "      <th>4</th>\n",
       "      <td>XGBRegressor</td>\n",
       "      <td>0.157121</td>\n",
       "      <td>0.408769</td>\n",
       "      <td>0.346258</td>\n",
       "      <td>0:01:22.451620</td>\n",
       "      <td>XGBRegressor(base_score=0.5, booster...</td>\n",
       "    </tr>\n",
       "    <tr>\n",
       "      <th>3</th>\n",
       "      <td>GradientBoostingRegressor</td>\n",
       "      <td>0.155916</td>\n",
       "      <td>0.409062</td>\n",
       "      <td>0.347093</td>\n",
       "      <td>0:01:00.566622</td>\n",
       "      <td>([DecisionTreeRegressor(ccp_alpha=0....</td>\n",
       "    </tr>\n",
       "    <tr>\n",
       "      <th>1</th>\n",
       "      <td>Ridge</td>\n",
       "      <td>0.090972</td>\n",
       "      <td>0.424507</td>\n",
       "      <td>0.355962</td>\n",
       "      <td>0:00:11.430342</td>\n",
       "      <td>Ridge(alpha=1.0, copy_X=True, fit_in...</td>\n",
       "    </tr>\n",
       "    <tr>\n",
       "      <th>2</th>\n",
       "      <td>Lasso</td>\n",
       "      <td>0.000450</td>\n",
       "      <td>0.445142</td>\n",
       "      <td>0.400180</td>\n",
       "      <td>0:00:01.736446</td>\n",
       "      <td>Lasso(alpha=1.0, copy_X=True, fit_in...</td>\n",
       "    </tr>\n",
       "    <tr>\n",
       "      <th>0</th>\n",
       "      <td>LinearRegression</td>\n",
       "      <td>-2.731170</td>\n",
       "      <td>0.860040</td>\n",
       "      <td>0.700911</td>\n",
       "      <td>0:01:48.735211</td>\n",
       "      <td>LinearRegression(copy_X=True, fit_in...</td>\n",
       "    </tr>\n",
       "  </tbody>\n",
       "</table>\n",
       "</div>"
      ],
      "text/plain": [
       "                        Name   R2Score      RMSE       MAE         RunTime  \\\n",
       "4               XGBRegressor  0.157121  0.408769  0.346258  0:01:22.451620   \n",
       "3  GradientBoostingRegressor  0.155916  0.409062  0.347093  0:01:00.566622   \n",
       "1                      Ridge  0.090972  0.424507  0.355962  0:00:11.430342   \n",
       "2                      Lasso  0.000450  0.445142  0.400180  0:00:01.736446   \n",
       "0           LinearRegression -2.731170  0.860040  0.700911  0:01:48.735211   \n",
       "\n",
       "                               ModelObject  \n",
       "4  XGBRegressor(base_score=0.5, booster...  \n",
       "3  ([DecisionTreeRegressor(ccp_alpha=0....  \n",
       "1  Ridge(alpha=1.0, copy_X=True, fit_in...  \n",
       "2  Lasso(alpha=1.0, copy_X=True, fit_in...  \n",
       "0  LinearRegression(copy_X=True, fit_in...  "
      ]
     },
     "metadata": {},
     "output_type": "display_data"
    }
   ],
   "source": [
    "with pd.option_context(\"display.max_columns\", None, \"display.max_rows\", None, \"display.max_colwidth\", 40):\n",
    "    display(RegressorResults_List)"
   ]
  },
  {
   "cell_type": "code",
   "execution_count": 74,
   "metadata": {},
   "outputs": [
    {
     "name": "stdout",
     "output_type": "stream",
     "text": [
      "2020-02-05 13:39:44.103671\n"
     ]
    }
   ],
   "source": [
    "print(datetime.now())"
   ]
  },
  {
   "cell_type": "code",
   "execution_count": null,
   "metadata": {},
   "outputs": [],
   "source": []
  },
  {
   "cell_type": "code",
   "execution_count": 75,
   "metadata": {},
   "outputs": [
    {
     "data": {
      "text/html": [
       "<div>\n",
       "<style scoped>\n",
       "    .dataframe tbody tr th:only-of-type {\n",
       "        vertical-align: middle;\n",
       "    }\n",
       "\n",
       "    .dataframe tbody tr th {\n",
       "        vertical-align: top;\n",
       "    }\n",
       "\n",
       "    .dataframe thead th {\n",
       "        text-align: right;\n",
       "    }\n",
       "</style>\n",
       "<table border=\"1\" class=\"dataframe\">\n",
       "  <thead>\n",
       "    <tr style=\"text-align: right;\">\n",
       "      <th></th>\n",
       "      <th>Names</th>\n",
       "      <th>Weight</th>\n",
       "    </tr>\n",
       "  </thead>\n",
       "  <tbody>\n",
       "    <tr>\n",
       "      <th>0</th>\n",
       "      <td>goal</td>\n",
       "      <td>0.035390</td>\n",
       "    </tr>\n",
       "    <tr>\n",
       "      <th>7</th>\n",
       "      <td>category_Apparel</td>\n",
       "      <td>0.030064</td>\n",
       "    </tr>\n",
       "    <tr>\n",
       "      <th>133</th>\n",
       "      <td>category_Tabletop Games</td>\n",
       "      <td>0.027678</td>\n",
       "    </tr>\n",
       "    <tr>\n",
       "      <th>165</th>\n",
       "      <td>main_category_Music</td>\n",
       "      <td>0.027347</td>\n",
       "    </tr>\n",
       "    <tr>\n",
       "      <th>126</th>\n",
       "      <td>category_Shorts</td>\n",
       "      <td>0.023485</td>\n",
       "    </tr>\n",
       "    <tr>\n",
       "      <th>...</th>\n",
       "      <td>...</td>\n",
       "      <td>...</td>\n",
       "    </tr>\n",
       "    <tr>\n",
       "      <th>3204</th>\n",
       "      <td>launched_1/31/2016 20:06</td>\n",
       "      <td>0.000000</td>\n",
       "    </tr>\n",
       "    <tr>\n",
       "      <th>3205</th>\n",
       "      <td>launched_1/31/2016 20:13</td>\n",
       "      <td>0.000000</td>\n",
       "    </tr>\n",
       "    <tr>\n",
       "      <th>3206</th>\n",
       "      <td>launched_1/31/2016 20:17</td>\n",
       "      <td>0.000000</td>\n",
       "    </tr>\n",
       "    <tr>\n",
       "      <th>3207</th>\n",
       "      <td>launched_1/31/2016 20:24</td>\n",
       "      <td>0.000000</td>\n",
       "    </tr>\n",
       "    <tr>\n",
       "      <th>9392</th>\n",
       "      <td>country_US</td>\n",
       "      <td>0.000000</td>\n",
       "    </tr>\n",
       "  </tbody>\n",
       "</table>\n",
       "<p>9393 rows × 2 columns</p>\n",
       "</div>"
      ],
      "text/plain": [
       "                         Names    Weight\n",
       "0                         goal  0.035390\n",
       "7             category_Apparel  0.030064\n",
       "133    category_Tabletop Games  0.027678\n",
       "165        main_category_Music  0.027347\n",
       "126            category_Shorts  0.023485\n",
       "...                        ...       ...\n",
       "3204  launched_1/31/2016 20:06  0.000000\n",
       "3205  launched_1/31/2016 20:13  0.000000\n",
       "3206  launched_1/31/2016 20:17  0.000000\n",
       "3207  launched_1/31/2016 20:24  0.000000\n",
       "9392                country_US  0.000000\n",
       "\n",
       "[9393 rows x 2 columns]"
      ]
     },
     "execution_count": 75,
     "metadata": {},
     "output_type": "execute_result"
    }
   ],
   "source": [
    "pd.DataFrame(data = {\n",
    "    \"Names\" : TrainingData.drop(\"Status\", axis = 1).columns.to_list(),\n",
    "    \"Weight\": (RegressorResults_List.loc[RegressorResults_List[\"Name\"] == \"XGBRegressor\", \"ModelObject\"]).iloc[0].feature_importances_,\n",
    "}).sort_values(by=\"Weight\", ascending = False)"
   ]
  },
  {
   "cell_type": "markdown",
   "metadata": {},
   "source": [
    "## Generate model using title field"
   ]
  },
  {
   "cell_type": "code",
   "execution_count": null,
   "metadata": {},
   "outputs": [],
   "source": []
  },
  {
   "cell_type": "code",
   "execution_count": null,
   "metadata": {},
   "outputs": [],
   "source": []
  },
  {
   "cell_type": "markdown",
   "metadata": {},
   "source": [
    "### Tokenize words in title"
   ]
  },
  {
   "cell_type": "markdown",
   "metadata": {},
   "source": [
    "### Determine parts of speech for each word"
   ]
  },
  {
   "cell_type": "markdown",
   "metadata": {},
   "source": [
    "### Calculate readability / complexity / length of text\n",
    "How likely title is glossed over\n",
    "Flesch Kincaid?"
   ]
  },
  {
   "cell_type": "markdown",
   "metadata": {},
   "source": [
    "### Calculate sentiment of each title\n",
    "How positive or optimistic titles feel"
   ]
  },
  {
   "cell_type": "markdown",
   "metadata": {},
   "source": [
    "### Calculate average TD-IDF of words in each title\n",
    "How often are similar campaigns started.\n",
    "Basically reader fatigue."
   ]
  },
  {
   "cell_type": "code",
   "execution_count": null,
   "metadata": {},
   "outputs": [],
   "source": []
  }
 ],
 "metadata": {
  "kernelspec": {
   "display_name": "Python 3",
   "language": "python",
   "name": "python3"
  },
  "language_info": {
   "codemirror_mode": {
    "name": "ipython",
    "version": 3
   },
   "file_extension": ".py",
   "mimetype": "text/x-python",
   "name": "python",
   "nbconvert_exporter": "python",
   "pygments_lexer": "ipython3",
   "version": "3.7.6"
  }
 },
 "nbformat": 4,
 "nbformat_minor": 2
}
