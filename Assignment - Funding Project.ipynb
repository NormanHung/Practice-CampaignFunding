{
 "cells": [
  {
   "cell_type": "markdown",
   "metadata": {},
   "source": [
    "# Data Load"
   ]
  },
  {
   "cell_type": "code",
   "execution_count": 1,
   "metadata": {},
   "outputs": [
    {
     "data": {
      "text/html": [
       "<div>\n",
       "<style scoped>\n",
       "    .dataframe tbody tr th:only-of-type {\n",
       "        vertical-align: middle;\n",
       "    }\n",
       "\n",
       "    .dataframe tbody tr th {\n",
       "        vertical-align: top;\n",
       "    }\n",
       "\n",
       "    .dataframe thead th {\n",
       "        text-align: right;\n",
       "    }\n",
       "</style>\n",
       "<table border=\"1\" class=\"dataframe\">\n",
       "  <thead>\n",
       "    <tr style=\"text-align: right;\">\n",
       "      <th></th>\n",
       "      <th>ID</th>\n",
       "      <th>name</th>\n",
       "      <th>category</th>\n",
       "      <th>main_category</th>\n",
       "      <th>currency</th>\n",
       "      <th>deadline</th>\n",
       "      <th>goal</th>\n",
       "      <th>launched</th>\n",
       "      <th>pledged</th>\n",
       "      <th>state</th>\n",
       "      <th>backers</th>\n",
       "      <th>country</th>\n",
       "      <th>usd pledged</th>\n",
       "      <th>usd_pledged_real</th>\n",
       "      <th>usd_goal_real</th>\n",
       "    </tr>\n",
       "  </thead>\n",
       "  <tbody>\n",
       "    <tr>\n",
       "      <th>0</th>\n",
       "      <td>1015685046</td>\n",
       "      <td>Organic Tattoo remains 10 days (Self use &amp; cus...</td>\n",
       "      <td>Accessories</td>\n",
       "      <td>Fashion</td>\n",
       "      <td>CAD</td>\n",
       "      <td>1/1/2016</td>\n",
       "      <td>6000</td>\n",
       "      <td>12/7/2015 18:21</td>\n",
       "      <td>100.0</td>\n",
       "      <td>failed</td>\n",
       "      <td>2</td>\n",
       "      <td>CA</td>\n",
       "      <td>74.84</td>\n",
       "      <td>70.89</td>\n",
       "      <td>4253.51</td>\n",
       "    </tr>\n",
       "    <tr>\n",
       "      <th>1</th>\n",
       "      <td>1019043170</td>\n",
       "      <td>Handcrafted leather wallet | key holder | card...</td>\n",
       "      <td>Accessories</td>\n",
       "      <td>Fashion</td>\n",
       "      <td>EUR</td>\n",
       "      <td>1/1/2016</td>\n",
       "      <td>2000</td>\n",
       "      <td>12/11/2015 10:52</td>\n",
       "      <td>2102.0</td>\n",
       "      <td>successful</td>\n",
       "      <td>48</td>\n",
       "      <td>BE</td>\n",
       "      <td>2314.01</td>\n",
       "      <td>2282.97</td>\n",
       "      <td>2172.19</td>\n",
       "    </tr>\n",
       "    <tr>\n",
       "      <th>2</th>\n",
       "      <td>1036288991</td>\n",
       "      <td>The Liaisons:  a new twist on the old standards</td>\n",
       "      <td>Jazz</td>\n",
       "      <td>Music</td>\n",
       "      <td>USD</td>\n",
       "      <td>1/1/2016</td>\n",
       "      <td>5000</td>\n",
       "      <td>11/9/2015 20:12</td>\n",
       "      <td>5630.0</td>\n",
       "      <td>successful</td>\n",
       "      <td>116</td>\n",
       "      <td>US</td>\n",
       "      <td>5630.00</td>\n",
       "      <td>5630.00</td>\n",
       "      <td>5000.00</td>\n",
       "    </tr>\n",
       "  </tbody>\n",
       "</table>\n",
       "</div>"
      ],
      "text/plain": [
       "           ID                                               name     category  \\\n",
       "0  1015685046  Organic Tattoo remains 10 days (Self use & cus...  Accessories   \n",
       "1  1019043170  Handcrafted leather wallet | key holder | card...  Accessories   \n",
       "2  1036288991    The Liaisons:  a new twist on the old standards         Jazz   \n",
       "\n",
       "  main_category currency  deadline  goal          launched  pledged  \\\n",
       "0       Fashion      CAD  1/1/2016  6000   12/7/2015 18:21    100.0   \n",
       "1       Fashion      EUR  1/1/2016  2000  12/11/2015 10:52   2102.0   \n",
       "2         Music      USD  1/1/2016  5000   11/9/2015 20:12   5630.0   \n",
       "\n",
       "        state  backers country  usd pledged  usd_pledged_real  usd_goal_real  \n",
       "0      failed        2      CA        74.84             70.89        4253.51  \n",
       "1  successful       48      BE      2314.01           2282.97        2172.19  \n",
       "2  successful      116      US      5630.00           5630.00        5000.00  "
      ]
     },
     "execution_count": 1,
     "metadata": {},
     "output_type": "execute_result"
    }
   ],
   "source": [
    "import pandas as pd\n",
    "RawData = pd.read_csv(\"FundingProject.csv\")\n",
    "RawData.head(3)"
   ]
  },
  {
   "cell_type": "code",
   "execution_count": 2,
   "metadata": {},
   "outputs": [
    {
     "name": "stdout",
     "output_type": "stream",
     "text": [
      "<class 'pandas.core.frame.DataFrame'>\n",
      "RangeIndex: 110815 entries, 0 to 110814\n",
      "Data columns (total 15 columns):\n",
      "ID                  110815 non-null int64\n",
      "name                110814 non-null object\n",
      "category            110815 non-null object\n",
      "main_category       110815 non-null object\n",
      "currency            110815 non-null object\n",
      "deadline            110815 non-null object\n",
      "goal                110815 non-null int64\n",
      "launched            110815 non-null object\n",
      "pledged             110815 non-null float64\n",
      "state               110815 non-null object\n",
      "backers             110815 non-null int64\n",
      "country             110815 non-null object\n",
      "usd pledged         109999 non-null float64\n",
      "usd_pledged_real    110815 non-null float64\n",
      "usd_goal_real       110815 non-null float64\n",
      "dtypes: float64(4), int64(3), object(8)\n",
      "memory usage: 12.7+ MB\n"
     ]
    }
   ],
   "source": [
    "RawData.info()"
   ]
  },
  {
   "cell_type": "markdown",
   "metadata": {},
   "source": [
    "# Process Data"
   ]
  },
  {
   "cell_type": "code",
   "execution_count": 3,
   "metadata": {},
   "outputs": [],
   "source": [
    "import pandas as pd\n",
    "ProcessedData = pd.DataFrame()"
   ]
  },
  {
   "cell_type": "markdown",
   "metadata": {},
   "source": [
    "### Project status "
   ]
  },
  {
   "cell_type": "code",
   "execution_count": 4,
   "metadata": {},
   "outputs": [
    {
     "data": {
      "text/plain": [
       "count     110815\n",
       "unique         6\n",
       "top       failed\n",
       "freq       58155\n",
       "Name: state, dtype: object"
      ]
     },
     "execution_count": 4,
     "metadata": {},
     "output_type": "execute_result"
    }
   ],
   "source": [
    "RawData[\"state\"].describe()"
   ]
  },
  {
   "cell_type": "code",
   "execution_count": 5,
   "metadata": {},
   "outputs": [
    {
     "data": {
      "text/plain": [
       "failed        58155\n",
       "successful    38172\n",
       "canceled      13178\n",
       "suspended       707\n",
       "undefined       596\n",
       "live              7\n",
       "Name: state, dtype: int64"
      ]
     },
     "execution_count": 5,
     "metadata": {},
     "output_type": "execute_result"
    }
   ],
   "source": [
    "RawData[\"state\"].value_counts()"
   ]
  },
  {
   "cell_type": "code",
   "execution_count": 6,
   "metadata": {},
   "outputs": [],
   "source": [
    "# # Remap status labels to numerical values, bias starting from 2 for failures, scale to range of 1\n",
    "# # At the same time, drop rows with unrelated state values or values which cannot be processed\n",
    "# ProcessedData[\"Status\"] = RawData.loc[RawData[\"state\"].isin([\"failed\", \"successful\", \"canceled\", \"suspended\"]), \"state\"].map({\n",
    "# #    \"canceled\" : 2,\n",
    "#     \"failed\" : 2,\n",
    "# #    \"suspended\" : 2,\n",
    "#     \"successful\": 3,\n",
    "# })"
   ]
  },
  {
   "cell_type": "code",
   "execution_count": 7,
   "metadata": {},
   "outputs": [],
   "source": [
    "ProcessedData[\"Status\"] = (RawData[\"pledged\"] > RawData[\"goal\"]).astype(\"uint8\")"
   ]
  },
  {
   "cell_type": "code",
   "execution_count": 8,
   "metadata": {},
   "outputs": [
    {
     "name": "stdout",
     "output_type": "stream",
     "text": [
      "<class 'pandas.core.frame.DataFrame'>\n",
      "RangeIndex: 110815 entries, 0 to 110814\n",
      "Data columns (total 1 columns):\n",
      "Status    110815 non-null uint8\n",
      "dtypes: uint8(1)\n",
      "memory usage: 108.3 KB\n"
     ]
    }
   ],
   "source": [
    "ProcessedData.info()"
   ]
  },
  {
   "cell_type": "code",
   "execution_count": 9,
   "metadata": {},
   "outputs": [
    {
     "data": {
      "text/plain": [
       "0    72983\n",
       "1    37832\n",
       "Name: Status, dtype: int64"
      ]
     },
     "execution_count": 9,
     "metadata": {},
     "output_type": "execute_result"
    }
   ],
   "source": [
    "ProcessedData[\"Status\"].value_counts()"
   ]
  },
  {
   "cell_type": "markdown",
   "metadata": {},
   "source": [
    "### Campaign length (time)"
   ]
  },
  {
   "cell_type": "code",
   "execution_count": 10,
   "metadata": {},
   "outputs": [
    {
     "data": {
      "text/plain": [
       "count    110815.000000\n",
       "mean         33.157849\n",
       "std          11.640541\n",
       "min           1.000000\n",
       "25%          30.000000\n",
       "50%          30.000000\n",
       "75%          35.000000\n",
       "max          90.000000\n",
       "Name: Duration(Days), dtype: float64"
      ]
     },
     "execution_count": 10,
     "metadata": {},
     "output_type": "execute_result"
    }
   ],
   "source": [
    "from datetime import datetime\n",
    "ProcessedData[\"Duration(Days)\"] = (RawData[\"deadline\"].apply(lambda x: datetime.strptime(x, \"%m/%d/%Y\")) \n",
    "                                   - RawData[\"launched\"].apply(lambda x: datetime.strptime(x, \"%m/%d/%Y %H:%M\"))\n",
    "                                  ).apply(lambda x: x.days + 1) # Bias one day to avoid divide by zero\n",
    "ProcessedData[\"Duration(Days)\"].describe()"
   ]
  },
  {
   "cell_type": "code",
   "execution_count": 60,
   "metadata": {},
   "outputs": [],
   "source": [
    "ProcessedData[\"Duration(Days)\"] = ProcessedData[\"Duration(Days)\"].astype(\"uint8\")"
   ]
  },
  {
   "cell_type": "markdown",
   "metadata": {},
   "source": [
    "### Category and type"
   ]
  },
  {
   "cell_type": "code",
   "execution_count": 11,
   "metadata": {},
   "outputs": [],
   "source": [
    "ProcessedData[\"Category\"] = RawData[\"main_category\"]"
   ]
  },
  {
   "cell_type": "code",
   "execution_count": 12,
   "metadata": {},
   "outputs": [],
   "source": [
    "ProcessedData[\"Subcategory\"] = RawData[\"category\"]"
   ]
  },
  {
   "cell_type": "code",
   "execution_count": 13,
   "metadata": {},
   "outputs": [],
   "source": [
    "ProcessedData[\"OverallCategory\"] = RawData[\"main_category\"] + RawData[\"category\"]"
   ]
  },
  {
   "cell_type": "code",
   "execution_count": null,
   "metadata": {},
   "outputs": [],
   "source": []
  },
  {
   "cell_type": "code",
   "execution_count": null,
   "metadata": {},
   "outputs": [],
   "source": []
  },
  {
   "cell_type": "code",
   "execution_count": 17,
   "metadata": {},
   "outputs": [],
   "source": [
    "ProcessedData[\"FundingGoal\"] = RawData[\"usd_goal_real\"]"
   ]
  },
  {
   "cell_type": "code",
   "execution_count": 18,
   "metadata": {},
   "outputs": [],
   "source": [
    "ProcessedData[\"Country\"] = RawData[\"country\"]"
   ]
  },
  {
   "cell_type": "code",
   "execution_count": 19,
   "metadata": {},
   "outputs": [],
   "source": [
    "# This kinda begs the question because the pledged amount determines success\n",
    "#ProcessedData[\"FundingRate(USD/Day)\"] = RawData[\"usd_pledged_real\"] / ProcessedData[\"Duration(Days)\"]"
   ]
  },
  {
   "cell_type": "markdown",
   "metadata": {},
   "source": [
    "# Drop extra data"
   ]
  },
  {
   "cell_type": "code",
   "execution_count": 20,
   "metadata": {},
   "outputs": [],
   "source": [
    "def ShowCorrelationHeatmap(DataFrame, FigureSize = (10, 10)):\n",
    "    import matplotlib.pyplot as plt\n",
    "    import seaborn as sns\n",
    "    %matplotlib inline\n",
    "    \n",
    "    plt.close()\n",
    "    axes = plt.figure(figsize = FigureSize).add_subplot(111)\n",
    "    sns.heatmap(pd.DataFrame(DataFrame.corr(method = \"spearman\")[\"Status\"]).T, annot = True)\n",
    "\n",
    "    # Fix for cutoff top and bottom (Apparently bug with matplotlib version 3.1.1)\n",
    "    bottom, top = plt.ylim()\n",
    "    plt.ylim(bottom + 0.5, top - 0.5)\n",
    "\n",
    "    plt.show()"
   ]
  },
  {
   "cell_type": "code",
   "execution_count": 21,
   "metadata": {},
   "outputs": [
    {
     "data": {
      "image/png": "[encoded data removed]",
      "text/plain": [
       "<Figure size 1080x216 with 2 Axes>"
      ]
     },
     "metadata": {
      "needs_background": "light"
     },
     "output_type": "display_data"
    }
   ],
   "source": [
    "ShowCorrelationHeatmap(ProcessedData, FigureSize = (15, 3))"
   ]
  },
  {
   "cell_type": "markdown",
   "metadata": {},
   "source": [
    "# Modeling"
   ]
  },
  {
   "cell_type": "code",
   "execution_count": 22,
   "metadata": {},
   "outputs": [
    {
     "name": "stdout",
     "output_type": "stream",
     "text": [
      "<class 'pandas.core.frame.DataFrame'>\n",
      "RangeIndex: 110815 entries, 0 to 110814\n",
      "Data columns (total 7 columns):\n",
      "Status             110815 non-null uint8\n",
      "Duration(Days)     110815 non-null int64\n",
      "Category           110815 non-null object\n",
      "Subcategory        110815 non-null object\n",
      "OverallCategory    110815 non-null object\n",
      "FundingGoal        110815 non-null float64\n",
      "Country            110815 non-null object\n",
      "dtypes: float64(1), int64(1), object(4), uint8(1)\n",
      "memory usage: 5.2+ MB\n"
     ]
    }
   ],
   "source": [
    "ProcessedData.info()"
   ]
  },
  {
   "cell_type": "code",
   "execution_count": 23,
   "metadata": {},
   "outputs": [],
   "source": [
    "ProcessedData.dropna(inplace = True)"
   ]
  },
  {
   "cell_type": "code",
   "execution_count": 24,
   "metadata": {},
   "outputs": [
    {
     "name": "stdout",
     "output_type": "stream",
     "text": [
      "<class 'pandas.core.frame.DataFrame'>\n",
      "Int64Index: 110815 entries, 0 to 110814\n",
      "Data columns (total 7 columns):\n",
      "Status             110815 non-null uint8\n",
      "Duration(Days)     110815 non-null int64\n",
      "Category           110815 non-null object\n",
      "Subcategory        110815 non-null object\n",
      "OverallCategory    110815 non-null object\n",
      "FundingGoal        110815 non-null float64\n",
      "Country            110815 non-null object\n",
      "dtypes: float64(1), int64(1), object(4), uint8(1)\n",
      "memory usage: 6.0+ MB\n"
     ]
    }
   ],
   "source": [
    "ProcessedData.info()"
   ]
  },
  {
   "cell_type": "code",
   "execution_count": 25,
   "metadata": {},
   "outputs": [
    {
     "data": {
      "text/plain": [
       "0    72983\n",
       "1    37832\n",
       "Name: Status, dtype: int64"
      ]
     },
     "execution_count": 25,
     "metadata": {},
     "output_type": "execute_result"
    }
   ],
   "source": [
    "ProcessedData[\"Status\"].value_counts()"
   ]
  },
  {
   "cell_type": "code",
   "execution_count": 26,
   "metadata": {
    "scrolled": true
   },
   "outputs": [
    {
     "name": "stdout",
     "output_type": "stream",
     "text": [
      "Status : 110813  -  0\n",
      "Duration(Days) : 110750  -  0\n",
      "Category : 110800  -  0\n",
      "Subcategory : 110656  -  0\n",
      "OverallCategory : 110645  -  0\n",
      "FundingGoal : 86654  -  0\n",
      "Country : 110792  -  0\n"
     ]
    }
   ],
   "source": [
    "# Show dupes and null counts per column\n",
    "for column in ProcessedData.columns.to_list():\n",
    "    print(column, \":\", ProcessedData[column].duplicated().sum(), \" - \" , ProcessedData[column].isnull().sum())"
   ]
  },
  {
   "cell_type": "markdown",
   "metadata": {},
   "source": [
    "## Generate baseline model without using title field"
   ]
  },
  {
   "cell_type": "code",
   "execution_count": 27,
   "metadata": {},
   "outputs": [],
   "source": [
    "from sklearn.ensemble import GradientBoostingClassifier, RandomForestClassifier, ExtraTreesClassifier\n",
    "from sklearn.tree import DecisionTreeClassifier\n",
    "from xgboost import XGBClassifier\n",
    "from sklearn.naive_bayes import GaussianNB, BernoulliNB, MultinomialNB\n",
    "\n",
    "def AssessClassifierModels(TrainingDataColumns, TrainingDataResults, TestingDataColumns, TestingDataResults, Models_List):\n",
    "    from datetime import datetime\n",
    "    import pandas as pd\n",
    "    from sklearn.metrics import accuracy_score, precision_score, recall_score, f1_score, confusion_matrix\n",
    "\n",
    "    results_list = pd.DataFrame()\n",
    "    \n",
    "    for modelClass in Models_List:\n",
    "        startTime = datetime.now()\n",
    "        print(\"Starting \" + str(modelClass.__name__) + \" at \" + str(startTime))\n",
    "        \n",
    "        model = modelClass()\n",
    "        model.fit(TrainingDataColumns, TrainingDataResults)\n",
    "        predictions = model.predict(TestingDataColumns)\n",
    "        \n",
    "        endTime = datetime.now()\n",
    "        positiveValue = TestingDataResults.max()\n",
    "\n",
    "        results_list = results_list.append({\n",
    "            \"Name\" : modelClass.__name__,\n",
    "            \"F1\": f1_score(TestingDataResults, predictions, pos_label = positiveValue),\n",
    "            \"Accuracy\": accuracy_score(TestingDataResults, predictions),\n",
    "            \"Precision\": precision_score(TestingDataResults, predictions, pos_label = positiveValue),\n",
    "            \"Recall\" : recall_score(TestingDataResults, predictions, pos_label = positiveValue),\n",
    "            \"RunTime\" : str(endTime - startTime),\n",
    "            \"ConfusionMatrix\" : confusion_matrix(TestingDataResults, predictions),\n",
    "            \"ModelObject\": model,\n",
    "        }, ignore_index = True)\n",
    "    \n",
    "    results_list.sort_values(\"F1\", ascending = False, inplace = True)\n",
    "    \n",
    "    return results_list"
   ]
  },
  {
   "cell_type": "code",
   "execution_count": 28,
   "metadata": {},
   "outputs": [],
   "source": [
    "from sklearn.linear_model import LinearRegression, Ridge, Lasso, ElasticNet\n",
    "from sklearn.tree import ExtraTreeRegressor\n",
    "from sklearn.ensemble import GradientBoostingRegressor\n",
    "from xgboost import XGBRegressor\n",
    "\n",
    "def AssessRegressorModels(TrainingDataColumns, TrainingDataResults, TestingDataColumns, TestingDataResults, Models_List):\n",
    "    from datetime import datetime\n",
    "    import pandas as pd\n",
    "    from sklearn.metrics import r2_score, mean_squared_error, mean_absolute_error\n",
    "    \n",
    "    results_list = pd.DataFrame()\n",
    "    \n",
    "    for modelClass in Models_List:\n",
    "        model = modelClass()\n",
    "        startTime = datetime.now()\n",
    "        print(\"Starting \" + str(modelClass.__name__) + \" at \" + str(startTime))\n",
    "        \n",
    "        model.fit(TrainingDataColumns, TrainingDataResults)\n",
    "        predictions = model.predict(TestingDataColumns)\n",
    "        \n",
    "        endTime = datetime.now()\n",
    "        print(\"Ending \" + str(modelClass.__name__) + \" at \" + str(endTime))\n",
    "        results_list = results_list.append(pd.DataFrame(data = {\n",
    "            \"Name\" : modelClass.__name__,\n",
    "            \"R2Score\" : r2_score(TestingDataResults, predictions),\n",
    "            \"RMSE\" : mean_squared_error(TestingDataResults, predictions)**0.5,\n",
    "            \"MAE\" : mean_absolute_error(TestingDataResults, predictions),\n",
    "            \"RunTime\" : str(endTime - startTime),\n",
    "            \"ModelObject\" : [model],\n",
    "        }), ignore_index = True)\n",
    "    \n",
    "    results_list.sort_values(\"R2Score\", inplace = True, ascending = False)\n",
    "    \n",
    "    return results_list"
   ]
  },
  {
   "cell_type": "code",
   "execution_count": 29,
   "metadata": {},
   "outputs": [],
   "source": [
    "TrainingData = pd.get_dummies(ProcessedData, drop_first = True)"
   ]
  },
  {
   "cell_type": "code",
   "execution_count": 30,
   "metadata": {},
   "outputs": [
    {
     "name": "stdout",
     "output_type": "stream",
     "text": [
      "2020-02-06 06:23:00.429154\n"
     ]
    }
   ],
   "source": [
    "print(datetime.now())"
   ]
  },
  {
   "cell_type": "code",
   "execution_count": 31,
   "metadata": {},
   "outputs": [
    {
     "name": "stdout",
     "output_type": "stream",
     "text": [
      "<class 'pandas.core.frame.DataFrame'>\n",
      "Int64Index: 110815 entries, 0 to 110814\n",
      "Columns: 366 entries, Status to Country_US\n",
      "dtypes: float64(1), int64(1), uint8(364)\n",
      "memory usage: 41.0 MB\n"
     ]
    }
   ],
   "source": [
    "TrainingData.info()"
   ]
  },
  {
   "cell_type": "code",
   "execution_count": 32,
   "metadata": {},
   "outputs": [
    {
     "name": "stdout",
     "output_type": "stream",
     "text": [
      "2020-02-06 06:23:00.496133\n"
     ]
    }
   ],
   "source": [
    "print(datetime.now())"
   ]
  },
  {
   "cell_type": "code",
   "execution_count": 33,
   "metadata": {},
   "outputs": [],
   "source": [
    "from sklearn.model_selection import train_test_split\n",
    "Train_X, Test_X, Train_Y, Test_Y = train_test_split(TrainingData.drop(\"Status\", axis = 1), TrainingData[\"Status\"], test_size = 0.2, random_state = 13)"
   ]
  },
  {
   "cell_type": "code",
   "execution_count": 34,
   "metadata": {},
   "outputs": [
    {
     "name": "stdout",
     "output_type": "stream",
     "text": [
      "2020-02-06 06:23:00.660081\n"
     ]
    }
   ],
   "source": [
    "print(datetime.now())"
   ]
  },
  {
   "cell_type": "code",
   "execution_count": 35,
   "metadata": {},
   "outputs": [
    {
     "name": "stdout",
     "output_type": "stream",
     "text": [
      "Starting LinearRegression at 2020-02-06 06:23:00.666079\n",
      "Ending LinearRegression at 2020-02-06 06:23:01.912679\n",
      "Starting Ridge at 2020-02-06 06:23:01.915679\n"
     ]
    },
    {
     "name": "stderr",
     "output_type": "stream",
     "text": [
      "C:\\Users\\root\\.conda\\envs\\DataScience\\lib\\site-packages\\sklearn\\linear_model\\_ridge.py:148: LinAlgWarning: Ill-conditioned matrix (rcond=2.59861e-18): result may not be accurate.\n",
      "  overwrite_a=True).T\n"
     ]
    },
    {
     "name": "stdout",
     "output_type": "stream",
     "text": [
      "Ending Ridge at 2020-02-06 06:23:02.465503\n",
      "Starting Lasso at 2020-02-06 06:23:02.469502\n",
      "Ending Lasso at 2020-02-06 06:23:03.039319\n",
      "Starting ExtraTreeRegressor at 2020-02-06 06:23:03.042318\n",
      "Ending ExtraTreeRegressor at 2020-02-06 06:23:08.664520\n",
      "Starting ElasticNet at 2020-02-06 06:23:08.668519\n",
      "Ending ElasticNet at 2020-02-06 06:23:09.235337\n",
      "Starting GradientBoostingRegressor at 2020-02-06 06:23:09.240335\n",
      "Ending GradientBoostingRegressor at 2020-02-06 06:23:59.049686\n",
      "Starting XGBRegressor at 2020-02-06 06:23:59.053686\n"
     ]
    },
    {
     "name": "stderr",
     "output_type": "stream",
     "text": [
      "C:\\Users\\root\\.conda\\envs\\DataScience\\lib\\site-packages\\xgboost\\core.py:587: FutureWarning: Series.base is deprecated and will be removed in a future version\n",
      "  if getattr(data, 'base', None) is not None and \\\n"
     ]
    },
    {
     "name": "stdout",
     "output_type": "stream",
     "text": [
      "[06:23:59] WARNING: src/objective/regression_obj.cu:152: reg:linear is now deprecated in favor of reg:squarederror.\n",
      "Ending XGBRegressor at 2020-02-06 06:24:37.284453\n"
     ]
    }
   ],
   "source": [
    "RegressorResults_List = AssessRegressorModels(Train_X, Train_Y, Test_X, Test_Y, [LinearRegression, Ridge, Lasso, ExtraTreeRegressor, ElasticNet, GradientBoostingRegressor, XGBRegressor])"
   ]
  },
  {
   "cell_type": "code",
   "execution_count": 36,
   "metadata": {},
   "outputs": [
    {
     "data": {
      "text/html": [
       "<div>\n",
       "<style scoped>\n",
       "    .dataframe tbody tr th:only-of-type {\n",
       "        vertical-align: middle;\n",
       "    }\n",
       "\n",
       "    .dataframe tbody tr th {\n",
       "        vertical-align: top;\n",
       "    }\n",
       "\n",
       "    .dataframe thead th {\n",
       "        text-align: right;\n",
       "    }\n",
       "</style>\n",
       "<table border=\"1\" class=\"dataframe\">\n",
       "  <thead>\n",
       "    <tr style=\"text-align: right;\">\n",
       "      <th></th>\n",
       "      <th>Name</th>\n",
       "      <th>R2Score</th>\n",
       "      <th>RMSE</th>\n",
       "      <th>MAE</th>\n",
       "      <th>RunTime</th>\n",
       "      <th>ModelObject</th>\n",
       "    </tr>\n",
       "  </thead>\n",
       "  <tbody>\n",
       "    <tr>\n",
       "      <th>6</th>\n",
       "      <td>XGBRegressor</td>\n",
       "      <td>0.150114</td>\n",
       "      <td>0.436731</td>\n",
       "      <td>0.392983</td>\n",
       "      <td>0:00:38.230767</td>\n",
       "      <td>XGBRegressor(base_score=0.5, booster...</td>\n",
       "    </tr>\n",
       "    <tr>\n",
       "      <th>5</th>\n",
       "      <td>GradientBoostingRegressor</td>\n",
       "      <td>0.149658</td>\n",
       "      <td>0.436848</td>\n",
       "      <td>0.393319</td>\n",
       "      <td>0:00:49.809351</td>\n",
       "      <td>([DecisionTreeRegressor(ccp_alpha=0....</td>\n",
       "    </tr>\n",
       "    <tr>\n",
       "      <th>1</th>\n",
       "      <td>Ridge</td>\n",
       "      <td>0.113790</td>\n",
       "      <td>0.445966</td>\n",
       "      <td>0.397872</td>\n",
       "      <td>0:00:00.549824</td>\n",
       "      <td>Ridge(alpha=1.0, copy_X=True, fit_in...</td>\n",
       "    </tr>\n",
       "    <tr>\n",
       "      <th>0</th>\n",
       "      <td>LinearRegression</td>\n",
       "      <td>0.113764</td>\n",
       "      <td>0.445972</td>\n",
       "      <td>0.397849</td>\n",
       "      <td>0:00:01.246600</td>\n",
       "      <td>LinearRegression(copy_X=True, fit_in...</td>\n",
       "    </tr>\n",
       "    <tr>\n",
       "      <th>4</th>\n",
       "      <td>ElasticNet</td>\n",
       "      <td>0.013378</td>\n",
       "      <td>0.470553</td>\n",
       "      <td>0.445701</td>\n",
       "      <td>0:00:00.566818</td>\n",
       "      <td>ElasticNet(alpha=1.0, copy_X=True, f...</td>\n",
       "    </tr>\n",
       "    <tr>\n",
       "      <th>2</th>\n",
       "      <td>Lasso</td>\n",
       "      <td>0.000761</td>\n",
       "      <td>0.473553</td>\n",
       "      <td>0.449190</td>\n",
       "      <td>0:00:00.569817</td>\n",
       "      <td>Lasso(alpha=1.0, copy_X=True, fit_in...</td>\n",
       "    </tr>\n",
       "    <tr>\n",
       "      <th>3</th>\n",
       "      <td>ExtraTreeRegressor</td>\n",
       "      <td>-0.371488</td>\n",
       "      <td>0.554791</td>\n",
       "      <td>0.359265</td>\n",
       "      <td>0:00:05.622202</td>\n",
       "      <td>ExtraTreeRegressor(ccp_alpha=0.0, cr...</td>\n",
       "    </tr>\n",
       "  </tbody>\n",
       "</table>\n",
       "</div>"
      ],
      "text/plain": [
       "                        Name   R2Score      RMSE       MAE         RunTime  \\\n",
       "6               XGBRegressor  0.150114  0.436731  0.392983  0:00:38.230767   \n",
       "5  GradientBoostingRegressor  0.149658  0.436848  0.393319  0:00:49.809351   \n",
       "1                      Ridge  0.113790  0.445966  0.397872  0:00:00.549824   \n",
       "0           LinearRegression  0.113764  0.445972  0.397849  0:00:01.246600   \n",
       "4                 ElasticNet  0.013378  0.470553  0.445701  0:00:00.566818   \n",
       "2                      Lasso  0.000761  0.473553  0.449190  0:00:00.569817   \n",
       "3         ExtraTreeRegressor -0.371488  0.554791  0.359265  0:00:05.622202   \n",
       "\n",
       "                               ModelObject  \n",
       "6  XGBRegressor(base_score=0.5, booster...  \n",
       "5  ([DecisionTreeRegressor(ccp_alpha=0....  \n",
       "1  Ridge(alpha=1.0, copy_X=True, fit_in...  \n",
       "0  LinearRegression(copy_X=True, fit_in...  \n",
       "4  ElasticNet(alpha=1.0, copy_X=True, f...  \n",
       "2  Lasso(alpha=1.0, copy_X=True, fit_in...  \n",
       "3  ExtraTreeRegressor(ccp_alpha=0.0, cr...  "
      ]
     },
     "metadata": {},
     "output_type": "display_data"
    }
   ],
   "source": [
    "with pd.option_context(\"display.max_columns\", None, \"display.max_rows\", None, \"display.max_colwidth\", 40):\n",
    "    display(RegressorResults_List)"
   ]
  },
  {
   "cell_type": "code",
   "execution_count": 37,
   "metadata": {},
   "outputs": [
    {
     "name": "stdout",
     "output_type": "stream",
     "text": [
      "2020-02-06 06:24:37.373425\n"
     ]
    }
   ],
   "source": [
    "print(datetime.now())"
   ]
  },
  {
   "cell_type": "code",
   "execution_count": 38,
   "metadata": {
    "scrolled": false
   },
   "outputs": [
    {
     "data": {
      "text/html": [
       "<div>\n",
       "<style scoped>\n",
       "    .dataframe tbody tr th:only-of-type {\n",
       "        vertical-align: middle;\n",
       "    }\n",
       "\n",
       "    .dataframe tbody tr th {\n",
       "        vertical-align: top;\n",
       "    }\n",
       "\n",
       "    .dataframe thead th {\n",
       "        text-align: right;\n",
       "    }\n",
       "</style>\n",
       "<table border=\"1\" class=\"dataframe\">\n",
       "  <thead>\n",
       "    <tr style=\"text-align: right;\">\n",
       "      <th></th>\n",
       "      <th>Names</th>\n",
       "      <th>Weight</th>\n",
       "    </tr>\n",
       "  </thead>\n",
       "  <tbody>\n",
       "    <tr>\n",
       "      <th>2</th>\n",
       "      <td>Category_Comics</td>\n",
       "      <td>0.063696</td>\n",
       "    </tr>\n",
       "    <tr>\n",
       "      <th>151</th>\n",
       "      <td>Subcategory_Tabletop Games</td>\n",
       "      <td>0.062590</td>\n",
       "    </tr>\n",
       "    <tr>\n",
       "      <th>11</th>\n",
       "      <td>Category_Music</td>\n",
       "      <td>0.051794</td>\n",
       "    </tr>\n",
       "    <tr>\n",
       "      <th>23</th>\n",
       "      <td>Subcategory_Apps</td>\n",
       "      <td>0.042470</td>\n",
       "    </tr>\n",
       "    <tr>\n",
       "      <th>166</th>\n",
       "      <td>Subcategory_Web</td>\n",
       "      <td>0.037689</td>\n",
       "    </tr>\n",
       "    <tr>\n",
       "      <th>...</th>\n",
       "      <td>...</td>\n",
       "      <td>...</td>\n",
       "    </tr>\n",
       "    <tr>\n",
       "      <th>158</th>\n",
       "      <td>Subcategory_Translations</td>\n",
       "      <td>0.000000</td>\n",
       "    </tr>\n",
       "    <tr>\n",
       "      <th>157</th>\n",
       "      <td>Subcategory_Thrillers</td>\n",
       "      <td>0.000000</td>\n",
       "    </tr>\n",
       "    <tr>\n",
       "      <th>156</th>\n",
       "      <td>Subcategory_Theater</td>\n",
       "      <td>0.000000</td>\n",
       "    </tr>\n",
       "    <tr>\n",
       "      <th>155</th>\n",
       "      <td>Subcategory_Textiles</td>\n",
       "      <td>0.000000</td>\n",
       "    </tr>\n",
       "    <tr>\n",
       "      <th>182</th>\n",
       "      <td>OverallCategory_ArtPublic Art</td>\n",
       "      <td>0.000000</td>\n",
       "    </tr>\n",
       "  </tbody>\n",
       "</table>\n",
       "<p>365 rows × 2 columns</p>\n",
       "</div>"
      ],
      "text/plain": [
       "                             Names    Weight\n",
       "2                  Category_Comics  0.063696\n",
       "151     Subcategory_Tabletop Games  0.062590\n",
       "11                  Category_Music  0.051794\n",
       "23                Subcategory_Apps  0.042470\n",
       "166                Subcategory_Web  0.037689\n",
       "..                             ...       ...\n",
       "158       Subcategory_Translations  0.000000\n",
       "157          Subcategory_Thrillers  0.000000\n",
       "156            Subcategory_Theater  0.000000\n",
       "155           Subcategory_Textiles  0.000000\n",
       "182  OverallCategory_ArtPublic Art  0.000000\n",
       "\n",
       "[365 rows x 2 columns]"
      ]
     },
     "metadata": {},
     "output_type": "display_data"
    }
   ],
   "source": [
    "with pd.option_context(\"display.max_columns\", None, \"display.max_rows\", 40, \"display.max_colwidth\", 80):\n",
    "    display(pd.DataFrame(data = {\n",
    "        \"Names\" : TrainingData.drop(\"Status\", axis = 1).columns.to_list(),\n",
    "        \"Weight\": (RegressorResults_List.loc[RegressorResults_List[\"Name\"] == \"XGBRegressor\", \"ModelObject\"]).iloc[0].feature_importances_,\n",
    "    }).sort_values(by=\"Weight\", ascending = False))"
   ]
  },
  {
   "cell_type": "code",
   "execution_count": 39,
   "metadata": {},
   "outputs": [
    {
     "name": "stdout",
     "output_type": "stream",
     "text": [
      "Starting GaussianNB at 2020-02-06 06:24:37.449401\n",
      "Starting MultinomialNB at 2020-02-06 06:24:38.420090\n",
      "Starting BernoulliNB at 2020-02-06 06:24:38.688004\n",
      "Starting RandomForestClassifier at 2020-02-06 06:24:39.389780\n",
      "Starting DecisionTreeClassifier at 2020-02-06 06:25:27.399420\n",
      "Starting ExtraTreesClassifier at 2020-02-06 06:25:32.970638\n",
      "Starting GradientBoostingClassifier at 2020-02-06 06:26:46.856998\n",
      "Starting XGBClassifier at 2020-02-06 06:27:37.726722\n"
     ]
    }
   ],
   "source": [
    "ClassifierResults_List = AssessClassifierModels(Train_X, Train_Y, Test_X, Test_Y, [GaussianNB, MultinomialNB, BernoulliNB, RandomForestClassifier, DecisionTreeClassifier, ExtraTreesClassifier, GradientBoostingClassifier, XGBClassifier])"
   ]
  },
  {
   "cell_type": "code",
   "execution_count": 40,
   "metadata": {
    "scrolled": true
   },
   "outputs": [
    {
     "data": {
      "text/html": [
       "<div>\n",
       "<style scoped>\n",
       "    .dataframe tbody tr th:only-of-type {\n",
       "        vertical-align: middle;\n",
       "    }\n",
       "\n",
       "    .dataframe tbody tr th {\n",
       "        vertical-align: top;\n",
       "    }\n",
       "\n",
       "    .dataframe thead th {\n",
       "        text-align: right;\n",
       "    }\n",
       "</style>\n",
       "<table border=\"1\" class=\"dataframe\">\n",
       "  <thead>\n",
       "    <tr style=\"text-align: right;\">\n",
       "      <th></th>\n",
       "      <th>Accuracy</th>\n",
       "      <th>ConfusionMatrix</th>\n",
       "      <th>F1</th>\n",
       "      <th>ModelObject</th>\n",
       "      <th>Name</th>\n",
       "      <th>Precision</th>\n",
       "      <th>Recall</th>\n",
       "      <th>RunTime</th>\n",
       "    </tr>\n",
       "  </thead>\n",
       "  <tbody>\n",
       "    <tr>\n",
       "      <th>1</th>\n",
       "      <td>0.469882</td>\n",
       "      <td>[[3668, 10958], [791, 6746]]</td>\n",
       "      <td>0.534527</td>\n",
       "      <td>MultinomialNB(alpha=1.0, class_prior...</td>\n",
       "      <td>MultinomialNB</td>\n",
       "      <td>0.381044</td>\n",
       "      <td>0.895051</td>\n",
       "      <td>0:00:00.219930</td>\n",
       "    </tr>\n",
       "    <tr>\n",
       "      <th>0</th>\n",
       "      <td>0.392275</td>\n",
       "      <td>[[1299, 13327], [142, 7395]]</td>\n",
       "      <td>0.523373</td>\n",
       "      <td>GaussianNB(priors=None, var_smoothin...</td>\n",
       "      <td>GaussianNB</td>\n",
       "      <td>0.356867</td>\n",
       "      <td>0.981160</td>\n",
       "      <td>0:00:00.937699</td>\n",
       "    </tr>\n",
       "    <tr>\n",
       "      <th>2</th>\n",
       "      <td>0.667960</td>\n",
       "      <td>[[11102, 3524], [3835, 3702]]</td>\n",
       "      <td>0.501524</td>\n",
       "      <td>BernoulliNB(alpha=1.0, binarize=0.0,...</td>\n",
       "      <td>BernoulliNB</td>\n",
       "      <td>0.512317</td>\n",
       "      <td>0.491177</td>\n",
       "      <td>0:00:00.665787</td>\n",
       "    </tr>\n",
       "    <tr>\n",
       "      <th>3</th>\n",
       "      <td>0.676984</td>\n",
       "      <td>[[11577, 3049], [4110, 3427]]</td>\n",
       "      <td>0.489117</td>\n",
       "      <td>(DecisionTreeClassifier(ccp_alpha=0....</td>\n",
       "      <td>RandomForestClassifier</td>\n",
       "      <td>0.529185</td>\n",
       "      <td>0.454690</td>\n",
       "      <td>0:00:47.975650</td>\n",
       "    </tr>\n",
       "    <tr>\n",
       "      <th>5</th>\n",
       "      <td>0.667193</td>\n",
       "      <td>[[11481, 3145], [4231, 3306]]</td>\n",
       "      <td>0.472691</td>\n",
       "      <td>(ExtraTreeClassifier(ccp_alpha=0.0, ...</td>\n",
       "      <td>ExtraTreesClassifier</td>\n",
       "      <td>0.512479</td>\n",
       "      <td>0.438636</td>\n",
       "      <td>0:01:13.851371</td>\n",
       "    </tr>\n",
       "    <tr>\n",
       "      <th>4</th>\n",
       "      <td>0.657989</td>\n",
       "      <td>[[11299, 3327], [4253, 3284]]</td>\n",
       "      <td>0.464235</td>\n",
       "      <td>DecisionTreeClassifier(ccp_alpha=0.0...</td>\n",
       "      <td>DecisionTreeClassifier</td>\n",
       "      <td>0.496748</td>\n",
       "      <td>0.435717</td>\n",
       "      <td>0:00:05.536228</td>\n",
       "    </tr>\n",
       "    <tr>\n",
       "      <th>6</th>\n",
       "      <td>0.706854</td>\n",
       "      <td>[[13556, 1070], [5427, 2110]]</td>\n",
       "      <td>0.393767</td>\n",
       "      <td>([DecisionTreeRegressor(ccp_alpha=0....</td>\n",
       "      <td>GradientBoostingClassifier</td>\n",
       "      <td>0.663522</td>\n",
       "      <td>0.279952</td>\n",
       "      <td>0:00:50.835735</td>\n",
       "    </tr>\n",
       "    <tr>\n",
       "      <th>7</th>\n",
       "      <td>0.704643</td>\n",
       "      <td>[[13575, 1051], [5495, 2042]]</td>\n",
       "      <td>0.384196</td>\n",
       "      <td>XGBClassifier(base_score=0.5, booste...</td>\n",
       "      <td>XGBClassifier</td>\n",
       "      <td>0.660200</td>\n",
       "      <td>0.270930</td>\n",
       "      <td>0:00:38.604649</td>\n",
       "    </tr>\n",
       "  </tbody>\n",
       "</table>\n",
       "</div>"
      ],
      "text/plain": [
       "   Accuracy                ConfusionMatrix        F1  \\\n",
       "1  0.469882   [[3668, 10958], [791, 6746]]  0.534527   \n",
       "0  0.392275   [[1299, 13327], [142, 7395]]  0.523373   \n",
       "2  0.667960  [[11102, 3524], [3835, 3702]]  0.501524   \n",
       "3  0.676984  [[11577, 3049], [4110, 3427]]  0.489117   \n",
       "5  0.667193  [[11481, 3145], [4231, 3306]]  0.472691   \n",
       "4  0.657989  [[11299, 3327], [4253, 3284]]  0.464235   \n",
       "6  0.706854  [[13556, 1070], [5427, 2110]]  0.393767   \n",
       "7  0.704643  [[13575, 1051], [5495, 2042]]  0.384196   \n",
       "\n",
       "                               ModelObject                        Name  \\\n",
       "1  MultinomialNB(alpha=1.0, class_prior...               MultinomialNB   \n",
       "0  GaussianNB(priors=None, var_smoothin...                  GaussianNB   \n",
       "2  BernoulliNB(alpha=1.0, binarize=0.0,...                 BernoulliNB   \n",
       "3  (DecisionTreeClassifier(ccp_alpha=0....      RandomForestClassifier   \n",
       "5  (ExtraTreeClassifier(ccp_alpha=0.0, ...        ExtraTreesClassifier   \n",
       "4  DecisionTreeClassifier(ccp_alpha=0.0...      DecisionTreeClassifier   \n",
       "6  ([DecisionTreeRegressor(ccp_alpha=0....  GradientBoostingClassifier   \n",
       "7  XGBClassifier(base_score=0.5, booste...               XGBClassifier   \n",
       "\n",
       "   Precision    Recall         RunTime  \n",
       "1   0.381044  0.895051  0:00:00.219930  \n",
       "0   0.356867  0.981160  0:00:00.937699  \n",
       "2   0.512317  0.491177  0:00:00.665787  \n",
       "3   0.529185  0.454690  0:00:47.975650  \n",
       "5   0.512479  0.438636  0:01:13.851371  \n",
       "4   0.496748  0.435717  0:00:05.536228  \n",
       "6   0.663522  0.279952  0:00:50.835735  \n",
       "7   0.660200  0.270930  0:00:38.604649  "
      ]
     },
     "metadata": {},
     "output_type": "display_data"
    }
   ],
   "source": [
    "with pd.option_context(\"display.max_columns\", None, \"display.max_rows\", None, \"display.max_colwidth\", 40):\n",
    "    display(ClassifierResults_List)"
   ]
  },
  {
   "cell_type": "code",
   "execution_count": 41,
   "metadata": {
    "scrolled": false
   },
   "outputs": [
    {
     "data": {
      "text/html": [
       "<div>\n",
       "<style scoped>\n",
       "    .dataframe tbody tr th:only-of-type {\n",
       "        vertical-align: middle;\n",
       "    }\n",
       "\n",
       "    .dataframe tbody tr th {\n",
       "        vertical-align: top;\n",
       "    }\n",
       "\n",
       "    .dataframe thead th {\n",
       "        text-align: right;\n",
       "    }\n",
       "</style>\n",
       "<table border=\"1\" class=\"dataframe\">\n",
       "  <thead>\n",
       "    <tr style=\"text-align: right;\">\n",
       "      <th></th>\n",
       "      <th>Names</th>\n",
       "      <th>Weight</th>\n",
       "    </tr>\n",
       "  </thead>\n",
       "  <tbody>\n",
       "    <tr>\n",
       "      <th>14</th>\n",
       "      <td>Category_Technology</td>\n",
       "      <td>0.101572</td>\n",
       "    </tr>\n",
       "    <tr>\n",
       "      <th>2</th>\n",
       "      <td>Category_Comics</td>\n",
       "      <td>0.053944</td>\n",
       "    </tr>\n",
       "    <tr>\n",
       "      <th>166</th>\n",
       "      <td>Subcategory_Web</td>\n",
       "      <td>0.044937</td>\n",
       "    </tr>\n",
       "    <tr>\n",
       "      <th>23</th>\n",
       "      <td>Subcategory_Apps</td>\n",
       "      <td>0.041802</td>\n",
       "    </tr>\n",
       "    <tr>\n",
       "      <th>151</th>\n",
       "      <td>Subcategory_Tabletop Games</td>\n",
       "      <td>0.040968</td>\n",
       "    </tr>\n",
       "    <tr>\n",
       "      <th>...</th>\n",
       "      <td>...</td>\n",
       "      <td>...</td>\n",
       "    </tr>\n",
       "    <tr>\n",
       "      <th>157</th>\n",
       "      <td>Subcategory_Thrillers</td>\n",
       "      <td>0.000000</td>\n",
       "    </tr>\n",
       "    <tr>\n",
       "      <th>156</th>\n",
       "      <td>Subcategory_Theater</td>\n",
       "      <td>0.000000</td>\n",
       "    </tr>\n",
       "    <tr>\n",
       "      <th>155</th>\n",
       "      <td>Subcategory_Textiles</td>\n",
       "      <td>0.000000</td>\n",
       "    </tr>\n",
       "    <tr>\n",
       "      <th>154</th>\n",
       "      <td>Subcategory_Television</td>\n",
       "      <td>0.000000</td>\n",
       "    </tr>\n",
       "    <tr>\n",
       "      <th>182</th>\n",
       "      <td>OverallCategory_ArtPublic Art</td>\n",
       "      <td>0.000000</td>\n",
       "    </tr>\n",
       "  </tbody>\n",
       "</table>\n",
       "<p>365 rows × 2 columns</p>\n",
       "</div>"
      ],
      "text/plain": [
       "                             Names    Weight\n",
       "14             Category_Technology  0.101572\n",
       "2                  Category_Comics  0.053944\n",
       "166                Subcategory_Web  0.044937\n",
       "23                Subcategory_Apps  0.041802\n",
       "151     Subcategory_Tabletop Games  0.040968\n",
       "..                             ...       ...\n",
       "157          Subcategory_Thrillers  0.000000\n",
       "156            Subcategory_Theater  0.000000\n",
       "155           Subcategory_Textiles  0.000000\n",
       "154         Subcategory_Television  0.000000\n",
       "182  OverallCategory_ArtPublic Art  0.000000\n",
       "\n",
       "[365 rows x 2 columns]"
      ]
     },
     "metadata": {},
     "output_type": "display_data"
    }
   ],
   "source": [
    "with pd.option_context(\"display.max_columns\", None, \"display.max_rows\", 40, \"display.max_colwidth\", 80):\n",
    "    display(pd.DataFrame(data = {\n",
    "        \"Names\" : TrainingData.drop(\"Status\", axis = 1).columns.to_list(),\n",
    "        \"Weight\": (ClassifierResults_List.loc[ClassifierResults_List[\"Name\"] == \"XGBClassifier\", \"ModelObject\"]).iloc[0].feature_importances_,\n",
    "    }).sort_values(by=\"Weight\", ascending = False))"
   ]
  },
  {
   "cell_type": "code",
   "execution_count": null,
   "metadata": {},
   "outputs": [],
   "source": []
  },
  {
   "cell_type": "markdown",
   "metadata": {},
   "source": [
    "## Generate model using title field"
   ]
  },
  {
   "cell_type": "code",
   "execution_count": null,
   "metadata": {},
   "outputs": [],
   "source": []
  },
  {
   "cell_type": "code",
   "execution_count": null,
   "metadata": {},
   "outputs": [],
   "source": []
  },
  {
   "cell_type": "markdown",
   "metadata": {},
   "source": [
    "### Tokenize words in title"
   ]
  },
  {
   "cell_type": "markdown",
   "metadata": {},
   "source": [
    "### Determine parts of speech for each word"
   ]
  },
  {
   "cell_type": "code",
   "execution_count": 46,
   "metadata": {},
   "outputs": [],
   "source": [
    "def GetTotalWordCount(TextString):\n",
    "    import nltk\n",
    "    import re\n",
    "    wordCheck = re.compile(r\"^[a-zA-Z0-9]+$\")\n",
    "    return len(nltk.word_tokenize(TextString))"
   ]
  },
  {
   "cell_type": "markdown",
   "metadata": {},
   "source": [
    "### Calculate readability / complexity / length of text\n",
    "How likely title is glossed over\n",
    "\n",
    "Flesch Kincaid?"
   ]
  },
  {
   "cell_type": "code",
   "execution_count": 65,
   "metadata": {},
   "outputs": [
    {
     "name": "stdout",
     "output_type": "stream",
     "text": [
      "Collecting textstat\n",
      "  Downloading https://files.pythonhosted.org/packages/4f/b9/49f8bd4604122dd7d618a1f7440c00e2b3505d2a8307642a28260f8a3004/textstat-0.6.0-py3-none-any.whl\n",
      "Collecting pyphen\n",
      "  Downloading https://files.pythonhosted.org/packages/15/82/08a3629dce8d1f3d91db843bb36d4d7db6b6269d5067259613a0d5c8a9db/Pyphen-0.9.5-py2.py3-none-any.whl (3.0MB)\n",
      "Installing collected packages: pyphen, textstat\n",
      "Successfully installed pyphen-0.9.5 textstat-0.6.0\n"
     ]
    }
   ],
   "source": [
    "#!pip install textstat\n",
    "from textstat import flesch_reading_ease as ReadabilityScore"
   ]
  },
  {
   "cell_type": "code",
   "execution_count": 64,
   "metadata": {},
   "outputs": [
    {
     "data": {
      "text/plain": [
       "0         Organic Tattoo remains 10 days (Self use & cus...\n",
       "1         Handcrafted leather wallet | key holder | card...\n",
       "2           The Liaisons:  a new twist on the old standards\n",
       "3                        The Many Encounters of Bosley Bear\n",
       "4                    Swift & Co | Innovative Men's Footwear\n",
       "                                ...                        \n",
       "110810    Project ChArma presents Full Circle at Dance P...\n",
       "110811                              Haboob Wind - The Movie\n",
       "110812                                            Honey Pot\n",
       "110813    LOL Mugs with daily laugh and inspirational me...\n",
       "110814                  Tapagotchi - Mobile Virtual Pet RPG\n",
       "Name: name, Length: 110815, dtype: object"
      ]
     },
     "execution_count": 64,
     "metadata": {},
     "output_type": "execute_result"
    }
   ],
   "source": [
    "RawData[\"name\"]"
   ]
  },
  {
   "cell_type": "code",
   "execution_count": 59,
   "metadata": {},
   "outputs": [],
   "source": [
    "ProcessedData[\"Name_WordCount\"] = RawData[\"name\"].fillna(\"\").apply(GetTotalWordCount).astype(\"uint8\")"
   ]
  },
  {
   "cell_type": "code",
   "execution_count": 70,
   "metadata": {},
   "outputs": [],
   "source": [
    "ProcessedData[\"Name_Readability\"] = RawData[\"name\"].fillna(\"\").apply(ReadabilityScore)"
   ]
  },
  {
   "cell_type": "code",
   "execution_count": 71,
   "metadata": {},
   "outputs": [
    {
     "data": {
      "text/plain": [
       "count    110815.000000\n",
       "mean         57.993754\n",
       "std          43.448520\n",
       "min        -978.590000\n",
       "25%          35.610000\n",
       "50%          63.360000\n",
       "75%          87.720000\n",
       "max         206.840000\n",
       "Name: Name_Readability, dtype: float64"
      ]
     },
     "execution_count": 71,
     "metadata": {},
     "output_type": "execute_result"
    }
   ],
   "source": [
    "ProcessedData[\"Name_Readability\"].describe()"
   ]
  },
  {
   "cell_type": "code",
   "execution_count": 80,
   "metadata": {},
   "outputs": [
    {
     "data": {
      "text/plain": [
       "2258      A SAFER                                  USB Charger-Adaptor\n",
       "5445       CHALKUP,handchalk,workoutchalk,gym,fitnessgear,bodybuilding\n",
       "16669                                          PoliticalRevolution.net\n",
       "19076                                         #DigitalRealistStoryMode\n",
       "80861                              Vestuario//cosplay//caracterización\n",
       "87284                   OverTymeMusicRadio/FutureCommunicationsNetwork\n",
       "93042                              D.A.H.A(demon.angel.hybrid.academy)\n",
       "105543                       Mobile.Survival.Horror.Game.by.NaticaTech\n",
       "Name: name, dtype: object"
      ]
     },
     "metadata": {},
     "output_type": "display_data"
    }
   ],
   "source": [
    "with pd.option_context(\"display.max_colwidth\", 100):\n",
    "    display(RawData[ProcessedData[\"Name_Readability\"] < -500][\"name\"])"
   ]
  },
  {
   "cell_type": "markdown",
   "metadata": {},
   "source": [
    "### Calculate sentiment of each title\n",
    "How positive or optimistic titles feel"
   ]
  },
  {
   "cell_type": "code",
   "execution_count": 51,
   "metadata": {},
   "outputs": [],
   "source": [
    "def GetTextSentiment(TextString):\n",
    "    from textblob import TextBlob\n",
    "    return TextBlob(TextString).sentiment.polarity    "
   ]
  },
  {
   "cell_type": "code",
   "execution_count": 52,
   "metadata": {},
   "outputs": [],
   "source": [
    "ProcessedData[\"Name_SentimentValue\"] = RawData[\"name\"].fillna(\"\").apply(GetTextSentiment)"
   ]
  },
  {
   "cell_type": "markdown",
   "metadata": {},
   "source": [
    "### Calculate average TD-IDF of words in each title\n",
    "How often are similar campaigns started.\n",
    "Basically reader fatigue."
   ]
  },
  {
   "cell_type": "code",
   "execution_count": 53,
   "metadata": {},
   "outputs": [],
   "source": [
    "def FilterForKeyWords(TextString):\n",
    "    import nltk\n",
    "    import re\n",
    "    from nltk.stem import WordNetLemmatizer\n",
    "    from nltk.corpus.reader import wordnet\n",
    "    from nltk.util import ngrams\n",
    "\n",
    "    LemmatizerEngine = WordNetLemmatizer()\n",
    "    removeWords_List = list(set([\n",
    "        # Prepositions\n",
    "        \"of\", \"with\", \"without\", \"at\", \"from\", \"into\", \"during\", \"including\", \"until\", \"against\", \"through\", \"throughput\",\n",
    "        \"towards\", \"to\", \"upon\", \"concerning\", \"in\", \"out\", \"for\", \"on\", \"below\", \"by\", \"over\", \"under\", \"despite\",\n",
    "        \"before\", \"after\", \"between\", \"since\", \"among\", \"along\", \"following\", \"across\", \"behind\", \"beyond\", \"except\",\n",
    "        \"but\", \"up\", \"down\", \"aboard\", \"amid\", \"as\", \"behind\", \"considering\", \"during\", \"inside\", \"minus\", \"off\", \"per\",\n",
    "        \"versus\", \"via\",\n",
    "    ]))\n",
    "\n",
    "    alphaCheck = re.compile(r\"^[a-z]+$\")\n",
    "\n",
    "    POSTagToLemmaTag_Dict = {\n",
    "        \"J\" : wordnet.ADJ,\n",
    "        \"N\" : wordnet.NOUN,\n",
    "        \"V\" : wordnet.VERB,\n",
    "        \"R\" : wordnet.ADV,\n",
    "    }\n",
    "\n",
    "    return str([LemmatizerEngine.lemmatize(word, POSTagToLemmaTag_Dict[pos[0]]) for (word, pos) in nltk.pos_tag(nltk.word_tokenize(TextString.lower()))\n",
    "            if (\n",
    "                (len(word) > 1) # \n",
    "                & (alphaCheck.match(word) != None)\n",
    "                & (word not in removeWords_List)\n",
    "                & (pos[0] in [\n",
    "                    \"J\",#\"JJ\", \"JJR\", \"JJS\", # Adjectives\n",
    "                    #\"N\",#\"NN\", \"NNS\", \"NNP\", \"NNPS\", # Nouns\n",
    "                    \"R\",#\"RB\", \"RBR\", \"RBS\", # Adverbs\n",
    "                    \"V\",#\"VB\", \"VBD\", \"VBG\", \"VBN\", \"VBP\", \"VBZ\", #Verbs\n",
    "                    ])\n",
    "               )\n",
    "               ])\n",
    "\n",
    "def GetPrincipalWordCounts(DataFrame, TextColumnName):\n",
    "    from sklearn.feature_extraction.text import CountVectorizer\n",
    "    from datetime import datetime # For debugging performance data\n",
    "\n",
    "    Vectorizer = CountVectorizer(lowercase = False, strip_accents = \"ascii\", preprocessor = FilterForKeyWords,\n",
    "                                 min_df = 0.005, ngram_range = (1, 3),\n",
    "                                )\n",
    "    startTime = datetime.now() # For debugging performance data\n",
    "\n",
    "    # Filter out unwanted words in each row, then create count columns for remaining words \n",
    "    WordCounts = pd.DataFrame(\n",
    "        Vectorizer.fit_transform(DataFrame[TextColumnName]).toarray(), \n",
    "        columns=Vectorizer.get_feature_names(), \n",
    "        dtype = \"uint8\",\n",
    "    )\n",
    "\n",
    "    print(str(datetime.now() - startTime)) # For debugging performance data\n",
    "\n",
    "    print(WordCounts.info())\n",
    "    return WordCounts\n",
    "\n",
    "def GetTFIDF(TextMatrix):\n",
    "    return"
   ]
  },
  {
   "cell_type": "code",
   "execution_count": null,
   "metadata": {},
   "outputs": [],
   "source": []
  },
  {
   "cell_type": "code",
   "execution_count": null,
   "metadata": {},
   "outputs": [],
   "source": []
  },
  {
   "cell_type": "code",
   "execution_count": 61,
   "metadata": {},
   "outputs": [
    {
     "name": "stdout",
     "output_type": "stream",
     "text": [
      "<class 'pandas.core.frame.DataFrame'>\n",
      "Int64Index: 110815 entries, 0 to 110814\n",
      "Data columns (total 9 columns):\n",
      "Status                 110815 non-null uint8\n",
      "Duration(Days)         110815 non-null uint8\n",
      "Category               110815 non-null object\n",
      "Subcategory            110815 non-null object\n",
      "OverallCategory        110815 non-null object\n",
      "FundingGoal            110815 non-null float64\n",
      "Country                110815 non-null object\n",
      "Name_WordCount         110815 non-null uint8\n",
      "Name_SentimentValue    110815 non-null float64\n",
      "dtypes: float64(2), object(4), uint8(3)\n",
      "memory usage: 6.2+ MB\n"
     ]
    }
   ],
   "source": [
    "ProcessedData.info()"
   ]
  },
  {
   "cell_type": "code",
   "execution_count": 62,
   "metadata": {},
   "outputs": [
    {
     "data": {
      "text/html": [
       "<div>\n",
       "<style scoped>\n",
       "    .dataframe tbody tr th:only-of-type {\n",
       "        vertical-align: middle;\n",
       "    }\n",
       "\n",
       "    .dataframe tbody tr th {\n",
       "        vertical-align: top;\n",
       "    }\n",
       "\n",
       "    .dataframe thead th {\n",
       "        text-align: right;\n",
       "    }\n",
       "</style>\n",
       "<table border=\"1\" class=\"dataframe\">\n",
       "  <thead>\n",
       "    <tr style=\"text-align: right;\">\n",
       "      <th></th>\n",
       "      <th>Status</th>\n",
       "      <th>Duration(Days)</th>\n",
       "      <th>FundingGoal</th>\n",
       "      <th>Name_WordCount</th>\n",
       "      <th>Name_SentimentValue</th>\n",
       "    </tr>\n",
       "  </thead>\n",
       "  <tbody>\n",
       "    <tr>\n",
       "      <th>count</th>\n",
       "      <td>110815.000000</td>\n",
       "      <td>110815.000000</td>\n",
       "      <td>1.108150e+05</td>\n",
       "      <td>110815.000000</td>\n",
       "      <td>110815.000000</td>\n",
       "    </tr>\n",
       "    <tr>\n",
       "      <th>mean</th>\n",
       "      <td>0.341398</td>\n",
       "      <td>33.157849</td>\n",
       "      <td>5.388820e+04</td>\n",
       "      <td>6.333908</td>\n",
       "      <td>0.045917</td>\n",
       "    </tr>\n",
       "    <tr>\n",
       "      <th>std</th>\n",
       "      <td>0.474181</td>\n",
       "      <td>11.640541</td>\n",
       "      <td>1.271062e+06</td>\n",
       "      <td>3.218028</td>\n",
       "      <td>0.208649</td>\n",
       "    </tr>\n",
       "    <tr>\n",
       "      <th>min</th>\n",
       "      <td>0.000000</td>\n",
       "      <td>1.000000</td>\n",
       "      <td>4.900000e-01</td>\n",
       "      <td>0.000000</td>\n",
       "      <td>-1.000000</td>\n",
       "    </tr>\n",
       "    <tr>\n",
       "      <th>25%</th>\n",
       "      <td>0.000000</td>\n",
       "      <td>30.000000</td>\n",
       "      <td>2.000000e+03</td>\n",
       "      <td>4.000000</td>\n",
       "      <td>0.000000</td>\n",
       "    </tr>\n",
       "    <tr>\n",
       "      <th>50%</th>\n",
       "      <td>0.000000</td>\n",
       "      <td>30.000000</td>\n",
       "      <td>6.214070e+03</td>\n",
       "      <td>6.000000</td>\n",
       "      <td>0.000000</td>\n",
       "    </tr>\n",
       "    <tr>\n",
       "      <th>75%</th>\n",
       "      <td>1.000000</td>\n",
       "      <td>35.000000</td>\n",
       "      <td>2.000000e+04</td>\n",
       "      <td>9.000000</td>\n",
       "      <td>0.000000</td>\n",
       "    </tr>\n",
       "    <tr>\n",
       "      <th>max</th>\n",
       "      <td>1.000000</td>\n",
       "      <td>90.000000</td>\n",
       "      <td>1.073699e+08</td>\n",
       "      <td>31.000000</td>\n",
       "      <td>1.000000</td>\n",
       "    </tr>\n",
       "  </tbody>\n",
       "</table>\n",
       "</div>"
      ],
      "text/plain": [
       "              Status  Duration(Days)   FundingGoal  Name_WordCount  \\\n",
       "count  110815.000000   110815.000000  1.108150e+05   110815.000000   \n",
       "mean        0.341398       33.157849  5.388820e+04        6.333908   \n",
       "std         0.474181       11.640541  1.271062e+06        3.218028   \n",
       "min         0.000000        1.000000  4.900000e-01        0.000000   \n",
       "25%         0.000000       30.000000  2.000000e+03        4.000000   \n",
       "50%         0.000000       30.000000  6.214070e+03        6.000000   \n",
       "75%         1.000000       35.000000  2.000000e+04        9.000000   \n",
       "max         1.000000       90.000000  1.073699e+08       31.000000   \n",
       "\n",
       "       Name_SentimentValue  \n",
       "count        110815.000000  \n",
       "mean              0.045917  \n",
       "std               0.208649  \n",
       "min              -1.000000  \n",
       "25%               0.000000  \n",
       "50%               0.000000  \n",
       "75%               0.000000  \n",
       "max               1.000000  "
      ]
     },
     "execution_count": 62,
     "metadata": {},
     "output_type": "execute_result"
    }
   ],
   "source": [
    "ProcessedData.describe()"
   ]
  },
  {
   "cell_type": "code",
   "execution_count": null,
   "metadata": {},
   "outputs": [],
   "source": []
  }
 ],
 "metadata": {
  "kernelspec": {
   "display_name": "Python 3",
   "language": "python",
   "name": "python3"
  },
  "language_info": {
   "codemirror_mode": {
    "name": "ipython",
    "version": 3
   },
   "file_extension": ".py",
   "mimetype": "text/x-python",
   "name": "python",
   "nbconvert_exporter": "python",
   "pygments_lexer": "ipython3",
   "version": "3.7.6"
  }
 },
 "nbformat": 4,
 "nbformat_minor": 2
}
