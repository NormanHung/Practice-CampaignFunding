{
 "cells": [
  {
   "cell_type": "markdown",
   "metadata": {},
   "source": [
    "# Data Load"
   ]
  },
  {
   "cell_type": "code",
   "execution_count": 1,
   "metadata": {},
   "outputs": [
    {
     "data": {
      "text/html": [
       "<div>\n",
       "<style scoped>\n",
       "    .dataframe tbody tr th:only-of-type {\n",
       "        vertical-align: middle;\n",
       "    }\n",
       "\n",
       "    .dataframe tbody tr th {\n",
       "        vertical-align: top;\n",
       "    }\n",
       "\n",
       "    .dataframe thead th {\n",
       "        text-align: right;\n",
       "    }\n",
       "</style>\n",
       "<table border=\"1\" class=\"dataframe\">\n",
       "  <thead>\n",
       "    <tr style=\"text-align: right;\">\n",
       "      <th></th>\n",
       "      <th>ID</th>\n",
       "      <th>name</th>\n",
       "      <th>category</th>\n",
       "      <th>main_category</th>\n",
       "      <th>currency</th>\n",
       "      <th>deadline</th>\n",
       "      <th>goal</th>\n",
       "      <th>launched</th>\n",
       "      <th>pledged</th>\n",
       "      <th>state</th>\n",
       "      <th>backers</th>\n",
       "      <th>country</th>\n",
       "      <th>usd pledged</th>\n",
       "      <th>usd_pledged_real</th>\n",
       "      <th>usd_goal_real</th>\n",
       "    </tr>\n",
       "  </thead>\n",
       "  <tbody>\n",
       "    <tr>\n",
       "      <th>0</th>\n",
       "      <td>1015685046</td>\n",
       "      <td>Organic Tattoo remains 10 days (Self use &amp; cus...</td>\n",
       "      <td>Accessories</td>\n",
       "      <td>Fashion</td>\n",
       "      <td>CAD</td>\n",
       "      <td>1/1/2016</td>\n",
       "      <td>6000</td>\n",
       "      <td>12/7/2015 18:21</td>\n",
       "      <td>100.0</td>\n",
       "      <td>failed</td>\n",
       "      <td>2</td>\n",
       "      <td>CA</td>\n",
       "      <td>74.84</td>\n",
       "      <td>70.89</td>\n",
       "      <td>4253.51</td>\n",
       "    </tr>\n",
       "    <tr>\n",
       "      <th>1</th>\n",
       "      <td>1019043170</td>\n",
       "      <td>Handcrafted leather wallet | key holder | card...</td>\n",
       "      <td>Accessories</td>\n",
       "      <td>Fashion</td>\n",
       "      <td>EUR</td>\n",
       "      <td>1/1/2016</td>\n",
       "      <td>2000</td>\n",
       "      <td>12/11/2015 10:52</td>\n",
       "      <td>2102.0</td>\n",
       "      <td>successful</td>\n",
       "      <td>48</td>\n",
       "      <td>BE</td>\n",
       "      <td>2314.01</td>\n",
       "      <td>2282.97</td>\n",
       "      <td>2172.19</td>\n",
       "    </tr>\n",
       "    <tr>\n",
       "      <th>2</th>\n",
       "      <td>1036288991</td>\n",
       "      <td>The Liaisons:  a new twist on the old standards</td>\n",
       "      <td>Jazz</td>\n",
       "      <td>Music</td>\n",
       "      <td>USD</td>\n",
       "      <td>1/1/2016</td>\n",
       "      <td>5000</td>\n",
       "      <td>11/9/2015 20:12</td>\n",
       "      <td>5630.0</td>\n",
       "      <td>successful</td>\n",
       "      <td>116</td>\n",
       "      <td>US</td>\n",
       "      <td>5630.00</td>\n",
       "      <td>5630.00</td>\n",
       "      <td>5000.00</td>\n",
       "    </tr>\n",
       "  </tbody>\n",
       "</table>\n",
       "</div>"
      ],
      "text/plain": [
       "           ID                                               name     category  \\\n",
       "0  1015685046  Organic Tattoo remains 10 days (Self use & cus...  Accessories   \n",
       "1  1019043170  Handcrafted leather wallet | key holder | card...  Accessories   \n",
       "2  1036288991    The Liaisons:  a new twist on the old standards         Jazz   \n",
       "\n",
       "  main_category currency  deadline  goal          launched  pledged  \\\n",
       "0       Fashion      CAD  1/1/2016  6000   12/7/2015 18:21    100.0   \n",
       "1       Fashion      EUR  1/1/2016  2000  12/11/2015 10:52   2102.0   \n",
       "2         Music      USD  1/1/2016  5000   11/9/2015 20:12   5630.0   \n",
       "\n",
       "        state  backers country  usd pledged  usd_pledged_real  usd_goal_real  \n",
       "0      failed        2      CA        74.84             70.89        4253.51  \n",
       "1  successful       48      BE      2314.01           2282.97        2172.19  \n",
       "2  successful      116      US      5630.00           5630.00        5000.00  "
      ]
     },
     "execution_count": 1,
     "metadata": {},
     "output_type": "execute_result"
    }
   ],
   "source": [
    "import pandas as pd\n",
    "RawData = pd.read_csv(\"FundingProject.csv\")\n",
    "RawData.head(3)"
   ]
  },
  {
   "cell_type": "code",
   "execution_count": 2,
   "metadata": {},
   "outputs": [
    {
     "name": "stdout",
     "output_type": "stream",
     "text": [
      "<class 'pandas.core.frame.DataFrame'>\n",
      "RangeIndex: 110815 entries, 0 to 110814\n",
      "Data columns (total 15 columns):\n",
      "ID                  110815 non-null int64\n",
      "name                110814 non-null object\n",
      "category            110815 non-null object\n",
      "main_category       110815 non-null object\n",
      "currency            110815 non-null object\n",
      "deadline            110815 non-null object\n",
      "goal                110815 non-null int64\n",
      "launched            110815 non-null object\n",
      "pledged             110815 non-null float64\n",
      "state               110815 non-null object\n",
      "backers             110815 non-null int64\n",
      "country             110815 non-null object\n",
      "usd pledged         109999 non-null float64\n",
      "usd_pledged_real    110815 non-null float64\n",
      "usd_goal_real       110815 non-null float64\n",
      "dtypes: float64(4), int64(3), object(8)\n",
      "memory usage: 12.7+ MB\n"
     ]
    }
   ],
   "source": [
    "RawData.info()"
   ]
  },
  {
   "cell_type": "markdown",
   "metadata": {},
   "source": [
    "# Process Data"
   ]
  },
  {
   "cell_type": "code",
   "execution_count": 3,
   "metadata": {},
   "outputs": [],
   "source": [
    "import pandas as pd\n",
    "ProcessedData = pd.DataFrame()"
   ]
  },
  {
   "cell_type": "markdown",
   "metadata": {},
   "source": [
    "### Project status "
   ]
  },
  {
   "cell_type": "code",
   "execution_count": 4,
   "metadata": {},
   "outputs": [
    {
     "data": {
      "text/plain": [
       "count     110815\n",
       "unique         6\n",
       "top       failed\n",
       "freq       58155\n",
       "Name: state, dtype: object"
      ]
     },
     "execution_count": 4,
     "metadata": {},
     "output_type": "execute_result"
    }
   ],
   "source": [
    "RawData[\"state\"].describe()"
   ]
  },
  {
   "cell_type": "code",
   "execution_count": 5,
   "metadata": {},
   "outputs": [
    {
     "data": {
      "text/plain": [
       "failed        58155\n",
       "successful    38172\n",
       "canceled      13178\n",
       "suspended       707\n",
       "undefined       596\n",
       "live              7\n",
       "Name: state, dtype: int64"
      ]
     },
     "execution_count": 5,
     "metadata": {},
     "output_type": "execute_result"
    }
   ],
   "source": [
    "RawData[\"state\"].value_counts()"
   ]
  },
  {
   "cell_type": "code",
   "execution_count": 6,
   "metadata": {},
   "outputs": [],
   "source": [
    "# # Remap status labels to numerical values, bias starting from 2 for failures, scale to range of 1\n",
    "# # At the same time, drop rows with unrelated state values or values which cannot be processed\n",
    "# ProcessedData[\"Status\"] = RawData.loc[RawData[\"state\"].isin([\"failed\", \"successful\", \"canceled\", \"suspended\"]), \"state\"].map({\n",
    "# #    \"canceled\" : 2,\n",
    "#     \"failed\" : 2,\n",
    "# #    \"suspended\" : 2,\n",
    "#     \"successful\": 3,\n",
    "# })"
   ]
  },
  {
   "cell_type": "code",
   "execution_count": 7,
   "metadata": {},
   "outputs": [],
   "source": [
    "ProcessedData[\"Status\"] = (RawData[\"pledged\"] > RawData[\"goal\"]).astype(\"uint8\")"
   ]
  },
  {
   "cell_type": "code",
   "execution_count": 8,
   "metadata": {},
   "outputs": [
    {
     "name": "stdout",
     "output_type": "stream",
     "text": [
      "<class 'pandas.core.frame.DataFrame'>\n",
      "RangeIndex: 110815 entries, 0 to 110814\n",
      "Data columns (total 1 columns):\n",
      "Status    110815 non-null uint8\n",
      "dtypes: uint8(1)\n",
      "memory usage: 108.3 KB\n"
     ]
    }
   ],
   "source": [
    "ProcessedData.info()"
   ]
  },
  {
   "cell_type": "code",
   "execution_count": 9,
   "metadata": {},
   "outputs": [
    {
     "data": {
      "text/plain": [
       "0    72983\n",
       "1    37832\n",
       "Name: Status, dtype: int64"
      ]
     },
     "execution_count": 9,
     "metadata": {},
     "output_type": "execute_result"
    }
   ],
   "source": [
    "ProcessedData[\"Status\"].value_counts()"
   ]
  },
  {
   "cell_type": "markdown",
   "metadata": {},
   "source": [
    "### Year, Month, Day, Day of Week"
   ]
  },
  {
   "cell_type": "code",
   "execution_count": 10,
   "metadata": {},
   "outputs": [],
   "source": [
    "from datetime import datetime"
   ]
  },
  {
   "cell_type": "code",
   "execution_count": 11,
   "metadata": {},
   "outputs": [],
   "source": [
    "LaunchDates = RawData[\"launched\"].apply(lambda x: datetime.strptime(x, \"%m/%d/%Y %H:%M\"))"
   ]
  },
  {
   "cell_type": "code",
   "execution_count": 12,
   "metadata": {},
   "outputs": [],
   "source": [
    "EndDates = RawData[\"deadline\"].apply(lambda x: datetime.strptime(x, \"%m/%d/%Y\"))"
   ]
  },
  {
   "cell_type": "code",
   "execution_count": 13,
   "metadata": {},
   "outputs": [],
   "source": [
    "ProcessedData[\"YearLaunched\"] = LaunchDates.apply(lambda x: x.year).astype(\"uint16\")"
   ]
  },
  {
   "cell_type": "code",
   "execution_count": 14,
   "metadata": {},
   "outputs": [
    {
     "data": {
      "text/plain": [
       "count    110815.000000\n",
       "mean       2016.401327\n",
       "std           0.568251\n",
       "min        2015.000000\n",
       "25%        2016.000000\n",
       "50%        2016.000000\n",
       "75%        2017.000000\n",
       "max        2017.000000\n",
       "Name: YearLaunched, dtype: float64"
      ]
     },
     "execution_count": 14,
     "metadata": {},
     "output_type": "execute_result"
    }
   ],
   "source": [
    "ProcessedData[\"YearLaunched\"].describe()"
   ]
  },
  {
   "cell_type": "code",
   "execution_count": 15,
   "metadata": {},
   "outputs": [],
   "source": [
    "ProcessedData[\"MonthLaunched\"] = LaunchDates.apply(lambda x: x.month).astype(\"uint8\")"
   ]
  },
  {
   "cell_type": "code",
   "execution_count": 16,
   "metadata": {},
   "outputs": [],
   "source": [
    "ProcessedData[\"DayLaunched\"] = LaunchDates.apply(lambda x: x.day).astype(\"uint8\")"
   ]
  },
  {
   "cell_type": "code",
   "execution_count": 17,
   "metadata": {},
   "outputs": [],
   "source": [
    "ProcessedData[\"DayOfWeekLaunched\"] = LaunchDates.apply(lambda x: x.weekday()).replace(range(7), [\"Mon\", \"Tue\", \"Wed\", \"Thu\", \"Fri\", \"Sat\", \"Sun\"]).astype(\"category\")"
   ]
  },
  {
   "cell_type": "code",
   "execution_count": 18,
   "metadata": {},
   "outputs": [
    {
     "data": {
      "text/plain": [
       "Tue    23704\n",
       "Wed    19257\n",
       "Mon    18988\n",
       "Thu    16789\n",
       "Fri    15839\n",
       "Sat     9222\n",
       "Sun     7016\n",
       "Name: DayOfWeekLaunched, dtype: int64"
      ]
     },
     "execution_count": 18,
     "metadata": {},
     "output_type": "execute_result"
    }
   ],
   "source": [
    "ProcessedData[\"DayOfWeekLaunched\"].value_counts()"
   ]
  },
  {
   "cell_type": "code",
   "execution_count": 19,
   "metadata": {},
   "outputs": [
    {
     "data": {
      "text/plain": [
       "0   2015-12-07 18:21:00\n",
       "1   2015-12-11 10:52:00\n",
       "2   2015-11-09 20:12:00\n",
       "3   2015-11-24 02:08:00\n",
       "4   2015-11-17 12:30:00\n",
       "Name: launched, dtype: datetime64[ns]"
      ]
     },
     "execution_count": 19,
     "metadata": {},
     "output_type": "execute_result"
    }
   ],
   "source": [
    "LaunchDates.head()"
   ]
  },
  {
   "cell_type": "code",
   "execution_count": 20,
   "metadata": {},
   "outputs": [
    {
     "data": {
      "text/html": [
       "<div>\n",
       "<style scoped>\n",
       "    .dataframe tbody tr th:only-of-type {\n",
       "        vertical-align: middle;\n",
       "    }\n",
       "\n",
       "    .dataframe tbody tr th {\n",
       "        vertical-align: top;\n",
       "    }\n",
       "\n",
       "    .dataframe thead th {\n",
       "        text-align: right;\n",
       "    }\n",
       "</style>\n",
       "<table border=\"1\" class=\"dataframe\">\n",
       "  <thead>\n",
       "    <tr style=\"text-align: right;\">\n",
       "      <th></th>\n",
       "      <th>Status</th>\n",
       "      <th>YearLaunched</th>\n",
       "      <th>MonthLaunched</th>\n",
       "      <th>DayLaunched</th>\n",
       "      <th>DayOfWeekLaunched</th>\n",
       "    </tr>\n",
       "  </thead>\n",
       "  <tbody>\n",
       "    <tr>\n",
       "      <th>0</th>\n",
       "      <td>0</td>\n",
       "      <td>2015</td>\n",
       "      <td>12</td>\n",
       "      <td>7</td>\n",
       "      <td>Mon</td>\n",
       "    </tr>\n",
       "    <tr>\n",
       "      <th>1</th>\n",
       "      <td>1</td>\n",
       "      <td>2015</td>\n",
       "      <td>12</td>\n",
       "      <td>11</td>\n",
       "      <td>Fri</td>\n",
       "    </tr>\n",
       "    <tr>\n",
       "      <th>2</th>\n",
       "      <td>1</td>\n",
       "      <td>2015</td>\n",
       "      <td>11</td>\n",
       "      <td>9</td>\n",
       "      <td>Mon</td>\n",
       "    </tr>\n",
       "    <tr>\n",
       "      <th>3</th>\n",
       "      <td>0</td>\n",
       "      <td>2015</td>\n",
       "      <td>11</td>\n",
       "      <td>24</td>\n",
       "      <td>Tue</td>\n",
       "    </tr>\n",
       "    <tr>\n",
       "      <th>4</th>\n",
       "      <td>0</td>\n",
       "      <td>2015</td>\n",
       "      <td>11</td>\n",
       "      <td>17</td>\n",
       "      <td>Tue</td>\n",
       "    </tr>\n",
       "  </tbody>\n",
       "</table>\n",
       "</div>"
      ],
      "text/plain": [
       "   Status  YearLaunched  MonthLaunched  DayLaunched DayOfWeekLaunched\n",
       "0       0          2015             12            7               Mon\n",
       "1       1          2015             12           11               Fri\n",
       "2       1          2015             11            9               Mon\n",
       "3       0          2015             11           24               Tue\n",
       "4       0          2015             11           17               Tue"
      ]
     },
     "execution_count": 20,
     "metadata": {},
     "output_type": "execute_result"
    }
   ],
   "source": [
    "ProcessedData.head()"
   ]
  },
  {
   "cell_type": "markdown",
   "metadata": {},
   "source": [
    "### Campaign length (time)"
   ]
  },
  {
   "cell_type": "code",
   "execution_count": 21,
   "metadata": {},
   "outputs": [],
   "source": [
    "from datetime import datetime\n",
    "ProcessedData[\"Duration(Days)\"] = (EndDates - LaunchDates).apply(lambda x: x.days + 1).astype(\"uint8\")"
   ]
  },
  {
   "cell_type": "code",
   "execution_count": 22,
   "metadata": {},
   "outputs": [
    {
     "data": {
      "text/plain": [
       "count    110815.000000\n",
       "mean         33.157849\n",
       "std          11.640541\n",
       "min           1.000000\n",
       "25%          30.000000\n",
       "50%          30.000000\n",
       "75%          35.000000\n",
       "max          90.000000\n",
       "Name: Duration(Days), dtype: float64"
      ]
     },
     "execution_count": 22,
     "metadata": {},
     "output_type": "execute_result"
    }
   ],
   "source": [
    "ProcessedData[\"Duration(Days)\"].describe()"
   ]
  },
  {
   "cell_type": "code",
   "execution_count": 23,
   "metadata": {},
   "outputs": [
    {
     "data": {
      "text/plain": [
       "<matplotlib.axes._subplots.AxesSubplot at 0x1a23133a808>"
      ]
     },
     "execution_count": 23,
     "metadata": {},
     "output_type": "execute_result"
    },
    {
     "data": {
      "image/png": "[encoded data removed]",
      "text/plain": [
       "<Figure size 432x288 with 1 Axes>"
      ]
     },
     "metadata": {
      "needs_background": "light"
     },
     "output_type": "display_data"
    }
   ],
   "source": [
    "ProcessedData[\"Duration(Days)\"].hist()"
   ]
  },
  {
   "cell_type": "markdown",
   "metadata": {},
   "source": [
    "### Category and type"
   ]
  },
  {
   "cell_type": "code",
   "execution_count": 24,
   "metadata": {},
   "outputs": [],
   "source": [
    "ProcessedData[\"Category\"] = RawData[\"main_category\"].astype(\"category\")"
   ]
  },
  {
   "cell_type": "code",
   "execution_count": 25,
   "metadata": {},
   "outputs": [],
   "source": [
    "ProcessedData[\"Subcategory\"] = RawData[\"category\"].astype(\"category\")"
   ]
  },
  {
   "cell_type": "code",
   "execution_count": 26,
   "metadata": {},
   "outputs": [],
   "source": [
    "ProcessedData[\"OverallCategory\"] = (RawData[\"main_category\"] + RawData[\"category\"]).astype(\"category\")"
   ]
  },
  {
   "cell_type": "markdown",
   "metadata": {},
   "source": [
    "### Funding Goal\n",
    "Use USD for consistency"
   ]
  },
  {
   "cell_type": "code",
   "execution_count": 27,
   "metadata": {},
   "outputs": [
    {
     "data": {
      "text/plain": [
       "count    1.108150e+05\n",
       "mean     5.388820e+04\n",
       "std      1.271062e+06\n",
       "min      4.900000e-01\n",
       "25%      2.000000e+03\n",
       "50%      6.214070e+03\n",
       "75%      2.000000e+04\n",
       "max      1.073699e+08\n",
       "Name: usd_goal_real, dtype: float64"
      ]
     },
     "execution_count": 27,
     "metadata": {},
     "output_type": "execute_result"
    }
   ],
   "source": [
    "RawData[\"usd_goal_real\"].describe()"
   ]
  },
  {
   "cell_type": "code",
   "execution_count": 28,
   "metadata": {},
   "outputs": [
    {
     "data": {
      "text/plain": [
       "<matplotlib.axes._subplots.AxesSubplot at 0x1a237619588>"
      ]
     },
     "execution_count": 28,
     "metadata": {},
     "output_type": "execute_result"
    },
    {
     "data": {
      "image/png": "[encoded data removed]",
      "text/plain": [
       "<Figure size 432x288 with 1 Axes>"
      ]
     },
     "metadata": {
      "needs_background": "light"
     },
     "output_type": "display_data"
    }
   ],
   "source": [
    "RawData[\"usd_goal_real\"].hist()"
   ]
  },
  {
   "cell_type": "code",
   "execution_count": 29,
   "metadata": {},
   "outputs": [],
   "source": [
    "import numpy as np\n",
    "ProcessedData[\"log(FundingGoal)\"] = RawData[\"usd_goal_real\"].apply(np.log)"
   ]
  },
  {
   "cell_type": "code",
   "execution_count": 30,
   "metadata": {},
   "outputs": [
    {
     "data": {
      "text/plain": [
       "<matplotlib.axes._subplots.AxesSubplot at 0x1a2359bbcc8>"
      ]
     },
     "execution_count": 30,
     "metadata": {},
     "output_type": "execute_result"
    },
    {
     "data": {
      "image/png": "[encoded data removed]",
      "text/plain": [
       "<Figure size 432x288 with 1 Axes>"
      ]
     },
     "metadata": {
      "needs_background": "light"
     },
     "output_type": "display_data"
    }
   ],
   "source": [
    "ProcessedData[\"log(FundingGoal)\"].hist()"
   ]
  },
  {
   "cell_type": "markdown",
   "metadata": {},
   "source": [
    "### Countries"
   ]
  },
  {
   "cell_type": "code",
   "execution_count": 31,
   "metadata": {},
   "outputs": [
    {
     "data": {
      "text/plain": [
       "US      71905\n",
       "GB      11991\n",
       "CA       5555\n",
       "AU       3181\n",
       "DE       2865\n",
       "IT       2195\n",
       "FR       2084\n",
       "ES       1741\n",
       "MX       1633\n",
       "NL       1124\n",
       "SE        982\n",
       "N,0\"      816\n",
       "CH        611\n",
       "NZ        607\n",
       "DK        597\n",
       "HK        577\n",
       "SG        523\n",
       "IE        466\n",
       "BE        465\n",
       "AT        443\n",
       "NO        378\n",
       "LU         47\n",
       "JP         29\n",
       "Name: country, dtype: int64"
      ]
     },
     "execution_count": 31,
     "metadata": {},
     "output_type": "execute_result"
    }
   ],
   "source": [
    "RawData[\"country\"].value_counts()"
   ]
  },
  {
   "cell_type": "code",
   "execution_count": 32,
   "metadata": {},
   "outputs": [],
   "source": [
    "ProcessedData[\"Country\"] = RawData[\"country\"].replace(\"N,0\\\"\", \"NO\").map(pd.read_csv(\"CountryCodes.csv\").set_index(\"Code\")[\"Name\"].to_dict()).astype(\"category\")"
   ]
  },
  {
   "cell_type": "code",
   "execution_count": 33,
   "metadata": {},
   "outputs": [
    {
     "data": {
      "text/plain": [
       "United States     71905\n",
       "United Kingdom    11991\n",
       "Canada             5555\n",
       "Australia          3181\n",
       "Germany            2865\n",
       "Italy              2195\n",
       "France             2084\n",
       "Spain              1741\n",
       "Mexico             1633\n",
       "Norway             1194\n",
       "Netherlands        1124\n",
       "Sweden              982\n",
       "Switzerland         611\n",
       "New Zealand         607\n",
       "Denmark             597\n",
       "Hong Kong           577\n",
       "Singapore           523\n",
       "Ireland             466\n",
       "Belgium             465\n",
       "Austria             443\n",
       "Luxembourg           47\n",
       "Japan                29\n",
       "Name: Country, dtype: int64"
      ]
     },
     "execution_count": 33,
     "metadata": {},
     "output_type": "execute_result"
    }
   ],
   "source": [
    "ProcessedData[\"Country\"].value_counts()"
   ]
  },
  {
   "cell_type": "code",
   "execution_count": 34,
   "metadata": {},
   "outputs": [],
   "source": [
    "# This kinda begs the question because the pledged amount determines success\n",
    "#ProcessedData[\"FundingRate(USD/Day)\"] = RawData[\"usd_pledged_real\"] / ProcessedData[\"Duration(Days)\"]"
   ]
  },
  {
   "cell_type": "markdown",
   "metadata": {},
   "source": [
    "# Drop extra data"
   ]
  },
  {
   "cell_type": "code",
   "execution_count": 35,
   "metadata": {},
   "outputs": [],
   "source": [
    "def ShowCorrelationHeatmap(DataFrame, FigureSize = (10, 10)):\n",
    "    import matplotlib.pyplot as plt\n",
    "    import seaborn as sns\n",
    "    %matplotlib inline\n",
    "    \n",
    "    plt.close()\n",
    "    axes = plt.figure(figsize = FigureSize).add_subplot(111)\n",
    "    sns.heatmap(pd.DataFrame(DataFrame.corr(method = \"spearman\")[\"Status\"]).T, annot = True)\n",
    "\n",
    "    # Fix for cutoff top and bottom (Apparently bug with matplotlib version 3.1.1)\n",
    "    bottom, top = plt.ylim()\n",
    "    plt.ylim(bottom + 0.5, top - 0.5)\n",
    "\n",
    "    plt.show()"
   ]
  },
  {
   "cell_type": "code",
   "execution_count": 36,
   "metadata": {
    "scrolled": true
   },
   "outputs": [
    {
     "data": {
      "image/png": "[encoded data removed]",
      "text/plain": [
       "<Figure size 1080x216 with 2 Axes>"
      ]
     },
     "metadata": {
      "needs_background": "light"
     },
     "output_type": "display_data"
    }
   ],
   "source": [
    "ShowCorrelationHeatmap(ProcessedData, FigureSize = (15, 3))"
   ]
  },
  {
   "cell_type": "code",
   "execution_count": 37,
   "metadata": {},
   "outputs": [],
   "source": [
    "#ProcessedData.drop([\"Subcategory\", \"OverallCategory\", \"Country\"], axis = 1, inplace = True)"
   ]
  },
  {
   "cell_type": "markdown",
   "metadata": {},
   "source": [
    "# Modeling"
   ]
  },
  {
   "cell_type": "code",
   "execution_count": 38,
   "metadata": {},
   "outputs": [
    {
     "name": "stdout",
     "output_type": "stream",
     "text": [
      "<class 'pandas.core.frame.DataFrame'>\n",
      "RangeIndex: 110815 entries, 0 to 110814\n",
      "Data columns (total 11 columns):\n",
      "Status               110815 non-null uint8\n",
      "YearLaunched         110815 non-null uint16\n",
      "MonthLaunched        110815 non-null uint8\n",
      "DayLaunched          110815 non-null uint8\n",
      "DayOfWeekLaunched    110815 non-null category\n",
      "Duration(Days)       110815 non-null uint8\n",
      "Category             110815 non-null category\n",
      "Subcategory          110815 non-null category\n",
      "OverallCategory      110815 non-null category\n",
      "log(FundingGoal)     110815 non-null float64\n",
      "Country              110815 non-null category\n",
      "dtypes: category(5), float64(1), uint16(1), uint8(4)\n",
      "memory usage: 2.2 MB\n"
     ]
    }
   ],
   "source": [
    "ProcessedData.info()"
   ]
  },
  {
   "cell_type": "code",
   "execution_count": 39,
   "metadata": {},
   "outputs": [],
   "source": [
    "ProcessedData.dropna(inplace = True)"
   ]
  },
  {
   "cell_type": "code",
   "execution_count": 40,
   "metadata": {},
   "outputs": [
    {
     "name": "stdout",
     "output_type": "stream",
     "text": [
      "<class 'pandas.core.frame.DataFrame'>\n",
      "Int64Index: 110815 entries, 0 to 110814\n",
      "Data columns (total 11 columns):\n",
      "Status               110815 non-null uint8\n",
      "YearLaunched         110815 non-null uint16\n",
      "MonthLaunched        110815 non-null uint8\n",
      "DayLaunched          110815 non-null uint8\n",
      "DayOfWeekLaunched    110815 non-null category\n",
      "Duration(Days)       110815 non-null uint8\n",
      "Category             110815 non-null category\n",
      "Subcategory          110815 non-null category\n",
      "OverallCategory      110815 non-null category\n",
      "log(FundingGoal)     110815 non-null float64\n",
      "Country              110815 non-null category\n",
      "dtypes: category(5), float64(1), uint16(1), uint8(4)\n",
      "memory usage: 3.1 MB\n"
     ]
    }
   ],
   "source": [
    "ProcessedData.info()"
   ]
  },
  {
   "cell_type": "code",
   "execution_count": 41,
   "metadata": {},
   "outputs": [
    {
     "data": {
      "text/plain": [
       "0    72983\n",
       "1    37832\n",
       "Name: Status, dtype: int64"
      ]
     },
     "execution_count": 41,
     "metadata": {},
     "output_type": "execute_result"
    }
   ],
   "source": [
    "ProcessedData[\"Status\"].value_counts()"
   ]
  },
  {
   "cell_type": "code",
   "execution_count": 42,
   "metadata": {
    "scrolled": true
   },
   "outputs": [
    {
     "name": "stdout",
     "output_type": "stream",
     "text": [
      "Status : 110813  -  0\n",
      "YearLaunched : 110812  -  0\n",
      "MonthLaunched : 110803  -  0\n",
      "DayLaunched : 110784  -  0\n",
      "DayOfWeekLaunched : 110808  -  0\n",
      "Duration(Days) : 110750  -  0\n",
      "Category : 110800  -  0\n",
      "Subcategory : 110656  -  0\n",
      "OverallCategory : 110645  -  0\n",
      "log(FundingGoal) : 86654  -  0\n",
      "Country : 110793  -  0\n"
     ]
    }
   ],
   "source": [
    "# Show dupes and null counts per column\n",
    "for column in ProcessedData.columns.to_list():\n",
    "    print(column, \":\", ProcessedData[column].duplicated().sum(), \" - \" , ProcessedData[column].isnull().sum())"
   ]
  },
  {
   "cell_type": "markdown",
   "metadata": {},
   "source": [
    "## Generate baseline model without using title field"
   ]
  },
  {
   "cell_type": "code",
   "execution_count": 43,
   "metadata": {},
   "outputs": [],
   "source": [
    "from sklearn.ensemble import GradientBoostingClassifier, RandomForestClassifier, ExtraTreesClassifier\n",
    "from sklearn.tree import DecisionTreeClassifier\n",
    "from xgboost import XGBClassifier\n",
    "from sklearn.naive_bayes import GaussianNB, BernoulliNB, MultinomialNB\n",
    "\n",
    "def AssessClassifierModels(TrainingDataColumns, TrainingDataResults, TestingDataColumns, TestingDataResults, Models_List):\n",
    "    from datetime import datetime\n",
    "    import pandas as pd\n",
    "    from sklearn.metrics import accuracy_score, precision_score, recall_score, f1_score, confusion_matrix\n",
    "\n",
    "    results_list = pd.DataFrame()\n",
    "    \n",
    "    for modelClass in Models_List:\n",
    "        startTime = datetime.now()\n",
    "        print(\"Starting \" + str(modelClass.__name__) + \" at \" + str(startTime))\n",
    "        \n",
    "        model = modelClass()\n",
    "        model.fit(TrainingDataColumns, TrainingDataResults)\n",
    "        predictions = model.predict(TestingDataColumns)\n",
    "        \n",
    "        endTime = datetime.now()\n",
    "        positiveValue = TestingDataResults.max()\n",
    "\n",
    "        results_list = results_list.append({\n",
    "            \"Name\" : modelClass.__name__,\n",
    "            \"F1\": f1_score(TestingDataResults, predictions, pos_label = positiveValue),\n",
    "            \"Accuracy\": accuracy_score(TestingDataResults, predictions),\n",
    "            \"Precision\": precision_score(TestingDataResults, predictions, pos_label = positiveValue),\n",
    "            \"Recall\" : recall_score(TestingDataResults, predictions, pos_label = positiveValue),\n",
    "            \"RunTime\" : str(endTime - startTime),\n",
    "            \"ConfusionMatrix\" : confusion_matrix(TestingDataResults, predictions),\n",
    "            \"ModelObject\": model,\n",
    "        }, ignore_index = True)\n",
    "    \n",
    "    results_list.sort_values(\"F1\", ascending = False, inplace = True)\n",
    "    \n",
    "    return results_list"
   ]
  },
  {
   "cell_type": "code",
   "execution_count": 44,
   "metadata": {},
   "outputs": [],
   "source": [
    "from sklearn.linear_model import LinearRegression, Ridge, Lasso, ElasticNet\n",
    "from sklearn.tree import ExtraTreeRegressor\n",
    "from sklearn.ensemble import GradientBoostingRegressor\n",
    "from xgboost import XGBRegressor\n",
    "\n",
    "def AssessRegressorModels(TrainingDataColumns, TrainingDataResults, TestingDataColumns, TestingDataResults, Models_List):\n",
    "    from datetime import datetime\n",
    "    import pandas as pd\n",
    "    from sklearn.metrics import r2_score, mean_squared_error, mean_absolute_error\n",
    "    \n",
    "    results_list = pd.DataFrame()\n",
    "    \n",
    "    for modelClass in Models_List:\n",
    "        model = modelClass()\n",
    "        startTime = datetime.now()\n",
    "        print(\"Starting \" + str(modelClass.__name__) + \" at \" + str(startTime))\n",
    "        \n",
    "        model.fit(TrainingDataColumns, TrainingDataResults)\n",
    "        predictions = model.predict(TestingDataColumns)\n",
    "        \n",
    "        endTime = datetime.now()\n",
    "\n",
    "        results_list = results_list.append(pd.DataFrame(data = {\n",
    "            \"Name\" : modelClass.__name__,\n",
    "            \"R2Score\" : r2_score(TestingDataResults, predictions),\n",
    "            \"RMSE\" : mean_squared_error(TestingDataResults, predictions)**0.5,\n",
    "            \"MAE\" : mean_absolute_error(TestingDataResults, predictions),\n",
    "            \"RunTime\" : str(endTime - startTime),\n",
    "            \"ModelObject\" : [model],\n",
    "        }), ignore_index = True)\n",
    "    \n",
    "    results_list.sort_values(\"R2Score\", inplace = True, ascending = False)\n",
    "    \n",
    "    return results_list"
   ]
  },
  {
   "cell_type": "code",
   "execution_count": 45,
   "metadata": {},
   "outputs": [
    {
     "name": "stdout",
     "output_type": "stream",
     "text": [
      "2020-02-08 07:07:42.732055\n"
     ]
    }
   ],
   "source": [
    "print(datetime.now())"
   ]
  },
  {
   "cell_type": "code",
   "execution_count": 46,
   "metadata": {},
   "outputs": [],
   "source": [
    "TrainingData = pd.get_dummies(ProcessedData, drop_first = True)"
   ]
  },
  {
   "cell_type": "code",
   "execution_count": 47,
   "metadata": {},
   "outputs": [
    {
     "name": "stdout",
     "output_type": "stream",
     "text": [
      "<class 'pandas.core.frame.DataFrame'>\n",
      "Int64Index: 110815 entries, 0 to 110814\n",
      "Columns: 374 entries, Status to Country_United States\n",
      "dtypes: float64(1), uint16(1), uint8(372)\n",
      "memory usage: 41.2 MB\n"
     ]
    }
   ],
   "source": [
    "TrainingData.info()"
   ]
  },
  {
   "cell_type": "code",
   "execution_count": 48,
   "metadata": {},
   "outputs": [
    {
     "name": "stdout",
     "output_type": "stream",
     "text": [
      "2020-02-08 07:07:42.971892\n"
     ]
    }
   ],
   "source": [
    "print(datetime.now())"
   ]
  },
  {
   "cell_type": "code",
   "execution_count": 49,
   "metadata": {},
   "outputs": [],
   "source": [
    "from sklearn.model_selection import train_test_split\n",
    "Train_X, Test_X, Train_Y, Test_Y = train_test_split(TrainingData.drop(\"Status\", axis = 1), TrainingData[\"Status\"], test_size = 0.2, random_state = 13)"
   ]
  },
  {
   "cell_type": "code",
   "execution_count": 50,
   "metadata": {},
   "outputs": [
    {
     "name": "stdout",
     "output_type": "stream",
     "text": [
      "2020-02-08 07:07:43.174009\n"
     ]
    }
   ],
   "source": [
    "print(datetime.now())"
   ]
  },
  {
   "cell_type": "code",
   "execution_count": 51,
   "metadata": {},
   "outputs": [
    {
     "name": "stdout",
     "output_type": "stream",
     "text": [
      "Starting LinearRegression at 2020-02-08 07:07:43.208170\n",
      "Starting Ridge at 2020-02-08 07:07:44.747282\n",
      "Starting Lasso at 2020-02-08 07:07:45.421369\n",
      "Starting ExtraTreeRegressor at 2020-02-08 07:07:46.119297\n",
      "Starting ElasticNet at 2020-02-08 07:07:51.814388\n",
      "Starting GradientBoostingRegressor at 2020-02-08 07:07:52.473261\n",
      "Starting XGBRegressor at 2020-02-08 07:08:56.310602\n"
     ]
    },
    {
     "name": "stderr",
     "output_type": "stream",
     "text": [
      "C:\\Users\\root\\.conda\\envs\\DataScience\\lib\\site-packages\\xgboost\\core.py:587: FutureWarning: Series.base is deprecated and will be removed in a future version\n",
      "  if getattr(data, 'base', None) is not None and \\\n"
     ]
    },
    {
     "name": "stdout",
     "output_type": "stream",
     "text": [
      "[07:08:56] WARNING: src/objective/regression_obj.cu:152: reg:linear is now deprecated in favor of reg:squarederror.\n"
     ]
    }
   ],
   "source": [
    "RegressorResults_List = AssessRegressorModels(Train_X, Train_Y, Test_X, Test_Y, [LinearRegression, Ridge, Lasso, ExtraTreeRegressor, ElasticNet, GradientBoostingRegressor, XGBRegressor])"
   ]
  },
  {
   "cell_type": "code",
   "execution_count": 52,
   "metadata": {
    "scrolled": true
   },
   "outputs": [
    {
     "data": {
      "text/html": [
       "<div>\n",
       "<style scoped>\n",
       "    .dataframe tbody tr th:only-of-type {\n",
       "        vertical-align: middle;\n",
       "    }\n",
       "\n",
       "    .dataframe tbody tr th {\n",
       "        vertical-align: top;\n",
       "    }\n",
       "\n",
       "    .dataframe thead th {\n",
       "        text-align: right;\n",
       "    }\n",
       "</style>\n",
       "<table border=\"1\" class=\"dataframe\">\n",
       "  <thead>\n",
       "    <tr style=\"text-align: right;\">\n",
       "      <th></th>\n",
       "      <th>Name</th>\n",
       "      <th>R2Score</th>\n",
       "      <th>RMSE</th>\n",
       "      <th>MAE</th>\n",
       "      <th>RunTime</th>\n",
       "      <th>ModelObject</th>\n",
       "    </tr>\n",
       "  </thead>\n",
       "  <tbody>\n",
       "    <tr>\n",
       "      <th>5</th>\n",
       "      <td>GradientBoostingRegressor</td>\n",
       "      <td>0.153409</td>\n",
       "      <td>0.435883</td>\n",
       "      <td>0.392403</td>\n",
       "      <td>0:01:03.832422</td>\n",
       "      <td>([DecisionTreeRegressor(ccp_alpha=0....</td>\n",
       "    </tr>\n",
       "    <tr>\n",
       "      <th>6</th>\n",
       "      <td>XGBRegressor</td>\n",
       "      <td>0.153027</td>\n",
       "      <td>0.435982</td>\n",
       "      <td>0.392314</td>\n",
       "      <td>0:00:41.302545</td>\n",
       "      <td>XGBRegressor(base_score=0.5, booster...</td>\n",
       "    </tr>\n",
       "    <tr>\n",
       "      <th>1</th>\n",
       "      <td>Ridge</td>\n",
       "      <td>0.144980</td>\n",
       "      <td>0.438048</td>\n",
       "      <td>0.386151</td>\n",
       "      <td>0:00:00.668470</td>\n",
       "      <td>Ridge(alpha=1.0, copy_X=True, fit_in...</td>\n",
       "    </tr>\n",
       "    <tr>\n",
       "      <th>0</th>\n",
       "      <td>LinearRegression</td>\n",
       "      <td>0.144954</td>\n",
       "      <td>0.438055</td>\n",
       "      <td>0.386135</td>\n",
       "      <td>0:00:01.534200</td>\n",
       "      <td>LinearRegression(copy_X=True, fit_in...</td>\n",
       "    </tr>\n",
       "    <tr>\n",
       "      <th>4</th>\n",
       "      <td>ElasticNet</td>\n",
       "      <td>0.012856</td>\n",
       "      <td>0.470678</td>\n",
       "      <td>0.445817</td>\n",
       "      <td>0:00:00.654733</td>\n",
       "      <td>ElasticNet(alpha=1.0, copy_X=True, f...</td>\n",
       "    </tr>\n",
       "    <tr>\n",
       "      <th>2</th>\n",
       "      <td>Lasso</td>\n",
       "      <td>-0.000012</td>\n",
       "      <td>0.473736</td>\n",
       "      <td>0.449376</td>\n",
       "      <td>0:00:00.693719</td>\n",
       "      <td>Lasso(alpha=1.0, copy_X=True, fit_in...</td>\n",
       "    </tr>\n",
       "    <tr>\n",
       "      <th>3</th>\n",
       "      <td>ExtraTreeRegressor</td>\n",
       "      <td>-0.601758</td>\n",
       "      <td>0.599559</td>\n",
       "      <td>0.360105</td>\n",
       "      <td>0:00:05.689572</td>\n",
       "      <td>ExtraTreeRegressor(ccp_alpha=0.0, cr...</td>\n",
       "    </tr>\n",
       "  </tbody>\n",
       "</table>\n",
       "</div>"
      ],
      "text/plain": [
       "                        Name   R2Score      RMSE       MAE         RunTime  \\\n",
       "5  GradientBoostingRegressor  0.153409  0.435883  0.392403  0:01:03.832422   \n",
       "6               XGBRegressor  0.153027  0.435982  0.392314  0:00:41.302545   \n",
       "1                      Ridge  0.144980  0.438048  0.386151  0:00:00.668470   \n",
       "0           LinearRegression  0.144954  0.438055  0.386135  0:00:01.534200   \n",
       "4                 ElasticNet  0.012856  0.470678  0.445817  0:00:00.654733   \n",
       "2                      Lasso -0.000012  0.473736  0.449376  0:00:00.693719   \n",
       "3         ExtraTreeRegressor -0.601758  0.599559  0.360105  0:00:05.689572   \n",
       "\n",
       "                               ModelObject  \n",
       "5  ([DecisionTreeRegressor(ccp_alpha=0....  \n",
       "6  XGBRegressor(base_score=0.5, booster...  \n",
       "1  Ridge(alpha=1.0, copy_X=True, fit_in...  \n",
       "0  LinearRegression(copy_X=True, fit_in...  \n",
       "4  ElasticNet(alpha=1.0, copy_X=True, f...  \n",
       "2  Lasso(alpha=1.0, copy_X=True, fit_in...  \n",
       "3  ExtraTreeRegressor(ccp_alpha=0.0, cr...  "
      ]
     },
     "metadata": {},
     "output_type": "display_data"
    }
   ],
   "source": [
    "with pd.option_context(\"display.max_columns\", None, \"display.max_rows\", None, \"display.max_colwidth\", 40):\n",
    "    display(RegressorResults_List)"
   ]
  },
  {
   "cell_type": "code",
   "execution_count": 53,
   "metadata": {},
   "outputs": [
    {
     "name": "stdout",
     "output_type": "stream",
     "text": [
      "2020-02-08 07:09:37.704789\n"
     ]
    }
   ],
   "source": [
    "print(datetime.now())"
   ]
  },
  {
   "cell_type": "code",
   "execution_count": 54,
   "metadata": {
    "scrolled": false
   },
   "outputs": [
    {
     "data": {
      "text/html": [
       "<div>\n",
       "<style scoped>\n",
       "    .dataframe tbody tr th:only-of-type {\n",
       "        vertical-align: middle;\n",
       "    }\n",
       "\n",
       "    .dataframe tbody tr th {\n",
       "        vertical-align: top;\n",
       "    }\n",
       "\n",
       "    .dataframe thead th {\n",
       "        text-align: right;\n",
       "    }\n",
       "</style>\n",
       "<table border=\"1\" class=\"dataframe\">\n",
       "  <thead>\n",
       "    <tr style=\"text-align: right;\">\n",
       "      <th></th>\n",
       "      <th>Names</th>\n",
       "      <th>Weight</th>\n",
       "    </tr>\n",
       "  </thead>\n",
       "  <tbody>\n",
       "    <tr>\n",
       "      <th>11</th>\n",
       "      <td>Category_Comics</td>\n",
       "      <td>0.061704</td>\n",
       "    </tr>\n",
       "    <tr>\n",
       "      <th>160</th>\n",
       "      <td>Subcategory_Tabletop Games</td>\n",
       "      <td>0.058552</td>\n",
       "    </tr>\n",
       "    <tr>\n",
       "      <th>32</th>\n",
       "      <td>Subcategory_Apps</td>\n",
       "      <td>0.052095</td>\n",
       "    </tr>\n",
       "    <tr>\n",
       "      <th>15</th>\n",
       "      <td>Category_Fashion</td>\n",
       "      <td>0.034679</td>\n",
       "    </tr>\n",
       "    <tr>\n",
       "      <th>4</th>\n",
       "      <td>log(FundingGoal)</td>\n",
       "      <td>0.033778</td>\n",
       "    </tr>\n",
       "    <tr>\n",
       "      <th>...</th>\n",
       "      <td>...</td>\n",
       "      <td>...</td>\n",
       "    </tr>\n",
       "    <tr>\n",
       "      <th>162</th>\n",
       "      <td>Subcategory_Technology</td>\n",
       "      <td>0.000000</td>\n",
       "    </tr>\n",
       "    <tr>\n",
       "      <th>161</th>\n",
       "      <td>Subcategory_Taxidermy</td>\n",
       "      <td>0.000000</td>\n",
       "    </tr>\n",
       "    <tr>\n",
       "      <th>159</th>\n",
       "      <td>Subcategory_Stationery</td>\n",
       "      <td>0.000000</td>\n",
       "    </tr>\n",
       "    <tr>\n",
       "      <th>157</th>\n",
       "      <td>Subcategory_Space Exploration</td>\n",
       "      <td>0.000000</td>\n",
       "    </tr>\n",
       "    <tr>\n",
       "      <th>186</th>\n",
       "      <td>OverallCategory_ArtIllustration</td>\n",
       "      <td>0.000000</td>\n",
       "    </tr>\n",
       "  </tbody>\n",
       "</table>\n",
       "<p>373 rows × 2 columns</p>\n",
       "</div>"
      ],
      "text/plain": [
       "                               Names    Weight\n",
       "11                   Category_Comics  0.061704\n",
       "160       Subcategory_Tabletop Games  0.058552\n",
       "32                  Subcategory_Apps  0.052095\n",
       "15                  Category_Fashion  0.034679\n",
       "4                   log(FundingGoal)  0.033778\n",
       "..                               ...       ...\n",
       "162           Subcategory_Technology  0.000000\n",
       "161            Subcategory_Taxidermy  0.000000\n",
       "159           Subcategory_Stationery  0.000000\n",
       "157    Subcategory_Space Exploration  0.000000\n",
       "186  OverallCategory_ArtIllustration  0.000000\n",
       "\n",
       "[373 rows x 2 columns]"
      ]
     },
     "metadata": {},
     "output_type": "display_data"
    }
   ],
   "source": [
    "with pd.option_context(\"display.max_columns\", None, \"display.max_rows\", 40, \"display.max_colwidth\", 80):\n",
    "    display(pd.DataFrame(data = {\n",
    "        \"Names\" : TrainingData.drop(\"Status\", axis = 1).columns.to_list(),\n",
    "        \"Weight\": (RegressorResults_List.loc[RegressorResults_List[\"Name\"] == \"XGBRegressor\", \"ModelObject\"]).iloc[0].feature_importances_,\n",
    "    }).sort_values(by=\"Weight\", ascending = False))"
   ]
  },
  {
   "cell_type": "code",
   "execution_count": 55,
   "metadata": {},
   "outputs": [
    {
     "name": "stdout",
     "output_type": "stream",
     "text": [
      "Starting GaussianNB at 2020-02-08 07:09:37.793589\n",
      "Starting BernoulliNB at 2020-02-08 07:09:38.838588\n",
      "Starting RandomForestClassifier at 2020-02-08 07:09:39.611502\n",
      "Starting DecisionTreeClassifier at 2020-02-08 07:10:33.600231\n",
      "Starting ExtraTreesClassifier at 2020-02-08 07:10:39.522601\n",
      "Starting GradientBoostingClassifier at 2020-02-08 07:11:57.270613\n",
      "Starting XGBClassifier at 2020-02-08 07:12:53.531447\n"
     ]
    }
   ],
   "source": [
    "ClassifierResults_List = AssessClassifierModels(Train_X, Train_Y, Test_X, Test_Y, [GaussianNB, BernoulliNB, RandomForestClassifier, DecisionTreeClassifier, ExtraTreesClassifier, GradientBoostingClassifier, XGBClassifier])"
   ]
  },
  {
   "cell_type": "code",
   "execution_count": 56,
   "metadata": {
    "scrolled": true
   },
   "outputs": [
    {
     "data": {
      "text/html": [
       "<div>\n",
       "<style scoped>\n",
       "    .dataframe tbody tr th:only-of-type {\n",
       "        vertical-align: middle;\n",
       "    }\n",
       "\n",
       "    .dataframe tbody tr th {\n",
       "        vertical-align: top;\n",
       "    }\n",
       "\n",
       "    .dataframe thead th {\n",
       "        text-align: right;\n",
       "    }\n",
       "</style>\n",
       "<table border=\"1\" class=\"dataframe\">\n",
       "  <thead>\n",
       "    <tr style=\"text-align: right;\">\n",
       "      <th></th>\n",
       "      <th>Accuracy</th>\n",
       "      <th>ConfusionMatrix</th>\n",
       "      <th>F1</th>\n",
       "      <th>ModelObject</th>\n",
       "      <th>Name</th>\n",
       "      <th>Precision</th>\n",
       "      <th>Recall</th>\n",
       "      <th>RunTime</th>\n",
       "    </tr>\n",
       "  </thead>\n",
       "  <tbody>\n",
       "    <tr>\n",
       "      <th>0</th>\n",
       "      <td>0.601588</td>\n",
       "      <td>[[7698, 6928], [1902, 5635]]</td>\n",
       "      <td>0.560697</td>\n",
       "      <td>GaussianNB(priors=None, var_smoothin...</td>\n",
       "      <td>GaussianNB</td>\n",
       "      <td>0.448539</td>\n",
       "      <td>0.747645</td>\n",
       "      <td>0:00:01.004505</td>\n",
       "    </tr>\n",
       "    <tr>\n",
       "      <th>1</th>\n",
       "      <td>0.669043</td>\n",
       "      <td>[[11055, 3571], [3764, 3773]]</td>\n",
       "      <td>0.507090</td>\n",
       "      <td>BernoulliNB(alpha=1.0, binarize=0.0,...</td>\n",
       "      <td>BernoulliNB</td>\n",
       "      <td>0.513753</td>\n",
       "      <td>0.500597</td>\n",
       "      <td>0:00:00.718217</td>\n",
       "    </tr>\n",
       "    <tr>\n",
       "      <th>2</th>\n",
       "      <td>0.698236</td>\n",
       "      <td>[[12416, 2210], [4478, 3059]]</td>\n",
       "      <td>0.477745</td>\n",
       "      <td>(DecisionTreeClassifier(ccp_alpha=0....</td>\n",
       "      <td>RandomForestClassifier</td>\n",
       "      <td>0.580566</td>\n",
       "      <td>0.405864</td>\n",
       "      <td>0:00:53.955059</td>\n",
       "    </tr>\n",
       "    <tr>\n",
       "      <th>4</th>\n",
       "      <td>0.680368</td>\n",
       "      <td>[[12000, 2626], [4458, 3079]]</td>\n",
       "      <td>0.465035</td>\n",
       "      <td>(ExtraTreeClassifier(ccp_alpha=0.0, ...</td>\n",
       "      <td>ExtraTreesClassifier</td>\n",
       "      <td>0.539702</td>\n",
       "      <td>0.408518</td>\n",
       "      <td>0:01:17.709644</td>\n",
       "    </tr>\n",
       "    <tr>\n",
       "      <th>3</th>\n",
       "      <td>0.635428</td>\n",
       "      <td>[[10595, 4031], [4049, 3488]]</td>\n",
       "      <td>0.463337</td>\n",
       "      <td>DecisionTreeClassifier(ccp_alpha=0.0...</td>\n",
       "      <td>DecisionTreeClassifier</td>\n",
       "      <td>0.463891</td>\n",
       "      <td>0.462784</td>\n",
       "      <td>0:00:05.889402</td>\n",
       "    </tr>\n",
       "    <tr>\n",
       "      <th>5</th>\n",
       "      <td>0.706493</td>\n",
       "      <td>[[13497, 1129], [5376, 2161]]</td>\n",
       "      <td>0.399187</td>\n",
       "      <td>([DecisionTreeRegressor(ccp_alpha=0....</td>\n",
       "      <td>GradientBoostingClassifier</td>\n",
       "      <td>0.656839</td>\n",
       "      <td>0.286719</td>\n",
       "      <td>0:00:56.226715</td>\n",
       "    </tr>\n",
       "    <tr>\n",
       "      <th>6</th>\n",
       "      <td>0.702883</td>\n",
       "      <td>[[13589, 1037], [5548, 1989]]</td>\n",
       "      <td>0.376598</td>\n",
       "      <td>XGBClassifier(base_score=0.5, booste...</td>\n",
       "      <td>XGBClassifier</td>\n",
       "      <td>0.657303</td>\n",
       "      <td>0.263898</td>\n",
       "      <td>0:00:41.101009</td>\n",
       "    </tr>\n",
       "  </tbody>\n",
       "</table>\n",
       "</div>"
      ],
      "text/plain": [
       "   Accuracy                ConfusionMatrix        F1  \\\n",
       "0  0.601588   [[7698, 6928], [1902, 5635]]  0.560697   \n",
       "1  0.669043  [[11055, 3571], [3764, 3773]]  0.507090   \n",
       "2  0.698236  [[12416, 2210], [4478, 3059]]  0.477745   \n",
       "4  0.680368  [[12000, 2626], [4458, 3079]]  0.465035   \n",
       "3  0.635428  [[10595, 4031], [4049, 3488]]  0.463337   \n",
       "5  0.706493  [[13497, 1129], [5376, 2161]]  0.399187   \n",
       "6  0.702883  [[13589, 1037], [5548, 1989]]  0.376598   \n",
       "\n",
       "                               ModelObject                        Name  \\\n",
       "0  GaussianNB(priors=None, var_smoothin...                  GaussianNB   \n",
       "1  BernoulliNB(alpha=1.0, binarize=0.0,...                 BernoulliNB   \n",
       "2  (DecisionTreeClassifier(ccp_alpha=0....      RandomForestClassifier   \n",
       "4  (ExtraTreeClassifier(ccp_alpha=0.0, ...        ExtraTreesClassifier   \n",
       "3  DecisionTreeClassifier(ccp_alpha=0.0...      DecisionTreeClassifier   \n",
       "5  ([DecisionTreeRegressor(ccp_alpha=0....  GradientBoostingClassifier   \n",
       "6  XGBClassifier(base_score=0.5, booste...               XGBClassifier   \n",
       "\n",
       "   Precision    Recall         RunTime  \n",
       "0   0.448539  0.747645  0:00:01.004505  \n",
       "1   0.513753  0.500597  0:00:00.718217  \n",
       "2   0.580566  0.405864  0:00:53.955059  \n",
       "4   0.539702  0.408518  0:01:17.709644  \n",
       "3   0.463891  0.462784  0:00:05.889402  \n",
       "5   0.656839  0.286719  0:00:56.226715  \n",
       "6   0.657303  0.263898  0:00:41.101009  "
      ]
     },
     "metadata": {},
     "output_type": "display_data"
    }
   ],
   "source": [
    "with pd.option_context(\"display.max_columns\", None, \"display.max_rows\", None, \"display.max_colwidth\", 40):\n",
    "    display(ClassifierResults_List)"
   ]
  },
  {
   "cell_type": "code",
   "execution_count": 57,
   "metadata": {
    "scrolled": false
   },
   "outputs": [
    {
     "data": {
      "text/html": [
       "<div>\n",
       "<style scoped>\n",
       "    .dataframe tbody tr th:only-of-type {\n",
       "        vertical-align: middle;\n",
       "    }\n",
       "\n",
       "    .dataframe tbody tr th {\n",
       "        vertical-align: top;\n",
       "    }\n",
       "\n",
       "    .dataframe thead th {\n",
       "        text-align: right;\n",
       "    }\n",
       "</style>\n",
       "<table border=\"1\" class=\"dataframe\">\n",
       "  <thead>\n",
       "    <tr style=\"text-align: right;\">\n",
       "      <th></th>\n",
       "      <th>Names</th>\n",
       "      <th>Weight</th>\n",
       "    </tr>\n",
       "  </thead>\n",
       "  <tbody>\n",
       "    <tr>\n",
       "      <th>23</th>\n",
       "      <td>Category_Technology</td>\n",
       "      <td>0.092903</td>\n",
       "    </tr>\n",
       "    <tr>\n",
       "      <th>11</th>\n",
       "      <td>Category_Comics</td>\n",
       "      <td>0.051321</td>\n",
       "    </tr>\n",
       "    <tr>\n",
       "      <th>32</th>\n",
       "      <td>Subcategory_Apps</td>\n",
       "      <td>0.046834</td>\n",
       "    </tr>\n",
       "    <tr>\n",
       "      <th>175</th>\n",
       "      <td>Subcategory_Web</td>\n",
       "      <td>0.041901</td>\n",
       "    </tr>\n",
       "    <tr>\n",
       "      <th>160</th>\n",
       "      <td>Subcategory_Tabletop Games</td>\n",
       "      <td>0.041757</td>\n",
       "    </tr>\n",
       "    <tr>\n",
       "      <th>3</th>\n",
       "      <td>Duration(Days)</td>\n",
       "      <td>0.034910</td>\n",
       "    </tr>\n",
       "    <tr>\n",
       "      <th>20</th>\n",
       "      <td>Category_Music</td>\n",
       "      <td>0.034021</td>\n",
       "    </tr>\n",
       "    <tr>\n",
       "      <th>4</th>\n",
       "      <td>log(FundingGoal)</td>\n",
       "      <td>0.030720</td>\n",
       "    </tr>\n",
       "    <tr>\n",
       "      <th>15</th>\n",
       "      <td>Category_Fashion</td>\n",
       "      <td>0.028858</td>\n",
       "    </tr>\n",
       "    <tr>\n",
       "      <th>92</th>\n",
       "      <td>Subcategory_Hip-Hop</td>\n",
       "      <td>0.026056</td>\n",
       "    </tr>\n",
       "    <tr>\n",
       "      <th>24</th>\n",
       "      <td>Category_Theater</td>\n",
       "      <td>0.024748</td>\n",
       "    </tr>\n",
       "    <tr>\n",
       "      <th>9</th>\n",
       "      <td>DayOfWeekLaunched_Tue</td>\n",
       "      <td>0.023564</td>\n",
       "    </tr>\n",
       "    <tr>\n",
       "      <th>54</th>\n",
       "      <td>Subcategory_Country &amp; Folk</td>\n",
       "      <td>0.021999</td>\n",
       "    </tr>\n",
       "    <tr>\n",
       "      <th>12</th>\n",
       "      <td>Category_Crafts</td>\n",
       "      <td>0.021925</td>\n",
       "    </tr>\n",
       "    <tr>\n",
       "      <th>172</th>\n",
       "      <td>Subcategory_Video Games</td>\n",
       "      <td>0.021663</td>\n",
       "    </tr>\n",
       "    <tr>\n",
       "      <th>112</th>\n",
       "      <td>Subcategory_Mobile Games</td>\n",
       "      <td>0.021042</td>\n",
       "    </tr>\n",
       "    <tr>\n",
       "      <th>360</th>\n",
       "      <td>Country_Italy</td>\n",
       "      <td>0.020329</td>\n",
       "    </tr>\n",
       "    <tr>\n",
       "      <th>17</th>\n",
       "      <td>Category_Food</td>\n",
       "      <td>0.019676</td>\n",
       "    </tr>\n",
       "    <tr>\n",
       "      <th>123</th>\n",
       "      <td>Subcategory_Performances</td>\n",
       "      <td>0.018926</td>\n",
       "    </tr>\n",
       "    <tr>\n",
       "      <th>26</th>\n",
       "      <td>Subcategory_Accessories</td>\n",
       "      <td>0.018612</td>\n",
       "    </tr>\n",
       "  </tbody>\n",
       "</table>\n",
       "</div>"
      ],
      "text/plain": [
       "                          Names    Weight\n",
       "23          Category_Technology  0.092903\n",
       "11              Category_Comics  0.051321\n",
       "32             Subcategory_Apps  0.046834\n",
       "175             Subcategory_Web  0.041901\n",
       "160  Subcategory_Tabletop Games  0.041757\n",
       "3                Duration(Days)  0.034910\n",
       "20               Category_Music  0.034021\n",
       "4              log(FundingGoal)  0.030720\n",
       "15             Category_Fashion  0.028858\n",
       "92          Subcategory_Hip-Hop  0.026056\n",
       "24             Category_Theater  0.024748\n",
       "9         DayOfWeekLaunched_Tue  0.023564\n",
       "54   Subcategory_Country & Folk  0.021999\n",
       "12              Category_Crafts  0.021925\n",
       "172     Subcategory_Video Games  0.021663\n",
       "112    Subcategory_Mobile Games  0.021042\n",
       "360               Country_Italy  0.020329\n",
       "17                Category_Food  0.019676\n",
       "123    Subcategory_Performances  0.018926\n",
       "26      Subcategory_Accessories  0.018612"
      ]
     },
     "metadata": {},
     "output_type": "display_data"
    }
   ],
   "source": [
    "with pd.option_context(\"display.max_columns\", None, \"display.max_rows\", None, \"display.max_colwidth\", 80):\n",
    "    display(pd.DataFrame(data = {\n",
    "        \"Names\" : TrainingData.drop(\"Status\", axis = 1).columns.to_list(),\n",
    "        \"Weight\": (ClassifierResults_List.loc[ClassifierResults_List[\"Name\"] == \"XGBClassifier\", \"ModelObject\"]).iloc[0].feature_importances_,\n",
    "    }).sort_values(by=\"Weight\", ascending = False).head(20))"
   ]
  },
  {
   "cell_type": "markdown",
   "metadata": {},
   "source": [
    "## Generate model using title field"
   ]
  },
  {
   "cell_type": "code",
   "execution_count": null,
   "metadata": {},
   "outputs": [],
   "source": []
  },
  {
   "cell_type": "markdown",
   "metadata": {},
   "source": [
    "### Tokenize words in title"
   ]
  },
  {
   "cell_type": "code",
   "execution_count": 58,
   "metadata": {},
   "outputs": [],
   "source": [
    "def GetWords_List(TextString):\n",
    "    import re\n",
    "    print(TextString)\n",
    "    wordCheck = re.compile(r\"[^a-zA-Z0-9]+\")\n",
    "    return [word for word in wordCheck.split(TextString) if (len(word) > 1)]"
   ]
  },
  {
   "cell_type": "code",
   "execution_count": 59,
   "metadata": {},
   "outputs": [],
   "source": [
    "import re\n",
    "wordCheck = re.compile(r\"[^a-zA-Z0-9]+\")\n",
    "ProcessedData[\"Name_WordList\"] = RawData[\"name\"].fillna(\"\").apply(lambda x: [word for word in wordCheck.split(x) if (len(word) > 1)])"
   ]
  },
  {
   "cell_type": "code",
   "execution_count": 60,
   "metadata": {},
   "outputs": [
    {
     "data": {
      "text/plain": [
       "0    [Organic, Tattoo, remains, 10, days, Self, use...\n",
       "1    [Handcrafted, leather, wallet, key, holder, ca...\n",
       "2    [The, Liaisons, new, twist, on, the, old, stan...\n",
       "3            [The, Many, Encounters, of, Bosley, Bear]\n",
       "4               [Swift, Co, Innovative, Men, Footwear]\n",
       "Name: Name_WordList, dtype: object"
      ]
     },
     "execution_count": 60,
     "metadata": {},
     "output_type": "execute_result"
    }
   ],
   "source": [
    "ProcessedData[\"Name_WordList\"].head()"
   ]
  },
  {
   "cell_type": "markdown",
   "metadata": {},
   "source": [
    "### Calculate readability / complexity / length of text\n",
    "How likely title is glossed over\n",
    "\n",
    "Flesch Kincaid?"
   ]
  },
  {
   "cell_type": "code",
   "execution_count": 61,
   "metadata": {},
   "outputs": [],
   "source": [
    "#!pip install textstat\n",
    "from textstat import flesch_reading_ease as ReadabilityScore"
   ]
  },
  {
   "cell_type": "code",
   "execution_count": 62,
   "metadata": {},
   "outputs": [
    {
     "data": {
      "text/plain": [
       "0         Organic Tattoo remains 10 days (Self use & cus...\n",
       "1         Handcrafted leather wallet | key holder | card...\n",
       "2           The Liaisons:  a new twist on the old standards\n",
       "3                        The Many Encounters of Bosley Bear\n",
       "4                    Swift & Co | Innovative Men's Footwear\n",
       "                                ...                        \n",
       "110810    Project ChArma presents Full Circle at Dance P...\n",
       "110811                              Haboob Wind - The Movie\n",
       "110812                                            Honey Pot\n",
       "110813    LOL Mugs with daily laugh and inspirational me...\n",
       "110814                  Tapagotchi - Mobile Virtual Pet RPG\n",
       "Name: name, Length: 110815, dtype: object"
      ]
     },
     "execution_count": 62,
     "metadata": {},
     "output_type": "execute_result"
    }
   ],
   "source": [
    "RawData[\"name\"]"
   ]
  },
  {
   "cell_type": "code",
   "execution_count": 63,
   "metadata": {},
   "outputs": [],
   "source": [
    "ProcessedData[\"Name_WordCount\"] = ProcessedData[\"Name_WordList\"].apply(len).astype(\"uint8\")"
   ]
  },
  {
   "cell_type": "code",
   "execution_count": 64,
   "metadata": {},
   "outputs": [
    {
     "data": {
      "text/plain": [
       "count    110815.000000\n",
       "mean          5.275775\n",
       "std           2.478234\n",
       "min           0.000000\n",
       "25%           3.000000\n",
       "50%           5.000000\n",
       "75%           7.000000\n",
       "max          14.000000\n",
       "Name: Name_WordCount, dtype: float64"
      ]
     },
     "execution_count": 64,
     "metadata": {},
     "output_type": "execute_result"
    }
   ],
   "source": [
    "ProcessedData[\"Name_WordCount\"].describe()"
   ]
  },
  {
   "cell_type": "code",
   "execution_count": 65,
   "metadata": {},
   "outputs": [],
   "source": [
    "ProcessedData[\"Name_Readability\"] = RawData[\"name\"].fillna(\"\").apply(ReadabilityScore)"
   ]
  },
  {
   "cell_type": "code",
   "execution_count": 66,
   "metadata": {},
   "outputs": [
    {
     "data": {
      "text/plain": [
       "count    110815.000000\n",
       "mean         57.993754\n",
       "std          43.448520\n",
       "min        -978.590000\n",
       "25%          35.610000\n",
       "50%          63.360000\n",
       "75%          87.720000\n",
       "max         206.840000\n",
       "Name: Name_Readability, dtype: float64"
      ]
     },
     "execution_count": 66,
     "metadata": {},
     "output_type": "execute_result"
    }
   ],
   "source": [
    "ProcessedData[\"Name_Readability\"].describe()"
   ]
  },
  {
   "cell_type": "code",
   "execution_count": 67,
   "metadata": {},
   "outputs": [
    {
     "data": {
      "text/plain": [
       "2258      A SAFER                                  USB Charger-Adaptor\n",
       "5445       CHALKUP,handchalk,workoutchalk,gym,fitnessgear,bodybuilding\n",
       "16669                                          PoliticalRevolution.net\n",
       "19076                                         #DigitalRealistStoryMode\n",
       "80861                              Vestuario//cosplay//caracterización\n",
       "87284                   OverTymeMusicRadio/FutureCommunicationsNetwork\n",
       "93042                              D.A.H.A(demon.angel.hybrid.academy)\n",
       "105543                       Mobile.Survival.Horror.Game.by.NaticaTech\n",
       "Name: name, dtype: object"
      ]
     },
     "metadata": {},
     "output_type": "display_data"
    }
   ],
   "source": [
    "with pd.option_context(\"display.max_colwidth\", 100):\n",
    "    display(RawData[ProcessedData[\"Name_Readability\"] < -500][\"name\"])"
   ]
  },
  {
   "cell_type": "markdown",
   "metadata": {},
   "source": [
    "### Calculate sentiment of each title\n",
    "How positive or optimistic titles feel"
   ]
  },
  {
   "cell_type": "code",
   "execution_count": 68,
   "metadata": {},
   "outputs": [],
   "source": [
    "def GetTextSentiment(TextString):\n",
    "    from textblob import TextBlob\n",
    "    return TextBlob(TextString).sentiment.polarity    "
   ]
  },
  {
   "cell_type": "code",
   "execution_count": 69,
   "metadata": {},
   "outputs": [],
   "source": [
    "ProcessedData[\"Name_SentimentValue\"] = RawData[\"name\"].fillna(\"\").apply(GetTextSentiment)"
   ]
  },
  {
   "cell_type": "code",
   "execution_count": 70,
   "metadata": {},
   "outputs": [
    {
     "data": {
      "text/plain": [
       "count    110815.000000\n",
       "mean          0.045917\n",
       "std           0.208649\n",
       "min          -1.000000\n",
       "25%           0.000000\n",
       "50%           0.000000\n",
       "75%           0.000000\n",
       "max           1.000000\n",
       "Name: Name_SentimentValue, dtype: float64"
      ]
     },
     "execution_count": 70,
     "metadata": {},
     "output_type": "execute_result"
    }
   ],
   "source": [
    "ProcessedData[\"Name_SentimentValue\"].describe()"
   ]
  },
  {
   "cell_type": "markdown",
   "metadata": {},
   "source": [
    "### Calculate average TD-IDF of words in each title\n",
    "How often are similar campaigns started.\n",
    "Basically reader fatigue."
   ]
  },
  {
   "cell_type": "code",
   "execution_count": 71,
   "metadata": {},
   "outputs": [],
   "source": [
    "def FilterForKeyWords(TextString):\n",
    "    import nltk\n",
    "    import re\n",
    "    from nltk.stem import WordNetLemmatizer\n",
    "    from nltk.corpus.reader import wordnet\n",
    "    from nltk.util import ngrams\n",
    "\n",
    "    LemmatizerEngine = WordNetLemmatizer()\n",
    "    removeWords_List = list(set([\n",
    "        # Prepositions\n",
    "        \"of\", \"with\", \"without\", \"at\", \"from\", \"into\", \"during\", \"including\", \"until\", \"against\", \"through\", \"throughput\",\n",
    "        \"towards\", \"to\", \"upon\", \"concerning\", \"in\", \"out\", \"for\", \"on\", \"below\", \"by\", \"over\", \"under\", \"despite\",\n",
    "        \"before\", \"after\", \"between\", \"since\", \"among\", \"along\", \"following\", \"across\", \"behind\", \"beyond\", \"except\",\n",
    "        \"but\", \"up\", \"down\", \"aboard\", \"amid\", \"as\", \"behind\", \"considering\", \"during\", \"inside\", \"minus\", \"off\", \"per\",\n",
    "        \"versus\", \"via\",\n",
    "    ]))\n",
    "\n",
    "    alphaCheck = re.compile(r\"^[a-z]+$\")\n",
    "\n",
    "    POSTagToLemmaTag_Dict = {\n",
    "        \"J\" : wordnet.ADJ,\n",
    "        \"N\" : wordnet.NOUN,\n",
    "        \"V\" : wordnet.VERB,\n",
    "        \"R\" : wordnet.ADV,\n",
    "    }\n",
    "\n",
    "    return str([LemmatizerEngine.lemmatize(word, POSTagToLemmaTag_Dict[pos[0]]) for (word, pos) in nltk.pos_tag(nltk.word_tokenize(TextString.lower()))\n",
    "            if (\n",
    "                (len(word) > 1) # \n",
    "                & (alphaCheck.match(word) != None)\n",
    "                & (word not in removeWords_List)\n",
    "                & (pos[0] in [\n",
    "                    \"J\",#\"JJ\", \"JJR\", \"JJS\", # Adjectives\n",
    "                    \"N\",#\"NN\", \"NNS\", \"NNP\", \"NNPS\", # Nouns\n",
    "                    \"R\",#\"RB\", \"RBR\", \"RBS\", # Adverbs\n",
    "                    \"V\",#\"VB\", \"VBD\", \"VBG\", \"VBN\", \"VBP\", \"VBZ\", #Verbs\n",
    "                    ])\n",
    "               )\n",
    "               ])\n",
    "\n",
    "def GetPrincipalWordCounts(DataFrame, TextColumnName):\n",
    "    from sklearn.feature_extraction.text import CountVectorizer\n",
    "    from datetime import datetime # For debugging performance data\n",
    "\n",
    "    Vectorizer = CountVectorizer(lowercase = False, strip_accents = \"ascii\", preprocessor = FilterForKeyWords,\n",
    "                                 min_df = 0.005, ngram_range = (1, 3),\n",
    "                                )\n",
    "    startTime = datetime.now() # For debugging performance data\n",
    "\n",
    "    # Filter out unwanted words in each row, then create count columns for remaining words \n",
    "    WordCounts = pd.DataFrame(\n",
    "        Vectorizer.fit_transform(DataFrame[TextColumnName]).toarray(), \n",
    "        columns=Vectorizer.get_feature_names(), \n",
    "        #dtype = \"uint8\",\n",
    "    )\n",
    "\n",
    "    return WordCounts\n",
    "\n",
    "def GetTFIDF(TextMatrix):\n",
    "    return"
   ]
  },
  {
   "cell_type": "code",
   "execution_count": 72,
   "metadata": {},
   "outputs": [
    {
     "name": "stdout",
     "output_type": "stream",
     "text": [
      "<class 'pandas.core.frame.DataFrame'>\n",
      "RangeIndex: 110815 entries, 0 to 110814\n",
      "Data columns (total 66 columns):\n",
      "Count(adventure)      110815 non-null int64\n",
      "Count(album)          110815 non-null int64\n",
      "Count(app)            110815 non-null int64\n",
      "Count(art)            110815 non-null int64\n",
      "Count(bag)            110815 non-null int64\n",
      "Count(be)             110815 non-null int64\n",
      "Count(best)           110815 non-null int64\n",
      "Count(board)          110815 non-null int64\n",
      "Count(book)           110815 non-null int64\n",
      "Count(cancel)         110815 non-null int64\n",
      "Count(card)           110815 non-null int64\n",
      "Count(card game)      110815 non-null int64\n",
      "Count(child)          110815 non-null int64\n",
      "Count(coffee)         110815 non-null int64\n",
      "Count(collection)     110815 non-null int64\n",
      "Count(comic)          110815 non-null int64\n",
      "Count(day)            110815 non-null int64\n",
      "Count(debut)          110815 non-null int64\n",
      "Count(design)         110815 non-null int64\n",
      "Count(documentary)    110815 non-null int64\n",
      "Count(dream)          110815 non-null int64\n",
      "Count(edition)        110815 non-null int64\n",
      "Count(enamel)         110815 non-null int64\n",
      "Count(enamel pin)     110815 non-null int64\n",
      "Count(ep)             110815 non-null int64\n",
      "Count(fantasy)        110815 non-null int64\n",
      "Count(film)           110815 non-null int64\n",
      "Count(first)          110815 non-null int64\n",
      "Count(food)           110815 non-null int64\n",
      "Count(game)           110815 non-null int64\n",
      "Count(get)            110815 non-null int64\n",
      "Count(go)             110815 non-null int64\n",
      "Count(good)           110815 non-null int64\n",
      "Count(help)           110815 non-null int64\n",
      "Count(home)           110815 non-null int64\n",
      "Count(kid)            110815 non-null int64\n",
      "Count(life)           110815 non-null int64\n",
      "Count(light)          110815 non-null int64\n",
      "Count(live)           110815 non-null int64\n",
      "Count(love)           110815 non-null int64\n",
      "Count(make)           110815 non-null int64\n",
      "Count(more)           110815 non-null int64\n",
      "Count(music)          110815 non-null int64\n",
      "Count(new)            110815 non-null int64\n",
      "Count(novel)          110815 non-null int64\n",
      "Count(pin)            110815 non-null int64\n",
      "Count(play)           110815 non-null int64\n",
      "Count(print)          110815 non-null int64\n",
      "Count(project)        110815 non-null int64\n",
      "Count(record)         110815 non-null int64\n",
      "Count(rpg)            110815 non-null int64\n",
      "Count(series)         110815 non-null int64\n",
      "Count(short)          110815 non-null int64\n",
      "Count(short film)     110815 non-null int64\n",
      "Count(show)           110815 non-null int64\n",
      "Count(smart)          110815 non-null int64\n",
      "Count(story)          110815 non-null int64\n",
      "Count(studio)         110815 non-null int64\n",
      "Count(system)         110815 non-null int64\n",
      "Count(time)           110815 non-null int64\n",
      "Count(travel)         110815 non-null int64\n",
      "Count(ultimate)       110815 non-null int64\n",
      "Count(video)          110815 non-null int64\n",
      "Count(war)            110815 non-null int64\n",
      "Count(watch)          110815 non-null int64\n",
      "Count(world)          110815 non-null int64\n",
      "dtypes: int64(66)\n",
      "memory usage: 55.8 MB\n"
     ]
    },
    {
     "data": {
      "text/plain": [
       "None"
      ]
     },
     "metadata": {},
     "output_type": "display_data"
    }
   ],
   "source": [
    "Name_WordCountsData = GetPrincipalWordCounts(pd.DataFrame(RawData[\"name\"].fillna(\"\")), \"name\").add_prefix(\"Count(\").add_suffix(\")\")\n",
    "display(Name_WordCountsData.info())"
   ]
  },
  {
   "cell_type": "code",
   "execution_count": 73,
   "metadata": {},
   "outputs": [
    {
     "data": {
      "text/html": [
       "<div>\n",
       "<style scoped>\n",
       "    .dataframe tbody tr th:only-of-type {\n",
       "        vertical-align: middle;\n",
       "    }\n",
       "\n",
       "    .dataframe tbody tr th {\n",
       "        vertical-align: top;\n",
       "    }\n",
       "\n",
       "    .dataframe thead th {\n",
       "        text-align: right;\n",
       "    }\n",
       "</style>\n",
       "<table border=\"1\" class=\"dataframe\">\n",
       "  <thead>\n",
       "    <tr style=\"text-align: right;\">\n",
       "      <th></th>\n",
       "      <th>Count(adventure)</th>\n",
       "      <th>Count(album)</th>\n",
       "      <th>Count(app)</th>\n",
       "      <th>Count(art)</th>\n",
       "      <th>Count(bag)</th>\n",
       "      <th>Count(be)</th>\n",
       "      <th>Count(best)</th>\n",
       "      <th>Count(board)</th>\n",
       "      <th>Count(book)</th>\n",
       "      <th>Count(cancel)</th>\n",
       "      <th>...</th>\n",
       "      <th>Count(story)</th>\n",
       "      <th>Count(studio)</th>\n",
       "      <th>Count(system)</th>\n",
       "      <th>Count(time)</th>\n",
       "      <th>Count(travel)</th>\n",
       "      <th>Count(ultimate)</th>\n",
       "      <th>Count(video)</th>\n",
       "      <th>Count(war)</th>\n",
       "      <th>Count(watch)</th>\n",
       "      <th>Count(world)</th>\n",
       "    </tr>\n",
       "  </thead>\n",
       "  <tbody>\n",
       "    <tr>\n",
       "      <th>count</th>\n",
       "      <td>110815.000000</td>\n",
       "      <td>110815.000000</td>\n",
       "      <td>110815.000000</td>\n",
       "      <td>110815.000000</td>\n",
       "      <td>110815.000000</td>\n",
       "      <td>110815.000000</td>\n",
       "      <td>110815.000000</td>\n",
       "      <td>110815.000000</td>\n",
       "      <td>110815.000000</td>\n",
       "      <td>110815.000000</td>\n",
       "      <td>...</td>\n",
       "      <td>110815.000000</td>\n",
       "      <td>110815.000000</td>\n",
       "      <td>110815.000000</td>\n",
       "      <td>110815.000000</td>\n",
       "      <td>110815.000000</td>\n",
       "      <td>110815.000000</td>\n",
       "      <td>110815.000000</td>\n",
       "      <td>110815.000000</td>\n",
       "      <td>110815.000000</td>\n",
       "      <td>110815.000000</td>\n",
       "    </tr>\n",
       "    <tr>\n",
       "      <th>mean</th>\n",
       "      <td>0.008447</td>\n",
       "      <td>0.025331</td>\n",
       "      <td>0.011442</td>\n",
       "      <td>0.022298</td>\n",
       "      <td>0.005839</td>\n",
       "      <td>0.021134</td>\n",
       "      <td>0.005568</td>\n",
       "      <td>0.006100</td>\n",
       "      <td>0.030564</td>\n",
       "      <td>0.029103</td>\n",
       "      <td>...</td>\n",
       "      <td>0.009917</td>\n",
       "      <td>0.008158</td>\n",
       "      <td>0.005821</td>\n",
       "      <td>0.006533</td>\n",
       "      <td>0.005496</td>\n",
       "      <td>0.005117</td>\n",
       "      <td>0.008699</td>\n",
       "      <td>0.005487</td>\n",
       "      <td>0.009782</td>\n",
       "      <td>0.022533</td>\n",
       "    </tr>\n",
       "    <tr>\n",
       "      <th>std</th>\n",
       "      <td>0.091910</td>\n",
       "      <td>0.157529</td>\n",
       "      <td>0.106864</td>\n",
       "      <td>0.151514</td>\n",
       "      <td>0.080338</td>\n",
       "      <td>0.151651</td>\n",
       "      <td>0.075134</td>\n",
       "      <td>0.079016</td>\n",
       "      <td>0.174737</td>\n",
       "      <td>0.168684</td>\n",
       "      <td>...</td>\n",
       "      <td>0.100179</td>\n",
       "      <td>0.090651</td>\n",
       "      <td>0.076543</td>\n",
       "      <td>0.082666</td>\n",
       "      <td>0.075976</td>\n",
       "      <td>0.071600</td>\n",
       "      <td>0.093734</td>\n",
       "      <td>0.075320</td>\n",
       "      <td>0.105415</td>\n",
       "      <td>0.149319</td>\n",
       "    </tr>\n",
       "    <tr>\n",
       "      <th>min</th>\n",
       "      <td>0.000000</td>\n",
       "      <td>0.000000</td>\n",
       "      <td>0.000000</td>\n",
       "      <td>0.000000</td>\n",
       "      <td>0.000000</td>\n",
       "      <td>0.000000</td>\n",
       "      <td>0.000000</td>\n",
       "      <td>0.000000</td>\n",
       "      <td>0.000000</td>\n",
       "      <td>0.000000</td>\n",
       "      <td>...</td>\n",
       "      <td>0.000000</td>\n",
       "      <td>0.000000</td>\n",
       "      <td>0.000000</td>\n",
       "      <td>0.000000</td>\n",
       "      <td>0.000000</td>\n",
       "      <td>0.000000</td>\n",
       "      <td>0.000000</td>\n",
       "      <td>0.000000</td>\n",
       "      <td>0.000000</td>\n",
       "      <td>0.000000</td>\n",
       "    </tr>\n",
       "    <tr>\n",
       "      <th>25%</th>\n",
       "      <td>0.000000</td>\n",
       "      <td>0.000000</td>\n",
       "      <td>0.000000</td>\n",
       "      <td>0.000000</td>\n",
       "      <td>0.000000</td>\n",
       "      <td>0.000000</td>\n",
       "      <td>0.000000</td>\n",
       "      <td>0.000000</td>\n",
       "      <td>0.000000</td>\n",
       "      <td>0.000000</td>\n",
       "      <td>...</td>\n",
       "      <td>0.000000</td>\n",
       "      <td>0.000000</td>\n",
       "      <td>0.000000</td>\n",
       "      <td>0.000000</td>\n",
       "      <td>0.000000</td>\n",
       "      <td>0.000000</td>\n",
       "      <td>0.000000</td>\n",
       "      <td>0.000000</td>\n",
       "      <td>0.000000</td>\n",
       "      <td>0.000000</td>\n",
       "    </tr>\n",
       "    <tr>\n",
       "      <th>50%</th>\n",
       "      <td>0.000000</td>\n",
       "      <td>0.000000</td>\n",
       "      <td>0.000000</td>\n",
       "      <td>0.000000</td>\n",
       "      <td>0.000000</td>\n",
       "      <td>0.000000</td>\n",
       "      <td>0.000000</td>\n",
       "      <td>0.000000</td>\n",
       "      <td>0.000000</td>\n",
       "      <td>0.000000</td>\n",
       "      <td>...</td>\n",
       "      <td>0.000000</td>\n",
       "      <td>0.000000</td>\n",
       "      <td>0.000000</td>\n",
       "      <td>0.000000</td>\n",
       "      <td>0.000000</td>\n",
       "      <td>0.000000</td>\n",
       "      <td>0.000000</td>\n",
       "      <td>0.000000</td>\n",
       "      <td>0.000000</td>\n",
       "      <td>0.000000</td>\n",
       "    </tr>\n",
       "    <tr>\n",
       "      <th>75%</th>\n",
       "      <td>0.000000</td>\n",
       "      <td>0.000000</td>\n",
       "      <td>0.000000</td>\n",
       "      <td>0.000000</td>\n",
       "      <td>0.000000</td>\n",
       "      <td>0.000000</td>\n",
       "      <td>0.000000</td>\n",
       "      <td>0.000000</td>\n",
       "      <td>0.000000</td>\n",
       "      <td>0.000000</td>\n",
       "      <td>...</td>\n",
       "      <td>0.000000</td>\n",
       "      <td>0.000000</td>\n",
       "      <td>0.000000</td>\n",
       "      <td>0.000000</td>\n",
       "      <td>0.000000</td>\n",
       "      <td>0.000000</td>\n",
       "      <td>0.000000</td>\n",
       "      <td>0.000000</td>\n",
       "      <td>0.000000</td>\n",
       "      <td>0.000000</td>\n",
       "    </tr>\n",
       "    <tr>\n",
       "      <th>max</th>\n",
       "      <td>2.000000</td>\n",
       "      <td>2.000000</td>\n",
       "      <td>2.000000</td>\n",
       "      <td>4.000000</td>\n",
       "      <td>2.000000</td>\n",
       "      <td>6.000000</td>\n",
       "      <td>2.000000</td>\n",
       "      <td>2.000000</td>\n",
       "      <td>2.000000</td>\n",
       "      <td>2.000000</td>\n",
       "      <td>...</td>\n",
       "      <td>2.000000</td>\n",
       "      <td>2.000000</td>\n",
       "      <td>2.000000</td>\n",
       "      <td>3.000000</td>\n",
       "      <td>3.000000</td>\n",
       "      <td>2.000000</td>\n",
       "      <td>2.000000</td>\n",
       "      <td>2.000000</td>\n",
       "      <td>2.000000</td>\n",
       "      <td>2.000000</td>\n",
       "    </tr>\n",
       "  </tbody>\n",
       "</table>\n",
       "<p>8 rows × 66 columns</p>\n",
       "</div>"
      ],
      "text/plain": [
       "       Count(adventure)   Count(album)     Count(app)     Count(art)  \\\n",
       "count     110815.000000  110815.000000  110815.000000  110815.000000   \n",
       "mean           0.008447       0.025331       0.011442       0.022298   \n",
       "std            0.091910       0.157529       0.106864       0.151514   \n",
       "min            0.000000       0.000000       0.000000       0.000000   \n",
       "25%            0.000000       0.000000       0.000000       0.000000   \n",
       "50%            0.000000       0.000000       0.000000       0.000000   \n",
       "75%            0.000000       0.000000       0.000000       0.000000   \n",
       "max            2.000000       2.000000       2.000000       4.000000   \n",
       "\n",
       "          Count(bag)      Count(be)    Count(best)   Count(board)  \\\n",
       "count  110815.000000  110815.000000  110815.000000  110815.000000   \n",
       "mean        0.005839       0.021134       0.005568       0.006100   \n",
       "std         0.080338       0.151651       0.075134       0.079016   \n",
       "min         0.000000       0.000000       0.000000       0.000000   \n",
       "25%         0.000000       0.000000       0.000000       0.000000   \n",
       "50%         0.000000       0.000000       0.000000       0.000000   \n",
       "75%         0.000000       0.000000       0.000000       0.000000   \n",
       "max         2.000000       6.000000       2.000000       2.000000   \n",
       "\n",
       "         Count(book)  Count(cancel)  ...   Count(story)  Count(studio)  \\\n",
       "count  110815.000000  110815.000000  ...  110815.000000  110815.000000   \n",
       "mean        0.030564       0.029103  ...       0.009917       0.008158   \n",
       "std         0.174737       0.168684  ...       0.100179       0.090651   \n",
       "min         0.000000       0.000000  ...       0.000000       0.000000   \n",
       "25%         0.000000       0.000000  ...       0.000000       0.000000   \n",
       "50%         0.000000       0.000000  ...       0.000000       0.000000   \n",
       "75%         0.000000       0.000000  ...       0.000000       0.000000   \n",
       "max         2.000000       2.000000  ...       2.000000       2.000000   \n",
       "\n",
       "       Count(system)    Count(time)  Count(travel)  Count(ultimate)  \\\n",
       "count  110815.000000  110815.000000  110815.000000    110815.000000   \n",
       "mean        0.005821       0.006533       0.005496         0.005117   \n",
       "std         0.076543       0.082666       0.075976         0.071600   \n",
       "min         0.000000       0.000000       0.000000         0.000000   \n",
       "25%         0.000000       0.000000       0.000000         0.000000   \n",
       "50%         0.000000       0.000000       0.000000         0.000000   \n",
       "75%         0.000000       0.000000       0.000000         0.000000   \n",
       "max         2.000000       3.000000       3.000000         2.000000   \n",
       "\n",
       "        Count(video)     Count(war)   Count(watch)   Count(world)  \n",
       "count  110815.000000  110815.000000  110815.000000  110815.000000  \n",
       "mean        0.008699       0.005487       0.009782       0.022533  \n",
       "std         0.093734       0.075320       0.105415       0.149319  \n",
       "min         0.000000       0.000000       0.000000       0.000000  \n",
       "25%         0.000000       0.000000       0.000000       0.000000  \n",
       "50%         0.000000       0.000000       0.000000       0.000000  \n",
       "75%         0.000000       0.000000       0.000000       0.000000  \n",
       "max         2.000000       2.000000       2.000000       2.000000  \n",
       "\n",
       "[8 rows x 66 columns]"
      ]
     },
     "execution_count": 73,
     "metadata": {},
     "output_type": "execute_result"
    }
   ],
   "source": [
    "Name_WordCountsData.describe()"
   ]
  },
  {
   "cell_type": "code",
   "execution_count": 74,
   "metadata": {},
   "outputs": [
    {
     "data": {
      "text/plain": [
       "Count(be)             6\n",
       "Count(card)           4\n",
       "Count(art)            4\n",
       "Count(good)           3\n",
       "Count(help)           3\n",
       "                     ..\n",
       "Count(adventure)      2\n",
       "Count(debut)          1\n",
       "Count(card game)      1\n",
       "Count(documentary)    1\n",
       "Count(edition)        1\n",
       "Length: 66, dtype: int64"
      ]
     },
     "execution_count": 74,
     "metadata": {},
     "output_type": "execute_result"
    }
   ],
   "source": [
    "Name_WordCountsData.max().sort_values(ascending = False)"
   ]
  },
  {
   "cell_type": "code",
   "execution_count": null,
   "metadata": {},
   "outputs": [],
   "source": []
  },
  {
   "cell_type": "code",
   "execution_count": 75,
   "metadata": {},
   "outputs": [],
   "source": [
    "# Common words for failures\n",
    "# ProcessedData[ProcessedData[\"Status\"] == 0]"
   ]
  },
  {
   "cell_type": "code",
   "execution_count": 76,
   "metadata": {},
   "outputs": [],
   "source": [
    "# Common words for successes\n",
    "# ProcessedData[ProcessedData[\"Status\"] == 1]"
   ]
  },
  {
   "cell_type": "code",
   "execution_count": 77,
   "metadata": {},
   "outputs": [],
   "source": [
    "# Common words by category"
   ]
  },
  {
   "cell_type": "code",
   "execution_count": 78,
   "metadata": {},
   "outputs": [
    {
     "name": "stdout",
     "output_type": "stream",
     "text": [
      "<class 'pandas.core.frame.DataFrame'>\n",
      "Int64Index: 110815 entries, 0 to 110814\n",
      "Data columns (total 15 columns):\n",
      "Status                 110815 non-null uint8\n",
      "YearLaunched           110815 non-null uint16\n",
      "MonthLaunched          110815 non-null uint8\n",
      "DayLaunched            110815 non-null uint8\n",
      "DayOfWeekLaunched      110815 non-null category\n",
      "Duration(Days)         110815 non-null uint8\n",
      "Category               110815 non-null category\n",
      "Subcategory            110815 non-null category\n",
      "OverallCategory        110815 non-null category\n",
      "log(FundingGoal)       110815 non-null float64\n",
      "Country                110815 non-null category\n",
      "Name_WordList          110815 non-null object\n",
      "Name_WordCount         110815 non-null uint8\n",
      "Name_Readability       110815 non-null float64\n",
      "Name_SentimentValue    110815 non-null float64\n",
      "dtypes: category(5), float64(3), object(1), uint16(1), uint8(5)\n",
      "memory usage: 5.7+ MB\n"
     ]
    }
   ],
   "source": [
    "ProcessedData.info()"
   ]
  },
  {
   "cell_type": "code",
   "execution_count": 79,
   "metadata": {},
   "outputs": [
    {
     "data": {
      "text/html": [
       "<div>\n",
       "<style scoped>\n",
       "    .dataframe tbody tr th:only-of-type {\n",
       "        vertical-align: middle;\n",
       "    }\n",
       "\n",
       "    .dataframe tbody tr th {\n",
       "        vertical-align: top;\n",
       "    }\n",
       "\n",
       "    .dataframe thead th {\n",
       "        text-align: right;\n",
       "    }\n",
       "</style>\n",
       "<table border=\"1\" class=\"dataframe\">\n",
       "  <thead>\n",
       "    <tr style=\"text-align: right;\">\n",
       "      <th></th>\n",
       "      <th>Status</th>\n",
       "      <th>YearLaunched</th>\n",
       "      <th>MonthLaunched</th>\n",
       "      <th>DayLaunched</th>\n",
       "      <th>Duration(Days)</th>\n",
       "      <th>log(FundingGoal)</th>\n",
       "      <th>Name_WordCount</th>\n",
       "      <th>Name_Readability</th>\n",
       "      <th>Name_SentimentValue</th>\n",
       "    </tr>\n",
       "  </thead>\n",
       "  <tbody>\n",
       "    <tr>\n",
       "      <th>count</th>\n",
       "      <td>110815.000000</td>\n",
       "      <td>110815.000000</td>\n",
       "      <td>110815.000000</td>\n",
       "      <td>110815.000000</td>\n",
       "      <td>110815.000000</td>\n",
       "      <td>110815.000000</td>\n",
       "      <td>110815.000000</td>\n",
       "      <td>110815.000000</td>\n",
       "      <td>110815.000000</td>\n",
       "    </tr>\n",
       "    <tr>\n",
       "      <th>mean</th>\n",
       "      <td>0.341398</td>\n",
       "      <td>2016.401327</td>\n",
       "      <td>6.303822</td>\n",
       "      <td>15.254812</td>\n",
       "      <td>33.157849</td>\n",
       "      <td>8.703961</td>\n",
       "      <td>5.275775</td>\n",
       "      <td>57.993754</td>\n",
       "      <td>0.045917</td>\n",
       "    </tr>\n",
       "    <tr>\n",
       "      <th>std</th>\n",
       "      <td>0.474181</td>\n",
       "      <td>0.568251</td>\n",
       "      <td>3.420491</td>\n",
       "      <td>8.896393</td>\n",
       "      <td>11.640541</td>\n",
       "      <td>1.755499</td>\n",
       "      <td>2.478234</td>\n",
       "      <td>43.448520</td>\n",
       "      <td>0.208649</td>\n",
       "    </tr>\n",
       "    <tr>\n",
       "      <th>min</th>\n",
       "      <td>0.000000</td>\n",
       "      <td>2015.000000</td>\n",
       "      <td>1.000000</td>\n",
       "      <td>1.000000</td>\n",
       "      <td>1.000000</td>\n",
       "      <td>-0.713350</td>\n",
       "      <td>0.000000</td>\n",
       "      <td>-978.590000</td>\n",
       "      <td>-1.000000</td>\n",
       "    </tr>\n",
       "    <tr>\n",
       "      <th>25%</th>\n",
       "      <td>0.000000</td>\n",
       "      <td>2016.000000</td>\n",
       "      <td>3.000000</td>\n",
       "      <td>7.000000</td>\n",
       "      <td>30.000000</td>\n",
       "      <td>7.600902</td>\n",
       "      <td>3.000000</td>\n",
       "      <td>35.610000</td>\n",
       "      <td>0.000000</td>\n",
       "    </tr>\n",
       "    <tr>\n",
       "      <th>50%</th>\n",
       "      <td>0.000000</td>\n",
       "      <td>2016.000000</td>\n",
       "      <td>6.000000</td>\n",
       "      <td>15.000000</td>\n",
       "      <td>30.000000</td>\n",
       "      <td>8.734571</td>\n",
       "      <td>5.000000</td>\n",
       "      <td>63.360000</td>\n",
       "      <td>0.000000</td>\n",
       "    </tr>\n",
       "    <tr>\n",
       "      <th>75%</th>\n",
       "      <td>1.000000</td>\n",
       "      <td>2017.000000</td>\n",
       "      <td>9.000000</td>\n",
       "      <td>23.000000</td>\n",
       "      <td>35.000000</td>\n",
       "      <td>9.903488</td>\n",
       "      <td>7.000000</td>\n",
       "      <td>87.720000</td>\n",
       "      <td>0.000000</td>\n",
       "    </tr>\n",
       "    <tr>\n",
       "      <th>max</th>\n",
       "      <td>1.000000</td>\n",
       "      <td>2017.000000</td>\n",
       "      <td>12.000000</td>\n",
       "      <td>31.000000</td>\n",
       "      <td>90.000000</td>\n",
       "      <td>18.491790</td>\n",
       "      <td>14.000000</td>\n",
       "      <td>206.840000</td>\n",
       "      <td>1.000000</td>\n",
       "    </tr>\n",
       "  </tbody>\n",
       "</table>\n",
       "</div>"
      ],
      "text/plain": [
       "              Status   YearLaunched  MonthLaunched    DayLaunched  \\\n",
       "count  110815.000000  110815.000000  110815.000000  110815.000000   \n",
       "mean        0.341398    2016.401327       6.303822      15.254812   \n",
       "std         0.474181       0.568251       3.420491       8.896393   \n",
       "min         0.000000    2015.000000       1.000000       1.000000   \n",
       "25%         0.000000    2016.000000       3.000000       7.000000   \n",
       "50%         0.000000    2016.000000       6.000000      15.000000   \n",
       "75%         1.000000    2017.000000       9.000000      23.000000   \n",
       "max         1.000000    2017.000000      12.000000      31.000000   \n",
       "\n",
       "       Duration(Days)  log(FundingGoal)  Name_WordCount  Name_Readability  \\\n",
       "count   110815.000000     110815.000000   110815.000000     110815.000000   \n",
       "mean        33.157849          8.703961        5.275775         57.993754   \n",
       "std         11.640541          1.755499        2.478234         43.448520   \n",
       "min          1.000000         -0.713350        0.000000       -978.590000   \n",
       "25%         30.000000          7.600902        3.000000         35.610000   \n",
       "50%         30.000000          8.734571        5.000000         63.360000   \n",
       "75%         35.000000          9.903488        7.000000         87.720000   \n",
       "max         90.000000         18.491790       14.000000        206.840000   \n",
       "\n",
       "       Name_SentimentValue  \n",
       "count        110815.000000  \n",
       "mean              0.045917  \n",
       "std               0.208649  \n",
       "min              -1.000000  \n",
       "25%               0.000000  \n",
       "50%               0.000000  \n",
       "75%               0.000000  \n",
       "max               1.000000  "
      ]
     },
     "execution_count": 79,
     "metadata": {},
     "output_type": "execute_result"
    }
   ],
   "source": [
    "ProcessedData.describe()"
   ]
  },
  {
   "cell_type": "code",
   "execution_count": null,
   "metadata": {},
   "outputs": [],
   "source": []
  },
  {
   "cell_type": "markdown",
   "metadata": {},
   "source": [
    "## Modeling with name included"
   ]
  },
  {
   "cell_type": "code",
   "execution_count": 80,
   "metadata": {},
   "outputs": [],
   "source": [
    "TrainingData = pd.concat([\n",
    "    pd.get_dummies(ProcessedData.drop([\"Subcategory\", \"Country\", \"OverallCategory\", \"Name_WordList\"], axis = 1), drop_first = True),\n",
    "    Name_WordCountsData\n",
    "], axis = 1)"
   ]
  },
  {
   "cell_type": "code",
   "execution_count": 81,
   "metadata": {
    "scrolled": false
   },
   "outputs": [
    {
     "name": "stdout",
     "output_type": "stream",
     "text": [
      "<class 'pandas.core.frame.DataFrame'>\n",
      "Int64Index: 110815 entries, 0 to 110814\n",
      "Data columns (total 95 columns):\n",
      "Status                   110815 non-null uint8\n",
      "YearLaunched             110815 non-null uint16\n",
      "MonthLaunched            110815 non-null uint8\n",
      "DayLaunched              110815 non-null uint8\n",
      "Duration(Days)           110815 non-null uint8\n",
      "log(FundingGoal)         110815 non-null float64\n",
      "Name_WordCount           110815 non-null uint8\n",
      "Name_Readability         110815 non-null float64\n",
      "Name_SentimentValue      110815 non-null float64\n",
      "DayOfWeekLaunched_Mon    110815 non-null uint8\n",
      "DayOfWeekLaunched_Sat    110815 non-null uint8\n",
      "DayOfWeekLaunched_Sun    110815 non-null uint8\n",
      "DayOfWeekLaunched_Thu    110815 non-null uint8\n",
      "DayOfWeekLaunched_Tue    110815 non-null uint8\n",
      "DayOfWeekLaunched_Wed    110815 non-null uint8\n",
      "Category_Comics          110815 non-null uint8\n",
      "Category_Crafts          110815 non-null uint8\n",
      "Category_Dance           110815 non-null uint8\n",
      "Category_Design          110815 non-null uint8\n",
      "Category_Fashion         110815 non-null uint8\n",
      "Category_Film & Video    110815 non-null uint8\n",
      "Category_Food            110815 non-null uint8\n",
      "Category_Games           110815 non-null uint8\n",
      "Category_Journalism      110815 non-null uint8\n",
      "Category_Music           110815 non-null uint8\n",
      "Category_Photography     110815 non-null uint8\n",
      "Category_Publishing      110815 non-null uint8\n",
      "Category_Technology      110815 non-null uint8\n",
      "Category_Theater         110815 non-null uint8\n",
      "Count(adventure)         110815 non-null int64\n",
      "Count(album)             110815 non-null int64\n",
      "Count(app)               110815 non-null int64\n",
      "Count(art)               110815 non-null int64\n",
      "Count(bag)               110815 non-null int64\n",
      "Count(be)                110815 non-null int64\n",
      "Count(best)              110815 non-null int64\n",
      "Count(board)             110815 non-null int64\n",
      "Count(book)              110815 non-null int64\n",
      "Count(cancel)            110815 non-null int64\n",
      "Count(card)              110815 non-null int64\n",
      "Count(card game)         110815 non-null int64\n",
      "Count(child)             110815 non-null int64\n",
      "Count(coffee)            110815 non-null int64\n",
      "Count(collection)        110815 non-null int64\n",
      "Count(comic)             110815 non-null int64\n",
      "Count(day)               110815 non-null int64\n",
      "Count(debut)             110815 non-null int64\n",
      "Count(design)            110815 non-null int64\n",
      "Count(documentary)       110815 non-null int64\n",
      "Count(dream)             110815 non-null int64\n",
      "Count(edition)           110815 non-null int64\n",
      "Count(enamel)            110815 non-null int64\n",
      "Count(enamel pin)        110815 non-null int64\n",
      "Count(ep)                110815 non-null int64\n",
      "Count(fantasy)           110815 non-null int64\n",
      "Count(film)              110815 non-null int64\n",
      "Count(first)             110815 non-null int64\n",
      "Count(food)              110815 non-null int64\n",
      "Count(game)              110815 non-null int64\n",
      "Count(get)               110815 non-null int64\n",
      "Count(go)                110815 non-null int64\n",
      "Count(good)              110815 non-null int64\n",
      "Count(help)              110815 non-null int64\n",
      "Count(home)              110815 non-null int64\n",
      "Count(kid)               110815 non-null int64\n",
      "Count(life)              110815 non-null int64\n",
      "Count(light)             110815 non-null int64\n",
      "Count(live)              110815 non-null int64\n",
      "Count(love)              110815 non-null int64\n",
      "Count(make)              110815 non-null int64\n",
      "Count(more)              110815 non-null int64\n",
      "Count(music)             110815 non-null int64\n",
      "Count(new)               110815 non-null int64\n",
      "Count(novel)             110815 non-null int64\n",
      "Count(pin)               110815 non-null int64\n",
      "Count(play)              110815 non-null int64\n",
      "Count(print)             110815 non-null int64\n",
      "Count(project)           110815 non-null int64\n",
      "Count(record)            110815 non-null int64\n",
      "Count(rpg)               110815 non-null int64\n",
      "Count(series)            110815 non-null int64\n",
      "Count(short)             110815 non-null int64\n",
      "Count(short film)        110815 non-null int64\n",
      "Count(show)              110815 non-null int64\n",
      "Count(smart)             110815 non-null int64\n",
      "Count(story)             110815 non-null int64\n",
      "Count(studio)            110815 non-null int64\n",
      "Count(system)            110815 non-null int64\n",
      "Count(time)              110815 non-null int64\n",
      "Count(travel)            110815 non-null int64\n",
      "Count(ultimate)          110815 non-null int64\n",
      "Count(video)             110815 non-null int64\n",
      "Count(war)               110815 non-null int64\n",
      "Count(watch)             110815 non-null int64\n",
      "Count(world)             110815 non-null int64\n",
      "dtypes: float64(3), int64(66), uint16(1), uint8(25)\n",
      "memory usage: 62.0 MB\n"
     ]
    }
   ],
   "source": [
    "TrainingData.info()"
   ]
  },
  {
   "cell_type": "code",
   "execution_count": 82,
   "metadata": {},
   "outputs": [],
   "source": [
    "Train_X, Test_X, Train_Y, Test_Y = train_test_split(TrainingData.drop(\"Status\", axis = 1), TrainingData[\"Status\"], test_size = 0.2, random_state = 13)"
   ]
  },
  {
   "cell_type": "code",
   "execution_count": null,
   "metadata": {},
   "outputs": [],
   "source": []
  },
  {
   "cell_type": "code",
   "execution_count": 83,
   "metadata": {},
   "outputs": [
    {
     "name": "stdout",
     "output_type": "stream",
     "text": [
      "Starting LinearRegression at 2020-02-08 07:15:33.457077\n",
      "Starting Ridge at 2020-02-08 07:15:33.713531\n",
      "Starting Lasso at 2020-02-08 07:15:33.863426\n",
      "Starting ExtraTreeRegressor at 2020-02-08 07:15:34.053106\n",
      "Starting ElasticNet at 2020-02-08 07:15:35.837594\n",
      "Starting GradientBoostingRegressor at 2020-02-08 07:15:36.019886\n",
      "Starting XGBRegressor at 2020-02-08 07:15:55.559918\n",
      "[07:15:55] WARNING: src/objective/regression_obj.cu:152: reg:linear is now deprecated in favor of reg:squarederror.\n"
     ]
    },
    {
     "name": "stderr",
     "output_type": "stream",
     "text": [
      "C:\\Users\\root\\.conda\\envs\\DataScience\\lib\\site-packages\\xgboost\\core.py:587: FutureWarning: Series.base is deprecated and will be removed in a future version\n",
      "  if getattr(data, 'base', None) is not None and \\\n"
     ]
    }
   ],
   "source": [
    "RegressorResults_List = AssessRegressorModels(Train_X, Train_Y, Test_X, Test_Y, [LinearRegression, Ridge, Lasso, ExtraTreeRegressor, ElasticNet, GradientBoostingRegressor, XGBRegressor])"
   ]
  },
  {
   "cell_type": "code",
   "execution_count": 84,
   "metadata": {
    "scrolled": true
   },
   "outputs": [
    {
     "data": {
      "text/html": [
       "<div>\n",
       "<style scoped>\n",
       "    .dataframe tbody tr th:only-of-type {\n",
       "        vertical-align: middle;\n",
       "    }\n",
       "\n",
       "    .dataframe tbody tr th {\n",
       "        vertical-align: top;\n",
       "    }\n",
       "\n",
       "    .dataframe thead th {\n",
       "        text-align: right;\n",
       "    }\n",
       "</style>\n",
       "<table border=\"1\" class=\"dataframe\">\n",
       "  <thead>\n",
       "    <tr style=\"text-align: right;\">\n",
       "      <th></th>\n",
       "      <th>Name</th>\n",
       "      <th>R2Score</th>\n",
       "      <th>RMSE</th>\n",
       "      <th>MAE</th>\n",
       "      <th>RunTime</th>\n",
       "    </tr>\n",
       "  </thead>\n",
       "  <tbody>\n",
       "    <tr>\n",
       "      <th>5</th>\n",
       "      <td>GradientBoostingRegressor</td>\n",
       "      <td>0.161335</td>\n",
       "      <td>0.433838</td>\n",
       "      <td>0.389372</td>\n",
       "      <td>0:00:19.537215</td>\n",
       "    </tr>\n",
       "    <tr>\n",
       "      <th>6</th>\n",
       "      <td>XGBRegressor</td>\n",
       "      <td>0.160067</td>\n",
       "      <td>0.434166</td>\n",
       "      <td>0.390029</td>\n",
       "      <td>0:00:11.570977</td>\n",
       "    </tr>\n",
       "    <tr>\n",
       "      <th>1</th>\n",
       "      <td>Ridge</td>\n",
       "      <td>0.135582</td>\n",
       "      <td>0.440449</td>\n",
       "      <td>0.392647</td>\n",
       "      <td>0:00:00.145635</td>\n",
       "    </tr>\n",
       "    <tr>\n",
       "      <th>0</th>\n",
       "      <td>LinearRegression</td>\n",
       "      <td>0.135580</td>\n",
       "      <td>0.440449</td>\n",
       "      <td>0.392638</td>\n",
       "      <td>0:00:00.252902</td>\n",
       "    </tr>\n",
       "    <tr>\n",
       "      <th>4</th>\n",
       "      <td>ElasticNet</td>\n",
       "      <td>0.013197</td>\n",
       "      <td>0.470596</td>\n",
       "      <td>0.445726</td>\n",
       "      <td>0:00:00.175227</td>\n",
       "    </tr>\n",
       "    <tr>\n",
       "      <th>2</th>\n",
       "      <td>Lasso</td>\n",
       "      <td>-0.000012</td>\n",
       "      <td>0.473736</td>\n",
       "      <td>0.449376</td>\n",
       "      <td>0:00:00.185417</td>\n",
       "    </tr>\n",
       "    <tr>\n",
       "      <th>3</th>\n",
       "      <td>ExtraTreeRegressor</td>\n",
       "      <td>-0.681433</td>\n",
       "      <td>0.614290</td>\n",
       "      <td>0.377363</td>\n",
       "      <td>0:00:01.781661</td>\n",
       "    </tr>\n",
       "  </tbody>\n",
       "</table>\n",
       "</div>"
      ],
      "text/plain": [
       "                        Name   R2Score      RMSE       MAE         RunTime\n",
       "5  GradientBoostingRegressor  0.161335  0.433838  0.389372  0:00:19.537215\n",
       "6               XGBRegressor  0.160067  0.434166  0.390029  0:00:11.570977\n",
       "1                      Ridge  0.135582  0.440449  0.392647  0:00:00.145635\n",
       "0           LinearRegression  0.135580  0.440449  0.392638  0:00:00.252902\n",
       "4                 ElasticNet  0.013197  0.470596  0.445726  0:00:00.175227\n",
       "2                      Lasso -0.000012  0.473736  0.449376  0:00:00.185417\n",
       "3         ExtraTreeRegressor -0.681433  0.614290  0.377363  0:00:01.781661"
      ]
     },
     "metadata": {},
     "output_type": "display_data"
    }
   ],
   "source": [
    "with pd.option_context(\"display.max_columns\", None, \"display.max_rows\", None, \"display.max_colwidth\", 40):\n",
    "    display(RegressorResults_List.drop(\"ModelObject\", axis = 1))"
   ]
  },
  {
   "cell_type": "code",
   "execution_count": 85,
   "metadata": {
    "scrolled": true
   },
   "outputs": [
    {
     "name": "stdout",
     "output_type": "stream",
     "text": [
      "Starting GaussianNB at 2020-02-08 07:16:07.206497\n",
      "Starting BernoulliNB at 2020-02-08 07:16:07.523035\n",
      "Starting RandomForestClassifier at 2020-02-08 07:16:07.775984\n",
      "Starting DecisionTreeClassifier at 2020-02-08 07:16:28.556897\n",
      "Starting ExtraTreesClassifier at 2020-02-08 07:16:30.244127\n",
      "Starting GradientBoostingClassifier at 2020-02-08 07:17:01.167002\n",
      "Starting XGBClassifier at 2020-02-08 07:17:20.786008\n"
     ]
    }
   ],
   "source": [
    "ClassifierResults_List = AssessClassifierModels(Train_X, Train_Y, Test_X, Test_Y, [GaussianNB, BernoulliNB, RandomForestClassifier, DecisionTreeClassifier, ExtraTreesClassifier, GradientBoostingClassifier, XGBClassifier])"
   ]
  },
  {
   "cell_type": "code",
   "execution_count": 86,
   "metadata": {
    "scrolled": true
   },
   "outputs": [
    {
     "data": {
      "text/html": [
       "<div>\n",
       "<style scoped>\n",
       "    .dataframe tbody tr th:only-of-type {\n",
       "        vertical-align: middle;\n",
       "    }\n",
       "\n",
       "    .dataframe tbody tr th {\n",
       "        vertical-align: top;\n",
       "    }\n",
       "\n",
       "    .dataframe thead th {\n",
       "        text-align: right;\n",
       "    }\n",
       "</style>\n",
       "<table border=\"1\" class=\"dataframe\">\n",
       "  <thead>\n",
       "    <tr style=\"text-align: right;\">\n",
       "      <th></th>\n",
       "      <th>Accuracy</th>\n",
       "      <th>ConfusionMatrix</th>\n",
       "      <th>F1</th>\n",
       "      <th>Name</th>\n",
       "      <th>Precision</th>\n",
       "      <th>Recall</th>\n",
       "      <th>RunTime</th>\n",
       "    </tr>\n",
       "  </thead>\n",
       "  <tbody>\n",
       "    <tr>\n",
       "      <th>2</th>\n",
       "      <td>0.706222</td>\n",
       "      <td>[[12818, 1808], [4703, 2834]]</td>\n",
       "      <td>0.465391</td>\n",
       "      <td>RandomForestClassifier</td>\n",
       "      <td>0.610513</td>\n",
       "      <td>0.376012</td>\n",
       "      <td>0:00:20.747182</td>\n",
       "    </tr>\n",
       "    <tr>\n",
       "      <th>3</th>\n",
       "      <td>0.628841</td>\n",
       "      <td>[[10399, 4227], [3999, 3538]]</td>\n",
       "      <td>0.462423</td>\n",
       "      <td>DecisionTreeClassifier</td>\n",
       "      <td>0.455634</td>\n",
       "      <td>0.469418</td>\n",
       "      <td>0:00:01.652797</td>\n",
       "    </tr>\n",
       "    <tr>\n",
       "      <th>4</th>\n",
       "      <td>0.696972</td>\n",
       "      <td>[[12605, 2021], [4695, 2842]]</td>\n",
       "      <td>0.458387</td>\n",
       "      <td>ExtraTreesClassifier</td>\n",
       "      <td>0.584413</td>\n",
       "      <td>0.377073</td>\n",
       "      <td>0:00:30.884928</td>\n",
       "    </tr>\n",
       "    <tr>\n",
       "      <th>0</th>\n",
       "      <td>0.663764</td>\n",
       "      <td>[[11720, 2906], [4546, 2991]]</td>\n",
       "      <td>0.445288</td>\n",
       "      <td>GaussianNB</td>\n",
       "      <td>0.507207</td>\n",
       "      <td>0.396842</td>\n",
       "      <td>0:00:00.273438</td>\n",
       "    </tr>\n",
       "    <tr>\n",
       "      <th>5</th>\n",
       "      <td>0.705771</td>\n",
       "      <td>[[13326, 1300], [5221, 2316]]</td>\n",
       "      <td>0.415314</td>\n",
       "      <td>GradientBoostingClassifier</td>\n",
       "      <td>0.640487</td>\n",
       "      <td>0.307284</td>\n",
       "      <td>0:00:19.584634</td>\n",
       "    </tr>\n",
       "    <tr>\n",
       "      <th>6</th>\n",
       "      <td>0.705229</td>\n",
       "      <td>[[13419, 1207], [5326, 2211]]</td>\n",
       "      <td>0.403651</td>\n",
       "      <td>XGBClassifier</td>\n",
       "      <td>0.646870</td>\n",
       "      <td>0.293353</td>\n",
       "      <td>0:00:12.129455</td>\n",
       "    </tr>\n",
       "    <tr>\n",
       "      <th>1</th>\n",
       "      <td>0.679601</td>\n",
       "      <td>[[13168, 1458], [5643, 1894]]</td>\n",
       "      <td>0.347874</td>\n",
       "      <td>BernoulliNB</td>\n",
       "      <td>0.565036</td>\n",
       "      <td>0.251294</td>\n",
       "      <td>0:00:00.198544</td>\n",
       "    </tr>\n",
       "  </tbody>\n",
       "</table>\n",
       "</div>"
      ],
      "text/plain": [
       "   Accuracy                ConfusionMatrix        F1  \\\n",
       "2  0.706222  [[12818, 1808], [4703, 2834]]  0.465391   \n",
       "3  0.628841  [[10399, 4227], [3999, 3538]]  0.462423   \n",
       "4  0.696972  [[12605, 2021], [4695, 2842]]  0.458387   \n",
       "0  0.663764  [[11720, 2906], [4546, 2991]]  0.445288   \n",
       "5  0.705771  [[13326, 1300], [5221, 2316]]  0.415314   \n",
       "6  0.705229  [[13419, 1207], [5326, 2211]]  0.403651   \n",
       "1  0.679601  [[13168, 1458], [5643, 1894]]  0.347874   \n",
       "\n",
       "                         Name  Precision    Recall         RunTime  \n",
       "2      RandomForestClassifier   0.610513  0.376012  0:00:20.747182  \n",
       "3      DecisionTreeClassifier   0.455634  0.469418  0:00:01.652797  \n",
       "4        ExtraTreesClassifier   0.584413  0.377073  0:00:30.884928  \n",
       "0                  GaussianNB   0.507207  0.396842  0:00:00.273438  \n",
       "5  GradientBoostingClassifier   0.640487  0.307284  0:00:19.584634  \n",
       "6               XGBClassifier   0.646870  0.293353  0:00:12.129455  \n",
       "1                 BernoulliNB   0.565036  0.251294  0:00:00.198544  "
      ]
     },
     "metadata": {},
     "output_type": "display_data"
    }
   ],
   "source": [
    "with pd.option_context(\"display.max_columns\", None, \"display.max_rows\", None, \"display.max_colwidth\", 40):\n",
    "    display(ClassifierResults_List.drop(\"ModelObject\", axis = 1))"
   ]
  },
  {
   "cell_type": "code",
   "execution_count": null,
   "metadata": {},
   "outputs": [],
   "source": []
  }
 ],
 "metadata": {
  "kernelspec": {
   "display_name": "Python 3",
   "language": "python",
   "name": "python3"
  },
  "language_info": {
   "codemirror_mode": {
    "name": "ipython",
    "version": 3
   },
   "file_extension": ".py",
   "mimetype": "text/x-python",
   "name": "python",
   "nbconvert_exporter": "python",
   "pygments_lexer": "ipython3",
   "version": "3.7.6"
  }
 },
 "nbformat": 4,
 "nbformat_minor": 2
}
