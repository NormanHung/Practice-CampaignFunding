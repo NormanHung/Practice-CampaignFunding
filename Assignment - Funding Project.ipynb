{
 "cells": [
  {
   "cell_type": "markdown",
   "metadata": {},
   "source": [
    "# Data Load"
   ]
  },
  {
   "cell_type": "code",
   "execution_count": 1,
   "metadata": {},
   "outputs": [
    {
     "data": {
      "text/html": [
       "<div>\n",
       "<style scoped>\n",
       "    .dataframe tbody tr th:only-of-type {\n",
       "        vertical-align: middle;\n",
       "    }\n",
       "\n",
       "    .dataframe tbody tr th {\n",
       "        vertical-align: top;\n",
       "    }\n",
       "\n",
       "    .dataframe thead th {\n",
       "        text-align: right;\n",
       "    }\n",
       "</style>\n",
       "<table border=\"1\" class=\"dataframe\">\n",
       "  <thead>\n",
       "    <tr style=\"text-align: right;\">\n",
       "      <th></th>\n",
       "      <th>ID</th>\n",
       "      <th>name</th>\n",
       "      <th>category</th>\n",
       "      <th>main_category</th>\n",
       "      <th>currency</th>\n",
       "      <th>deadline</th>\n",
       "      <th>goal</th>\n",
       "      <th>launched</th>\n",
       "      <th>pledged</th>\n",
       "      <th>state</th>\n",
       "      <th>backers</th>\n",
       "      <th>country</th>\n",
       "      <th>usd pledged</th>\n",
       "      <th>usd_pledged_real</th>\n",
       "      <th>usd_goal_real</th>\n",
       "    </tr>\n",
       "  </thead>\n",
       "  <tbody>\n",
       "    <tr>\n",
       "      <th>0</th>\n",
       "      <td>1015685046</td>\n",
       "      <td>Organic Tattoo remains 10 days (Self use &amp; cus...</td>\n",
       "      <td>Accessories</td>\n",
       "      <td>Fashion</td>\n",
       "      <td>CAD</td>\n",
       "      <td>1/1/2016</td>\n",
       "      <td>6000</td>\n",
       "      <td>12/7/2015 18:21</td>\n",
       "      <td>100.0</td>\n",
       "      <td>failed</td>\n",
       "      <td>2</td>\n",
       "      <td>CA</td>\n",
       "      <td>74.84</td>\n",
       "      <td>70.89</td>\n",
       "      <td>4253.51</td>\n",
       "    </tr>\n",
       "    <tr>\n",
       "      <th>1</th>\n",
       "      <td>1019043170</td>\n",
       "      <td>Handcrafted leather wallet | key holder | card...</td>\n",
       "      <td>Accessories</td>\n",
       "      <td>Fashion</td>\n",
       "      <td>EUR</td>\n",
       "      <td>1/1/2016</td>\n",
       "      <td>2000</td>\n",
       "      <td>12/11/2015 10:52</td>\n",
       "      <td>2102.0</td>\n",
       "      <td>successful</td>\n",
       "      <td>48</td>\n",
       "      <td>BE</td>\n",
       "      <td>2314.01</td>\n",
       "      <td>2282.97</td>\n",
       "      <td>2172.19</td>\n",
       "    </tr>\n",
       "    <tr>\n",
       "      <th>2</th>\n",
       "      <td>1036288991</td>\n",
       "      <td>The Liaisons:  a new twist on the old standards</td>\n",
       "      <td>Jazz</td>\n",
       "      <td>Music</td>\n",
       "      <td>USD</td>\n",
       "      <td>1/1/2016</td>\n",
       "      <td>5000</td>\n",
       "      <td>11/9/2015 20:12</td>\n",
       "      <td>5630.0</td>\n",
       "      <td>successful</td>\n",
       "      <td>116</td>\n",
       "      <td>US</td>\n",
       "      <td>5630.00</td>\n",
       "      <td>5630.00</td>\n",
       "      <td>5000.00</td>\n",
       "    </tr>\n",
       "  </tbody>\n",
       "</table>\n",
       "</div>"
      ],
      "text/plain": [
       "           ID                                               name     category  \\\n",
       "0  1015685046  Organic Tattoo remains 10 days (Self use & cus...  Accessories   \n",
       "1  1019043170  Handcrafted leather wallet | key holder | card...  Accessories   \n",
       "2  1036288991    The Liaisons:  a new twist on the old standards         Jazz   \n",
       "\n",
       "  main_category currency  deadline  goal          launched  pledged  \\\n",
       "0       Fashion      CAD  1/1/2016  6000   12/7/2015 18:21    100.0   \n",
       "1       Fashion      EUR  1/1/2016  2000  12/11/2015 10:52   2102.0   \n",
       "2         Music      USD  1/1/2016  5000   11/9/2015 20:12   5630.0   \n",
       "\n",
       "        state  backers country  usd pledged  usd_pledged_real  usd_goal_real  \n",
       "0      failed        2      CA        74.84             70.89        4253.51  \n",
       "1  successful       48      BE      2314.01           2282.97        2172.19  \n",
       "2  successful      116      US      5630.00           5630.00        5000.00  "
      ]
     },
     "execution_count": 1,
     "metadata": {},
     "output_type": "execute_result"
    }
   ],
   "source": [
    "import pandas as pd\n",
    "RawData = pd.read_csv(\"FundingProject.csv\")\n",
    "RawData.head(3)"
   ]
  },
  {
   "cell_type": "code",
   "execution_count": 2,
   "metadata": {},
   "outputs": [
    {
     "name": "stdout",
     "output_type": "stream",
     "text": [
      "<class 'pandas.core.frame.DataFrame'>\n",
      "RangeIndex: 110815 entries, 0 to 110814\n",
      "Data columns (total 15 columns):\n",
      "ID                  110815 non-null int64\n",
      "name                110814 non-null object\n",
      "category            110815 non-null object\n",
      "main_category       110815 non-null object\n",
      "currency            110815 non-null object\n",
      "deadline            110815 non-null object\n",
      "goal                110815 non-null int64\n",
      "launched            110815 non-null object\n",
      "pledged             110815 non-null float64\n",
      "state               110815 non-null object\n",
      "backers             110815 non-null int64\n",
      "country             110815 non-null object\n",
      "usd pledged         109999 non-null float64\n",
      "usd_pledged_real    110815 non-null float64\n",
      "usd_goal_real       110815 non-null float64\n",
      "dtypes: float64(4), int64(3), object(8)\n",
      "memory usage: 12.7+ MB\n"
     ]
    }
   ],
   "source": [
    "RawData.info()"
   ]
  },
  {
   "cell_type": "markdown",
   "metadata": {},
   "source": [
    "# Process Data"
   ]
  },
  {
   "cell_type": "code",
   "execution_count": 3,
   "metadata": {},
   "outputs": [],
   "source": [
    "import pandas as pd\n",
    "ProcessedData = pd.DataFrame()"
   ]
  },
  {
   "cell_type": "markdown",
   "metadata": {},
   "source": [
    "### Project status "
   ]
  },
  {
   "cell_type": "code",
   "execution_count": 4,
   "metadata": {},
   "outputs": [
    {
     "data": {
      "text/plain": [
       "count     110815\n",
       "unique         6\n",
       "top       failed\n",
       "freq       58155\n",
       "Name: state, dtype: object"
      ]
     },
     "execution_count": 4,
     "metadata": {},
     "output_type": "execute_result"
    }
   ],
   "source": [
    "RawData[\"state\"].describe()"
   ]
  },
  {
   "cell_type": "code",
   "execution_count": 5,
   "metadata": {},
   "outputs": [
    {
     "data": {
      "text/plain": [
       "failed        58155\n",
       "successful    38172\n",
       "canceled      13178\n",
       "suspended       707\n",
       "undefined       596\n",
       "live              7\n",
       "Name: state, dtype: int64"
      ]
     },
     "execution_count": 5,
     "metadata": {},
     "output_type": "execute_result"
    }
   ],
   "source": [
    "RawData[\"state\"].value_counts()"
   ]
  },
  {
   "cell_type": "code",
   "execution_count": 6,
   "metadata": {},
   "outputs": [],
   "source": [
    "ProcessedData[\"Status\"] = (RawData[\"pledged\"] > RawData[\"goal\"]).astype(\"uint8\")"
   ]
  },
  {
   "cell_type": "code",
   "execution_count": 7,
   "metadata": {},
   "outputs": [
    {
     "name": "stdout",
     "output_type": "stream",
     "text": [
      "<class 'pandas.core.frame.DataFrame'>\n",
      "RangeIndex: 110815 entries, 0 to 110814\n",
      "Data columns (total 1 columns):\n",
      "Status    110815 non-null uint8\n",
      "dtypes: uint8(1)\n",
      "memory usage: 108.3 KB\n"
     ]
    }
   ],
   "source": [
    "ProcessedData.info()"
   ]
  },
  {
   "cell_type": "code",
   "execution_count": 8,
   "metadata": {},
   "outputs": [
    {
     "data": {
      "text/plain": [
       "0    72983\n",
       "1    37832\n",
       "Name: Status, dtype: int64"
      ]
     },
     "execution_count": 8,
     "metadata": {},
     "output_type": "execute_result"
    }
   ],
   "source": [
    "ProcessedData[\"Status\"].value_counts()"
   ]
  },
  {
   "cell_type": "markdown",
   "metadata": {},
   "source": [
    "### Year, Month, Day, Day of Week"
   ]
  },
  {
   "cell_type": "code",
   "execution_count": 9,
   "metadata": {},
   "outputs": [],
   "source": [
    "from datetime import datetime"
   ]
  },
  {
   "cell_type": "code",
   "execution_count": 10,
   "metadata": {},
   "outputs": [],
   "source": [
    "LaunchDates = RawData[\"launched\"].apply(lambda x: datetime.strptime(x, \"%m/%d/%Y %H:%M\"))"
   ]
  },
  {
   "cell_type": "code",
   "execution_count": 11,
   "metadata": {},
   "outputs": [],
   "source": [
    "EndDates = RawData[\"deadline\"].apply(lambda x: datetime.strptime(x, \"%m/%d/%Y\"))"
   ]
  },
  {
   "cell_type": "code",
   "execution_count": 12,
   "metadata": {},
   "outputs": [],
   "source": [
    "ProcessedData[\"YearLaunched\"] = LaunchDates.apply(lambda x: x.year).astype(\"uint16\")\n",
    "ProcessedData[\"YearLaunched\"] = ProcessedData[\"YearLaunched\"] - ProcessedData[\"YearLaunched\"].min() + 1"
   ]
  },
  {
   "cell_type": "code",
   "execution_count": 13,
   "metadata": {},
   "outputs": [
    {
     "data": {
      "text/plain": [
       "count    110815.000000\n",
       "mean          2.401327\n",
       "std           0.568251\n",
       "min           1.000000\n",
       "25%           2.000000\n",
       "50%           2.000000\n",
       "75%           3.000000\n",
       "max           3.000000\n",
       "Name: YearLaunched, dtype: float64"
      ]
     },
     "execution_count": 13,
     "metadata": {},
     "output_type": "execute_result"
    }
   ],
   "source": [
    "ProcessedData[\"YearLaunched\"].describe()"
   ]
  },
  {
   "cell_type": "code",
   "execution_count": 14,
   "metadata": {},
   "outputs": [],
   "source": [
    "ProcessedData[\"MonthLaunched\"] = LaunchDates.apply(lambda x: x.month).astype(\"uint8\")"
   ]
  },
  {
   "cell_type": "code",
   "execution_count": 15,
   "metadata": {},
   "outputs": [],
   "source": [
    "ProcessedData[\"DayLaunched\"] = LaunchDates.apply(lambda x: x.day).astype(\"uint8\")"
   ]
  },
  {
   "cell_type": "code",
   "execution_count": 16,
   "metadata": {},
   "outputs": [],
   "source": [
    "ProcessedData[\"DayOfWeekLaunched\"] = LaunchDates.apply(lambda x: x.weekday()).replace(range(7), [\"Mon\", \"Tue\", \"Wed\", \"Thu\", \"Fri\", \"Sat\", \"Sun\"]).astype(\"category\")"
   ]
  },
  {
   "cell_type": "code",
   "execution_count": 17,
   "metadata": {},
   "outputs": [
    {
     "data": {
      "text/plain": [
       "Tue    23704\n",
       "Wed    19257\n",
       "Mon    18988\n",
       "Thu    16789\n",
       "Fri    15839\n",
       "Sat     9222\n",
       "Sun     7016\n",
       "Name: DayOfWeekLaunched, dtype: int64"
      ]
     },
     "execution_count": 17,
     "metadata": {},
     "output_type": "execute_result"
    }
   ],
   "source": [
    "ProcessedData[\"DayOfWeekLaunched\"].value_counts()"
   ]
  },
  {
   "cell_type": "code",
   "execution_count": 18,
   "metadata": {},
   "outputs": [
    {
     "data": {
      "text/plain": [
       "0   2015-12-07 18:21:00\n",
       "1   2015-12-11 10:52:00\n",
       "2   2015-11-09 20:12:00\n",
       "3   2015-11-24 02:08:00\n",
       "4   2015-11-17 12:30:00\n",
       "Name: launched, dtype: datetime64[ns]"
      ]
     },
     "execution_count": 18,
     "metadata": {},
     "output_type": "execute_result"
    }
   ],
   "source": [
    "LaunchDates.head()"
   ]
  },
  {
   "cell_type": "code",
   "execution_count": 19,
   "metadata": {},
   "outputs": [
    {
     "data": {
      "text/html": [
       "<div>\n",
       "<style scoped>\n",
       "    .dataframe tbody tr th:only-of-type {\n",
       "        vertical-align: middle;\n",
       "    }\n",
       "\n",
       "    .dataframe tbody tr th {\n",
       "        vertical-align: top;\n",
       "    }\n",
       "\n",
       "    .dataframe thead th {\n",
       "        text-align: right;\n",
       "    }\n",
       "</style>\n",
       "<table border=\"1\" class=\"dataframe\">\n",
       "  <thead>\n",
       "    <tr style=\"text-align: right;\">\n",
       "      <th></th>\n",
       "      <th>Status</th>\n",
       "      <th>YearLaunched</th>\n",
       "      <th>MonthLaunched</th>\n",
       "      <th>DayLaunched</th>\n",
       "      <th>DayOfWeekLaunched</th>\n",
       "    </tr>\n",
       "  </thead>\n",
       "  <tbody>\n",
       "    <tr>\n",
       "      <th>0</th>\n",
       "      <td>0</td>\n",
       "      <td>1</td>\n",
       "      <td>12</td>\n",
       "      <td>7</td>\n",
       "      <td>Mon</td>\n",
       "    </tr>\n",
       "    <tr>\n",
       "      <th>1</th>\n",
       "      <td>1</td>\n",
       "      <td>1</td>\n",
       "      <td>12</td>\n",
       "      <td>11</td>\n",
       "      <td>Fri</td>\n",
       "    </tr>\n",
       "    <tr>\n",
       "      <th>2</th>\n",
       "      <td>1</td>\n",
       "      <td>1</td>\n",
       "      <td>11</td>\n",
       "      <td>9</td>\n",
       "      <td>Mon</td>\n",
       "    </tr>\n",
       "    <tr>\n",
       "      <th>3</th>\n",
       "      <td>0</td>\n",
       "      <td>1</td>\n",
       "      <td>11</td>\n",
       "      <td>24</td>\n",
       "      <td>Tue</td>\n",
       "    </tr>\n",
       "    <tr>\n",
       "      <th>4</th>\n",
       "      <td>0</td>\n",
       "      <td>1</td>\n",
       "      <td>11</td>\n",
       "      <td>17</td>\n",
       "      <td>Tue</td>\n",
       "    </tr>\n",
       "  </tbody>\n",
       "</table>\n",
       "</div>"
      ],
      "text/plain": [
       "   Status  YearLaunched  MonthLaunched  DayLaunched DayOfWeekLaunched\n",
       "0       0             1             12            7               Mon\n",
       "1       1             1             12           11               Fri\n",
       "2       1             1             11            9               Mon\n",
       "3       0             1             11           24               Tue\n",
       "4       0             1             11           17               Tue"
      ]
     },
     "execution_count": 19,
     "metadata": {},
     "output_type": "execute_result"
    }
   ],
   "source": [
    "ProcessedData.head()"
   ]
  },
  {
   "cell_type": "markdown",
   "metadata": {},
   "source": [
    "### Campaign length (time)"
   ]
  },
  {
   "cell_type": "code",
   "execution_count": 20,
   "metadata": {},
   "outputs": [],
   "source": [
    "from datetime import datetime\n",
    "ProcessedData[\"Duration(Days)\"] = (EndDates - LaunchDates).apply(lambda x: x.days + 1).astype(\"uint8\")"
   ]
  },
  {
   "cell_type": "code",
   "execution_count": 21,
   "metadata": {},
   "outputs": [
    {
     "data": {
      "text/plain": [
       "count    110815.000000\n",
       "mean         33.157849\n",
       "std          11.640541\n",
       "min           1.000000\n",
       "25%          30.000000\n",
       "50%          30.000000\n",
       "75%          35.000000\n",
       "max          90.000000\n",
       "Name: Duration(Days), dtype: float64"
      ]
     },
     "execution_count": 21,
     "metadata": {},
     "output_type": "execute_result"
    }
   ],
   "source": [
    "ProcessedData[\"Duration(Days)\"].describe()"
   ]
  },
  {
   "cell_type": "code",
   "execution_count": 22,
   "metadata": {},
   "outputs": [
    {
     "data": {
      "text/plain": [
       "<matplotlib.axes._subplots.AxesSubplot at 0x28ab1a8d2c8>"
      ]
     },
     "execution_count": 22,
     "metadata": {},
     "output_type": "execute_result"
    },
    {
     "data": {
      "image/png": "[encoded data removed]",
      "text/plain": [
       "<Figure size 432x288 with 1 Axes>"
      ]
     },
     "metadata": {
      "needs_background": "light"
     },
     "output_type": "display_data"
    }
   ],
   "source": [
    "ProcessedData[\"Duration(Days)\"].hist()"
   ]
  },
  {
   "cell_type": "markdown",
   "metadata": {},
   "source": [
    "### Category and type"
   ]
  },
  {
   "cell_type": "code",
   "execution_count": 23,
   "metadata": {},
   "outputs": [],
   "source": [
    "ProcessedData[\"Category\"] = RawData[\"main_category\"].astype(\"category\")"
   ]
  },
  {
   "cell_type": "code",
   "execution_count": 24,
   "metadata": {},
   "outputs": [],
   "source": [
    "#ProcessedData[\"Subcategory\"] = RawData[\"category\"].astype(\"category\")"
   ]
  },
  {
   "cell_type": "code",
   "execution_count": 25,
   "metadata": {},
   "outputs": [],
   "source": [
    "#ProcessedData[\"OverallCategory\"] = (RawData[\"main_category\"] + RawData[\"category\"]).astype(\"category\")"
   ]
  },
  {
   "cell_type": "markdown",
   "metadata": {},
   "source": [
    "### Funding Goal\n",
    "Use USD for consistency"
   ]
  },
  {
   "cell_type": "code",
   "execution_count": 26,
   "metadata": {},
   "outputs": [
    {
     "data": {
      "text/plain": [
       "count    1.108150e+05\n",
       "mean     5.388820e+04\n",
       "std      1.271062e+06\n",
       "min      4.900000e-01\n",
       "25%      2.000000e+03\n",
       "50%      6.214070e+03\n",
       "75%      2.000000e+04\n",
       "max      1.073699e+08\n",
       "Name: usd_goal_real, dtype: float64"
      ]
     },
     "execution_count": 26,
     "metadata": {},
     "output_type": "execute_result"
    }
   ],
   "source": [
    "RawData[\"usd_goal_real\"].describe()"
   ]
  },
  {
   "cell_type": "code",
   "execution_count": 27,
   "metadata": {},
   "outputs": [
    {
     "data": {
      "text/plain": [
       "<matplotlib.axes._subplots.AxesSubplot at 0x28ab35c0e08>"
      ]
     },
     "execution_count": 27,
     "metadata": {},
     "output_type": "execute_result"
    },
    {
     "data": {
      "image/png": "[encoded data removed]",
      "text/plain": [
       "<Figure size 432x288 with 1 Axes>"
      ]
     },
     "metadata": {
      "needs_background": "light"
     },
     "output_type": "display_data"
    }
   ],
   "source": [
    "RawData[\"usd_goal_real\"].hist()"
   ]
  },
  {
   "cell_type": "code",
   "execution_count": 28,
   "metadata": {},
   "outputs": [],
   "source": [
    "import numpy as np\n",
    "ProcessedData[\"log(FundingGoal)\"] = RawData[\"usd_goal_real\"].apply(np.log)"
   ]
  },
  {
   "cell_type": "code",
   "execution_count": 29,
   "metadata": {},
   "outputs": [
    {
     "data": {
      "text/plain": [
       "<matplotlib.axes._subplots.AxesSubplot at 0x28ab3646608>"
      ]
     },
     "execution_count": 29,
     "metadata": {},
     "output_type": "execute_result"
    },
    {
     "data": {
      "image/png": "[encoded data removed]",
      "text/plain": [
       "<Figure size 432x288 with 1 Axes>"
      ]
     },
     "metadata": {
      "needs_background": "light"
     },
     "output_type": "display_data"
    }
   ],
   "source": [
    "ProcessedData[\"log(FundingGoal)\"].hist()"
   ]
  },
  {
   "cell_type": "markdown",
   "metadata": {},
   "source": [
    "### Countries"
   ]
  },
  {
   "cell_type": "code",
   "execution_count": 30,
   "metadata": {},
   "outputs": [
    {
     "data": {
      "text/plain": [
       "US      71905\n",
       "GB      11991\n",
       "CA       5555\n",
       "AU       3181\n",
       "DE       2865\n",
       "IT       2195\n",
       "FR       2084\n",
       "ES       1741\n",
       "MX       1633\n",
       "NL       1124\n",
       "SE        982\n",
       "N,0\"      816\n",
       "CH        611\n",
       "NZ        607\n",
       "DK        597\n",
       "HK        577\n",
       "SG        523\n",
       "IE        466\n",
       "BE        465\n",
       "AT        443\n",
       "NO        378\n",
       "LU         47\n",
       "JP         29\n",
       "Name: country, dtype: int64"
      ]
     },
     "execution_count": 30,
     "metadata": {},
     "output_type": "execute_result"
    }
   ],
   "source": [
    "RawData[\"country\"].value_counts()"
   ]
  },
  {
   "cell_type": "code",
   "execution_count": 31,
   "metadata": {},
   "outputs": [],
   "source": [
    "#ProcessedData[\"Country\"] = RawData[\"country\"].replace(\"N,0\\\"\", \"NO\").map(pd.read_csv(\"CountryCodes.csv\").set_index(\"Code\")[\"Name\"].to_dict()).astype(\"category\")"
   ]
  },
  {
   "cell_type": "code",
   "execution_count": 32,
   "metadata": {},
   "outputs": [],
   "source": [
    "#ProcessedData[\"Country\"].value_counts()"
   ]
  },
  {
   "cell_type": "code",
   "execution_count": 33,
   "metadata": {},
   "outputs": [],
   "source": [
    "# This kinda begs the question because the pledged amount determines success\n",
    "#ProcessedData[\"FundingRate(USD/Day)\"] = RawData[\"usd_pledged_real\"] / ProcessedData[\"Duration(Days)\"]"
   ]
  },
  {
   "cell_type": "markdown",
   "metadata": {},
   "source": [
    "# Drop extra data"
   ]
  },
  {
   "cell_type": "code",
   "execution_count": 34,
   "metadata": {},
   "outputs": [],
   "source": [
    "ProcessedData[\"Name\"] = RawData[\"name\"].fillna(\"\")  # Save for later"
   ]
  },
  {
   "cell_type": "code",
   "execution_count": 35,
   "metadata": {},
   "outputs": [
    {
     "data": {
      "text/html": [
       "<div>\n",
       "<style scoped>\n",
       "    .dataframe tbody tr th:only-of-type {\n",
       "        vertical-align: middle;\n",
       "    }\n",
       "\n",
       "    .dataframe tbody tr th {\n",
       "        vertical-align: top;\n",
       "    }\n",
       "\n",
       "    .dataframe thead th {\n",
       "        text-align: right;\n",
       "    }\n",
       "</style>\n",
       "<table border=\"1\" class=\"dataframe\">\n",
       "  <thead>\n",
       "    <tr style=\"text-align: right;\">\n",
       "      <th></th>\n",
       "      <th>index</th>\n",
       "      <th>Status</th>\n",
       "      <th>YearLaunched</th>\n",
       "      <th>MonthLaunched</th>\n",
       "      <th>DayLaunched</th>\n",
       "      <th>DayOfWeekLaunched</th>\n",
       "      <th>Duration(Days)</th>\n",
       "      <th>Category</th>\n",
       "      <th>log(FundingGoal)</th>\n",
       "      <th>Name</th>\n",
       "      <th>State</th>\n",
       "    </tr>\n",
       "  </thead>\n",
       "  <tbody>\n",
       "    <tr>\n",
       "      <th>0</th>\n",
       "      <td>0</td>\n",
       "      <td>0</td>\n",
       "      <td>1</td>\n",
       "      <td>12</td>\n",
       "      <td>7</td>\n",
       "      <td>Mon</td>\n",
       "      <td>25</td>\n",
       "      <td>Fashion</td>\n",
       "      <td>8.355500</td>\n",
       "      <td>Organic Tattoo remains 10 days (Self use &amp; cus...</td>\n",
       "      <td>failed</td>\n",
       "    </tr>\n",
       "    <tr>\n",
       "      <th>1</th>\n",
       "      <td>1</td>\n",
       "      <td>1</td>\n",
       "      <td>1</td>\n",
       "      <td>12</td>\n",
       "      <td>11</td>\n",
       "      <td>Fri</td>\n",
       "      <td>21</td>\n",
       "      <td>Fashion</td>\n",
       "      <td>7.683491</td>\n",
       "      <td>Handcrafted leather wallet | key holder | card...</td>\n",
       "      <td>successful</td>\n",
       "    </tr>\n",
       "    <tr>\n",
       "      <th>2</th>\n",
       "      <td>2</td>\n",
       "      <td>1</td>\n",
       "      <td>1</td>\n",
       "      <td>11</td>\n",
       "      <td>9</td>\n",
       "      <td>Mon</td>\n",
       "      <td>53</td>\n",
       "      <td>Music</td>\n",
       "      <td>8.517193</td>\n",
       "      <td>The Liaisons:  a new twist on the old standards</td>\n",
       "      <td>successful</td>\n",
       "    </tr>\n",
       "    <tr>\n",
       "      <th>3</th>\n",
       "      <td>3</td>\n",
       "      <td>0</td>\n",
       "      <td>1</td>\n",
       "      <td>11</td>\n",
       "      <td>24</td>\n",
       "      <td>Tue</td>\n",
       "      <td>38</td>\n",
       "      <td>Publishing</td>\n",
       "      <td>9.903488</td>\n",
       "      <td>The Many Encounters of Bosley Bear</td>\n",
       "      <td>failed</td>\n",
       "    </tr>\n",
       "    <tr>\n",
       "      <th>4</th>\n",
       "      <td>4</td>\n",
       "      <td>0</td>\n",
       "      <td>1</td>\n",
       "      <td>11</td>\n",
       "      <td>17</td>\n",
       "      <td>Tue</td>\n",
       "      <td>45</td>\n",
       "      <td>Fashion</td>\n",
       "      <td>10.973337</td>\n",
       "      <td>Swift &amp; Co | Innovative Men's Footwear</td>\n",
       "      <td>failed</td>\n",
       "    </tr>\n",
       "  </tbody>\n",
       "</table>\n",
       "</div>"
      ],
      "text/plain": [
       "   index  Status  YearLaunched  MonthLaunched  DayLaunched DayOfWeekLaunched  \\\n",
       "0      0       0             1             12            7               Mon   \n",
       "1      1       1             1             12           11               Fri   \n",
       "2      2       1             1             11            9               Mon   \n",
       "3      3       0             1             11           24               Tue   \n",
       "4      4       0             1             11           17               Tue   \n",
       "\n",
       "   Duration(Days)    Category  log(FundingGoal)  \\\n",
       "0              25     Fashion          8.355500   \n",
       "1              21     Fashion          7.683491   \n",
       "2              53       Music          8.517193   \n",
       "3              38  Publishing          9.903488   \n",
       "4              45     Fashion         10.973337   \n",
       "\n",
       "                                                Name       State  \n",
       "0  Organic Tattoo remains 10 days (Self use & cus...      failed  \n",
       "1  Handcrafted leather wallet | key holder | card...  successful  \n",
       "2    The Liaisons:  a new twist on the old standards  successful  \n",
       "3                 The Many Encounters of Bosley Bear      failed  \n",
       "4             Swift & Co | Innovative Men's Footwear      failed  "
      ]
     },
     "execution_count": 35,
     "metadata": {},
     "output_type": "execute_result"
    }
   ],
   "source": [
    "# Save State to ensure alignment with other tables\n",
    "ProcessedData[\"State\"] = RawData[\"state\"]\n",
    "ProcessedData = ProcessedData.loc[ProcessedData[\"State\"].isin([\"successful\", \"failed\"]), :].reset_index()\n",
    "ProcessedData.head()"
   ]
  },
  {
   "cell_type": "code",
   "execution_count": 36,
   "metadata": {},
   "outputs": [],
   "source": [
    "def ShowCorrelationHeatmap(DataFrame, FigureSize = (10, 10)):\n",
    "    import matplotlib.pyplot as plt\n",
    "    import seaborn as sns\n",
    "    %matplotlib inline\n",
    "    \n",
    "    plt.close()\n",
    "    axes = plt.figure(figsize = FigureSize).add_subplot(111)\n",
    "    sns.heatmap(pd.DataFrame(DataFrame.corr(method = \"spearman\")[\"Status\"]).T, annot = True)\n",
    "\n",
    "    # Fix for cutoff top and bottom (Apparently bug with matplotlib version 3.1.1)\n",
    "    bottom, top = plt.ylim()\n",
    "    plt.ylim(bottom + 0.5, top - 0.5)\n",
    "\n",
    "    plt.show()"
   ]
  },
  {
   "cell_type": "code",
   "execution_count": 37,
   "metadata": {
    "scrolled": true
   },
   "outputs": [
    {
     "data": {
      "image/png": "[encoded data removed]",
      "text/plain": [
       "<Figure size 1080x216 with 2 Axes>"
      ]
     },
     "metadata": {
      "needs_background": "light"
     },
     "output_type": "display_data"
    }
   ],
   "source": [
    "ShowCorrelationHeatmap(ProcessedData, FigureSize = (15, 3))"
   ]
  },
  {
   "cell_type": "code",
   "execution_count": 38,
   "metadata": {},
   "outputs": [],
   "source": [
    "#ProcessedData.drop([\"Subcategory\", \"OverallCategory\", \"Country\"], axis = 1, inplace = True)"
   ]
  },
  {
   "cell_type": "markdown",
   "metadata": {},
   "source": [
    "# Modeling"
   ]
  },
  {
   "cell_type": "code",
   "execution_count": 39,
   "metadata": {},
   "outputs": [],
   "source": [
    "ProcessedData.dropna(inplace = True)"
   ]
  },
  {
   "cell_type": "code",
   "execution_count": 40,
   "metadata": {},
   "outputs": [
    {
     "data": {
      "text/plain": [
       "0    59133\n",
       "1    37194\n",
       "Name: Status, dtype: int64"
      ]
     },
     "execution_count": 40,
     "metadata": {},
     "output_type": "execute_result"
    }
   ],
   "source": [
    "ProcessedData[\"Status\"].value_counts()"
   ]
  },
  {
   "cell_type": "code",
   "execution_count": 41,
   "metadata": {
    "scrolled": true
   },
   "outputs": [
    {
     "name": "stdout",
     "output_type": "stream",
     "text": [
      "index : 0  -  0\n",
      "Status : 96327  -  0\n",
      "YearLaunched : 96327  -  0\n",
      "MonthLaunched : 96327  -  0\n",
      "DayLaunched : 96327  -  0\n",
      "DayOfWeekLaunched : 96327  -  0\n",
      "Duration(Days) : 96325  -  0\n",
      "Category : 96327  -  0\n",
      "log(FundingGoal) : 81443  -  0\n",
      "Name : 353  -  0\n",
      "State : 96327  -  0\n"
     ]
    }
   ],
   "source": [
    "# Show dupes and null counts per column\n",
    "for column in ProcessedData.columns.to_list():\n",
    "    print(column, \":\", ProcessedData[column].duplicated(keep = False).sum(), \" - \" , ProcessedData[column].isnull().sum())"
   ]
  },
  {
   "cell_type": "code",
   "execution_count": 42,
   "metadata": {},
   "outputs": [
    {
     "name": "stdout",
     "output_type": "stream",
     "text": [
      "<class 'pandas.core.frame.DataFrame'>\n",
      "Int64Index: 96327 entries, 0 to 96326\n",
      "Data columns (total 11 columns):\n",
      "index                96327 non-null int64\n",
      "Status               96327 non-null uint8\n",
      "YearLaunched         96327 non-null uint16\n",
      "MonthLaunched        96327 non-null uint8\n",
      "DayLaunched          96327 non-null uint8\n",
      "DayOfWeekLaunched    96327 non-null category\n",
      "Duration(Days)       96327 non-null uint8\n",
      "Category             96327 non-null category\n",
      "log(FundingGoal)     96327 non-null float64\n",
      "Name                 96327 non-null object\n",
      "State                96327 non-null object\n",
      "dtypes: category(2), float64(1), int64(1), object(2), uint16(1), uint8(4)\n",
      "memory usage: 4.4+ MB\n"
     ]
    }
   ],
   "source": [
    "ProcessedData.info()"
   ]
  },
  {
   "cell_type": "markdown",
   "metadata": {},
   "source": [
    "## Generate baseline model without using title field"
   ]
  },
  {
   "cell_type": "code",
   "execution_count": 43,
   "metadata": {},
   "outputs": [],
   "source": [
    "TrainingData = pd.get_dummies(ProcessedData.drop([\"Name\", \"State\"], axis = 1), drop_first = True)"
   ]
  },
  {
   "cell_type": "code",
   "execution_count": 44,
   "metadata": {},
   "outputs": [
    {
     "data": {
      "text/html": [
       "<div>\n",
       "<style scoped>\n",
       "    .dataframe tbody tr th:only-of-type {\n",
       "        vertical-align: middle;\n",
       "    }\n",
       "\n",
       "    .dataframe tbody tr th {\n",
       "        vertical-align: top;\n",
       "    }\n",
       "\n",
       "    .dataframe thead th {\n",
       "        text-align: right;\n",
       "    }\n",
       "</style>\n",
       "<table border=\"1\" class=\"dataframe\">\n",
       "  <thead>\n",
       "    <tr style=\"text-align: right;\">\n",
       "      <th></th>\n",
       "      <th>index</th>\n",
       "      <th>Status</th>\n",
       "      <th>YearLaunched</th>\n",
       "      <th>MonthLaunched</th>\n",
       "      <th>DayLaunched</th>\n",
       "      <th>Duration(Days)</th>\n",
       "      <th>log(FundingGoal)</th>\n",
       "      <th>DayOfWeekLaunched_Mon</th>\n",
       "      <th>DayOfWeekLaunched_Sat</th>\n",
       "      <th>DayOfWeekLaunched_Sun</th>\n",
       "      <th>...</th>\n",
       "      <th>Category_Fashion</th>\n",
       "      <th>Category_Film &amp; Video</th>\n",
       "      <th>Category_Food</th>\n",
       "      <th>Category_Games</th>\n",
       "      <th>Category_Journalism</th>\n",
       "      <th>Category_Music</th>\n",
       "      <th>Category_Photography</th>\n",
       "      <th>Category_Publishing</th>\n",
       "      <th>Category_Technology</th>\n",
       "      <th>Category_Theater</th>\n",
       "    </tr>\n",
       "  </thead>\n",
       "  <tbody>\n",
       "    <tr>\n",
       "      <th>0</th>\n",
       "      <td>0</td>\n",
       "      <td>0</td>\n",
       "      <td>1</td>\n",
       "      <td>12</td>\n",
       "      <td>7</td>\n",
       "      <td>25</td>\n",
       "      <td>8.355500</td>\n",
       "      <td>1</td>\n",
       "      <td>0</td>\n",
       "      <td>0</td>\n",
       "      <td>...</td>\n",
       "      <td>1</td>\n",
       "      <td>0</td>\n",
       "      <td>0</td>\n",
       "      <td>0</td>\n",
       "      <td>0</td>\n",
       "      <td>0</td>\n",
       "      <td>0</td>\n",
       "      <td>0</td>\n",
       "      <td>0</td>\n",
       "      <td>0</td>\n",
       "    </tr>\n",
       "    <tr>\n",
       "      <th>1</th>\n",
       "      <td>1</td>\n",
       "      <td>1</td>\n",
       "      <td>1</td>\n",
       "      <td>12</td>\n",
       "      <td>11</td>\n",
       "      <td>21</td>\n",
       "      <td>7.683491</td>\n",
       "      <td>0</td>\n",
       "      <td>0</td>\n",
       "      <td>0</td>\n",
       "      <td>...</td>\n",
       "      <td>1</td>\n",
       "      <td>0</td>\n",
       "      <td>0</td>\n",
       "      <td>0</td>\n",
       "      <td>0</td>\n",
       "      <td>0</td>\n",
       "      <td>0</td>\n",
       "      <td>0</td>\n",
       "      <td>0</td>\n",
       "      <td>0</td>\n",
       "    </tr>\n",
       "    <tr>\n",
       "      <th>2</th>\n",
       "      <td>2</td>\n",
       "      <td>1</td>\n",
       "      <td>1</td>\n",
       "      <td>11</td>\n",
       "      <td>9</td>\n",
       "      <td>53</td>\n",
       "      <td>8.517193</td>\n",
       "      <td>1</td>\n",
       "      <td>0</td>\n",
       "      <td>0</td>\n",
       "      <td>...</td>\n",
       "      <td>0</td>\n",
       "      <td>0</td>\n",
       "      <td>0</td>\n",
       "      <td>0</td>\n",
       "      <td>0</td>\n",
       "      <td>1</td>\n",
       "      <td>0</td>\n",
       "      <td>0</td>\n",
       "      <td>0</td>\n",
       "      <td>0</td>\n",
       "    </tr>\n",
       "  </tbody>\n",
       "</table>\n",
       "<p>3 rows × 27 columns</p>\n",
       "</div>"
      ],
      "text/plain": [
       "   index  Status  YearLaunched  MonthLaunched  DayLaunched  Duration(Days)  \\\n",
       "0      0       0             1             12            7              25   \n",
       "1      1       1             1             12           11              21   \n",
       "2      2       1             1             11            9              53   \n",
       "\n",
       "   log(FundingGoal)  DayOfWeekLaunched_Mon  DayOfWeekLaunched_Sat  \\\n",
       "0          8.355500                      1                      0   \n",
       "1          7.683491                      0                      0   \n",
       "2          8.517193                      1                      0   \n",
       "\n",
       "   DayOfWeekLaunched_Sun  ...  Category_Fashion  Category_Film & Video  \\\n",
       "0                      0  ...                 1                      0   \n",
       "1                      0  ...                 1                      0   \n",
       "2                      0  ...                 0                      0   \n",
       "\n",
       "   Category_Food  Category_Games  Category_Journalism  Category_Music  \\\n",
       "0              0               0                    0               0   \n",
       "1              0               0                    0               0   \n",
       "2              0               0                    0               1   \n",
       "\n",
       "   Category_Photography  Category_Publishing  Category_Technology  \\\n",
       "0                     0                    0                    0   \n",
       "1                     0                    0                    0   \n",
       "2                     0                    0                    0   \n",
       "\n",
       "   Category_Theater  \n",
       "0                 0  \n",
       "1                 0  \n",
       "2                 0  \n",
       "\n",
       "[3 rows x 27 columns]"
      ]
     },
     "execution_count": 44,
     "metadata": {},
     "output_type": "execute_result"
    }
   ],
   "source": [
    "TrainingData.head(3)"
   ]
  },
  {
   "cell_type": "code",
   "execution_count": 45,
   "metadata": {
    "scrolled": false
   },
   "outputs": [
    {
     "name": "stdout",
     "output_type": "stream",
     "text": [
      "<class 'pandas.core.frame.DataFrame'>\n",
      "Int64Index: 96327 entries, 0 to 96326\n",
      "Data columns (total 27 columns):\n",
      "index                    96327 non-null int64\n",
      "Status                   96327 non-null uint8\n",
      "YearLaunched             96327 non-null uint16\n",
      "MonthLaunched            96327 non-null uint8\n",
      "DayLaunched              96327 non-null uint8\n",
      "Duration(Days)           96327 non-null uint8\n",
      "log(FundingGoal)         96327 non-null float64\n",
      "DayOfWeekLaunched_Mon    96327 non-null uint8\n",
      "DayOfWeekLaunched_Sat    96327 non-null uint8\n",
      "DayOfWeekLaunched_Sun    96327 non-null uint8\n",
      "DayOfWeekLaunched_Thu    96327 non-null uint8\n",
      "DayOfWeekLaunched_Tue    96327 non-null uint8\n",
      "DayOfWeekLaunched_Wed    96327 non-null uint8\n",
      "Category_Comics          96327 non-null uint8\n",
      "Category_Crafts          96327 non-null uint8\n",
      "Category_Dance           96327 non-null uint8\n",
      "Category_Design          96327 non-null uint8\n",
      "Category_Fashion         96327 non-null uint8\n",
      "Category_Film & Video    96327 non-null uint8\n",
      "Category_Food            96327 non-null uint8\n",
      "Category_Games           96327 non-null uint8\n",
      "Category_Journalism      96327 non-null uint8\n",
      "Category_Music           96327 non-null uint8\n",
      "Category_Photography     96327 non-null uint8\n",
      "Category_Publishing      96327 non-null uint8\n",
      "Category_Technology      96327 non-null uint8\n",
      "Category_Theater         96327 non-null uint8\n",
      "dtypes: float64(1), int64(1), uint16(1), uint8(24)\n",
      "memory usage: 4.6 MB\n"
     ]
    }
   ],
   "source": [
    "TrainingData.info()"
   ]
  },
  {
   "cell_type": "code",
   "execution_count": 46,
   "metadata": {},
   "outputs": [],
   "source": [
    "from datetime import datetime\n",
    "import pandas as pd\n",
    "import numpy as np\n",
    "from sklearn.metrics import accuracy_score, precision_score, recall_score, f1_score, confusion_matrix\n",
    "from sklearn.model_selection import train_test_split\n",
    "from sklearn.ensemble import GradientBoostingClassifier, RandomForestClassifier, ExtraTreesClassifier\n",
    "from sklearn.tree import DecisionTreeClassifier\n",
    "from xgboost import XGBClassifier\n",
    "from sklearn.naive_bayes import GaussianNB, BernoulliNB, MultinomialNB\n",
    "\n",
    "def AssessClassifierModel(TrainingDataColumns, TrainingDataResults, TestingDataColumns, TestingDataResults, ModelObject):\n",
    "\n",
    "    startTime = datetime.now()\n",
    "    print(\"Starting \" + str(type(ModelObject).__name__) + \" at \" + str(startTime))\n",
    "\n",
    "    ModelObject.fit(TrainingDataColumns, TrainingDataResults)\n",
    "    predictions = ModelObject.predict(TestingDataColumns)\n",
    "\n",
    "    endTime = datetime.now()\n",
    "    positiveValue = TestingDataResults.max()\n",
    "\n",
    "    results = pd.DataFrame().append({\n",
    "        \"Name\" : type(ModelObject).__name__,\n",
    "        \"F1\": f1_score(TestingDataResults, predictions, pos_label = positiveValue),\n",
    "        \"Accuracy\": accuracy_score(TestingDataResults, predictions),\n",
    "        \"Precision\": precision_score(TestingDataResults, predictions, pos_label = positiveValue),\n",
    "        \"Recall\" : recall_score(TestingDataResults, predictions, pos_label = positiveValue),\n",
    "        \"RunTime\" : str(endTime - startTime),\n",
    "        \"ConfusionMatrix\" : confusion_matrix(TestingDataResults, predictions),\n",
    "        \"ModelObject\": ModelObject,\n",
    "    }, ignore_index = True)\n",
    "    \n",
    "    return results\n",
    "\n",
    "def AssessClassifierModelPerformance(TrainTestData, TargetColumnName, ModelObject_List):\n",
    "    train_X, test_X, train_Y, test_Y = train_test_split(TrainTestData.drop(TargetColumnName, axis = 1), TrainTestData[TargetColumnName], test_size = 0.2)\n",
    "    results_list = pd.DataFrame()\n",
    "    \n",
    "    for model in ModelObject_List:\n",
    "        results_list = results_list.append(AssessClassifierModel(train_X, train_Y, test_X, test_Y, model), ignore_index = True)\n",
    "    \n",
    "    trialsPerformanceData = pd.DataFrame()\n",
    "\n",
    "    stats_List = [\"mean\", \"median\", \"min\", \"max\"]\n",
    "    for stat in stats_List:\n",
    "        dataRow = pd.Series(results_list[[\"Accuracy\", \"Precision\", \"Recall\", \"F1\"]].apply(getattr(pd.DataFrame, stat)), name = stat)\n",
    "        trialsPerformanceData = trialsPerformanceData.append(dataRow, ignore_index = True)\n",
    "\n",
    "    trialsPerformanceData.set_index([stats_List], inplace = True)\n",
    "\n",
    "    return results_list, trialsPerformanceData"
   ]
  },
  {
   "cell_type": "code",
   "execution_count": 47,
   "metadata": {
    "scrolled": false
   },
   "outputs": [
    {
     "name": "stdout",
     "output_type": "stream",
     "text": [
      "Starting GaussianNB at 2020-02-08 10:32:45.764098\n",
      "Starting BernoulliNB at 2020-02-08 10:32:45.858068\n",
      "Starting RandomForestClassifier at 2020-02-08 10:32:45.938041\n",
      "Starting DecisionTreeClassifier at 2020-02-08 10:32:55.544969\n",
      "Starting ExtraTreesClassifier at 2020-02-08 10:32:56.100790\n",
      "Starting GradientBoostingClassifier at 2020-02-08 10:33:05.310844\n",
      "Starting XGBClassifier at 2020-02-08 10:33:13.633182\n"
     ]
    }
   ],
   "source": [
    "ClassifierResults_List, ClassifierPerformanceData = AssessClassifierModelPerformance(TrainingData, \"Status\", [\n",
    "    GaussianNB(),\n",
    "    BernoulliNB(),\n",
    "    RandomForestClassifier(),\n",
    "    DecisionTreeClassifier(),\n",
    "    ExtraTreesClassifier(),\n",
    "    GradientBoostingClassifier(),\n",
    "    XGBClassifier(objective = \"reg:squarederror\", tree_method = \"hist\", booster = \"gbtree\", nthread = 8,\n",
    "                 learning_rate = 0.5, max_depth = 6, n_estimators = 100),\n",
    "])"
   ]
  },
  {
   "cell_type": "code",
   "execution_count": 48,
   "metadata": {
    "scrolled": false
   },
   "outputs": [
    {
     "data": {
      "text/html": [
       "<div>\n",
       "<style scoped>\n",
       "    .dataframe tbody tr th:only-of-type {\n",
       "        vertical-align: middle;\n",
       "    }\n",
       "\n",
       "    .dataframe tbody tr th {\n",
       "        vertical-align: top;\n",
       "    }\n",
       "\n",
       "    .dataframe thead th {\n",
       "        text-align: right;\n",
       "    }\n",
       "</style>\n",
       "<table border=\"1\" class=\"dataframe\">\n",
       "  <thead>\n",
       "    <tr style=\"text-align: right;\">\n",
       "      <th></th>\n",
       "      <th>Accuracy</th>\n",
       "      <th>ConfusionMatrix</th>\n",
       "      <th>F1</th>\n",
       "      <th>Name</th>\n",
       "      <th>Precision</th>\n",
       "      <th>Recall</th>\n",
       "      <th>RunTime</th>\n",
       "    </tr>\n",
       "  </thead>\n",
       "  <tbody>\n",
       "    <tr>\n",
       "      <th>0</th>\n",
       "      <td>0.632773</td>\n",
       "      <td>[[9785, 2104], [4971, 2406]]</td>\n",
       "      <td>0.404812</td>\n",
       "      <td>GaussianNB</td>\n",
       "      <td>0.533481</td>\n",
       "      <td>0.326149</td>\n",
       "      <td>0:00:00.063979</td>\n",
       "    </tr>\n",
       "    <tr>\n",
       "      <th>1</th>\n",
       "      <td>0.636769</td>\n",
       "      <td>[[10513, 1376], [5622, 1755]]</td>\n",
       "      <td>0.334031</td>\n",
       "      <td>BernoulliNB</td>\n",
       "      <td>0.560524</td>\n",
       "      <td>0.237902</td>\n",
       "      <td>0:00:00.046984</td>\n",
       "    </tr>\n",
       "    <tr>\n",
       "      <th>2</th>\n",
       "      <td>0.652497</td>\n",
       "      <td>[[9157, 2732], [3963, 3414]]</td>\n",
       "      <td>0.504918</td>\n",
       "      <td>RandomForestClassifier</td>\n",
       "      <td>0.555483</td>\n",
       "      <td>0.462790</td>\n",
       "      <td>0:00:09.575937</td>\n",
       "    </tr>\n",
       "    <tr>\n",
       "      <th>3</th>\n",
       "      <td>0.593636</td>\n",
       "      <td>[[7929, 3960], [3869, 3508]]</td>\n",
       "      <td>0.472617</td>\n",
       "      <td>DecisionTreeClassifier</td>\n",
       "      <td>0.469738</td>\n",
       "      <td>0.475532</td>\n",
       "      <td>0:00:00.524831</td>\n",
       "    </tr>\n",
       "    <tr>\n",
       "      <th>4</th>\n",
       "      <td>0.630178</td>\n",
       "      <td>[[8811, 3078], [4047, 3330]]</td>\n",
       "      <td>0.483134</td>\n",
       "      <td>ExtraTreesClassifier</td>\n",
       "      <td>0.519663</td>\n",
       "      <td>0.451403</td>\n",
       "      <td>0:00:09.176065</td>\n",
       "    </tr>\n",
       "    <tr>\n",
       "      <th>5</th>\n",
       "      <td>0.676996</td>\n",
       "      <td>[[10187, 1702], [4521, 2856]]</td>\n",
       "      <td>0.478592</td>\n",
       "      <td>GradientBoostingClassifier</td>\n",
       "      <td>0.626591</td>\n",
       "      <td>0.387149</td>\n",
       "      <td>0:00:08.290347</td>\n",
       "    </tr>\n",
       "    <tr>\n",
       "      <th>6</th>\n",
       "      <td>0.665369</td>\n",
       "      <td>[[9442, 2447], [4000, 3377]]</td>\n",
       "      <td>0.511628</td>\n",
       "      <td>XGBClassifier</td>\n",
       "      <td>0.579842</td>\n",
       "      <td>0.457774</td>\n",
       "      <td>0:00:02.589171</td>\n",
       "    </tr>\n",
       "  </tbody>\n",
       "</table>\n",
       "</div>"
      ],
      "text/plain": [
       "   Accuracy                ConfusionMatrix        F1  \\\n",
       "0  0.632773   [[9785, 2104], [4971, 2406]]  0.404812   \n",
       "1  0.636769  [[10513, 1376], [5622, 1755]]  0.334031   \n",
       "2  0.652497   [[9157, 2732], [3963, 3414]]  0.504918   \n",
       "3  0.593636   [[7929, 3960], [3869, 3508]]  0.472617   \n",
       "4  0.630178   [[8811, 3078], [4047, 3330]]  0.483134   \n",
       "5  0.676996  [[10187, 1702], [4521, 2856]]  0.478592   \n",
       "6  0.665369   [[9442, 2447], [4000, 3377]]  0.511628   \n",
       "\n",
       "                         Name  Precision    Recall         RunTime  \n",
       "0                  GaussianNB   0.533481  0.326149  0:00:00.063979  \n",
       "1                 BernoulliNB   0.560524  0.237902  0:00:00.046984  \n",
       "2      RandomForestClassifier   0.555483  0.462790  0:00:09.575937  \n",
       "3      DecisionTreeClassifier   0.469738  0.475532  0:00:00.524831  \n",
       "4        ExtraTreesClassifier   0.519663  0.451403  0:00:09.176065  \n",
       "5  GradientBoostingClassifier   0.626591  0.387149  0:00:08.290347  \n",
       "6               XGBClassifier   0.579842  0.457774  0:00:02.589171  "
      ]
     },
     "metadata": {},
     "output_type": "display_data"
    }
   ],
   "source": [
    "with pd.option_context(\"display.max_columns\", None, \"display.max_rows\", None, \"display.max_colwidth\", 40):\n",
    "    display(ClassifierResults_List.drop(\"ModelObject\", axis = 1))"
   ]
  },
  {
   "cell_type": "code",
   "execution_count": 49,
   "metadata": {},
   "outputs": [
    {
     "data": {
      "text/html": [
       "<div>\n",
       "<style scoped>\n",
       "    .dataframe tbody tr th:only-of-type {\n",
       "        vertical-align: middle;\n",
       "    }\n",
       "\n",
       "    .dataframe tbody tr th {\n",
       "        vertical-align: top;\n",
       "    }\n",
       "\n",
       "    .dataframe thead th {\n",
       "        text-align: right;\n",
       "    }\n",
       "</style>\n",
       "<table border=\"1\" class=\"dataframe\">\n",
       "  <thead>\n",
       "    <tr style=\"text-align: right;\">\n",
       "      <th></th>\n",
       "      <th>Accuracy</th>\n",
       "      <th>F1</th>\n",
       "      <th>Precision</th>\n",
       "      <th>Recall</th>\n",
       "    </tr>\n",
       "  </thead>\n",
       "  <tbody>\n",
       "    <tr>\n",
       "      <th>mean</th>\n",
       "      <td>0.641174</td>\n",
       "      <td>0.455676</td>\n",
       "      <td>0.549332</td>\n",
       "      <td>0.399814</td>\n",
       "    </tr>\n",
       "    <tr>\n",
       "      <th>median</th>\n",
       "      <td>0.636769</td>\n",
       "      <td>0.478592</td>\n",
       "      <td>0.555483</td>\n",
       "      <td>0.451403</td>\n",
       "    </tr>\n",
       "    <tr>\n",
       "      <th>min</th>\n",
       "      <td>0.593636</td>\n",
       "      <td>0.334031</td>\n",
       "      <td>0.469738</td>\n",
       "      <td>0.237902</td>\n",
       "    </tr>\n",
       "    <tr>\n",
       "      <th>max</th>\n",
       "      <td>0.676996</td>\n",
       "      <td>0.511628</td>\n",
       "      <td>0.626591</td>\n",
       "      <td>0.475532</td>\n",
       "    </tr>\n",
       "  </tbody>\n",
       "</table>\n",
       "</div>"
      ],
      "text/plain": [
       "        Accuracy        F1  Precision    Recall\n",
       "mean    0.641174  0.455676   0.549332  0.399814\n",
       "median  0.636769  0.478592   0.555483  0.451403\n",
       "min     0.593636  0.334031   0.469738  0.237902\n",
       "max     0.676996  0.511628   0.626591  0.475532"
      ]
     },
     "metadata": {},
     "output_type": "display_data"
    }
   ],
   "source": [
    "with pd.option_context(\"display.max_columns\", None, \"display.max_rows\", None, \"display.max_colwidth\", 40):\n",
    "    display(ClassifierPerformanceData)"
   ]
  },
  {
   "cell_type": "code",
   "execution_count": null,
   "metadata": {},
   "outputs": [],
   "source": []
  },
  {
   "cell_type": "code",
   "execution_count": 50,
   "metadata": {
    "scrolled": false
   },
   "outputs": [
    {
     "data": {
      "text/html": [
       "<div>\n",
       "<style scoped>\n",
       "    .dataframe tbody tr th:only-of-type {\n",
       "        vertical-align: middle;\n",
       "    }\n",
       "\n",
       "    .dataframe tbody tr th {\n",
       "        vertical-align: top;\n",
       "    }\n",
       "\n",
       "    .dataframe thead th {\n",
       "        text-align: right;\n",
       "    }\n",
       "</style>\n",
       "<table border=\"1\" class=\"dataframe\">\n",
       "  <thead>\n",
       "    <tr style=\"text-align: right;\">\n",
       "      <th></th>\n",
       "      <th>Names</th>\n",
       "      <th>Weight</th>\n",
       "    </tr>\n",
       "  </thead>\n",
       "  <tbody>\n",
       "    <tr>\n",
       "      <th>12</th>\n",
       "      <td>Category_Comics</td>\n",
       "      <td>0.138326</td>\n",
       "    </tr>\n",
       "    <tr>\n",
       "      <th>20</th>\n",
       "      <td>Category_Journalism</td>\n",
       "      <td>0.075029</td>\n",
       "    </tr>\n",
       "    <tr>\n",
       "      <th>13</th>\n",
       "      <td>Category_Crafts</td>\n",
       "      <td>0.057835</td>\n",
       "    </tr>\n",
       "    <tr>\n",
       "      <th>19</th>\n",
       "      <td>Category_Games</td>\n",
       "      <td>0.056749</td>\n",
       "    </tr>\n",
       "    <tr>\n",
       "      <th>4</th>\n",
       "      <td>Duration(Days)</td>\n",
       "      <td>0.051809</td>\n",
       "    </tr>\n",
       "    <tr>\n",
       "      <th>25</th>\n",
       "      <td>Category_Theater</td>\n",
       "      <td>0.051152</td>\n",
       "    </tr>\n",
       "    <tr>\n",
       "      <th>24</th>\n",
       "      <td>Category_Technology</td>\n",
       "      <td>0.049996</td>\n",
       "    </tr>\n",
       "    <tr>\n",
       "      <th>16</th>\n",
       "      <td>Category_Fashion</td>\n",
       "      <td>0.047969</td>\n",
       "    </tr>\n",
       "    <tr>\n",
       "      <th>14</th>\n",
       "      <td>Category_Dance</td>\n",
       "      <td>0.046809</td>\n",
       "    </tr>\n",
       "    <tr>\n",
       "      <th>15</th>\n",
       "      <td>Category_Design</td>\n",
       "      <td>0.046065</td>\n",
       "    </tr>\n",
       "    <tr>\n",
       "      <th>18</th>\n",
       "      <td>Category_Food</td>\n",
       "      <td>0.041442</td>\n",
       "    </tr>\n",
       "    <tr>\n",
       "      <th>21</th>\n",
       "      <td>Category_Music</td>\n",
       "      <td>0.039290</td>\n",
       "    </tr>\n",
       "    <tr>\n",
       "      <th>5</th>\n",
       "      <td>log(FundingGoal)</td>\n",
       "      <td>0.038909</td>\n",
       "    </tr>\n",
       "    <tr>\n",
       "      <th>10</th>\n",
       "      <td>DayOfWeekLaunched_Tue</td>\n",
       "      <td>0.037838</td>\n",
       "    </tr>\n",
       "    <tr>\n",
       "      <th>17</th>\n",
       "      <td>Category_Film &amp; Video</td>\n",
       "      <td>0.025853</td>\n",
       "    </tr>\n",
       "    <tr>\n",
       "      <th>7</th>\n",
       "      <td>DayOfWeekLaunched_Sat</td>\n",
       "      <td>0.023132</td>\n",
       "    </tr>\n",
       "    <tr>\n",
       "      <th>11</th>\n",
       "      <td>DayOfWeekLaunched_Wed</td>\n",
       "      <td>0.020720</td>\n",
       "    </tr>\n",
       "    <tr>\n",
       "      <th>6</th>\n",
       "      <td>DayOfWeekLaunched_Mon</td>\n",
       "      <td>0.019590</td>\n",
       "    </tr>\n",
       "    <tr>\n",
       "      <th>2</th>\n",
       "      <td>MonthLaunched</td>\n",
       "      <td>0.018835</td>\n",
       "    </tr>\n",
       "    <tr>\n",
       "      <th>3</th>\n",
       "      <td>DayLaunched</td>\n",
       "      <td>0.018611</td>\n",
       "    </tr>\n",
       "  </tbody>\n",
       "</table>\n",
       "</div>"
      ],
      "text/plain": [
       "                    Names    Weight\n",
       "12        Category_Comics  0.138326\n",
       "20    Category_Journalism  0.075029\n",
       "13        Category_Crafts  0.057835\n",
       "19         Category_Games  0.056749\n",
       "4          Duration(Days)  0.051809\n",
       "25       Category_Theater  0.051152\n",
       "24    Category_Technology  0.049996\n",
       "16       Category_Fashion  0.047969\n",
       "14         Category_Dance  0.046809\n",
       "15        Category_Design  0.046065\n",
       "18          Category_Food  0.041442\n",
       "21         Category_Music  0.039290\n",
       "5        log(FundingGoal)  0.038909\n",
       "10  DayOfWeekLaunched_Tue  0.037838\n",
       "17  Category_Film & Video  0.025853\n",
       "7   DayOfWeekLaunched_Sat  0.023132\n",
       "11  DayOfWeekLaunched_Wed  0.020720\n",
       "6   DayOfWeekLaunched_Mon  0.019590\n",
       "2           MonthLaunched  0.018835\n",
       "3             DayLaunched  0.018611"
      ]
     },
     "metadata": {},
     "output_type": "display_data"
    }
   ],
   "source": [
    "with pd.option_context(\"display.max_columns\", None, \"display.max_rows\", None, \"display.max_colwidth\", 80):\n",
    "    display(pd.DataFrame(data = {\n",
    "        \"Names\" : TrainingData.drop(\"Status\", axis = 1).columns.to_list(),\n",
    "        \"Weight\": (ClassifierResults_List.loc[ClassifierResults_List[\"Name\"] == \"XGBClassifier\", \"ModelObject\"]).iloc[0].feature_importances_,\n",
    "    }).sort_values(by=\"Weight\", ascending = False).head(20))"
   ]
  },
  {
   "cell_type": "markdown",
   "metadata": {},
   "source": [
    "## Generate model using title field"
   ]
  },
  {
   "cell_type": "code",
   "execution_count": 51,
   "metadata": {},
   "outputs": [
    {
     "data": {
      "text/plain": [
       "0        Organic Tattoo remains 10 days (Self use & cus...\n",
       "1        Handcrafted leather wallet | key holder | card...\n",
       "2          The Liaisons:  a new twist on the old standards\n",
       "3                       The Many Encounters of Bosley Bear\n",
       "4                   Swift & Co | Innovative Men's Footwear\n",
       "                               ...                        \n",
       "96322                     Growing Pains Student Short Film\n",
       "96323    Squinch Magazine: An Art Publication for Colle...\n",
       "96324    Project ChArma presents Full Circle at Dance P...\n",
       "96325                              Haboob Wind - The Movie\n",
       "96326    LOL Mugs with daily laugh and inspirational me...\n",
       "Name: Name, Length: 96327, dtype: object"
      ]
     },
     "execution_count": 51,
     "metadata": {},
     "output_type": "execute_result"
    }
   ],
   "source": [
    "ProcessedData[\"Name\"]"
   ]
  },
  {
   "cell_type": "code",
   "execution_count": 52,
   "metadata": {},
   "outputs": [],
   "source": [
    "NameData = pd.DataFrame()"
   ]
  },
  {
   "cell_type": "markdown",
   "metadata": {},
   "source": [
    "### Tokenize words in title"
   ]
  },
  {
   "cell_type": "code",
   "execution_count": 53,
   "metadata": {},
   "outputs": [],
   "source": [
    "def GetWords_List(TextString):\n",
    "    import re\n",
    "    wordCheck = re.compile(r\"[^a-zA-Z0-9]+\")\n",
    "    return [word for word in wordCheck.split(TextString) if (len(word) > 1)]"
   ]
  },
  {
   "cell_type": "code",
   "execution_count": 54,
   "metadata": {},
   "outputs": [],
   "source": [
    "import re\n",
    "wordCheck = re.compile(r\"[^a-zA-Z0-9]+\")\n",
    "NameData[\"Name_WordList\"] = ProcessedData[\"Name\"].apply(GetWords_List)"
   ]
  },
  {
   "cell_type": "code",
   "execution_count": 55,
   "metadata": {},
   "outputs": [
    {
     "data": {
      "text/plain": [
       "0    [Organic, Tattoo, remains, 10, days, Self, use...\n",
       "1    [Handcrafted, leather, wallet, key, holder, ca...\n",
       "2    [The, Liaisons, new, twist, on, the, old, stan...\n",
       "3            [The, Many, Encounters, of, Bosley, Bear]\n",
       "4               [Swift, Co, Innovative, Men, Footwear]\n",
       "Name: Name_WordList, dtype: object"
      ]
     },
     "execution_count": 55,
     "metadata": {},
     "output_type": "execute_result"
    }
   ],
   "source": [
    "NameData[\"Name_WordList\"].head()"
   ]
  },
  {
   "cell_type": "markdown",
   "metadata": {},
   "source": [
    "### Calculate readability / complexity / length of text\n",
    "How likely title is glossed over\n",
    "\n",
    "Flesch Kincaid?"
   ]
  },
  {
   "cell_type": "code",
   "execution_count": 56,
   "metadata": {},
   "outputs": [],
   "source": [
    "#!pip install textstat\n",
    "from textstat import flesch_reading_ease as GetReadabilityScore"
   ]
  },
  {
   "cell_type": "code",
   "execution_count": 57,
   "metadata": {},
   "outputs": [],
   "source": [
    "NameData[\"Name_WordCount\"] = NameData[\"Name_WordList\"].apply(len).astype(\"uint8\")"
   ]
  },
  {
   "cell_type": "code",
   "execution_count": 58,
   "metadata": {},
   "outputs": [
    {
     "data": {
      "text/plain": [
       "count    96327.000000\n",
       "mean         5.246245\n",
       "std          2.476242\n",
       "min          0.000000\n",
       "25%          3.000000\n",
       "50%          5.000000\n",
       "75%          7.000000\n",
       "max         14.000000\n",
       "Name: Name_WordCount, dtype: float64"
      ]
     },
     "execution_count": 58,
     "metadata": {},
     "output_type": "execute_result"
    }
   ],
   "source": [
    "NameData[\"Name_WordCount\"].describe()"
   ]
  },
  {
   "cell_type": "code",
   "execution_count": 59,
   "metadata": {},
   "outputs": [],
   "source": [
    "NameData[\"Name_Readability\"] = ProcessedData[\"Name\"].apply(GetReadabilityScore)"
   ]
  },
  {
   "cell_type": "code",
   "execution_count": 60,
   "metadata": {},
   "outputs": [
    {
     "data": {
      "text/plain": [
       "4593     CHALKUP,handchalk,workoutchalk,gym,fitnessgear,bodybuilding\n",
       "14001                                        PoliticalRevolution.net\n",
       "16060                                       #DigitalRealistStoryMode\n",
       "75738                 OverTymeMusicRadio/FutureCommunicationsNetwork\n",
       "80805                            D.A.H.A(demon.angel.hybrid.academy)\n",
       "91747                      Mobile.Survival.Horror.Game.by.NaticaTech\n",
       "Name: Name, dtype: object"
      ]
     },
     "metadata": {},
     "output_type": "display_data"
    },
    {
     "data": {
      "text/plain": [
       "4593     [CHALKUP, handchalk, workoutchalk, gym, fitnessgear, bodybuilding]\n",
       "14001                                            [PoliticalRevolution, net]\n",
       "16060                                             [DigitalRealistStoryMode]\n",
       "75738                     [OverTymeMusicRadio, FutureCommunicationsNetwork]\n",
       "80805                                       [demon, angel, hybrid, academy]\n",
       "91747                      [Mobile, Survival, Horror, Game, by, NaticaTech]\n",
       "Name: Name_WordList, dtype: object"
      ]
     },
     "metadata": {},
     "output_type": "display_data"
    }
   ],
   "source": [
    "with pd.option_context(\"display.max_colwidth\", 100):\n",
    "    display(ProcessedData[(ProcessedData[\"Name\"].apply(GetReadabilityScore) < -500)][\"Name\"])\n",
    "    display(NameData[NameData[\"Name_Readability\"] < -500][\"Name_WordList\"])"
   ]
  },
  {
   "cell_type": "code",
   "execution_count": 61,
   "metadata": {},
   "outputs": [],
   "source": [
    "NameData[\"Name_Readability\"] = NameData[\"Name_Readability\"] / NameData[\"Name_Readability\"].max()"
   ]
  },
  {
   "cell_type": "code",
   "execution_count": 62,
   "metadata": {},
   "outputs": [
    {
     "data": {
      "text/plain": [
       "count    96327.000000\n",
       "mean         0.481710\n",
       "std          0.359008\n",
       "min         -8.072843\n",
       "25%          0.293763\n",
       "50%          0.522686\n",
       "75%          0.723643\n",
       "max          1.000000\n",
       "Name: Name_Readability, dtype: float64"
      ]
     },
     "execution_count": 62,
     "metadata": {},
     "output_type": "execute_result"
    }
   ],
   "source": [
    "NameData[\"Name_Readability\"].describe()"
   ]
  },
  {
   "cell_type": "markdown",
   "metadata": {},
   "source": [
    "### Calculate sentiment of each title\n",
    "How positive or optimistic titles feel"
   ]
  },
  {
   "cell_type": "code",
   "execution_count": 63,
   "metadata": {},
   "outputs": [],
   "source": [
    "from textblob import TextBlob\n",
    "NameData[\"Name_SentimentValue\"] = ProcessedData[\"Name\"].apply(lambda x: TextBlob(x).sentiment.polarity)"
   ]
  },
  {
   "cell_type": "code",
   "execution_count": 64,
   "metadata": {},
   "outputs": [
    {
     "data": {
      "text/plain": [
       "count    96327.000000\n",
       "mean         0.046105\n",
       "std          0.207238\n",
       "min         -1.000000\n",
       "25%          0.000000\n",
       "50%          0.000000\n",
       "75%          0.000000\n",
       "max          1.000000\n",
       "Name: Name_SentimentValue, dtype: float64"
      ]
     },
     "execution_count": 64,
     "metadata": {},
     "output_type": "execute_result"
    }
   ],
   "source": [
    "NameData[\"Name_SentimentValue\"].describe()"
   ]
  },
  {
   "cell_type": "markdown",
   "metadata": {},
   "source": [
    "### Calculate average TD-IDF of words in each title\n",
    "How often are similar campaigns started.\n",
    "Basically reader fatigue."
   ]
  },
  {
   "cell_type": "code",
   "execution_count": 65,
   "metadata": {},
   "outputs": [],
   "source": [
    "def FilterForKeyWords(TextString):\n",
    "    import nltk\n",
    "    import re\n",
    "    from nltk.stem import WordNetLemmatizer\n",
    "    from nltk.corpus.reader import wordnet\n",
    "    from nltk.util import ngrams\n",
    "\n",
    "    LemmatizerEngine = WordNetLemmatizer()\n",
    "    removeWords_List = list(set([\n",
    "        # Prepositions\n",
    "        \"of\", \"with\", \"without\", \"at\", \"from\", \"into\", \"during\", \"including\", \"until\", \"against\", \"through\", \"throughput\",\n",
    "        \"towards\", \"to\", \"upon\", \"concerning\", \"in\", \"out\", \"for\", \"on\", \"below\", \"by\", \"over\", \"under\", \"despite\",\n",
    "        \"before\", \"after\", \"between\", \"since\", \"among\", \"along\", \"following\", \"across\", \"behind\", \"beyond\", \"except\",\n",
    "        \"but\", \"up\", \"down\", \"aboard\", \"amid\", \"as\", \"behind\", \"considering\", \"during\", \"inside\", \"minus\", \"off\", \"per\",\n",
    "        \"versus\", \"via\",\n",
    "        \n",
    "        # Verbs\n",
    "        \"be\", \"are\", \"is\", \"was\",\n",
    "    ]))\n",
    "\n",
    "    alphaCheck = re.compile(r\"^[a-z]+$\")\n",
    "\n",
    "    POSTagToLemmaTag_Dict = {\n",
    "        \"J\" : wordnet.ADJ,\n",
    "        \"N\" : wordnet.NOUN,\n",
    "        \"V\" : wordnet.VERB,\n",
    "        \"R\" : wordnet.ADV,\n",
    "    }\n",
    "\n",
    "    return str([LemmatizerEngine.lemmatize(word, POSTagToLemmaTag_Dict[pos[0]]) \n",
    "                for (word, pos) in nltk.pos_tag(nltk.word_tokenize(TextString.lower()))\n",
    "                if (\n",
    "                    (len(word) > 2) # \n",
    "                    & (alphaCheck.match(word) != None)\n",
    "                    & (word not in removeWords_List)\n",
    "                    & (pos[0] in [\n",
    "                        \"J\",#\"JJ\", \"JJR\", \"JJS\", # Adjectives\n",
    "                        \"N\",#\"NN\", \"NNS\", \"NNP\", \"NNPS\", # Nouns\n",
    "                        \"R\",#\"RB\", \"RBR\", \"RBS\", # Adverbs\n",
    "                        \"V\",#\"VB\", \"VBD\", \"VBG\", \"VBN\", \"VBP\", \"VBZ\", #Verbs\n",
    "                        ])\n",
    "                   )\n",
    "               ])\n",
    "\n",
    "def GetPrincipalWordCounts(DataFrame, TextColumnName):\n",
    "    from sklearn.feature_extraction.text import CountVectorizer\n",
    "    from datetime import datetime # For debugging performance data\n",
    "\n",
    "    Vectorizer = CountVectorizer(lowercase = False,\n",
    "                                 # preprocessor = FilterForKeyWords,\n",
    "                                 min_df = 0.005,\n",
    "                                 ngram_range = (1, 3),\n",
    "                                )\n",
    "    startTime = datetime.now() # For debugging performance data\n",
    "\n",
    "    # Filter out unwanted words in each row, then create count columns for remaining words \n",
    "    WordCounts = pd.DataFrame(\n",
    "        Vectorizer.fit_transform(DataFrame[TextColumnName]).toarray(), \n",
    "        columns=Vectorizer.get_feature_names(), \n",
    "        #dtype = \"uint8\",\n",
    "    )\n",
    "\n",
    "    return WordCounts\n",
    "\n",
    "def GetTFIDF(Sentences_List):\n",
    "    from sklearn.feature_extraction.text import TfidfVectorizer\n",
    "    vectorizer = TfidfVectorizer(lowercase = False,\n",
    "                                 # preprocessor = FilterForKeyWords,\n",
    "                                 min_df = 0.005,\n",
    "                                 ngram_range = (1, 3),\n",
    "                                )\n",
    "    return pd.DataFrame(data = vectorizer.fit_transform(Sentences_List).toarray(),\n",
    "                        columns = vectorizer.get_feature_names()\n",
    "                       )"
   ]
  },
  {
   "cell_type": "code",
   "execution_count": 66,
   "metadata": {},
   "outputs": [],
   "source": [
    "Name_KeywordFiltered = ProcessedData[\"Name\"].apply(lambda x: str(FilterForKeyWords(x)))"
   ]
  },
  {
   "cell_type": "code",
   "execution_count": 67,
   "metadata": {
    "scrolled": true
   },
   "outputs": [
    {
     "name": "stdout",
     "output_type": "stream",
     "text": [
      "<class 'pandas.core.frame.DataFrame'>\n",
      "RangeIndex: 96327 entries, 0 to 96326\n",
      "Data columns (total 65 columns):\n",
      "Count(adventure)      96327 non-null int64\n",
      "Count(album)          96327 non-null int64\n",
      "Count(app)            96327 non-null int64\n",
      "Count(art)            96327 non-null int64\n",
      "Count(bag)            96327 non-null int64\n",
      "Count(best)           96327 non-null int64\n",
      "Count(board)          96327 non-null int64\n",
      "Count(book)           96327 non-null int64\n",
      "Count(card)           96327 non-null int64\n",
      "Count(card game)      96327 non-null int64\n",
      "Count(child)          96327 non-null int64\n",
      "Count(clothing)       96327 non-null int64\n",
      "Count(coffee)         96327 non-null int64\n",
      "Count(collection)     96327 non-null int64\n",
      "Count(comic)          96327 non-null int64\n",
      "Count(day)            96327 non-null int64\n",
      "Count(debut)          96327 non-null int64\n",
      "Count(debut album)    96327 non-null int64\n",
      "Count(design)         96327 non-null int64\n",
      "Count(documentary)    96327 non-null int64\n",
      "Count(dream)          96327 non-null int64\n",
      "Count(edition)        96327 non-null int64\n",
      "Count(enamel)         96327 non-null int64\n",
      "Count(enamel pin)     96327 non-null int64\n",
      "Count(fantasy)        96327 non-null int64\n",
      "Count(film)           96327 non-null int64\n",
      "Count(first)          96327 non-null int64\n",
      "Count(food)           96327 non-null int64\n",
      "Count(game)           96327 non-null int64\n",
      "Count(get)            96327 non-null int64\n",
      "Count(good)           96327 non-null int64\n",
      "Count(help)           96327 non-null int64\n",
      "Count(home)           96327 non-null int64\n",
      "Count(kid)            96327 non-null int64\n",
      "Count(life)           96327 non-null int64\n",
      "Count(light)          96327 non-null int64\n",
      "Count(live)           96327 non-null int64\n",
      "Count(love)           96327 non-null int64\n",
      "Count(magazine)       96327 non-null int64\n",
      "Count(make)           96327 non-null int64\n",
      "Count(more)           96327 non-null int64\n",
      "Count(music)          96327 non-null int64\n",
      "Count(new)            96327 non-null int64\n",
      "Count(novel)          96327 non-null int64\n",
      "Count(pin)            96327 non-null int64\n",
      "Count(play)           96327 non-null int64\n",
      "Count(print)          96327 non-null int64\n",
      "Count(project)        96327 non-null int64\n",
      "Count(record)         96327 non-null int64\n",
      "Count(rpg)            96327 non-null int64\n",
      "Count(series)         96327 non-null int64\n",
      "Count(short)          96327 non-null int64\n",
      "Count(short film)     96327 non-null int64\n",
      "Count(show)           96327 non-null int64\n",
      "Count(smart)          96327 non-null int64\n",
      "Count(story)          96327 non-null int64\n",
      "Count(studio)         96327 non-null int64\n",
      "Count(system)         96327 non-null int64\n",
      "Count(time)           96327 non-null int64\n",
      "Count(travel)         96327 non-null int64\n",
      "Count(ultimate)       96327 non-null int64\n",
      "Count(video)          96327 non-null int64\n",
      "Count(war)            96327 non-null int64\n",
      "Count(watch)          96327 non-null int64\n",
      "Count(world)          96327 non-null int64\n",
      "dtypes: int64(65)\n",
      "memory usage: 47.8 MB\n"
     ]
    },
    {
     "data": {
      "text/plain": [
       "None"
      ]
     },
     "metadata": {},
     "output_type": "display_data"
    }
   ],
   "source": [
    "Name_WordCountsData = GetPrincipalWordCounts(pd.DataFrame(Name_KeywordFiltered), \"Name\").add_prefix(\"Count(\").add_suffix(\")\")\n",
    "display(Name_WordCountsData.info())"
   ]
  },
  {
   "cell_type": "code",
   "execution_count": 68,
   "metadata": {},
   "outputs": [
    {
     "data": {
      "text/html": [
       "<div>\n",
       "<style scoped>\n",
       "    .dataframe tbody tr th:only-of-type {\n",
       "        vertical-align: middle;\n",
       "    }\n",
       "\n",
       "    .dataframe tbody tr th {\n",
       "        vertical-align: top;\n",
       "    }\n",
       "\n",
       "    .dataframe thead th {\n",
       "        text-align: right;\n",
       "    }\n",
       "</style>\n",
       "<table border=\"1\" class=\"dataframe\">\n",
       "  <thead>\n",
       "    <tr style=\"text-align: right;\">\n",
       "      <th></th>\n",
       "      <th>Count(adventure)</th>\n",
       "      <th>Count(album)</th>\n",
       "      <th>Count(app)</th>\n",
       "      <th>Count(art)</th>\n",
       "      <th>Count(bag)</th>\n",
       "      <th>Count(best)</th>\n",
       "      <th>Count(board)</th>\n",
       "      <th>Count(book)</th>\n",
       "      <th>Count(card)</th>\n",
       "      <th>Count(card game)</th>\n",
       "      <th>...</th>\n",
       "      <th>Count(story)</th>\n",
       "      <th>Count(studio)</th>\n",
       "      <th>Count(system)</th>\n",
       "      <th>Count(time)</th>\n",
       "      <th>Count(travel)</th>\n",
       "      <th>Count(ultimate)</th>\n",
       "      <th>Count(video)</th>\n",
       "      <th>Count(war)</th>\n",
       "      <th>Count(watch)</th>\n",
       "      <th>Count(world)</th>\n",
       "    </tr>\n",
       "  </thead>\n",
       "  <tbody>\n",
       "    <tr>\n",
       "      <th>count</th>\n",
       "      <td>96327.000000</td>\n",
       "      <td>96327.000000</td>\n",
       "      <td>96327.000000</td>\n",
       "      <td>96327.000000</td>\n",
       "      <td>96327.000000</td>\n",
       "      <td>96327.000000</td>\n",
       "      <td>96327.000000</td>\n",
       "      <td>96327.000000</td>\n",
       "      <td>96327.000000</td>\n",
       "      <td>96327.000000</td>\n",
       "      <td>...</td>\n",
       "      <td>96327.000000</td>\n",
       "      <td>96327.000000</td>\n",
       "      <td>96327.000000</td>\n",
       "      <td>96327.000000</td>\n",
       "      <td>96327.000000</td>\n",
       "      <td>96327.000000</td>\n",
       "      <td>96327.000000</td>\n",
       "      <td>96327.000000</td>\n",
       "      <td>96327.000000</td>\n",
       "      <td>96327.000000</td>\n",
       "    </tr>\n",
       "    <tr>\n",
       "      <th>mean</th>\n",
       "      <td>0.008596</td>\n",
       "      <td>0.026638</td>\n",
       "      <td>0.010983</td>\n",
       "      <td>0.023181</td>\n",
       "      <td>0.005523</td>\n",
       "      <td>0.005367</td>\n",
       "      <td>0.005710</td>\n",
       "      <td>0.031808</td>\n",
       "      <td>0.018925</td>\n",
       "      <td>0.006405</td>\n",
       "      <td>...</td>\n",
       "      <td>0.009987</td>\n",
       "      <td>0.008212</td>\n",
       "      <td>0.005710</td>\n",
       "      <td>0.006333</td>\n",
       "      <td>0.005409</td>\n",
       "      <td>0.005087</td>\n",
       "      <td>0.008575</td>\n",
       "      <td>0.005170</td>\n",
       "      <td>0.009063</td>\n",
       "      <td>0.021863</td>\n",
       "    </tr>\n",
       "    <tr>\n",
       "      <th>std</th>\n",
       "      <td>0.092539</td>\n",
       "      <td>0.161411</td>\n",
       "      <td>0.104722</td>\n",
       "      <td>0.154833</td>\n",
       "      <td>0.077801</td>\n",
       "      <td>0.073912</td>\n",
       "      <td>0.076169</td>\n",
       "      <td>0.178133</td>\n",
       "      <td>0.139722</td>\n",
       "      <td>0.079777</td>\n",
       "      <td>...</td>\n",
       "      <td>0.100679</td>\n",
       "      <td>0.091047</td>\n",
       "      <td>0.075896</td>\n",
       "      <td>0.081520</td>\n",
       "      <td>0.075576</td>\n",
       "      <td>0.071432</td>\n",
       "      <td>0.092877</td>\n",
       "      <td>0.073291</td>\n",
       "      <td>0.101843</td>\n",
       "      <td>0.147157</td>\n",
       "    </tr>\n",
       "    <tr>\n",
       "      <th>min</th>\n",
       "      <td>0.000000</td>\n",
       "      <td>0.000000</td>\n",
       "      <td>0.000000</td>\n",
       "      <td>0.000000</td>\n",
       "      <td>0.000000</td>\n",
       "      <td>0.000000</td>\n",
       "      <td>0.000000</td>\n",
       "      <td>0.000000</td>\n",
       "      <td>0.000000</td>\n",
       "      <td>0.000000</td>\n",
       "      <td>...</td>\n",
       "      <td>0.000000</td>\n",
       "      <td>0.000000</td>\n",
       "      <td>0.000000</td>\n",
       "      <td>0.000000</td>\n",
       "      <td>0.000000</td>\n",
       "      <td>0.000000</td>\n",
       "      <td>0.000000</td>\n",
       "      <td>0.000000</td>\n",
       "      <td>0.000000</td>\n",
       "      <td>0.000000</td>\n",
       "    </tr>\n",
       "    <tr>\n",
       "      <th>25%</th>\n",
       "      <td>0.000000</td>\n",
       "      <td>0.000000</td>\n",
       "      <td>0.000000</td>\n",
       "      <td>0.000000</td>\n",
       "      <td>0.000000</td>\n",
       "      <td>0.000000</td>\n",
       "      <td>0.000000</td>\n",
       "      <td>0.000000</td>\n",
       "      <td>0.000000</td>\n",
       "      <td>0.000000</td>\n",
       "      <td>...</td>\n",
       "      <td>0.000000</td>\n",
       "      <td>0.000000</td>\n",
       "      <td>0.000000</td>\n",
       "      <td>0.000000</td>\n",
       "      <td>0.000000</td>\n",
       "      <td>0.000000</td>\n",
       "      <td>0.000000</td>\n",
       "      <td>0.000000</td>\n",
       "      <td>0.000000</td>\n",
       "      <td>0.000000</td>\n",
       "    </tr>\n",
       "    <tr>\n",
       "      <th>50%</th>\n",
       "      <td>0.000000</td>\n",
       "      <td>0.000000</td>\n",
       "      <td>0.000000</td>\n",
       "      <td>0.000000</td>\n",
       "      <td>0.000000</td>\n",
       "      <td>0.000000</td>\n",
       "      <td>0.000000</td>\n",
       "      <td>0.000000</td>\n",
       "      <td>0.000000</td>\n",
       "      <td>0.000000</td>\n",
       "      <td>...</td>\n",
       "      <td>0.000000</td>\n",
       "      <td>0.000000</td>\n",
       "      <td>0.000000</td>\n",
       "      <td>0.000000</td>\n",
       "      <td>0.000000</td>\n",
       "      <td>0.000000</td>\n",
       "      <td>0.000000</td>\n",
       "      <td>0.000000</td>\n",
       "      <td>0.000000</td>\n",
       "      <td>0.000000</td>\n",
       "    </tr>\n",
       "    <tr>\n",
       "      <th>75%</th>\n",
       "      <td>0.000000</td>\n",
       "      <td>0.000000</td>\n",
       "      <td>0.000000</td>\n",
       "      <td>0.000000</td>\n",
       "      <td>0.000000</td>\n",
       "      <td>0.000000</td>\n",
       "      <td>0.000000</td>\n",
       "      <td>0.000000</td>\n",
       "      <td>0.000000</td>\n",
       "      <td>0.000000</td>\n",
       "      <td>...</td>\n",
       "      <td>0.000000</td>\n",
       "      <td>0.000000</td>\n",
       "      <td>0.000000</td>\n",
       "      <td>0.000000</td>\n",
       "      <td>0.000000</td>\n",
       "      <td>0.000000</td>\n",
       "      <td>0.000000</td>\n",
       "      <td>0.000000</td>\n",
       "      <td>0.000000</td>\n",
       "      <td>0.000000</td>\n",
       "    </tr>\n",
       "    <tr>\n",
       "      <th>max</th>\n",
       "      <td>2.000000</td>\n",
       "      <td>2.000000</td>\n",
       "      <td>2.000000</td>\n",
       "      <td>4.000000</td>\n",
       "      <td>2.000000</td>\n",
       "      <td>2.000000</td>\n",
       "      <td>2.000000</td>\n",
       "      <td>2.000000</td>\n",
       "      <td>3.000000</td>\n",
       "      <td>1.000000</td>\n",
       "      <td>...</td>\n",
       "      <td>2.000000</td>\n",
       "      <td>2.000000</td>\n",
       "      <td>2.000000</td>\n",
       "      <td>3.000000</td>\n",
       "      <td>3.000000</td>\n",
       "      <td>2.000000</td>\n",
       "      <td>2.000000</td>\n",
       "      <td>2.000000</td>\n",
       "      <td>2.000000</td>\n",
       "      <td>2.000000</td>\n",
       "    </tr>\n",
       "  </tbody>\n",
       "</table>\n",
       "<p>8 rows × 65 columns</p>\n",
       "</div>"
      ],
      "text/plain": [
       "       Count(adventure)  Count(album)    Count(app)    Count(art)  \\\n",
       "count      96327.000000  96327.000000  96327.000000  96327.000000   \n",
       "mean           0.008596      0.026638      0.010983      0.023181   \n",
       "std            0.092539      0.161411      0.104722      0.154833   \n",
       "min            0.000000      0.000000      0.000000      0.000000   \n",
       "25%            0.000000      0.000000      0.000000      0.000000   \n",
       "50%            0.000000      0.000000      0.000000      0.000000   \n",
       "75%            0.000000      0.000000      0.000000      0.000000   \n",
       "max            2.000000      2.000000      2.000000      4.000000   \n",
       "\n",
       "         Count(bag)   Count(best)  Count(board)   Count(book)   Count(card)  \\\n",
       "count  96327.000000  96327.000000  96327.000000  96327.000000  96327.000000   \n",
       "mean       0.005523      0.005367      0.005710      0.031808      0.018925   \n",
       "std        0.077801      0.073912      0.076169      0.178133      0.139722   \n",
       "min        0.000000      0.000000      0.000000      0.000000      0.000000   \n",
       "25%        0.000000      0.000000      0.000000      0.000000      0.000000   \n",
       "50%        0.000000      0.000000      0.000000      0.000000      0.000000   \n",
       "75%        0.000000      0.000000      0.000000      0.000000      0.000000   \n",
       "max        2.000000      2.000000      2.000000      2.000000      3.000000   \n",
       "\n",
       "       Count(card game)  ...  Count(story)  Count(studio)  Count(system)  \\\n",
       "count      96327.000000  ...  96327.000000   96327.000000   96327.000000   \n",
       "mean           0.006405  ...      0.009987       0.008212       0.005710   \n",
       "std            0.079777  ...      0.100679       0.091047       0.075896   \n",
       "min            0.000000  ...      0.000000       0.000000       0.000000   \n",
       "25%            0.000000  ...      0.000000       0.000000       0.000000   \n",
       "50%            0.000000  ...      0.000000       0.000000       0.000000   \n",
       "75%            0.000000  ...      0.000000       0.000000       0.000000   \n",
       "max            1.000000  ...      2.000000       2.000000       2.000000   \n",
       "\n",
       "        Count(time)  Count(travel)  Count(ultimate)  Count(video)  \\\n",
       "count  96327.000000   96327.000000     96327.000000  96327.000000   \n",
       "mean       0.006333       0.005409         0.005087      0.008575   \n",
       "std        0.081520       0.075576         0.071432      0.092877   \n",
       "min        0.000000       0.000000         0.000000      0.000000   \n",
       "25%        0.000000       0.000000         0.000000      0.000000   \n",
       "50%        0.000000       0.000000         0.000000      0.000000   \n",
       "75%        0.000000       0.000000         0.000000      0.000000   \n",
       "max        3.000000       3.000000         2.000000      2.000000   \n",
       "\n",
       "         Count(war)  Count(watch)  Count(world)  \n",
       "count  96327.000000  96327.000000  96327.000000  \n",
       "mean       0.005170      0.009063      0.021863  \n",
       "std        0.073291      0.101843      0.147157  \n",
       "min        0.000000      0.000000      0.000000  \n",
       "25%        0.000000      0.000000      0.000000  \n",
       "50%        0.000000      0.000000      0.000000  \n",
       "75%        0.000000      0.000000      0.000000  \n",
       "max        2.000000      2.000000      2.000000  \n",
       "\n",
       "[8 rows x 65 columns]"
      ]
     },
     "execution_count": 68,
     "metadata": {},
     "output_type": "execute_result"
    }
   ],
   "source": [
    "Name_WordCountsData.describe()"
   ]
  },
  {
   "cell_type": "code",
   "execution_count": 69,
   "metadata": {},
   "outputs": [
    {
     "data": {
      "text/plain": [
       "Count(game)           3170\n",
       "Count(book)           3064\n",
       "Count(new)            2755\n",
       "Count(album)          2566\n",
       "Count(film)           2236\n",
       "                      ... \n",
       "Count(war)             498\n",
       "Count(rpg)             496\n",
       "Count(clothing)        490\n",
       "Count(ultimate)        490\n",
       "Count(debut album)     482\n",
       "Length: 65, dtype: int64"
      ]
     },
     "execution_count": 69,
     "metadata": {},
     "output_type": "execute_result"
    }
   ],
   "source": [
    "Name_WordCountsData.sum().sort_values(ascending = False)"
   ]
  },
  {
   "cell_type": "code",
   "execution_count": null,
   "metadata": {},
   "outputs": [],
   "source": []
  },
  {
   "cell_type": "code",
   "execution_count": 70,
   "metadata": {
    "scrolled": true
   },
   "outputs": [
    {
     "name": "stdout",
     "output_type": "stream",
     "text": [
      "<class 'pandas.core.frame.DataFrame'>\n",
      "RangeIndex: 96327 entries, 0 to 96326\n",
      "Data columns (total 65 columns):\n",
      "TFIDF(adventure)      96327 non-null float64\n",
      "TFIDF(album)          96327 non-null float64\n",
      "TFIDF(app)            96327 non-null float64\n",
      "TFIDF(art)            96327 non-null float64\n",
      "TFIDF(bag)            96327 non-null float64\n",
      "TFIDF(best)           96327 non-null float64\n",
      "TFIDF(board)          96327 non-null float64\n",
      "TFIDF(book)           96327 non-null float64\n",
      "TFIDF(card)           96327 non-null float64\n",
      "TFIDF(card game)      96327 non-null float64\n",
      "TFIDF(child)          96327 non-null float64\n",
      "TFIDF(clothing)       96327 non-null float64\n",
      "TFIDF(coffee)         96327 non-null float64\n",
      "TFIDF(collection)     96327 non-null float64\n",
      "TFIDF(comic)          96327 non-null float64\n",
      "TFIDF(day)            96327 non-null float64\n",
      "TFIDF(debut)          96327 non-null float64\n",
      "TFIDF(debut album)    96327 non-null float64\n",
      "TFIDF(design)         96327 non-null float64\n",
      "TFIDF(documentary)    96327 non-null float64\n",
      "TFIDF(dream)          96327 non-null float64\n",
      "TFIDF(edition)        96327 non-null float64\n",
      "TFIDF(enamel)         96327 non-null float64\n",
      "TFIDF(enamel pin)     96327 non-null float64\n",
      "TFIDF(fantasy)        96327 non-null float64\n",
      "TFIDF(film)           96327 non-null float64\n",
      "TFIDF(first)          96327 non-null float64\n",
      "TFIDF(food)           96327 non-null float64\n",
      "TFIDF(game)           96327 non-null float64\n",
      "TFIDF(get)            96327 non-null float64\n",
      "TFIDF(good)           96327 non-null float64\n",
      "TFIDF(help)           96327 non-null float64\n",
      "TFIDF(home)           96327 non-null float64\n",
      "TFIDF(kid)            96327 non-null float64\n",
      "TFIDF(life)           96327 non-null float64\n",
      "TFIDF(light)          96327 non-null float64\n",
      "TFIDF(live)           96327 non-null float64\n",
      "TFIDF(love)           96327 non-null float64\n",
      "TFIDF(magazine)       96327 non-null float64\n",
      "TFIDF(make)           96327 non-null float64\n",
      "TFIDF(more)           96327 non-null float64\n",
      "TFIDF(music)          96327 non-null float64\n",
      "TFIDF(new)            96327 non-null float64\n",
      "TFIDF(novel)          96327 non-null float64\n",
      "TFIDF(pin)            96327 non-null float64\n",
      "TFIDF(play)           96327 non-null float64\n",
      "TFIDF(print)          96327 non-null float64\n",
      "TFIDF(project)        96327 non-null float64\n",
      "TFIDF(record)         96327 non-null float64\n",
      "TFIDF(rpg)            96327 non-null float64\n",
      "TFIDF(series)         96327 non-null float64\n",
      "TFIDF(short)          96327 non-null float64\n",
      "TFIDF(short film)     96327 non-null float64\n",
      "TFIDF(show)           96327 non-null float64\n",
      "TFIDF(smart)          96327 non-null float64\n",
      "TFIDF(story)          96327 non-null float64\n",
      "TFIDF(studio)         96327 non-null float64\n",
      "TFIDF(system)         96327 non-null float64\n",
      "TFIDF(time)           96327 non-null float64\n",
      "TFIDF(travel)         96327 non-null float64\n",
      "TFIDF(ultimate)       96327 non-null float64\n",
      "TFIDF(video)          96327 non-null float64\n",
      "TFIDF(war)            96327 non-null float64\n",
      "TFIDF(watch)          96327 non-null float64\n",
      "TFIDF(world)          96327 non-null float64\n",
      "dtypes: float64(65)\n",
      "memory usage: 47.8 MB\n"
     ]
    },
    {
     "data": {
      "text/plain": [
       "None"
      ]
     },
     "metadata": {},
     "output_type": "display_data"
    }
   ],
   "source": [
    "Name_TFIDF = GetTFIDF(Name_KeywordFiltered).add_prefix(\"TFIDF(\").add_suffix(\")\")\n",
    "display(Name_TFIDF.info())"
   ]
  },
  {
   "cell_type": "code",
   "execution_count": 71,
   "metadata": {},
   "outputs": [
    {
     "data": {
      "text/html": [
       "<div>\n",
       "<style scoped>\n",
       "    .dataframe tbody tr th:only-of-type {\n",
       "        vertical-align: middle;\n",
       "    }\n",
       "\n",
       "    .dataframe tbody tr th {\n",
       "        vertical-align: top;\n",
       "    }\n",
       "\n",
       "    .dataframe thead th {\n",
       "        text-align: right;\n",
       "    }\n",
       "</style>\n",
       "<table border=\"1\" class=\"dataframe\">\n",
       "  <thead>\n",
       "    <tr style=\"text-align: right;\">\n",
       "      <th></th>\n",
       "      <th>TFIDF(adventure)</th>\n",
       "      <th>TFIDF(album)</th>\n",
       "      <th>TFIDF(app)</th>\n",
       "      <th>TFIDF(art)</th>\n",
       "      <th>TFIDF(bag)</th>\n",
       "      <th>TFIDF(best)</th>\n",
       "      <th>TFIDF(board)</th>\n",
       "      <th>TFIDF(book)</th>\n",
       "      <th>TFIDF(card)</th>\n",
       "      <th>TFIDF(card game)</th>\n",
       "      <th>...</th>\n",
       "      <th>TFIDF(story)</th>\n",
       "      <th>TFIDF(studio)</th>\n",
       "      <th>TFIDF(system)</th>\n",
       "      <th>TFIDF(time)</th>\n",
       "      <th>TFIDF(travel)</th>\n",
       "      <th>TFIDF(ultimate)</th>\n",
       "      <th>TFIDF(video)</th>\n",
       "      <th>TFIDF(war)</th>\n",
       "      <th>TFIDF(watch)</th>\n",
       "      <th>TFIDF(world)</th>\n",
       "    </tr>\n",
       "  </thead>\n",
       "  <tbody>\n",
       "    <tr>\n",
       "      <th>count</th>\n",
       "      <td>96327.000000</td>\n",
       "      <td>96327.000000</td>\n",
       "      <td>96327.000000</td>\n",
       "      <td>96327.000000</td>\n",
       "      <td>96327.000000</td>\n",
       "      <td>96327.00000</td>\n",
       "      <td>96327.000000</td>\n",
       "      <td>96327.000000</td>\n",
       "      <td>96327.000000</td>\n",
       "      <td>96327.000000</td>\n",
       "      <td>...</td>\n",
       "      <td>96327.000000</td>\n",
       "      <td>96327.000000</td>\n",
       "      <td>96327.000000</td>\n",
       "      <td>96327.000000</td>\n",
       "      <td>96327.000000</td>\n",
       "      <td>96327.000000</td>\n",
       "      <td>96327.000000</td>\n",
       "      <td>96327.000000</td>\n",
       "      <td>96327.000000</td>\n",
       "      <td>96327.000000</td>\n",
       "    </tr>\n",
       "    <tr>\n",
       "      <th>mean</th>\n",
       "      <td>0.007292</td>\n",
       "      <td>0.018956</td>\n",
       "      <td>0.009808</td>\n",
       "      <td>0.018697</td>\n",
       "      <td>0.004652</td>\n",
       "      <td>0.00444</td>\n",
       "      <td>0.004617</td>\n",
       "      <td>0.024255</td>\n",
       "      <td>0.013931</td>\n",
       "      <td>0.004116</td>\n",
       "      <td>...</td>\n",
       "      <td>0.008263</td>\n",
       "      <td>0.006678</td>\n",
       "      <td>0.005152</td>\n",
       "      <td>0.005246</td>\n",
       "      <td>0.004360</td>\n",
       "      <td>0.004533</td>\n",
       "      <td>0.006516</td>\n",
       "      <td>0.004389</td>\n",
       "      <td>0.007422</td>\n",
       "      <td>0.016913</td>\n",
       "    </tr>\n",
       "    <tr>\n",
       "      <th>std</th>\n",
       "      <td>0.079992</td>\n",
       "      <td>0.119877</td>\n",
       "      <td>0.094721</td>\n",
       "      <td>0.126633</td>\n",
       "      <td>0.065006</td>\n",
       "      <td>0.06196</td>\n",
       "      <td>0.062138</td>\n",
       "      <td>0.140154</td>\n",
       "      <td>0.105857</td>\n",
       "      <td>0.051479</td>\n",
       "      <td>...</td>\n",
       "      <td>0.084568</td>\n",
       "      <td>0.075230</td>\n",
       "      <td>0.069037</td>\n",
       "      <td>0.067879</td>\n",
       "      <td>0.061212</td>\n",
       "      <td>0.064384</td>\n",
       "      <td>0.071777</td>\n",
       "      <td>0.062548</td>\n",
       "      <td>0.081983</td>\n",
       "      <td>0.117264</td>\n",
       "    </tr>\n",
       "    <tr>\n",
       "      <th>min</th>\n",
       "      <td>0.000000</td>\n",
       "      <td>0.000000</td>\n",
       "      <td>0.000000</td>\n",
       "      <td>0.000000</td>\n",
       "      <td>0.000000</td>\n",
       "      <td>0.00000</td>\n",
       "      <td>0.000000</td>\n",
       "      <td>0.000000</td>\n",
       "      <td>0.000000</td>\n",
       "      <td>0.000000</td>\n",
       "      <td>...</td>\n",
       "      <td>0.000000</td>\n",
       "      <td>0.000000</td>\n",
       "      <td>0.000000</td>\n",
       "      <td>0.000000</td>\n",
       "      <td>0.000000</td>\n",
       "      <td>0.000000</td>\n",
       "      <td>0.000000</td>\n",
       "      <td>0.000000</td>\n",
       "      <td>0.000000</td>\n",
       "      <td>0.000000</td>\n",
       "    </tr>\n",
       "    <tr>\n",
       "      <th>25%</th>\n",
       "      <td>0.000000</td>\n",
       "      <td>0.000000</td>\n",
       "      <td>0.000000</td>\n",
       "      <td>0.000000</td>\n",
       "      <td>0.000000</td>\n",
       "      <td>0.00000</td>\n",
       "      <td>0.000000</td>\n",
       "      <td>0.000000</td>\n",
       "      <td>0.000000</td>\n",
       "      <td>0.000000</td>\n",
       "      <td>...</td>\n",
       "      <td>0.000000</td>\n",
       "      <td>0.000000</td>\n",
       "      <td>0.000000</td>\n",
       "      <td>0.000000</td>\n",
       "      <td>0.000000</td>\n",
       "      <td>0.000000</td>\n",
       "      <td>0.000000</td>\n",
       "      <td>0.000000</td>\n",
       "      <td>0.000000</td>\n",
       "      <td>0.000000</td>\n",
       "    </tr>\n",
       "    <tr>\n",
       "      <th>50%</th>\n",
       "      <td>0.000000</td>\n",
       "      <td>0.000000</td>\n",
       "      <td>0.000000</td>\n",
       "      <td>0.000000</td>\n",
       "      <td>0.000000</td>\n",
       "      <td>0.00000</td>\n",
       "      <td>0.000000</td>\n",
       "      <td>0.000000</td>\n",
       "      <td>0.000000</td>\n",
       "      <td>0.000000</td>\n",
       "      <td>...</td>\n",
       "      <td>0.000000</td>\n",
       "      <td>0.000000</td>\n",
       "      <td>0.000000</td>\n",
       "      <td>0.000000</td>\n",
       "      <td>0.000000</td>\n",
       "      <td>0.000000</td>\n",
       "      <td>0.000000</td>\n",
       "      <td>0.000000</td>\n",
       "      <td>0.000000</td>\n",
       "      <td>0.000000</td>\n",
       "    </tr>\n",
       "    <tr>\n",
       "      <th>75%</th>\n",
       "      <td>0.000000</td>\n",
       "      <td>0.000000</td>\n",
       "      <td>0.000000</td>\n",
       "      <td>0.000000</td>\n",
       "      <td>0.000000</td>\n",
       "      <td>0.00000</td>\n",
       "      <td>0.000000</td>\n",
       "      <td>0.000000</td>\n",
       "      <td>0.000000</td>\n",
       "      <td>0.000000</td>\n",
       "      <td>...</td>\n",
       "      <td>0.000000</td>\n",
       "      <td>0.000000</td>\n",
       "      <td>0.000000</td>\n",
       "      <td>0.000000</td>\n",
       "      <td>0.000000</td>\n",
       "      <td>0.000000</td>\n",
       "      <td>0.000000</td>\n",
       "      <td>0.000000</td>\n",
       "      <td>0.000000</td>\n",
       "      <td>0.000000</td>\n",
       "    </tr>\n",
       "    <tr>\n",
       "      <th>max</th>\n",
       "      <td>1.000000</td>\n",
       "      <td>1.000000</td>\n",
       "      <td>1.000000</td>\n",
       "      <td>1.000000</td>\n",
       "      <td>1.000000</td>\n",
       "      <td>1.00000</td>\n",
       "      <td>1.000000</td>\n",
       "      <td>1.000000</td>\n",
       "      <td>1.000000</td>\n",
       "      <td>0.671319</td>\n",
       "      <td>...</td>\n",
       "      <td>1.000000</td>\n",
       "      <td>1.000000</td>\n",
       "      <td>1.000000</td>\n",
       "      <td>1.000000</td>\n",
       "      <td>1.000000</td>\n",
       "      <td>1.000000</td>\n",
       "      <td>1.000000</td>\n",
       "      <td>1.000000</td>\n",
       "      <td>1.000000</td>\n",
       "      <td>1.000000</td>\n",
       "    </tr>\n",
       "  </tbody>\n",
       "</table>\n",
       "<p>8 rows × 65 columns</p>\n",
       "</div>"
      ],
      "text/plain": [
       "       TFIDF(adventure)  TFIDF(album)    TFIDF(app)    TFIDF(art)  \\\n",
       "count      96327.000000  96327.000000  96327.000000  96327.000000   \n",
       "mean           0.007292      0.018956      0.009808      0.018697   \n",
       "std            0.079992      0.119877      0.094721      0.126633   \n",
       "min            0.000000      0.000000      0.000000      0.000000   \n",
       "25%            0.000000      0.000000      0.000000      0.000000   \n",
       "50%            0.000000      0.000000      0.000000      0.000000   \n",
       "75%            0.000000      0.000000      0.000000      0.000000   \n",
       "max            1.000000      1.000000      1.000000      1.000000   \n",
       "\n",
       "         TFIDF(bag)  TFIDF(best)  TFIDF(board)   TFIDF(book)   TFIDF(card)  \\\n",
       "count  96327.000000  96327.00000  96327.000000  96327.000000  96327.000000   \n",
       "mean       0.004652      0.00444      0.004617      0.024255      0.013931   \n",
       "std        0.065006      0.06196      0.062138      0.140154      0.105857   \n",
       "min        0.000000      0.00000      0.000000      0.000000      0.000000   \n",
       "25%        0.000000      0.00000      0.000000      0.000000      0.000000   \n",
       "50%        0.000000      0.00000      0.000000      0.000000      0.000000   \n",
       "75%        0.000000      0.00000      0.000000      0.000000      0.000000   \n",
       "max        1.000000      1.00000      1.000000      1.000000      1.000000   \n",
       "\n",
       "       TFIDF(card game)  ...  TFIDF(story)  TFIDF(studio)  TFIDF(system)  \\\n",
       "count      96327.000000  ...  96327.000000   96327.000000   96327.000000   \n",
       "mean           0.004116  ...      0.008263       0.006678       0.005152   \n",
       "std            0.051479  ...      0.084568       0.075230       0.069037   \n",
       "min            0.000000  ...      0.000000       0.000000       0.000000   \n",
       "25%            0.000000  ...      0.000000       0.000000       0.000000   \n",
       "50%            0.000000  ...      0.000000       0.000000       0.000000   \n",
       "75%            0.000000  ...      0.000000       0.000000       0.000000   \n",
       "max            0.671319  ...      1.000000       1.000000       1.000000   \n",
       "\n",
       "        TFIDF(time)  TFIDF(travel)  TFIDF(ultimate)  TFIDF(video)  \\\n",
       "count  96327.000000   96327.000000     96327.000000  96327.000000   \n",
       "mean       0.005246       0.004360         0.004533      0.006516   \n",
       "std        0.067879       0.061212         0.064384      0.071777   \n",
       "min        0.000000       0.000000         0.000000      0.000000   \n",
       "25%        0.000000       0.000000         0.000000      0.000000   \n",
       "50%        0.000000       0.000000         0.000000      0.000000   \n",
       "75%        0.000000       0.000000         0.000000      0.000000   \n",
       "max        1.000000       1.000000         1.000000      1.000000   \n",
       "\n",
       "         TFIDF(war)  TFIDF(watch)  TFIDF(world)  \n",
       "count  96327.000000  96327.000000  96327.000000  \n",
       "mean       0.004389      0.007422      0.016913  \n",
       "std        0.062548      0.081983      0.117264  \n",
       "min        0.000000      0.000000      0.000000  \n",
       "25%        0.000000      0.000000      0.000000  \n",
       "50%        0.000000      0.000000      0.000000  \n",
       "75%        0.000000      0.000000      0.000000  \n",
       "max        1.000000      1.000000      1.000000  \n",
       "\n",
       "[8 rows x 65 columns]"
      ]
     },
     "execution_count": 71,
     "metadata": {},
     "output_type": "execute_result"
    }
   ],
   "source": [
    "Name_TFIDF.describe()"
   ]
  },
  {
   "cell_type": "code",
   "execution_count": 72,
   "metadata": {},
   "outputs": [
    {
     "data": {
      "text/plain": [
       "TFIDF(book)           2336.411556\n",
       "TFIDF(game)           2299.699017\n",
       "TFIDF(new)            2074.006025\n",
       "TFIDF(album)          1825.946983\n",
       "TFIDF(art)            1800.983476\n",
       "                         ...     \n",
       "TFIDF(war)             422.731781\n",
       "TFIDF(travel)          419.955036\n",
       "TFIDF(fantasy)         417.051674\n",
       "TFIDF(card game)       396.494595\n",
       "TFIDF(debut album)     304.049848\n",
       "Length: 65, dtype: float64"
      ]
     },
     "execution_count": 72,
     "metadata": {},
     "output_type": "execute_result"
    }
   ],
   "source": [
    "Name_TFIDF.sum().sort_values(ascending = False)"
   ]
  },
  {
   "cell_type": "code",
   "execution_count": null,
   "metadata": {},
   "outputs": [],
   "source": []
  },
  {
   "cell_type": "code",
   "execution_count": 73,
   "metadata": {},
   "outputs": [],
   "source": [
    "# Common words for failures\n",
    "# ProcessedData[ProcessedData[\"Status\"] == 0]"
   ]
  },
  {
   "cell_type": "code",
   "execution_count": 74,
   "metadata": {},
   "outputs": [],
   "source": [
    "# Common words for successes\n",
    "# ProcessedData[ProcessedData[\"Status\"] == 1]"
   ]
  },
  {
   "cell_type": "code",
   "execution_count": 75,
   "metadata": {},
   "outputs": [],
   "source": [
    "# Common words by category"
   ]
  },
  {
   "cell_type": "code",
   "execution_count": null,
   "metadata": {},
   "outputs": [],
   "source": []
  },
  {
   "cell_type": "markdown",
   "metadata": {},
   "source": [
    "## Modeling with name included"
   ]
  },
  {
   "cell_type": "code",
   "execution_count": 76,
   "metadata": {},
   "outputs": [
    {
     "name": "stdout",
     "output_type": "stream",
     "text": [
      "<class 'pandas.core.frame.DataFrame'>\n",
      "Int64Index: 96327 entries, 0 to 96326\n",
      "Data columns (total 11 columns):\n",
      "index                96327 non-null int64\n",
      "Status               96327 non-null uint8\n",
      "YearLaunched         96327 non-null uint16\n",
      "MonthLaunched        96327 non-null uint8\n",
      "DayLaunched          96327 non-null uint8\n",
      "DayOfWeekLaunched    96327 non-null category\n",
      "Duration(Days)       96327 non-null uint8\n",
      "Category             96327 non-null category\n",
      "log(FundingGoal)     96327 non-null float64\n",
      "Name                 96327 non-null object\n",
      "State                96327 non-null object\n",
      "dtypes: category(2), float64(1), int64(1), object(2), uint16(1), uint8(4)\n",
      "memory usage: 4.4+ MB\n"
     ]
    }
   ],
   "source": [
    "ProcessedData.info()"
   ]
  },
  {
   "cell_type": "code",
   "execution_count": 77,
   "metadata": {},
   "outputs": [
    {
     "name": "stdout",
     "output_type": "stream",
     "text": [
      "<class 'pandas.core.frame.DataFrame'>\n",
      "Int64Index: 96327 entries, 0 to 96326\n",
      "Data columns (total 4 columns):\n",
      "Name_WordList          96327 non-null object\n",
      "Name_WordCount         96327 non-null uint8\n",
      "Name_Readability       96327 non-null float64\n",
      "Name_SentimentValue    96327 non-null float64\n",
      "dtypes: float64(2), object(1), uint8(1)\n",
      "memory usage: 3.0+ MB\n"
     ]
    }
   ],
   "source": [
    "NameData.info()"
   ]
  },
  {
   "cell_type": "code",
   "execution_count": null,
   "metadata": {},
   "outputs": [],
   "source": []
  },
  {
   "cell_type": "code",
   "execution_count": 78,
   "metadata": {
    "scrolled": true
   },
   "outputs": [
    {
     "name": "stdout",
     "output_type": "stream",
     "text": [
      "<class 'pandas.core.frame.DataFrame'>\n",
      "RangeIndex: 96327 entries, 0 to 96326\n",
      "Data columns (total 65 columns):\n",
      "Count(adventure)      96327 non-null int64\n",
      "Count(album)          96327 non-null int64\n",
      "Count(app)            96327 non-null int64\n",
      "Count(art)            96327 non-null int64\n",
      "Count(bag)            96327 non-null int64\n",
      "Count(best)           96327 non-null int64\n",
      "Count(board)          96327 non-null int64\n",
      "Count(book)           96327 non-null int64\n",
      "Count(card)           96327 non-null int64\n",
      "Count(card game)      96327 non-null int64\n",
      "Count(child)          96327 non-null int64\n",
      "Count(clothing)       96327 non-null int64\n",
      "Count(coffee)         96327 non-null int64\n",
      "Count(collection)     96327 non-null int64\n",
      "Count(comic)          96327 non-null int64\n",
      "Count(day)            96327 non-null int64\n",
      "Count(debut)          96327 non-null int64\n",
      "Count(debut album)    96327 non-null int64\n",
      "Count(design)         96327 non-null int64\n",
      "Count(documentary)    96327 non-null int64\n",
      "Count(dream)          96327 non-null int64\n",
      "Count(edition)        96327 non-null int64\n",
      "Count(enamel)         96327 non-null int64\n",
      "Count(enamel pin)     96327 non-null int64\n",
      "Count(fantasy)        96327 non-null int64\n",
      "Count(film)           96327 non-null int64\n",
      "Count(first)          96327 non-null int64\n",
      "Count(food)           96327 non-null int64\n",
      "Count(game)           96327 non-null int64\n",
      "Count(get)            96327 non-null int64\n",
      "Count(good)           96327 non-null int64\n",
      "Count(help)           96327 non-null int64\n",
      "Count(home)           96327 non-null int64\n",
      "Count(kid)            96327 non-null int64\n",
      "Count(life)           96327 non-null int64\n",
      "Count(light)          96327 non-null int64\n",
      "Count(live)           96327 non-null int64\n",
      "Count(love)           96327 non-null int64\n",
      "Count(magazine)       96327 non-null int64\n",
      "Count(make)           96327 non-null int64\n",
      "Count(more)           96327 non-null int64\n",
      "Count(music)          96327 non-null int64\n",
      "Count(new)            96327 non-null int64\n",
      "Count(novel)          96327 non-null int64\n",
      "Count(pin)            96327 non-null int64\n",
      "Count(play)           96327 non-null int64\n",
      "Count(print)          96327 non-null int64\n",
      "Count(project)        96327 non-null int64\n",
      "Count(record)         96327 non-null int64\n",
      "Count(rpg)            96327 non-null int64\n",
      "Count(series)         96327 non-null int64\n",
      "Count(short)          96327 non-null int64\n",
      "Count(short film)     96327 non-null int64\n",
      "Count(show)           96327 non-null int64\n",
      "Count(smart)          96327 non-null int64\n",
      "Count(story)          96327 non-null int64\n",
      "Count(studio)         96327 non-null int64\n",
      "Count(system)         96327 non-null int64\n",
      "Count(time)           96327 non-null int64\n",
      "Count(travel)         96327 non-null int64\n",
      "Count(ultimate)       96327 non-null int64\n",
      "Count(video)          96327 non-null int64\n",
      "Count(war)            96327 non-null int64\n",
      "Count(watch)          96327 non-null int64\n",
      "Count(world)          96327 non-null int64\n",
      "dtypes: int64(65)\n",
      "memory usage: 47.8 MB\n"
     ]
    }
   ],
   "source": [
    "Name_WordCountsData.info()"
   ]
  },
  {
   "cell_type": "code",
   "execution_count": 79,
   "metadata": {
    "scrolled": true
   },
   "outputs": [
    {
     "name": "stdout",
     "output_type": "stream",
     "text": [
      "<class 'pandas.core.frame.DataFrame'>\n",
      "RangeIndex: 96327 entries, 0 to 96326\n",
      "Data columns (total 65 columns):\n",
      "TFIDF(adventure)      96327 non-null float64\n",
      "TFIDF(album)          96327 non-null float64\n",
      "TFIDF(app)            96327 non-null float64\n",
      "TFIDF(art)            96327 non-null float64\n",
      "TFIDF(bag)            96327 non-null float64\n",
      "TFIDF(best)           96327 non-null float64\n",
      "TFIDF(board)          96327 non-null float64\n",
      "TFIDF(book)           96327 non-null float64\n",
      "TFIDF(card)           96327 non-null float64\n",
      "TFIDF(card game)      96327 non-null float64\n",
      "TFIDF(child)          96327 non-null float64\n",
      "TFIDF(clothing)       96327 non-null float64\n",
      "TFIDF(coffee)         96327 non-null float64\n",
      "TFIDF(collection)     96327 non-null float64\n",
      "TFIDF(comic)          96327 non-null float64\n",
      "TFIDF(day)            96327 non-null float64\n",
      "TFIDF(debut)          96327 non-null float64\n",
      "TFIDF(debut album)    96327 non-null float64\n",
      "TFIDF(design)         96327 non-null float64\n",
      "TFIDF(documentary)    96327 non-null float64\n",
      "TFIDF(dream)          96327 non-null float64\n",
      "TFIDF(edition)        96327 non-null float64\n",
      "TFIDF(enamel)         96327 non-null float64\n",
      "TFIDF(enamel pin)     96327 non-null float64\n",
      "TFIDF(fantasy)        96327 non-null float64\n",
      "TFIDF(film)           96327 non-null float64\n",
      "TFIDF(first)          96327 non-null float64\n",
      "TFIDF(food)           96327 non-null float64\n",
      "TFIDF(game)           96327 non-null float64\n",
      "TFIDF(get)            96327 non-null float64\n",
      "TFIDF(good)           96327 non-null float64\n",
      "TFIDF(help)           96327 non-null float64\n",
      "TFIDF(home)           96327 non-null float64\n",
      "TFIDF(kid)            96327 non-null float64\n",
      "TFIDF(life)           96327 non-null float64\n",
      "TFIDF(light)          96327 non-null float64\n",
      "TFIDF(live)           96327 non-null float64\n",
      "TFIDF(love)           96327 non-null float64\n",
      "TFIDF(magazine)       96327 non-null float64\n",
      "TFIDF(make)           96327 non-null float64\n",
      "TFIDF(more)           96327 non-null float64\n",
      "TFIDF(music)          96327 non-null float64\n",
      "TFIDF(new)            96327 non-null float64\n",
      "TFIDF(novel)          96327 non-null float64\n",
      "TFIDF(pin)            96327 non-null float64\n",
      "TFIDF(play)           96327 non-null float64\n",
      "TFIDF(print)          96327 non-null float64\n",
      "TFIDF(project)        96327 non-null float64\n",
      "TFIDF(record)         96327 non-null float64\n",
      "TFIDF(rpg)            96327 non-null float64\n",
      "TFIDF(series)         96327 non-null float64\n",
      "TFIDF(short)          96327 non-null float64\n",
      "TFIDF(short film)     96327 non-null float64\n",
      "TFIDF(show)           96327 non-null float64\n",
      "TFIDF(smart)          96327 non-null float64\n",
      "TFIDF(story)          96327 non-null float64\n",
      "TFIDF(studio)         96327 non-null float64\n",
      "TFIDF(system)         96327 non-null float64\n",
      "TFIDF(time)           96327 non-null float64\n",
      "TFIDF(travel)         96327 non-null float64\n",
      "TFIDF(ultimate)       96327 non-null float64\n",
      "TFIDF(video)          96327 non-null float64\n",
      "TFIDF(war)            96327 non-null float64\n",
      "TFIDF(watch)          96327 non-null float64\n",
      "TFIDF(world)          96327 non-null float64\n",
      "dtypes: float64(65)\n",
      "memory usage: 47.8 MB\n"
     ]
    }
   ],
   "source": [
    "Name_TFIDF.info()"
   ]
  },
  {
   "cell_type": "code",
   "execution_count": 80,
   "metadata": {
    "scrolled": true
   },
   "outputs": [],
   "source": [
    "TrainingWithTitleData = pd.concat([\n",
    "    ProcessedData.drop(\"Name\", axis = 1),\n",
    "    NameData.drop(\"Name_WordList\", axis = 1),\n",
    "    #Name_WordCountsData,\n",
    "    Name_TFIDF,\n",
    "], axis = 1).drop(\"index\", axis = 1)"
   ]
  },
  {
   "cell_type": "code",
   "execution_count": 81,
   "metadata": {
    "scrolled": true
   },
   "outputs": [
    {
     "data": {
      "text/plain": [
       "Status              0\n",
       "TFIDF(new)          0\n",
       "TFIDF(music)        0\n",
       "TFIDF(more)         0\n",
       "TFIDF(make)         0\n",
       "                   ..\n",
       "TFIDF(child)        0\n",
       "TFIDF(card game)    0\n",
       "TFIDF(card)         0\n",
       "TFIDF(day)          0\n",
       "TFIDF(world)        0\n",
       "Length: 77, dtype: int64"
      ]
     },
     "metadata": {},
     "output_type": "display_data"
    }
   ],
   "source": [
    "display(TrainingWithTitleData.isnull().sum().sort_values())"
   ]
  },
  {
   "cell_type": "code",
   "execution_count": 82,
   "metadata": {
    "scrolled": true
   },
   "outputs": [
    {
     "name": "stdout",
     "output_type": "stream",
     "text": [
      "<class 'pandas.core.frame.DataFrame'>\n",
      "Int64Index: 96327 entries, 0 to 96326\n",
      "Data columns (total 77 columns):\n",
      "Status                 96327 non-null uint8\n",
      "YearLaunched           96327 non-null uint16\n",
      "MonthLaunched          96327 non-null uint8\n",
      "DayLaunched            96327 non-null uint8\n",
      "DayOfWeekLaunched      96327 non-null category\n",
      "Duration(Days)         96327 non-null uint8\n",
      "Category               96327 non-null category\n",
      "log(FundingGoal)       96327 non-null float64\n",
      "State                  96327 non-null object\n",
      "Name_WordCount         96327 non-null uint8\n",
      "Name_Readability       96327 non-null float64\n",
      "Name_SentimentValue    96327 non-null float64\n",
      "TFIDF(adventure)       96327 non-null float64\n",
      "TFIDF(album)           96327 non-null float64\n",
      "TFIDF(app)             96327 non-null float64\n",
      "TFIDF(art)             96327 non-null float64\n",
      "TFIDF(bag)             96327 non-null float64\n",
      "TFIDF(best)            96327 non-null float64\n",
      "TFIDF(board)           96327 non-null float64\n",
      "TFIDF(book)            96327 non-null float64\n",
      "TFIDF(card)            96327 non-null float64\n",
      "TFIDF(card game)       96327 non-null float64\n",
      "TFIDF(child)           96327 non-null float64\n",
      "TFIDF(clothing)        96327 non-null float64\n",
      "TFIDF(coffee)          96327 non-null float64\n",
      "TFIDF(collection)      96327 non-null float64\n",
      "TFIDF(comic)           96327 non-null float64\n",
      "TFIDF(day)             96327 non-null float64\n",
      "TFIDF(debut)           96327 non-null float64\n",
      "TFIDF(debut album)     96327 non-null float64\n",
      "TFIDF(design)          96327 non-null float64\n",
      "TFIDF(documentary)     96327 non-null float64\n",
      "TFIDF(dream)           96327 non-null float64\n",
      "TFIDF(edition)         96327 non-null float64\n",
      "TFIDF(enamel)          96327 non-null float64\n",
      "TFIDF(enamel pin)      96327 non-null float64\n",
      "TFIDF(fantasy)         96327 non-null float64\n",
      "TFIDF(film)            96327 non-null float64\n",
      "TFIDF(first)           96327 non-null float64\n",
      "TFIDF(food)            96327 non-null float64\n",
      "TFIDF(game)            96327 non-null float64\n",
      "TFIDF(get)             96327 non-null float64\n",
      "TFIDF(good)            96327 non-null float64\n",
      "TFIDF(help)            96327 non-null float64\n",
      "TFIDF(home)            96327 non-null float64\n",
      "TFIDF(kid)             96327 non-null float64\n",
      "TFIDF(life)            96327 non-null float64\n",
      "TFIDF(light)           96327 non-null float64\n",
      "TFIDF(live)            96327 non-null float64\n",
      "TFIDF(love)            96327 non-null float64\n",
      "TFIDF(magazine)        96327 non-null float64\n",
      "TFIDF(make)            96327 non-null float64\n",
      "TFIDF(more)            96327 non-null float64\n",
      "TFIDF(music)           96327 non-null float64\n",
      "TFIDF(new)             96327 non-null float64\n",
      "TFIDF(novel)           96327 non-null float64\n",
      "TFIDF(pin)             96327 non-null float64\n",
      "TFIDF(play)            96327 non-null float64\n",
      "TFIDF(print)           96327 non-null float64\n",
      "TFIDF(project)         96327 non-null float64\n",
      "TFIDF(record)          96327 non-null float64\n",
      "TFIDF(rpg)             96327 non-null float64\n",
      "TFIDF(series)          96327 non-null float64\n",
      "TFIDF(short)           96327 non-null float64\n",
      "TFIDF(short film)      96327 non-null float64\n",
      "TFIDF(show)            96327 non-null float64\n",
      "TFIDF(smart)           96327 non-null float64\n",
      "TFIDF(story)           96327 non-null float64\n",
      "TFIDF(studio)          96327 non-null float64\n",
      "TFIDF(system)          96327 non-null float64\n",
      "TFIDF(time)            96327 non-null float64\n",
      "TFIDF(travel)          96327 non-null float64\n",
      "TFIDF(ultimate)        96327 non-null float64\n",
      "TFIDF(video)           96327 non-null float64\n",
      "TFIDF(war)             96327 non-null float64\n",
      "TFIDF(watch)           96327 non-null float64\n",
      "TFIDF(world)           96327 non-null float64\n",
      "dtypes: category(2), float64(68), object(1), uint16(1), uint8(5)\n",
      "memory usage: 52.3+ MB\n"
     ]
    }
   ],
   "source": [
    "TrainingWithTitleData.info()"
   ]
  },
  {
   "cell_type": "code",
   "execution_count": 83,
   "metadata": {},
   "outputs": [],
   "source": [
    "TrainingWithTitleData = pd.get_dummies(TrainingWithTitleData, drop_first = True)"
   ]
  },
  {
   "cell_type": "code",
   "execution_count": 84,
   "metadata": {},
   "outputs": [
    {
     "name": "stdout",
     "output_type": "stream",
     "text": [
      "Starting GaussianNB at 2020-02-08 10:34:52.719479\n",
      "Starting BernoulliNB at 2020-02-08 10:34:52.975397\n",
      "Starting RandomForestClassifier at 2020-02-08 10:34:53.169335\n",
      "Starting DecisionTreeClassifier at 2020-02-08 10:35:00.780899\n",
      "Starting ExtraTreesClassifier at 2020-02-08 10:35:01.409699\n",
      "Starting GradientBoostingClassifier at 2020-02-08 10:35:11.222559\n",
      "Starting XGBClassifier at 2020-02-08 10:35:23.840522\n"
     ]
    }
   ],
   "source": [
    "ClassifierWithTitleResults_List, ClassifierWithTitlePerformanceData = AssessClassifierModelPerformance(TrainingWithTitleData, \"Status\", [\n",
    "    GaussianNB(),\n",
    "    BernoulliNB(),\n",
    "    RandomForestClassifier(),\n",
    "    DecisionTreeClassifier(),\n",
    "    ExtraTreesClassifier(),\n",
    "    GradientBoostingClassifier(),\n",
    "    XGBClassifier(objective = \"reg:squarederror\", tree_method = \"hist\", booster = \"gbtree\", nthread = 8,\n",
    "                 learning_rate = 0.5, max_depth = 6, n_estimators = 100),\n",
    "])"
   ]
  },
  {
   "cell_type": "code",
   "execution_count": 85,
   "metadata": {
    "scrolled": true
   },
   "outputs": [
    {
     "data": {
      "text/html": [
       "<div>\n",
       "<style scoped>\n",
       "    .dataframe tbody tr th:only-of-type {\n",
       "        vertical-align: middle;\n",
       "    }\n",
       "\n",
       "    .dataframe tbody tr th {\n",
       "        vertical-align: top;\n",
       "    }\n",
       "\n",
       "    .dataframe thead th {\n",
       "        text-align: right;\n",
       "    }\n",
       "</style>\n",
       "<table border=\"1\" class=\"dataframe\">\n",
       "  <thead>\n",
       "    <tr style=\"text-align: right;\">\n",
       "      <th></th>\n",
       "      <th>Accuracy</th>\n",
       "      <th>ConfusionMatrix</th>\n",
       "      <th>F1</th>\n",
       "      <th>Name</th>\n",
       "      <th>Precision</th>\n",
       "      <th>Recall</th>\n",
       "      <th>RunTime</th>\n",
       "    </tr>\n",
       "  </thead>\n",
       "  <tbody>\n",
       "    <tr>\n",
       "      <th>0</th>\n",
       "      <td>0.978044</td>\n",
       "      <td>[[11610, 183], [240, 7233]]</td>\n",
       "      <td>0.971590</td>\n",
       "      <td>GaussianNB</td>\n",
       "      <td>0.975324</td>\n",
       "      <td>0.967884</td>\n",
       "      <td>0:00:00.223928</td>\n",
       "    </tr>\n",
       "    <tr>\n",
       "      <th>1</th>\n",
       "      <td>0.990398</td>\n",
       "      <td>[[11608, 185], [0, 7473]]</td>\n",
       "      <td>0.987773</td>\n",
       "      <td>BernoulliNB</td>\n",
       "      <td>0.975842</td>\n",
       "      <td>1.000000</td>\n",
       "      <td>0:00:00.153951</td>\n",
       "    </tr>\n",
       "    <tr>\n",
       "      <th>2</th>\n",
       "      <td>0.990398</td>\n",
       "      <td>[[11608, 185], [0, 7473]]</td>\n",
       "      <td>0.987773</td>\n",
       "      <td>RandomForestClassifier</td>\n",
       "      <td>0.975842</td>\n",
       "      <td>1.000000</td>\n",
       "      <td>0:00:07.579575</td>\n",
       "    </tr>\n",
       "    <tr>\n",
       "      <th>3</th>\n",
       "      <td>0.978719</td>\n",
       "      <td>[[11618, 175], [235, 7238]]</td>\n",
       "      <td>0.972457</td>\n",
       "      <td>DecisionTreeClassifier</td>\n",
       "      <td>0.976393</td>\n",
       "      <td>0.968553</td>\n",
       "      <td>0:00:00.593811</td>\n",
       "    </tr>\n",
       "    <tr>\n",
       "      <th>4</th>\n",
       "      <td>0.990190</td>\n",
       "      <td>[[11608, 185], [4, 7469]]</td>\n",
       "      <td>0.987506</td>\n",
       "      <td>ExtraTreesClassifier</td>\n",
       "      <td>0.975830</td>\n",
       "      <td>0.999465</td>\n",
       "      <td>0:00:09.781870</td>\n",
       "    </tr>\n",
       "    <tr>\n",
       "      <th>5</th>\n",
       "      <td>0.990242</td>\n",
       "      <td>[[11608, 185], [3, 7470]]</td>\n",
       "      <td>0.987573</td>\n",
       "      <td>GradientBoostingClassifier</td>\n",
       "      <td>0.975833</td>\n",
       "      <td>0.999599</td>\n",
       "      <td>0:00:12.585973</td>\n",
       "    </tr>\n",
       "    <tr>\n",
       "      <th>6</th>\n",
       "      <td>0.989827</td>\n",
       "      <td>[[11608, 185], [11, 7462]]</td>\n",
       "      <td>0.987037</td>\n",
       "      <td>XGBClassifier</td>\n",
       "      <td>0.975808</td>\n",
       "      <td>0.998528</td>\n",
       "      <td>0:00:02.743122</td>\n",
       "    </tr>\n",
       "  </tbody>\n",
       "</table>\n",
       "</div>"
      ],
      "text/plain": [
       "   Accuracy              ConfusionMatrix        F1  \\\n",
       "0  0.978044  [[11610, 183], [240, 7233]]  0.971590   \n",
       "1  0.990398    [[11608, 185], [0, 7473]]  0.987773   \n",
       "2  0.990398    [[11608, 185], [0, 7473]]  0.987773   \n",
       "3  0.978719  [[11618, 175], [235, 7238]]  0.972457   \n",
       "4  0.990190    [[11608, 185], [4, 7469]]  0.987506   \n",
       "5  0.990242    [[11608, 185], [3, 7470]]  0.987573   \n",
       "6  0.989827   [[11608, 185], [11, 7462]]  0.987037   \n",
       "\n",
       "                         Name  Precision    Recall         RunTime  \n",
       "0                  GaussianNB   0.975324  0.967884  0:00:00.223928  \n",
       "1                 BernoulliNB   0.975842  1.000000  0:00:00.153951  \n",
       "2      RandomForestClassifier   0.975842  1.000000  0:00:07.579575  \n",
       "3      DecisionTreeClassifier   0.976393  0.968553  0:00:00.593811  \n",
       "4        ExtraTreesClassifier   0.975830  0.999465  0:00:09.781870  \n",
       "5  GradientBoostingClassifier   0.975833  0.999599  0:00:12.585973  \n",
       "6               XGBClassifier   0.975808  0.998528  0:00:02.743122  "
      ]
     },
     "metadata": {},
     "output_type": "display_data"
    }
   ],
   "source": [
    "with pd.option_context(\"display.max_columns\", None, \"display.max_rows\", None, \"display.max_colwidth\", 40):\n",
    "    display(ClassifierWithTitleResults_List.drop(\"ModelObject\", axis = 1))"
   ]
  },
  {
   "cell_type": "code",
   "execution_count": 86,
   "metadata": {
    "scrolled": false
   },
   "outputs": [
    {
     "data": {
      "text/html": [
       "<div>\n",
       "<style scoped>\n",
       "    .dataframe tbody tr th:only-of-type {\n",
       "        vertical-align: middle;\n",
       "    }\n",
       "\n",
       "    .dataframe tbody tr th {\n",
       "        vertical-align: top;\n",
       "    }\n",
       "\n",
       "    .dataframe thead th {\n",
       "        text-align: right;\n",
       "    }\n",
       "</style>\n",
       "<table border=\"1\" class=\"dataframe\">\n",
       "  <thead>\n",
       "    <tr style=\"text-align: right;\">\n",
       "      <th></th>\n",
       "      <th>Accuracy</th>\n",
       "      <th>F1</th>\n",
       "      <th>Precision</th>\n",
       "      <th>Recall</th>\n",
       "    </tr>\n",
       "  </thead>\n",
       "  <tbody>\n",
       "    <tr>\n",
       "      <th>mean</th>\n",
       "      <td>0.986831</td>\n",
       "      <td>0.983101</td>\n",
       "      <td>0.975839</td>\n",
       "      <td>0.990576</td>\n",
       "    </tr>\n",
       "    <tr>\n",
       "      <th>median</th>\n",
       "      <td>0.990190</td>\n",
       "      <td>0.987506</td>\n",
       "      <td>0.975833</td>\n",
       "      <td>0.999465</td>\n",
       "    </tr>\n",
       "    <tr>\n",
       "      <th>min</th>\n",
       "      <td>0.978044</td>\n",
       "      <td>0.971590</td>\n",
       "      <td>0.975324</td>\n",
       "      <td>0.967884</td>\n",
       "    </tr>\n",
       "    <tr>\n",
       "      <th>max</th>\n",
       "      <td>0.990398</td>\n",
       "      <td>0.987773</td>\n",
       "      <td>0.976393</td>\n",
       "      <td>1.000000</td>\n",
       "    </tr>\n",
       "  </tbody>\n",
       "</table>\n",
       "</div>"
      ],
      "text/plain": [
       "        Accuracy        F1  Precision    Recall\n",
       "mean    0.986831  0.983101   0.975839  0.990576\n",
       "median  0.990190  0.987506   0.975833  0.999465\n",
       "min     0.978044  0.971590   0.975324  0.967884\n",
       "max     0.990398  0.987773   0.976393  1.000000"
      ]
     },
     "metadata": {},
     "output_type": "display_data"
    }
   ],
   "source": [
    "with pd.option_context(\"display.max_columns\", None, \"display.max_rows\", None, \"display.max_colwidth\", 40):\n",
    "    display(ClassifierWithTitlePerformanceData)"
   ]
  },
  {
   "cell_type": "code",
   "execution_count": null,
   "metadata": {},
   "outputs": [],
   "source": []
  },
  {
   "cell_type": "code",
   "execution_count": 87,
   "metadata": {},
   "outputs": [],
   "source": [
    "def CombineDataFrames(DataFrame_Left, Name_Left, DataFrame_Right, Name_Right):\n",
    "    return pd.concat([DataFrame_Left, DataFrame_Right], axis = 1, keys = [Name_Left, Name_Right])"
   ]
  },
  {
   "cell_type": "code",
   "execution_count": 88,
   "metadata": {},
   "outputs": [
    {
     "data": {
      "text/html": [
       "<div>\n",
       "<style scoped>\n",
       "    .dataframe tbody tr th:only-of-type {\n",
       "        vertical-align: middle;\n",
       "    }\n",
       "\n",
       "    .dataframe tbody tr th {\n",
       "        vertical-align: top;\n",
       "    }\n",
       "\n",
       "    .dataframe thead tr th {\n",
       "        text-align: left;\n",
       "    }\n",
       "</style>\n",
       "<table border=\"1\" class=\"dataframe\">\n",
       "  <thead>\n",
       "    <tr>\n",
       "      <th></th>\n",
       "      <th colspan=\"4\" halign=\"left\">NoTitle</th>\n",
       "      <th colspan=\"4\" halign=\"left\">WithTitle</th>\n",
       "    </tr>\n",
       "    <tr>\n",
       "      <th></th>\n",
       "      <th>Accuracy</th>\n",
       "      <th>F1</th>\n",
       "      <th>Precision</th>\n",
       "      <th>Recall</th>\n",
       "      <th>Accuracy</th>\n",
       "      <th>F1</th>\n",
       "      <th>Precision</th>\n",
       "      <th>Recall</th>\n",
       "    </tr>\n",
       "  </thead>\n",
       "  <tbody>\n",
       "    <tr>\n",
       "      <th>mean</th>\n",
       "      <td>0.641174</td>\n",
       "      <td>0.455676</td>\n",
       "      <td>0.549332</td>\n",
       "      <td>0.399814</td>\n",
       "      <td>0.986831</td>\n",
       "      <td>0.983101</td>\n",
       "      <td>0.975839</td>\n",
       "      <td>0.990576</td>\n",
       "    </tr>\n",
       "    <tr>\n",
       "      <th>median</th>\n",
       "      <td>0.636769</td>\n",
       "      <td>0.478592</td>\n",
       "      <td>0.555483</td>\n",
       "      <td>0.451403</td>\n",
       "      <td>0.990190</td>\n",
       "      <td>0.987506</td>\n",
       "      <td>0.975833</td>\n",
       "      <td>0.999465</td>\n",
       "    </tr>\n",
       "    <tr>\n",
       "      <th>min</th>\n",
       "      <td>0.593636</td>\n",
       "      <td>0.334031</td>\n",
       "      <td>0.469738</td>\n",
       "      <td>0.237902</td>\n",
       "      <td>0.978044</td>\n",
       "      <td>0.971590</td>\n",
       "      <td>0.975324</td>\n",
       "      <td>0.967884</td>\n",
       "    </tr>\n",
       "    <tr>\n",
       "      <th>max</th>\n",
       "      <td>0.676996</td>\n",
       "      <td>0.511628</td>\n",
       "      <td>0.626591</td>\n",
       "      <td>0.475532</td>\n",
       "      <td>0.990398</td>\n",
       "      <td>0.987773</td>\n",
       "      <td>0.976393</td>\n",
       "      <td>1.000000</td>\n",
       "    </tr>\n",
       "  </tbody>\n",
       "</table>\n",
       "</div>"
      ],
      "text/plain": [
       "         NoTitle                               WithTitle                      \\\n",
       "        Accuracy        F1 Precision    Recall  Accuracy        F1 Precision   \n",
       "mean    0.641174  0.455676  0.549332  0.399814  0.986831  0.983101  0.975839   \n",
       "median  0.636769  0.478592  0.555483  0.451403  0.990190  0.987506  0.975833   \n",
       "min     0.593636  0.334031  0.469738  0.237902  0.978044  0.971590  0.975324   \n",
       "max     0.676996  0.511628  0.626591  0.475532  0.990398  0.987773  0.976393   \n",
       "\n",
       "                  \n",
       "          Recall  \n",
       "mean    0.990576  \n",
       "median  0.999465  \n",
       "min     0.967884  \n",
       "max     1.000000  "
      ]
     },
     "execution_count": 88,
     "metadata": {},
     "output_type": "execute_result"
    }
   ],
   "source": [
    "CombineDataFrames(ClassifierPerformanceData, \"NoTitle\", ClassifierWithTitlePerformanceData, \"WithTitle\")"
   ]
  },
  {
   "cell_type": "code",
   "execution_count": 89,
   "metadata": {},
   "outputs": [
    {
     "data": {
      "text/html": [
       "<div>\n",
       "<style scoped>\n",
       "    .dataframe tbody tr th:only-of-type {\n",
       "        vertical-align: middle;\n",
       "    }\n",
       "\n",
       "    .dataframe tbody tr th {\n",
       "        vertical-align: top;\n",
       "    }\n",
       "\n",
       "    .dataframe thead th {\n",
       "        text-align: right;\n",
       "    }\n",
       "</style>\n",
       "<table border=\"1\" class=\"dataframe\">\n",
       "  <thead>\n",
       "    <tr style=\"text-align: right;\">\n",
       "      <th></th>\n",
       "      <th>Accuracy</th>\n",
       "      <th>F1</th>\n",
       "      <th>Precision</th>\n",
       "      <th>Recall</th>\n",
       "    </tr>\n",
       "  </thead>\n",
       "  <tbody>\n",
       "    <tr>\n",
       "      <th>mean</th>\n",
       "      <td>0.345657</td>\n",
       "      <td>0.527425</td>\n",
       "      <td>0.426507</td>\n",
       "      <td>0.590762</td>\n",
       "    </tr>\n",
       "    <tr>\n",
       "      <th>median</th>\n",
       "      <td>0.353421</td>\n",
       "      <td>0.508913</td>\n",
       "      <td>0.420350</td>\n",
       "      <td>0.548062</td>\n",
       "    </tr>\n",
       "    <tr>\n",
       "      <th>min</th>\n",
       "      <td>0.384408</td>\n",
       "      <td>0.637559</td>\n",
       "      <td>0.505586</td>\n",
       "      <td>0.729983</td>\n",
       "    </tr>\n",
       "    <tr>\n",
       "      <th>max</th>\n",
       "      <td>0.313402</td>\n",
       "      <td>0.476146</td>\n",
       "      <td>0.349802</td>\n",
       "      <td>0.524468</td>\n",
       "    </tr>\n",
       "  </tbody>\n",
       "</table>\n",
       "</div>"
      ],
      "text/plain": [
       "        Accuracy        F1  Precision    Recall\n",
       "mean    0.345657  0.527425   0.426507  0.590762\n",
       "median  0.353421  0.508913   0.420350  0.548062\n",
       "min     0.384408  0.637559   0.505586  0.729983\n",
       "max     0.313402  0.476146   0.349802  0.524468"
      ]
     },
     "metadata": {},
     "output_type": "display_data"
    }
   ],
   "source": [
    "display(ClassifierWithTitlePerformanceData.subtract(ClassifierPerformanceData))"
   ]
  },
  {
   "cell_type": "code",
   "execution_count": null,
   "metadata": {},
   "outputs": [],
   "source": []
  },
  {
   "cell_type": "code",
   "execution_count": null,
   "metadata": {},
   "outputs": [],
   "source": []
  },
  {
   "cell_type": "code",
   "execution_count": 93,
   "metadata": {},
   "outputs": [
    {
     "name": "stdout",
     "output_type": "stream",
     "text": [
      "Starting GaussianNB at 2020-02-08 10:51:07.670551\n",
      "Starting BernoulliNB at 2020-02-08 10:51:07.713537\n",
      "Starting RandomForestClassifier at 2020-02-08 10:51:07.781515\n"
     ]
    },
    {
     "name": "stderr",
     "output_type": "stream",
     "text": [
      "C:\\Users\\root\\.conda\\envs\\DataScience\\lib\\site-packages\\sklearn\\metrics\\_classification.py:1272: UndefinedMetricWarning: Precision is ill-defined and being set to 0.0 due to no predicted samples. Use `zero_division` parameter to control this behavior.\n",
      "  _warn_prf(average, modifier, msg_start, len(result))\n",
      "C:\\Users\\root\\.conda\\envs\\DataScience\\lib\\site-packages\\sklearn\\metrics\\_classification.py:1272: UndefinedMetricWarning: Precision is ill-defined and being set to 0.0 due to no predicted samples. Use `zero_division` parameter to control this behavior.\n",
      "  _warn_prf(average, modifier, msg_start, len(result))\n"
     ]
    },
    {
     "name": "stdout",
     "output_type": "stream",
     "text": [
      "Starting DecisionTreeClassifier at 2020-02-08 10:51:10.597614\n",
      "Starting ExtraTreesClassifier at 2020-02-08 10:51:10.662593\n",
      "Starting GradientBoostingClassifier at 2020-02-08 10:51:12.104132\n"
     ]
    },
    {
     "name": "stderr",
     "output_type": "stream",
     "text": [
      "C:\\Users\\root\\.conda\\envs\\DataScience\\lib\\site-packages\\sklearn\\metrics\\_classification.py:1272: UndefinedMetricWarning: Precision is ill-defined and being set to 0.0 due to no predicted samples. Use `zero_division` parameter to control this behavior.\n",
      "  _warn_prf(average, modifier, msg_start, len(result))\n"
     ]
    },
    {
     "name": "stdout",
     "output_type": "stream",
     "text": [
      "Starting XGBClassifier at 2020-02-08 10:51:14.268440\n"
     ]
    },
    {
     "data": {
      "text/html": [
       "<div>\n",
       "<style scoped>\n",
       "    .dataframe tbody tr th:only-of-type {\n",
       "        vertical-align: middle;\n",
       "    }\n",
       "\n",
       "    .dataframe tbody tr th {\n",
       "        vertical-align: top;\n",
       "    }\n",
       "\n",
       "    .dataframe thead th {\n",
       "        text-align: right;\n",
       "    }\n",
       "</style>\n",
       "<table border=\"1\" class=\"dataframe\">\n",
       "  <thead>\n",
       "    <tr style=\"text-align: right;\">\n",
       "      <th></th>\n",
       "      <th>Accuracy</th>\n",
       "      <th>ConfusionMatrix</th>\n",
       "      <th>F1</th>\n",
       "      <th>ModelObject</th>\n",
       "      <th>Name</th>\n",
       "      <th>Precision</th>\n",
       "      <th>Recall</th>\n",
       "      <th>RunTime</th>\n",
       "    </tr>\n",
       "  </thead>\n",
       "  <tbody>\n",
       "    <tr>\n",
       "      <th>0</th>\n",
       "      <td>0.613205</td>\n",
       "      <td>[[11814, 0], [7452, 0]]</td>\n",
       "      <td>0.000000</td>\n",
       "      <td>GaussianNB(priors=None, var_smoothin...</td>\n",
       "      <td>GaussianNB</td>\n",
       "      <td>0.000000</td>\n",
       "      <td>0.000000</td>\n",
       "      <td>0:00:00.005998</td>\n",
       "    </tr>\n",
       "    <tr>\n",
       "      <th>1</th>\n",
       "      <td>0.613205</td>\n",
       "      <td>[[11814, 0], [7452, 0]]</td>\n",
       "      <td>0.000000</td>\n",
       "      <td>BernoulliNB(alpha=1.0, binarize=0.0,...</td>\n",
       "      <td>BernoulliNB</td>\n",
       "      <td>0.000000</td>\n",
       "      <td>0.000000</td>\n",
       "      <td>0:00:00.010997</td>\n",
       "    </tr>\n",
       "    <tr>\n",
       "      <th>2</th>\n",
       "      <td>0.612789</td>\n",
       "      <td>[[11672, 142], [7318, 134]]</td>\n",
       "      <td>0.034679</td>\n",
       "      <td>(DecisionTreeClassifier(ccp_alpha=0....</td>\n",
       "      <td>RandomForestClassifier</td>\n",
       "      <td>0.485507</td>\n",
       "      <td>0.017982</td>\n",
       "      <td>0:00:02.785109</td>\n",
       "    </tr>\n",
       "    <tr>\n",
       "      <th>3</th>\n",
       "      <td>0.612789</td>\n",
       "      <td>[[11682, 132], [7328, 124]]</td>\n",
       "      <td>0.032174</td>\n",
       "      <td>DecisionTreeClassifier(ccp_alpha=0.0...</td>\n",
       "      <td>DecisionTreeClassifier</td>\n",
       "      <td>0.484375</td>\n",
       "      <td>0.016640</td>\n",
       "      <td>0:00:00.034989</td>\n",
       "    </tr>\n",
       "    <tr>\n",
       "      <th>4</th>\n",
       "      <td>0.612789</td>\n",
       "      <td>[[11682, 132], [7328, 124]]</td>\n",
       "      <td>0.032174</td>\n",
       "      <td>(ExtraTreeClassifier(ccp_alpha=0.0, ...</td>\n",
       "      <td>ExtraTreesClassifier</td>\n",
       "      <td>0.484375</td>\n",
       "      <td>0.016640</td>\n",
       "      <td>0:00:01.411549</td>\n",
       "    </tr>\n",
       "    <tr>\n",
       "      <th>5</th>\n",
       "      <td>0.613205</td>\n",
       "      <td>[[11814, 0], [7452, 0]]</td>\n",
       "      <td>0.000000</td>\n",
       "      <td>([DecisionTreeRegressor(ccp_alpha=0....</td>\n",
       "      <td>GradientBoostingClassifier</td>\n",
       "      <td>0.000000</td>\n",
       "      <td>0.000000</td>\n",
       "      <td>0:00:02.134318</td>\n",
       "    </tr>\n",
       "    <tr>\n",
       "      <th>6</th>\n",
       "      <td>0.612893</td>\n",
       "      <td>[[11681, 133], [7325, 127]]</td>\n",
       "      <td>0.032936</td>\n",
       "      <td>XGBClassifier(base_score=0.5, booste...</td>\n",
       "      <td>XGBClassifier</td>\n",
       "      <td>0.488462</td>\n",
       "      <td>0.017042</td>\n",
       "      <td>0:00:00.824736</td>\n",
       "    </tr>\n",
       "  </tbody>\n",
       "</table>\n",
       "</div>"
      ],
      "text/plain": [
       "   Accuracy              ConfusionMatrix        F1  \\\n",
       "0  0.613205      [[11814, 0], [7452, 0]]  0.000000   \n",
       "1  0.613205      [[11814, 0], [7452, 0]]  0.000000   \n",
       "2  0.612789  [[11672, 142], [7318, 134]]  0.034679   \n",
       "3  0.612789  [[11682, 132], [7328, 124]]  0.032174   \n",
       "4  0.612789  [[11682, 132], [7328, 124]]  0.032174   \n",
       "5  0.613205      [[11814, 0], [7452, 0]]  0.000000   \n",
       "6  0.612893  [[11681, 133], [7325, 127]]  0.032936   \n",
       "\n",
       "                               ModelObject                        Name  \\\n",
       "0  GaussianNB(priors=None, var_smoothin...                  GaussianNB   \n",
       "1  BernoulliNB(alpha=1.0, binarize=0.0,...                 BernoulliNB   \n",
       "2  (DecisionTreeClassifier(ccp_alpha=0....      RandomForestClassifier   \n",
       "3  DecisionTreeClassifier(ccp_alpha=0.0...      DecisionTreeClassifier   \n",
       "4  (ExtraTreeClassifier(ccp_alpha=0.0, ...        ExtraTreesClassifier   \n",
       "5  ([DecisionTreeRegressor(ccp_alpha=0....  GradientBoostingClassifier   \n",
       "6  XGBClassifier(base_score=0.5, booste...               XGBClassifier   \n",
       "\n",
       "   Precision    Recall         RunTime  \n",
       "0   0.000000  0.000000  0:00:00.005998  \n",
       "1   0.000000  0.000000  0:00:00.010997  \n",
       "2   0.485507  0.017982  0:00:02.785109  \n",
       "3   0.484375  0.016640  0:00:00.034989  \n",
       "4   0.484375  0.016640  0:00:01.411549  \n",
       "5   0.000000  0.000000  0:00:02.134318  \n",
       "6   0.488462  0.017042  0:00:00.824736  "
      ]
     },
     "metadata": {},
     "output_type": "display_data"
    },
    {
     "data": {
      "text/html": [
       "<div>\n",
       "<style scoped>\n",
       "    .dataframe tbody tr th:only-of-type {\n",
       "        vertical-align: middle;\n",
       "    }\n",
       "\n",
       "    .dataframe tbody tr th {\n",
       "        vertical-align: top;\n",
       "    }\n",
       "\n",
       "    .dataframe thead th {\n",
       "        text-align: right;\n",
       "    }\n",
       "</style>\n",
       "<table border=\"1\" class=\"dataframe\">\n",
       "  <thead>\n",
       "    <tr style=\"text-align: right;\">\n",
       "      <th></th>\n",
       "      <th>Accuracy</th>\n",
       "      <th>F1</th>\n",
       "      <th>Precision</th>\n",
       "      <th>Recall</th>\n",
       "    </tr>\n",
       "  </thead>\n",
       "  <tbody>\n",
       "    <tr>\n",
       "      <th>mean</th>\n",
       "      <td>0.612982</td>\n",
       "      <td>0.018852</td>\n",
       "      <td>0.277531</td>\n",
       "      <td>0.009758</td>\n",
       "    </tr>\n",
       "    <tr>\n",
       "      <th>median</th>\n",
       "      <td>0.612893</td>\n",
       "      <td>0.032174</td>\n",
       "      <td>0.484375</td>\n",
       "      <td>0.016640</td>\n",
       "    </tr>\n",
       "    <tr>\n",
       "      <th>min</th>\n",
       "      <td>0.612789</td>\n",
       "      <td>0.000000</td>\n",
       "      <td>0.000000</td>\n",
       "      <td>0.000000</td>\n",
       "    </tr>\n",
       "    <tr>\n",
       "      <th>max</th>\n",
       "      <td>0.613205</td>\n",
       "      <td>0.034679</td>\n",
       "      <td>0.488462</td>\n",
       "      <td>0.017982</td>\n",
       "    </tr>\n",
       "  </tbody>\n",
       "</table>\n",
       "</div>"
      ],
      "text/plain": [
       "        Accuracy        F1  Precision    Recall\n",
       "mean    0.612982  0.018852   0.277531  0.009758\n",
       "median  0.612893  0.032174   0.484375  0.016640\n",
       "min     0.612789  0.000000   0.000000  0.000000\n",
       "max     0.613205  0.034679   0.488462  0.017982"
      ]
     },
     "metadata": {},
     "output_type": "display_data"
    }
   ],
   "source": [
    "# Just name reading level\n",
    "Classifier_NameReadbility_Results_List, Classifier_NameReadbility_PerformanceData = AssessClassifierModelPerformance(\n",
    "    pd.concat([ProcessedData[\"Status\"], NameData[\"Name_Readability\"],], axis = 1),\n",
    "    \"Status\", [\n",
    "    GaussianNB(),\n",
    "    BernoulliNB(),\n",
    "    RandomForestClassifier(),\n",
    "    DecisionTreeClassifier(),\n",
    "    ExtraTreesClassifier(),\n",
    "    GradientBoostingClassifier(),\n",
    "    XGBClassifier(objective = \"reg:squarederror\", tree_method = \"hist\", booster = \"gbtree\", nthread = 8,\n",
    "                 learning_rate = 0.5, max_depth = 6, n_estimators = 100),\n",
    "])\n",
    "\n",
    "with pd.option_context(\"display.max_columns\", None, \"display.max_rows\", None, \"display.max_colwidth\", 40):\n",
    "    display(Classifier_NameReadbility_Results_List)\n",
    "    display(Classifier_NameReadbility_PerformanceData)"
   ]
  },
  {
   "cell_type": "code",
   "execution_count": null,
   "metadata": {
    "scrolled": false
   },
   "outputs": [],
   "source": []
  },
  {
   "cell_type": "code",
   "execution_count": null,
   "metadata": {},
   "outputs": [],
   "source": []
  },
  {
   "cell_type": "code",
   "execution_count": 94,
   "metadata": {},
   "outputs": [
    {
     "name": "stdout",
     "output_type": "stream",
     "text": [
      "Starting GaussianNB at 2020-02-08 10:51:15.301109\n",
      "Starting BernoulliNB at 2020-02-08 10:51:15.338098\n",
      "Starting RandomForestClassifier at 2020-02-08 10:51:15.387082\n"
     ]
    },
    {
     "name": "stderr",
     "output_type": "stream",
     "text": [
      "C:\\Users\\root\\.conda\\envs\\DataScience\\lib\\site-packages\\sklearn\\metrics\\_classification.py:1272: UndefinedMetricWarning: Precision is ill-defined and being set to 0.0 due to no predicted samples. Use `zero_division` parameter to control this behavior.\n",
      "  _warn_prf(average, modifier, msg_start, len(result))\n"
     ]
    },
    {
     "name": "stdout",
     "output_type": "stream",
     "text": [
      "Starting DecisionTreeClassifier at 2020-02-08 10:51:17.282476\n",
      "Starting ExtraTreesClassifier at 2020-02-08 10:51:17.331460\n",
      "Starting GradientBoostingClassifier at 2020-02-08 10:51:18.605052\n",
      "Starting XGBClassifier at 2020-02-08 10:51:20.144560\n"
     ]
    },
    {
     "data": {
      "text/html": [
       "<div>\n",
       "<style scoped>\n",
       "    .dataframe tbody tr th:only-of-type {\n",
       "        vertical-align: middle;\n",
       "    }\n",
       "\n",
       "    .dataframe tbody tr th {\n",
       "        vertical-align: top;\n",
       "    }\n",
       "\n",
       "    .dataframe thead th {\n",
       "        text-align: right;\n",
       "    }\n",
       "</style>\n",
       "<table border=\"1\" class=\"dataframe\">\n",
       "  <thead>\n",
       "    <tr style=\"text-align: right;\">\n",
       "      <th></th>\n",
       "      <th>Accuracy</th>\n",
       "      <th>ConfusionMatrix</th>\n",
       "      <th>F1</th>\n",
       "      <th>ModelObject</th>\n",
       "      <th>Name</th>\n",
       "      <th>Precision</th>\n",
       "      <th>Recall</th>\n",
       "      <th>RunTime</th>\n",
       "    </tr>\n",
       "  </thead>\n",
       "  <tbody>\n",
       "    <tr>\n",
       "      <th>0</th>\n",
       "      <td>0.608481</td>\n",
       "      <td>[[11525, 307], [7236, 198]]</td>\n",
       "      <td>0.049880</td>\n",
       "      <td>GaussianNB(priors=None, var_smoothin...</td>\n",
       "      <td>GaussianNB</td>\n",
       "      <td>0.392079</td>\n",
       "      <td>0.026634</td>\n",
       "      <td>0:00:00.004999</td>\n",
       "    </tr>\n",
       "    <tr>\n",
       "      <th>1</th>\n",
       "      <td>0.614139</td>\n",
       "      <td>[[11832, 0], [7434, 0]]</td>\n",
       "      <td>0.000000</td>\n",
       "      <td>BernoulliNB(alpha=1.0, binarize=0.0,...</td>\n",
       "      <td>BernoulliNB</td>\n",
       "      <td>0.000000</td>\n",
       "      <td>0.000000</td>\n",
       "      <td>0:00:00.010997</td>\n",
       "    </tr>\n",
       "    <tr>\n",
       "      <th>2</th>\n",
       "      <td>0.612997</td>\n",
       "      <td>[[11455, 377], [7079, 355]]</td>\n",
       "      <td>0.086946</td>\n",
       "      <td>(DecisionTreeClassifier(ccp_alpha=0....</td>\n",
       "      <td>RandomForestClassifier</td>\n",
       "      <td>0.484973</td>\n",
       "      <td>0.047754</td>\n",
       "      <td>0:00:01.863404</td>\n",
       "    </tr>\n",
       "    <tr>\n",
       "      <th>3</th>\n",
       "      <td>0.613308</td>\n",
       "      <td>[[11477, 355], [7095, 339]]</td>\n",
       "      <td>0.083415</td>\n",
       "      <td>DecisionTreeClassifier(ccp_alpha=0.0...</td>\n",
       "      <td>DecisionTreeClassifier</td>\n",
       "      <td>0.488473</td>\n",
       "      <td>0.045601</td>\n",
       "      <td>0:00:00.018993</td>\n",
       "    </tr>\n",
       "    <tr>\n",
       "      <th>4</th>\n",
       "      <td>0.613516</td>\n",
       "      <td>[[11476, 356], [7090, 344]]</td>\n",
       "      <td>0.084583</td>\n",
       "      <td>(ExtraTreeClassifier(ccp_alpha=0.0, ...</td>\n",
       "      <td>ExtraTreesClassifier</td>\n",
       "      <td>0.491429</td>\n",
       "      <td>0.046274</td>\n",
       "      <td>0:00:01.242602</td>\n",
       "    </tr>\n",
       "    <tr>\n",
       "      <th>5</th>\n",
       "      <td>0.614347</td>\n",
       "      <td>[[11769, 63], [7367, 67]]</td>\n",
       "      <td>0.017715</td>\n",
       "      <td>([DecisionTreeRegressor(ccp_alpha=0....</td>\n",
       "      <td>GradientBoostingClassifier</td>\n",
       "      <td>0.515385</td>\n",
       "      <td>0.009013</td>\n",
       "      <td>0:00:01.506519</td>\n",
       "    </tr>\n",
       "    <tr>\n",
       "      <th>6</th>\n",
       "      <td>0.614139</td>\n",
       "      <td>[[11508, 324], [7110, 324]]</td>\n",
       "      <td>0.080178</td>\n",
       "      <td>XGBClassifier(base_score=0.5, booste...</td>\n",
       "      <td>XGBClassifier</td>\n",
       "      <td>0.500000</td>\n",
       "      <td>0.043584</td>\n",
       "      <td>0:00:00.498840</td>\n",
       "    </tr>\n",
       "  </tbody>\n",
       "</table>\n",
       "</div>"
      ],
      "text/plain": [
       "   Accuracy              ConfusionMatrix        F1  \\\n",
       "0  0.608481  [[11525, 307], [7236, 198]]  0.049880   \n",
       "1  0.614139      [[11832, 0], [7434, 0]]  0.000000   \n",
       "2  0.612997  [[11455, 377], [7079, 355]]  0.086946   \n",
       "3  0.613308  [[11477, 355], [7095, 339]]  0.083415   \n",
       "4  0.613516  [[11476, 356], [7090, 344]]  0.084583   \n",
       "5  0.614347    [[11769, 63], [7367, 67]]  0.017715   \n",
       "6  0.614139  [[11508, 324], [7110, 324]]  0.080178   \n",
       "\n",
       "                               ModelObject                        Name  \\\n",
       "0  GaussianNB(priors=None, var_smoothin...                  GaussianNB   \n",
       "1  BernoulliNB(alpha=1.0, binarize=0.0,...                 BernoulliNB   \n",
       "2  (DecisionTreeClassifier(ccp_alpha=0....      RandomForestClassifier   \n",
       "3  DecisionTreeClassifier(ccp_alpha=0.0...      DecisionTreeClassifier   \n",
       "4  (ExtraTreeClassifier(ccp_alpha=0.0, ...        ExtraTreesClassifier   \n",
       "5  ([DecisionTreeRegressor(ccp_alpha=0....  GradientBoostingClassifier   \n",
       "6  XGBClassifier(base_score=0.5, booste...               XGBClassifier   \n",
       "\n",
       "   Precision    Recall         RunTime  \n",
       "0   0.392079  0.026634  0:00:00.004999  \n",
       "1   0.000000  0.000000  0:00:00.010997  \n",
       "2   0.484973  0.047754  0:00:01.863404  \n",
       "3   0.488473  0.045601  0:00:00.018993  \n",
       "4   0.491429  0.046274  0:00:01.242602  \n",
       "5   0.515385  0.009013  0:00:01.506519  \n",
       "6   0.500000  0.043584  0:00:00.498840  "
      ]
     },
     "metadata": {},
     "output_type": "display_data"
    },
    {
     "data": {
      "text/html": [
       "<div>\n",
       "<style scoped>\n",
       "    .dataframe tbody tr th:only-of-type {\n",
       "        vertical-align: middle;\n",
       "    }\n",
       "\n",
       "    .dataframe tbody tr th {\n",
       "        vertical-align: top;\n",
       "    }\n",
       "\n",
       "    .dataframe thead th {\n",
       "        text-align: right;\n",
       "    }\n",
       "</style>\n",
       "<table border=\"1\" class=\"dataframe\">\n",
       "  <thead>\n",
       "    <tr style=\"text-align: right;\">\n",
       "      <th></th>\n",
       "      <th>Accuracy</th>\n",
       "      <th>F1</th>\n",
       "      <th>Precision</th>\n",
       "      <th>Recall</th>\n",
       "    </tr>\n",
       "  </thead>\n",
       "  <tbody>\n",
       "    <tr>\n",
       "      <th>mean</th>\n",
       "      <td>0.612990</td>\n",
       "      <td>0.057531</td>\n",
       "      <td>0.410334</td>\n",
       "      <td>0.031266</td>\n",
       "    </tr>\n",
       "    <tr>\n",
       "      <th>median</th>\n",
       "      <td>0.613516</td>\n",
       "      <td>0.080178</td>\n",
       "      <td>0.488473</td>\n",
       "      <td>0.043584</td>\n",
       "    </tr>\n",
       "    <tr>\n",
       "      <th>min</th>\n",
       "      <td>0.608481</td>\n",
       "      <td>0.000000</td>\n",
       "      <td>0.000000</td>\n",
       "      <td>0.000000</td>\n",
       "    </tr>\n",
       "    <tr>\n",
       "      <th>max</th>\n",
       "      <td>0.614347</td>\n",
       "      <td>0.086946</td>\n",
       "      <td>0.515385</td>\n",
       "      <td>0.047754</td>\n",
       "    </tr>\n",
       "  </tbody>\n",
       "</table>\n",
       "</div>"
      ],
      "text/plain": [
       "        Accuracy        F1  Precision    Recall\n",
       "mean    0.612990  0.057531   0.410334  0.031266\n",
       "median  0.613516  0.080178   0.488473  0.043584\n",
       "min     0.608481  0.000000   0.000000  0.000000\n",
       "max     0.614347  0.086946   0.515385  0.047754"
      ]
     },
     "metadata": {},
     "output_type": "display_data"
    }
   ],
   "source": [
    "# Just name sentiment\n",
    "Classifier_NameSentiment_Results_List, Classifier_NameSentiment_PerformanceData = AssessClassifierModelPerformance(\n",
    "    pd.concat([ProcessedData[\"Status\"], NameData[\"Name_SentimentValue\"],], axis = 1),\n",
    "    \"Status\", [\n",
    "    GaussianNB(),\n",
    "    BernoulliNB(),\n",
    "    RandomForestClassifier(),\n",
    "    DecisionTreeClassifier(),\n",
    "    ExtraTreesClassifier(),\n",
    "    GradientBoostingClassifier(),\n",
    "    XGBClassifier(objective = \"reg:squarederror\", tree_method = \"hist\", booster = \"gbtree\", nthread = 8,\n",
    "                 learning_rate = 0.5, max_depth = 6, n_estimators = 100),\n",
    "])\n",
    "\n",
    "with pd.option_context(\"display.max_columns\", None, \"display.max_rows\", None, \"display.max_colwidth\", 40):\n",
    "    display(Classifier_NameSentiment_Results_List)\n",
    "    display(Classifier_NameSentiment_PerformanceData)"
   ]
  },
  {
   "cell_type": "code",
   "execution_count": null,
   "metadata": {},
   "outputs": [],
   "source": []
  },
  {
   "cell_type": "code",
   "execution_count": null,
   "metadata": {},
   "outputs": [],
   "source": []
  },
  {
   "cell_type": "code",
   "execution_count": 95,
   "metadata": {},
   "outputs": [
    {
     "name": "stdout",
     "output_type": "stream",
     "text": [
      "Starting GaussianNB at 2020-02-08 10:51:20.937306\n",
      "Starting BernoulliNB at 2020-02-08 10:51:21.098254\n",
      "Starting RandomForestClassifier at 2020-02-08 10:51:21.219217\n",
      "Starting DecisionTreeClassifier at 2020-02-08 10:51:39.812267\n",
      "Starting ExtraTreesClassifier at 2020-02-08 10:51:41.602694\n",
      "Starting GradientBoostingClassifier at 2020-02-08 10:51:57.928471\n",
      "Starting XGBClassifier at 2020-02-08 10:52:06.117852\n"
     ]
    },
    {
     "data": {
      "text/html": [
       "<div>\n",
       "<style scoped>\n",
       "    .dataframe tbody tr th:only-of-type {\n",
       "        vertical-align: middle;\n",
       "    }\n",
       "\n",
       "    .dataframe tbody tr th {\n",
       "        vertical-align: top;\n",
       "    }\n",
       "\n",
       "    .dataframe thead th {\n",
       "        text-align: right;\n",
       "    }\n",
       "</style>\n",
       "<table border=\"1\" class=\"dataframe\">\n",
       "  <thead>\n",
       "    <tr style=\"text-align: right;\">\n",
       "      <th></th>\n",
       "      <th>Accuracy</th>\n",
       "      <th>ConfusionMatrix</th>\n",
       "      <th>F1</th>\n",
       "      <th>ModelObject</th>\n",
       "      <th>Name</th>\n",
       "      <th>Precision</th>\n",
       "      <th>Recall</th>\n",
       "      <th>RunTime</th>\n",
       "    </tr>\n",
       "  </thead>\n",
       "  <tbody>\n",
       "    <tr>\n",
       "      <th>0</th>\n",
       "      <td>0.624676</td>\n",
       "      <td>[[9679, 2054], [5177, 2356]]</td>\n",
       "      <td>0.394541</td>\n",
       "      <td>GaussianNB(priors=None, var_smoothin...</td>\n",
       "      <td>GaussianNB</td>\n",
       "      <td>0.534240</td>\n",
       "      <td>0.312757</td>\n",
       "      <td>0:00:00.130958</td>\n",
       "    </tr>\n",
       "    <tr>\n",
       "      <th>1</th>\n",
       "      <td>0.635212</td>\n",
       "      <td>[[10787, 946], [6082, 1451]]</td>\n",
       "      <td>0.292246</td>\n",
       "      <td>BernoulliNB(alpha=1.0, binarize=0.0,...</td>\n",
       "      <td>BernoulliNB</td>\n",
       "      <td>0.605340</td>\n",
       "      <td>0.192619</td>\n",
       "      <td>0:00:00.079976</td>\n",
       "    </tr>\n",
       "    <tr>\n",
       "      <th>2</th>\n",
       "      <td>0.634849</td>\n",
       "      <td>[[10691, 1042], [5993, 1540]]</td>\n",
       "      <td>0.304498</td>\n",
       "      <td>(DecisionTreeClassifier(ccp_alpha=0....</td>\n",
       "      <td>RandomForestClassifier</td>\n",
       "      <td>0.596437</td>\n",
       "      <td>0.204434</td>\n",
       "      <td>0:00:18.562060</td>\n",
       "    </tr>\n",
       "    <tr>\n",
       "      <th>3</th>\n",
       "      <td>0.633448</td>\n",
       "      <td>[[10697, 1036], [6026, 1507]]</td>\n",
       "      <td>0.299127</td>\n",
       "      <td>DecisionTreeClassifier(ccp_alpha=0.0...</td>\n",
       "      <td>DecisionTreeClassifier</td>\n",
       "      <td>0.592607</td>\n",
       "      <td>0.200053</td>\n",
       "      <td>0:00:01.759437</td>\n",
       "    </tr>\n",
       "    <tr>\n",
       "      <th>4</th>\n",
       "      <td>0.634849</td>\n",
       "      <td>[[10723, 1010], [6025, 1508]]</td>\n",
       "      <td>0.300070</td>\n",
       "      <td>(ExtraTreeClassifier(ccp_alpha=0.0, ...</td>\n",
       "      <td>ExtraTreesClassifier</td>\n",
       "      <td>0.598888</td>\n",
       "      <td>0.200186</td>\n",
       "      <td>0:00:16.293787</td>\n",
       "    </tr>\n",
       "    <tr>\n",
       "      <th>5</th>\n",
       "      <td>0.633136</td>\n",
       "      <td>[[11015, 718], [6350, 1183]]</td>\n",
       "      <td>0.250795</td>\n",
       "      <td>([DecisionTreeRegressor(ccp_alpha=0....</td>\n",
       "      <td>GradientBoostingClassifier</td>\n",
       "      <td>0.622304</td>\n",
       "      <td>0.157042</td>\n",
       "      <td>0:00:08.156391</td>\n",
       "    </tr>\n",
       "    <tr>\n",
       "      <th>6</th>\n",
       "      <td>0.634278</td>\n",
       "      <td>[[10777, 956], [6090, 1443]]</td>\n",
       "      <td>0.290576</td>\n",
       "      <td>XGBClassifier(base_score=0.5, booste...</td>\n",
       "      <td>XGBClassifier</td>\n",
       "      <td>0.601501</td>\n",
       "      <td>0.191557</td>\n",
       "      <td>0:00:01.360564</td>\n",
       "    </tr>\n",
       "  </tbody>\n",
       "</table>\n",
       "</div>"
      ],
      "text/plain": [
       "   Accuracy                ConfusionMatrix        F1  \\\n",
       "0  0.624676   [[9679, 2054], [5177, 2356]]  0.394541   \n",
       "1  0.635212   [[10787, 946], [6082, 1451]]  0.292246   \n",
       "2  0.634849  [[10691, 1042], [5993, 1540]]  0.304498   \n",
       "3  0.633448  [[10697, 1036], [6026, 1507]]  0.299127   \n",
       "4  0.634849  [[10723, 1010], [6025, 1508]]  0.300070   \n",
       "5  0.633136   [[11015, 718], [6350, 1183]]  0.250795   \n",
       "6  0.634278   [[10777, 956], [6090, 1443]]  0.290576   \n",
       "\n",
       "                               ModelObject                        Name  \\\n",
       "0  GaussianNB(priors=None, var_smoothin...                  GaussianNB   \n",
       "1  BernoulliNB(alpha=1.0, binarize=0.0,...                 BernoulliNB   \n",
       "2  (DecisionTreeClassifier(ccp_alpha=0....      RandomForestClassifier   \n",
       "3  DecisionTreeClassifier(ccp_alpha=0.0...      DecisionTreeClassifier   \n",
       "4  (ExtraTreeClassifier(ccp_alpha=0.0, ...        ExtraTreesClassifier   \n",
       "5  ([DecisionTreeRegressor(ccp_alpha=0....  GradientBoostingClassifier   \n",
       "6  XGBClassifier(base_score=0.5, booste...               XGBClassifier   \n",
       "\n",
       "   Precision    Recall         RunTime  \n",
       "0   0.534240  0.312757  0:00:00.130958  \n",
       "1   0.605340  0.192619  0:00:00.079976  \n",
       "2   0.596437  0.204434  0:00:18.562060  \n",
       "3   0.592607  0.200053  0:00:01.759437  \n",
       "4   0.598888  0.200186  0:00:16.293787  \n",
       "5   0.622304  0.157042  0:00:08.156391  \n",
       "6   0.601501  0.191557  0:00:01.360564  "
      ]
     },
     "metadata": {},
     "output_type": "display_data"
    },
    {
     "data": {
      "text/html": [
       "<div>\n",
       "<style scoped>\n",
       "    .dataframe tbody tr th:only-of-type {\n",
       "        vertical-align: middle;\n",
       "    }\n",
       "\n",
       "    .dataframe tbody tr th {\n",
       "        vertical-align: top;\n",
       "    }\n",
       "\n",
       "    .dataframe thead th {\n",
       "        text-align: right;\n",
       "    }\n",
       "</style>\n",
       "<table border=\"1\" class=\"dataframe\">\n",
       "  <thead>\n",
       "    <tr style=\"text-align: right;\">\n",
       "      <th></th>\n",
       "      <th>Accuracy</th>\n",
       "      <th>F1</th>\n",
       "      <th>Precision</th>\n",
       "      <th>Recall</th>\n",
       "    </tr>\n",
       "  </thead>\n",
       "  <tbody>\n",
       "    <tr>\n",
       "      <th>mean</th>\n",
       "      <td>0.632921</td>\n",
       "      <td>0.304550</td>\n",
       "      <td>0.593045</td>\n",
       "      <td>0.208378</td>\n",
       "    </tr>\n",
       "    <tr>\n",
       "      <th>median</th>\n",
       "      <td>0.634278</td>\n",
       "      <td>0.299127</td>\n",
       "      <td>0.598888</td>\n",
       "      <td>0.200053</td>\n",
       "    </tr>\n",
       "    <tr>\n",
       "      <th>min</th>\n",
       "      <td>0.624676</td>\n",
       "      <td>0.250795</td>\n",
       "      <td>0.534240</td>\n",
       "      <td>0.157042</td>\n",
       "    </tr>\n",
       "    <tr>\n",
       "      <th>max</th>\n",
       "      <td>0.635212</td>\n",
       "      <td>0.394541</td>\n",
       "      <td>0.622304</td>\n",
       "      <td>0.312757</td>\n",
       "    </tr>\n",
       "  </tbody>\n",
       "</table>\n",
       "</div>"
      ],
      "text/plain": [
       "        Accuracy        F1  Precision    Recall\n",
       "mean    0.632921  0.304550   0.593045  0.208378\n",
       "median  0.634278  0.299127   0.598888  0.200053\n",
       "min     0.624676  0.250795   0.534240  0.157042\n",
       "max     0.635212  0.394541   0.622304  0.312757"
      ]
     },
     "metadata": {},
     "output_type": "display_data"
    }
   ],
   "source": [
    "# Just TFIDF\n",
    "Classifier_TFIDF_Results_List, Classifier_TFIDF_PerformanceData = AssessClassifierModelPerformance(\n",
    "    pd.concat([ProcessedData[\"Status\"], Name_TFIDF], axis = 1),\n",
    "    \"Status\", [\n",
    "    GaussianNB(),\n",
    "    BernoulliNB(),\n",
    "    RandomForestClassifier(),\n",
    "    DecisionTreeClassifier(),\n",
    "    ExtraTreesClassifier(),\n",
    "    GradientBoostingClassifier(),\n",
    "    XGBClassifier(objective = \"reg:squarederror\", tree_method = \"hist\", booster = \"gbtree\", nthread = 8,\n",
    "                 learning_rate = 0.5, max_depth = 6, n_estimators = 100),\n",
    "])\n",
    "\n",
    "with pd.option_context(\"display.max_columns\", None, \"display.max_rows\", None, \"display.max_colwidth\", 40):\n",
    "    display(Classifier_TFIDF_Results_List)\n",
    "    display(Classifier_TFIDF_PerformanceData)"
   ]
  },
  {
   "cell_type": "code",
   "execution_count": null,
   "metadata": {},
   "outputs": [],
   "source": []
  }
 ],
 "metadata": {
  "kernelspec": {
   "display_name": "Python 3",
   "language": "python",
   "name": "python3"
  },
  "language_info": {
   "codemirror_mode": {
    "name": "ipython",
    "version": 3
   },
   "file_extension": ".py",
   "mimetype": "text/x-python",
   "name": "python",
   "nbconvert_exporter": "python",
   "pygments_lexer": "ipython3",
   "version": "3.7.6"
  }
 },
 "nbformat": 4,
 "nbformat_minor": 2
}
